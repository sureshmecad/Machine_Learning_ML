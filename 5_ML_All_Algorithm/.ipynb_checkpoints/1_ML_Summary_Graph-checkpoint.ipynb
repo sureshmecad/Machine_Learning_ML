{
 "cells": [
  {
   "cell_type": "markdown",
   "metadata": {},
   "source": [
    "### ML Summary Gaph"
   ]
  },
  {
   "cell_type": "markdown",
   "metadata": {},
   "source": [
    "#### Method:1"
   ]
  },
  {
   "cell_type": "code",
   "execution_count": null,
   "metadata": {},
   "outputs": [],
   "source": [
    "classifier_list=['log_regression','knn','svm','rforest','xgboost','nbayes']"
   ]
  },
  {
   "cell_type": "code",
   "execution_count": null,
   "metadata": {},
   "outputs": [],
   "source": [
    "sns.barplot(x=clf_accuracy, y=classifier_list)\n",
    "plt.grid()\n",
    "plt.xlabel('accuracy')\n",
    "plt.ylabel('classifier')\n",
    "plt.title('classifier vs accuracy plot')"
   ]
  },
  {
   "cell_type": "markdown",
   "metadata": {},
   "source": [
    "#### Method:2"
   ]
  },
  {
   "cell_type": "code",
   "execution_count": null,
   "metadata": {},
   "outputs": [],
   "source": [
    "models = [LinReg, DTR, rf, reg_xgb]\n",
    "names = [\"Linear Regression\", \"Decision Tree Regressor\", \"Random Forest Regressor\", \"XGBoost\"]\n",
    "rmses = []\n",
    "\n",
    "for model in models:\n",
    "    rmses.append(np.sqrt(mean_squared_error(y_test, model.predict(X_test))))\n",
    "\n",
    "x = np.arange(len(names)) \n",
    "width = 0.3\n",
    "\n",
    "fig, ax = plt.subplots(figsize=(10,7))\n",
    "rects = ax.bar(x, rmses, width)\n",
    "ax.set_ylabel('RMSE')\n",
    "ax.set_xlabel('Models')\n",
    "\n",
    "ax.set_title('RMSE with Different Algorithms')\n",
    "\n",
    "ax.set_xticks(x)\n",
    "ax.set_xticklabels(names, rotation=45)\n",
    "\n",
    "fig.tight_layout()"
   ]
  }
 ],
 "metadata": {
  "kernelspec": {
   "display_name": "Python 3",
   "language": "python",
   "name": "python3"
  },
  "language_info": {
   "codemirror_mode": {
    "name": "ipython",
    "version": 3
   },
   "file_extension": ".py",
   "mimetype": "text/x-python",
   "name": "python",
   "nbconvert_exporter": "python",
   "pygments_lexer": "ipython3",
   "version": "3.7.3"
  }
 },
 "nbformat": 4,
 "nbformat_minor": 2
}
