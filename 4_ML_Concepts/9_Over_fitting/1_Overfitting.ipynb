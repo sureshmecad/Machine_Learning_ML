{
 "cells": [
  {
   "cell_type": "markdown",
   "metadata": {},
   "source": [
    "<h1 style=\"color:blue\" align=\"center\"> Overfitting </h1>"
   ]
  },
  {
   "cell_type": "markdown",
   "metadata": {},
   "source": [
    "### Overfitting:\n",
    "\n",
    "- In simple Words Overfitting means mugging you the answers. Our model will not be generalized and hence will **give high accuracy on training data but will fail to work on test or unknown data**.\n",
    "\n",
    "\n",
    "- Overfitting can be **reduced by selecting features wisely**.\n",
    "\n",
    "\n",
    "#### **Low bias & High variance**\n",
    "\n",
    " - **Low bias**: For training data error is low\n",
    " \n",
    "  \n",
    " - **High variance**: For test data error is high"
   ]
  },
  {
   "cell_type": "markdown",
   "metadata": {},
   "source": [
    "### HOW CAN YOU PREVENT OVERFITTING?\n",
    "\n",
    "- The clear sign of overfitting is **when the model accuracy is high in the training set, but the accuracy drops significantly with new data or in the test set**. This means the **model knows the training data very well**, but can not generalize. This case makes your **model useless in production** or AB test in most domains."
   ]
  },
  {
   "cell_type": "markdown",
   "metadata": {},
   "source": [
    "![5. Over fitting](image/7.JPG)"
   ]
  },
  {
   "cell_type": "markdown",
   "metadata": {},
   "source": [
    "![5. Over fitting](image/8.JPG)"
   ]
  },
  {
   "cell_type": "markdown",
   "metadata": {},
   "source": [
    "![5. Over fitting](image/9.JPG)"
   ]
  },
  {
   "cell_type": "markdown",
   "metadata": {},
   "source": [
    "-------------------------------------------------------------------------------------------------------------------------------"
   ]
  },
  {
   "cell_type": "markdown",
   "metadata": {},
   "source": [
    "![5. Over fitting](image/1.JPG)"
   ]
  },
  {
   "cell_type": "markdown",
   "metadata": {},
   "source": [
    "![5. Over fitting](image/2.JPG)"
   ]
  },
  {
   "cell_type": "markdown",
   "metadata": {},
   "source": [
    "![5. Over fitting](image/3.JPG)"
   ]
  },
  {
   "cell_type": "markdown",
   "metadata": {},
   "source": [
    "![5. Over fitting](image/4.JPG)"
   ]
  },
  {
   "cell_type": "markdown",
   "metadata": {},
   "source": [
    "![5. Over fitting](image/5.JPG)"
   ]
  },
  {
   "cell_type": "markdown",
   "metadata": {},
   "source": [
    "![5. Over fitting](image/6.JPG)"
   ]
  },
  {
   "cell_type": "markdown",
   "metadata": {},
   "source": [
    "-----------------"
   ]
  },
  {
   "cell_type": "markdown",
   "metadata": {},
   "source": [
    "### Reference:\n",
    "\n",
    "https://www.youtube.com/watch?v=ICCA3-7a5bw&t=280s&ab_channel=5MinutesEngineering"
   ]
  }
 ],
 "metadata": {
  "kernelspec": {
   "display_name": "Python 3",
   "language": "python",
   "name": "python3"
  },
  "language_info": {
   "codemirror_mode": {
    "name": "ipython",
    "version": 3
   },
   "file_extension": ".py",
   "mimetype": "text/x-python",
   "name": "python",
   "nbconvert_exporter": "python",
   "pygments_lexer": "ipython3",
   "version": "3.7.3"
  }
 },
 "nbformat": 4,
 "nbformat_minor": 2
}
