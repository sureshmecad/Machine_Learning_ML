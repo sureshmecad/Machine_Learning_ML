{
 "cells": [
  {
   "cell_type": "markdown",
   "metadata": {},
   "source": [
    "https://www.youtube.com/watch?v=OTPz5plKb40"
   ]
  },
  {
   "cell_type": "markdown",
   "metadata": {},
   "source": [
    "## Feature Engineering\n",
    "### Missing Values"
   ]
  },
  {
   "cell_type": "raw",
   "metadata": {},
   "source": [
    "#  Different Types of Feature Engineering Encoding Techniques\n",
    "\n",
    "      - Whenever talking about encoding techniques means talking about Categorical Variable"
   ]
  },
  {
   "cell_type": "raw",
   "metadata": {},
   "source": [
    "#  Categorical Variable:\n",
    "\n",
    "      1. Nominal Encoding\n",
    "      \n",
    "           a. OneHotEncoding\n",
    "           \n",
    "           b. OneHotEncoding with many categorical\n",
    "           \n",
    "           c. Mean Encoding\n",
    "      \n",
    "      2. ORDINAL Encoding\n",
    "      \n",
    "           a. Label Encoding\n",
    "           \n",
    "           b. Target guided ordinal Encoding"
   ]
  },
  {
   "cell_type": "raw",
   "metadata": {},
   "source": [
    "# Imagine if in one of the feature you have 300 or more categories, how do you perform OneHotEncoding"
   ]
  },
  {
   "cell_type": "raw",
   "metadata": {},
   "source": [
    "#  Nominal Encoding:  --->  Cann't Rank\n",
    "\n",
    "     - Gender (Male / Female)\n",
    "     \n",
    "     - Names (State / Country / Different Company names)\n",
    "\n",
    "\n",
    "#  Ordinal Encoding:   --->  Ranking\n",
    "\n",
    "     - Rank of the student in class\n",
    "    \n",
    "     - Education\n",
    "     \n",
    "     - If countries ranking based GDP"
   ]
  },
  {
   "cell_type": "markdown",
   "metadata": {},
   "source": [
    "![1. Label Encoding](image/1.JPG)"
   ]
  },
  {
   "cell_type": "markdown",
   "metadata": {},
   "source": [
    "## 1. Nominal Encoding"
   ]
  },
  {
   "cell_type": "markdown",
   "metadata": {},
   "source": [
    "###  a. OneHotEncoding\n",
    "\n",
    "      If too many categorical types are there, then its not suggestable"
   ]
  },
  {
   "cell_type": "markdown",
   "metadata": {},
   "source": [
    "![1. Label Encoding](image/3.JPG)"
   ]
  },
  {
   "cell_type": "markdown",
   "metadata": {},
   "source": [
    "![1. Label Encoding](image/4.JPG)"
   ]
  },
  {
   "cell_type": "markdown",
   "metadata": {},
   "source": [
    "### b. OneHotEncoding with many Categorical"
   ]
  },
  {
   "cell_type": "markdown",
   "metadata": {},
   "source": [
    "#### Take top 10 categories which are more frequently used among 50 categories"
   ]
  },
  {
   "cell_type": "markdown",
   "metadata": {},
   "source": [
    "![1. Label Encoding](image/6.JPG)"
   ]
  },
  {
   "cell_type": "markdown",
   "metadata": {},
   "source": [
    "### c. Mean Encoding"
   ]
  },
  {
   "cell_type": "markdown",
   "metadata": {},
   "source": [
    "![1. Label Encoding](image/8.JPG)"
   ]
  },
  {
   "cell_type": "markdown",
   "metadata": {},
   "source": [
    "-------------------------------------------------------------------------------------------------------------------------------"
   ]
  },
  {
   "cell_type": "markdown",
   "metadata": {},
   "source": [
    "## 2. ORDINAL Encoding"
   ]
  },
  {
   "cell_type": "markdown",
   "metadata": {},
   "source": [
    "### a. Label Encoding"
   ]
  },
  {
   "cell_type": "markdown",
   "metadata": {},
   "source": [
    "![1. Label Encoding](image/5.JPG)"
   ]
  },
  {
   "cell_type": "markdown",
   "metadata": {},
   "source": [
    "### b. Target guided ordinal Encoding"
   ]
  },
  {
   "cell_type": "markdown",
   "metadata": {},
   "source": [
    "![1. Label Encoding](image/7.JPG)"
   ]
  },
  {
   "cell_type": "markdown",
   "metadata": {},
   "source": [
    "## Count (or) Frequency Encoding"
   ]
  },
  {
   "cell_type": "markdown",
   "metadata": {},
   "source": [
    "#### High Cardinality (High Categorical features)"
   ]
  },
  {
   "cell_type": "markdown",
   "metadata": {},
   "source": [
    "-------------------"
   ]
  },
  {
   "cell_type": "markdown",
   "metadata": {},
   "source": [
    "### Encoding method to increase the number of columns\n",
    "- OneHot Encoding\n",
    "- Hash Encoding\n",
    "\n",
    "### Encoding method not to increase the number of columns\n",
    "- Ordinal Encoding\n",
    "- Target Encoding"
   ]
  },
  {
   "cell_type": "code",
   "execution_count": null,
   "metadata": {},
   "outputs": [],
   "source": []
  }
 ],
 "metadata": {
  "kernelspec": {
   "display_name": "Python 3",
   "language": "python",
   "name": "python3"
  },
  "language_info": {
   "codemirror_mode": {
    "name": "ipython",
    "version": 3
   },
   "file_extension": ".py",
   "mimetype": "text/x-python",
   "name": "python",
   "nbconvert_exporter": "python",
   "pygments_lexer": "ipython3",
   "version": "3.7.3"
  }
 },
 "nbformat": 4,
 "nbformat_minor": 2
}
