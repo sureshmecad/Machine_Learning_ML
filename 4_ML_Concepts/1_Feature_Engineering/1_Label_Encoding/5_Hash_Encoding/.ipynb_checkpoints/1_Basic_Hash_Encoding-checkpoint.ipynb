{
 "cells": [
  {
   "cell_type": "markdown",
   "metadata": {},
   "source": [
    "## Hash Encoding"
   ]
  },
  {
   "cell_type": "markdown",
   "metadata": {},
   "source": [
    "- Hash Encoding generates an arbitrary number of integer columns from all the specified categorical variables, using the hash function"
   ]
  },
  {
   "cell_type": "markdown",
   "metadata": {},
   "source": [
    "![5. Hash Encoding](image/1.JPG)"
   ]
  },
  {
   "cell_type": "markdown",
   "metadata": {},
   "source": [
    "- In the above figure, 2 rows of categorical variables are converted to 4 integer columns through the hash function.\n",
    "- First create a zero vector of four columns. (Vector at the lower left of the upper figure)\n",
    "- Next, we extract all values of category variables for each individual. (\"State-gov\", \"Male\" in the above figure)\n",
    "- And do the following work for all extracted values.\n",
    "\n",
    "   Hash the value, convert it to an integer, and divide it by 4 (the number of columns) to find the remainder. (In the above figure, \"State-gov\" is hashed and the remainder is 2)\n",
    "   Add 1 to the corresponding column of the vector. (1 is added to \"col_2\" in the above figure)"
   ]
  }
 ],
 "metadata": {
  "kernelspec": {
   "display_name": "Python 3",
   "language": "python",
   "name": "python3"
  },
  "language_info": {
   "codemirror_mode": {
    "name": "ipython",
    "version": 3
   },
   "file_extension": ".py",
   "mimetype": "text/x-python",
   "name": "python",
   "nbconvert_exporter": "python",
   "pygments_lexer": "ipython3",
   "version": "3.7.3"
  }
 },
 "nbformat": 4,
 "nbformat_minor": 2
}
