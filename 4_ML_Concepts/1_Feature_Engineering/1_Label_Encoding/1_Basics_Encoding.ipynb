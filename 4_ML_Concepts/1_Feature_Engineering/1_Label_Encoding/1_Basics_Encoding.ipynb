{
 "cells": [
  {
   "cell_type": "markdown",
   "metadata": {},
   "source": [
    "https://www.geeksforgeeks.org/feature-encoding-techniques-machine-learning/"
   ]
  },
  {
   "cell_type": "markdown",
   "metadata": {},
   "source": [
    "### Categorical features are generally divided into 3 types:"
   ]
  },
  {
   "cell_type": "markdown",
   "metadata": {},
   "source": [
    "1. **Binary:** Either/or\n",
    "\n",
    "   **A variable that has only 2 values**\n",
    "   \n",
    "    Example:\n",
    "     - True/False\n",
    "     - Yes/No"
   ]
  },
  {
   "cell_type": "markdown",
   "metadata": {},
   "source": [
    "2. **Ordinal:** Specific ordered Groups.\n",
    "  \n",
    "   - A variable that has some order associated with it like our **place** example above.\n",
    "   - has some kind order\n",
    "  \n",
    "   Examples:\n",
    "     - low, medium, high\n",
    "     - cold, hot, lava Hot\n",
    "     - Good, Better, Best\n",
    "     - First, Second, Third"
   ]
  },
  {
   "cell_type": "markdown",
   "metadata": {},
   "source": [
    "3. **Nominal:** Unordered Groups\n",
    "\n",
    "   - A variable that has no numerical importance, for example **color or city.**\n",
    "   - has no ordering between them\n",
    "  \n",
    "   Examples:\n",
    "    - cat, dog, tiger\n",
    "    - pizza, burger, coke\n",
    "    - Apple, Banana, Mango"
   ]
  },
  {
   "cell_type": "markdown",
   "metadata": {},
   "source": [
    "- Based on **categorical variables** whether they are **ordinal or nominal** we appply different **techniques** on them."
   ]
  },
  {
   "cell_type": "markdown",
   "metadata": {},
   "source": [
    "-------"
   ]
  },
  {
   "cell_type": "markdown",
   "metadata": {},
   "source": [
    "- **Linear regression** is used when the **target values are continuous**. \n",
    "\n",
    "\n",
    "- We are working on classification problem here.\n",
    "\n",
    "\n",
    "- Here we have a **binary classification problem i.e we have to predict the class [0,1]**."
   ]
  },
  {
   "cell_type": "markdown",
   "metadata": {},
   "source": [
    "-----------------"
   ]
  },
  {
   "cell_type": "markdown",
   "metadata": {},
   "source": [
    "### When to use encoding?\n",
    "- We use encoding when **features** have **string or object type**.\n",
    "\n",
    "### Reason:\n",
    "- Model only **read int or float**"
   ]
  },
  {
   "cell_type": "markdown",
   "metadata": {},
   "source": [
    "------------"
   ]
  },
  {
   "cell_type": "markdown",
   "metadata": {},
   "source": [
    "- we use **one hot encoding** only for **nominal data**\n",
    "\n",
    "\n",
    "- we use **Label Encoding** for **ordinal data**.  **LabelEncoding** assigns the **ranks alphabatically.**\n",
    "\n",
    "\n",
    "- Most of the columns has **2 labels**. We can either use **LabelEncoding or One Hot Encoding.** as we have only 2 labels they will **assign 1 and 0** only to the labels."
   ]
  },
  {
   "cell_type": "markdown",
   "metadata": {},
   "source": [
    "- For **nominal** columns try **OneHot, Hashing, LeaveOneOut, and Target encoding.**\n",
    "\n",
    "\n",
    "- **Avoid OneHot** for high cardinality columns and **decision tree**-based algorithms.\n",
    "\n",
    "\n",
    "- For **regression** tasks, **Target and LeaveOneOut** probably **won’t work well.**"
   ]
  },
  {
   "cell_type": "markdown",
   "metadata": {},
   "source": [
    "------------"
   ]
  }
 ],
 "metadata": {
  "kernelspec": {
   "display_name": "Python 3",
   "language": "python",
   "name": "python3"
  },
  "language_info": {
   "codemirror_mode": {
    "name": "ipython",
    "version": 3
   },
   "file_extension": ".py",
   "mimetype": "text/x-python",
   "name": "python",
   "nbconvert_exporter": "python",
   "pygments_lexer": "ipython3",
   "version": "3.7.3"
  }
 },
 "nbformat": 4,
 "nbformat_minor": 2
}
