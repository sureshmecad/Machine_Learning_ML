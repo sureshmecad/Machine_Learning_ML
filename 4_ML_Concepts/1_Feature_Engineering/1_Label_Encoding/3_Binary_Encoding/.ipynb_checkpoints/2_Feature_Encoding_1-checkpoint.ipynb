{
 "cells": [
  {
   "cell_type": "markdown",
   "metadata": {
    "colab_type": "text",
    "id": "4d6ULzuYAZVi"
   },
   "source": [
    "# Feature Encoding"
   ]
  },
  {
   "cell_type": "markdown",
   "metadata": {
    "colab_type": "text",
    "id": "gbVgjSNCjEou"
   },
   "source": [
    "## Generally in our dataset we have 2 types of features\n",
    "\n",
    "\n",
    "1.   Numerical (Integer, floats)\n",
    "\n",
    "\n",
    "2.   Categorical (Nominal, ordinal)\n",
    "\n",
    "---\n",
    "We cannot pass in categorical features in Machine Learning models. So we need to convert them into numeric features.\n",
    "\n"
   ]
  },
  {
   "cell_type": "markdown",
   "metadata": {
    "colab_type": "text",
    "id": "2OaabEwxkaYp"
   },
   "source": [
    "### Categorical Variables are of 2 types Ordinal and Nominal. \n",
    "\n",
    "*   Ordinal variables has some kind order. (Good, Better, Best), (First, Second, Third)\n",
    "\n",
    "\n",
    "*   Nominal variables has no ordering between them. (Cat, Dog, Monkey), (Apple, Banana, Mango)\n",
    "\n",
    "Based on categorical variables whether they are ordinal or nominal we appply different techniques on them."
   ]
  },
  {
   "cell_type": "code",
   "execution_count": 1,
   "metadata": {
    "colab": {},
    "colab_type": "code",
    "id": "Wh2RXhbq148d"
   },
   "outputs": [],
   "source": [
    "# let's create a dataframe\n",
    "import pandas as pd\n",
    "df = pd.DataFrame ({'country' : ['India','U.S','Australia','India','Australia','India','U.S'],\n",
    "                    'Age' : [44,34,28,27,30,42,25],\n",
    "                    'Salary' : [72000,44000,35000,27000,32000,56000,45000],\n",
    "                    'Purchased' : ['yes','no','yes','yes','no','yes','no']\n",
    "                    })"
   ]
  },
  {
   "cell_type": "code",
   "execution_count": 2,
   "metadata": {
    "scrolled": false
   },
   "outputs": [
    {
     "data": {
      "text/html": [
       "<div>\n",
       "<style scoped>\n",
       "    .dataframe tbody tr th:only-of-type {\n",
       "        vertical-align: middle;\n",
       "    }\n",
       "\n",
       "    .dataframe tbody tr th {\n",
       "        vertical-align: top;\n",
       "    }\n",
       "\n",
       "    .dataframe thead th {\n",
       "        text-align: right;\n",
       "    }\n",
       "</style>\n",
       "<table border=\"1\" class=\"dataframe\">\n",
       "  <thead>\n",
       "    <tr style=\"text-align: right;\">\n",
       "      <th></th>\n",
       "      <th>country</th>\n",
       "      <th>Age</th>\n",
       "      <th>Salary</th>\n",
       "      <th>Purchased</th>\n",
       "    </tr>\n",
       "  </thead>\n",
       "  <tbody>\n",
       "    <tr>\n",
       "      <th>0</th>\n",
       "      <td>India</td>\n",
       "      <td>44</td>\n",
       "      <td>72000</td>\n",
       "      <td>yes</td>\n",
       "    </tr>\n",
       "    <tr>\n",
       "      <th>1</th>\n",
       "      <td>U.S</td>\n",
       "      <td>34</td>\n",
       "      <td>44000</td>\n",
       "      <td>no</td>\n",
       "    </tr>\n",
       "    <tr>\n",
       "      <th>2</th>\n",
       "      <td>Australia</td>\n",
       "      <td>28</td>\n",
       "      <td>35000</td>\n",
       "      <td>yes</td>\n",
       "    </tr>\n",
       "    <tr>\n",
       "      <th>3</th>\n",
       "      <td>India</td>\n",
       "      <td>27</td>\n",
       "      <td>27000</td>\n",
       "      <td>yes</td>\n",
       "    </tr>\n",
       "    <tr>\n",
       "      <th>4</th>\n",
       "      <td>Australia</td>\n",
       "      <td>30</td>\n",
       "      <td>32000</td>\n",
       "      <td>no</td>\n",
       "    </tr>\n",
       "    <tr>\n",
       "      <th>5</th>\n",
       "      <td>India</td>\n",
       "      <td>42</td>\n",
       "      <td>56000</td>\n",
       "      <td>yes</td>\n",
       "    </tr>\n",
       "    <tr>\n",
       "      <th>6</th>\n",
       "      <td>U.S</td>\n",
       "      <td>25</td>\n",
       "      <td>45000</td>\n",
       "      <td>no</td>\n",
       "    </tr>\n",
       "  </tbody>\n",
       "</table>\n",
       "</div>"
      ],
      "text/plain": [
       "     country  Age  Salary Purchased\n",
       "0      India   44   72000       yes\n",
       "1        U.S   34   44000        no\n",
       "2  Australia   28   35000       yes\n",
       "3      India   27   27000       yes\n",
       "4  Australia   30   32000        no\n",
       "5      India   42   56000       yes\n",
       "6        U.S   25   45000        no"
      ]
     },
     "execution_count": 2,
     "metadata": {},
     "output_type": "execute_result"
    }
   ],
   "source": [
    "df"
   ]
  },
  {
   "cell_type": "markdown",
   "metadata": {},
   "source": [
    "### Explore the Categorical Features"
   ]
  },
  {
   "cell_type": "code",
   "execution_count": 4,
   "metadata": {},
   "outputs": [
    {
     "data": {
      "text/plain": [
       "['country', 'Purchased']"
      ]
     },
     "execution_count": 4,
     "metadata": {},
     "output_type": "execute_result"
    }
   ],
   "source": [
    "categorical_features = [feature for feature in df.columns if df[feature].dtypes=='O']\n",
    "categorical_features"
   ]
  },
  {
   "cell_type": "code",
   "execution_count": 8,
   "metadata": {},
   "outputs": [
    {
     "name": "stdout",
     "output_type": "stream",
     "text": [
      "The feature is country and number of categories are 3\n",
      "The feature is Purchased and number of categories are 2\n"
     ]
    }
   ],
   "source": [
    "for feature in categorical_features:\n",
    "    print('The feature is {} and number of categories are {}'.format(feature,len(df[feature].unique())))"
   ]
  },
  {
   "cell_type": "code",
   "execution_count": 3,
   "metadata": {
    "colab": {
     "base_uri": "https://localhost:8080/",
     "height": 153
    },
    "colab_type": "code",
    "id": "DeiuL8b187V-",
    "outputId": "1ea9f8ec-d27f-4c67-ab88-ff14906d7333"
   },
   "outputs": [
    {
     "name": "stdout",
     "output_type": "stream",
     "text": [
      "     country  Age  Salary Purchased\n",
      "0      India   44   72000       yes\n",
      "1        U.S   34   44000        no\n",
      "2  Australia   28   35000       yes\n",
      "3      India   27   27000       yes\n",
      "4  Australia   30   32000        no\n",
      "5      India   42   56000       yes\n",
      "6        U.S   25   45000        no\n"
     ]
    }
   ],
   "source": [
    "# Let's check our dataframe\n",
    "print(df)"
   ]
  },
  {
   "cell_type": "code",
   "execution_count": 4,
   "metadata": {
    "colab": {
     "base_uri": "https://localhost:8080/",
     "height": 102
    },
    "colab_type": "code",
    "id": "nDJoxcEqCP6W",
    "outputId": "b23f8286-6bf6-4c63-dbf7-129b5788079c"
   },
   "outputs": [
    {
     "data": {
      "text/plain": [
       "country      object\n",
       "Age           int64\n",
       "Salary        int64\n",
       "Purchased    object\n",
       "dtype: object"
      ]
     },
     "execution_count": 4,
     "metadata": {},
     "output_type": "execute_result"
    }
   ],
   "source": [
    "# check the datatypes\n",
    "df.dtypes"
   ]
  },
  {
   "cell_type": "markdown",
   "metadata": {
    "colab_type": "text",
    "id": "X2pW53tuAMje"
   },
   "source": [
    "## Here we have 2 categorical feature \n",
    "\n",
    "*   Country.\n",
    "*   Purchased.\n",
    "\n",
    "---\n",
    "\n",
    "\n",
    " Age and Salary have numeric values.\n",
    "\n"
   ]
  },
  {
   "cell_type": "markdown",
   "metadata": {
    "colab_type": "text",
    "id": "bMjm1qJCCoKT"
   },
   "source": [
    "We know it well that we cannot pass in categorical values in our models.\n"
   ]
  },
  {
   "cell_type": "markdown",
   "metadata": {
    "colab_type": "text",
    "id": "ViUzqV9VDnrm"
   },
   "source": [
    "### Label Encoding"
   ]
  },
  {
   "cell_type": "markdown",
   "metadata": {},
   "source": [
    "#### country"
   ]
  },
  {
   "cell_type": "code",
   "execution_count": 5,
   "metadata": {
    "colab": {
     "base_uri": "https://localhost:8080/",
     "height": 34
    },
    "colab_type": "code",
    "id": "NFRufX2C_rcK",
    "outputId": "5edf35ab-ac93-4a39-b184-4ca7cbb84201"
   },
   "outputs": [
    {
     "data": {
      "text/plain": [
       "array(['India', 'U.S', 'Australia'], dtype=object)"
      ]
     },
     "execution_count": 5,
     "metadata": {},
     "output_type": "execute_result"
    }
   ],
   "source": [
    "df['country'].unique() # check unique "
   ]
  },
  {
   "cell_type": "code",
   "execution_count": 6,
   "metadata": {
    "scrolled": true
   },
   "outputs": [
    {
     "data": {
      "text/plain": [
       "India        3\n",
       "Australia    2\n",
       "U.S          2\n",
       "Name: country, dtype: int64"
      ]
     },
     "execution_count": 6,
     "metadata": {},
     "output_type": "execute_result"
    }
   ],
   "source": [
    "df['country'].value_counts()"
   ]
  },
  {
   "cell_type": "markdown",
   "metadata": {},
   "source": [
    "#### Purchased"
   ]
  },
  {
   "cell_type": "code",
   "execution_count": 7,
   "metadata": {
    "scrolled": true
   },
   "outputs": [
    {
     "data": {
      "text/plain": [
       "array(['yes', 'no'], dtype=object)"
      ]
     },
     "execution_count": 7,
     "metadata": {},
     "output_type": "execute_result"
    }
   ],
   "source": [
    "df['Purchased'].unique()"
   ]
  },
  {
   "cell_type": "code",
   "execution_count": 8,
   "metadata": {},
   "outputs": [
    {
     "data": {
      "text/plain": [
       "yes    4\n",
       "no     3\n",
       "Name: Purchased, dtype: int64"
      ]
     },
     "execution_count": 8,
     "metadata": {},
     "output_type": "execute_result"
    }
   ],
   "source": [
    "df['Purchased'].value_counts()"
   ]
  },
  {
   "cell_type": "markdown",
   "metadata": {
    "colab_type": "text",
    "id": "qQH_UVopGMyO"
   },
   "source": [
    "## So Here we have 3 categories in country column.\n",
    "\n",
    "\n",
    "*   India\n",
    "*   U.S\n",
    "*   Australia\n",
    "\n"
   ]
  },
  {
   "cell_type": "markdown",
   "metadata": {
    "colab_type": "text",
    "id": "bRup2PKZGoRB"
   },
   "source": [
    "In label encoding different categories are given different unique values starting from 0 to (n-1). n is the number of categories. "
   ]
  },
  {
   "cell_type": "code",
   "execution_count": 9,
   "metadata": {
    "colab": {},
    "colab_type": "code",
    "id": "Hn72LBfYDbeL"
   },
   "outputs": [],
   "source": [
    "from sklearn.preprocessing import LabelEncoder # import the LabelEncoder from sklrean library\n",
    "le = LabelEncoder()    # create the instance of LabelEncoder\n",
    "\n",
    "df['country_temp'] = le.fit_transform(df['country'])   # apply LabelEncoding of country column"
   ]
  },
  {
   "cell_type": "code",
   "execution_count": 10,
   "metadata": {
    "colab": {
     "base_uri": "https://localhost:8080/",
     "height": 153
    },
    "colab_type": "code",
    "id": "KwAFaXWZDN3G",
    "outputId": "e9b2108d-c393-4e40-88ed-c35086749db0",
    "scrolled": true
   },
   "outputs": [
    {
     "data": {
      "text/plain": [
       "0    1\n",
       "1    2\n",
       "2    0\n",
       "3    1\n",
       "4    0\n",
       "5    1\n",
       "6    2\n",
       "Name: country_temp, dtype: int32"
      ]
     },
     "execution_count": 10,
     "metadata": {},
     "output_type": "execute_result"
    }
   ],
   "source": [
    "df['country_temp']"
   ]
  },
  {
   "cell_type": "markdown",
   "metadata": {
    "colab_type": "text",
    "id": "1UncaxufJ5G0"
   },
   "source": [
    "Here we can see that **country feature** has been tranformed **into numeric values**. **Label encoding is done in alphabatical order** as we can see here.\n",
    "*   Australia -----> 0\n",
    "*   India  --------> 1\n",
    "*   U.S   ---------> 2"
   ]
  },
  {
   "cell_type": "markdown",
   "metadata": {
    "colab_type": "text",
    "id": "Ec5NUaNbLyEX"
   },
   "source": [
    "### Problem With Label Encoding\n",
    "Here we have assigned numeric values i.e (0-Australia), (1-India), (2-U.S) in the same column. Problem here is that the machine learning models won't interpret these values as different labels as 0 < 1 < 2. Our model might interpret them in some order. But we don't have any ordering in our country feature. we cannot say Australia < India < U.S ."
   ]
  },
  {
   "cell_type": "markdown",
   "metadata": {
    "colab_type": "text",
    "id": "hIbTuyMgtqnY"
   },
   "source": [
    "We use **One Hot encoding** to overcome this problem. It is also known as nominal encoding. Here We create 3 different columns [India, Australia, U.S]. We assign 1 if that label is present in particular row otherwise we marks it as 0."
   ]
  },
  {
   "cell_type": "code",
   "execution_count": 11,
   "metadata": {
    "colab": {
     "base_uri": "https://localhost:8080/",
     "height": 266
    },
    "colab_type": "code",
    "id": "RkgJYPHpfl5B",
    "outputId": "3820cd01-5a4b-4e86-b27a-c434a715c315"
   },
   "outputs": [
    {
     "data": {
      "text/html": [
       "<div>\n",
       "<style scoped>\n",
       "    .dataframe tbody tr th:only-of-type {\n",
       "        vertical-align: middle;\n",
       "    }\n",
       "\n",
       "    .dataframe tbody tr th {\n",
       "        vertical-align: top;\n",
       "    }\n",
       "\n",
       "    .dataframe thead th {\n",
       "        text-align: right;\n",
       "    }\n",
       "</style>\n",
       "<table border=\"1\" class=\"dataframe\">\n",
       "  <thead>\n",
       "    <tr style=\"text-align: right;\">\n",
       "      <th></th>\n",
       "      <th>Australia</th>\n",
       "      <th>India</th>\n",
       "      <th>U.S</th>\n",
       "    </tr>\n",
       "  </thead>\n",
       "  <tbody>\n",
       "    <tr>\n",
       "      <th>0</th>\n",
       "      <td>0</td>\n",
       "      <td>1</td>\n",
       "      <td>0</td>\n",
       "    </tr>\n",
       "    <tr>\n",
       "      <th>1</th>\n",
       "      <td>0</td>\n",
       "      <td>0</td>\n",
       "      <td>1</td>\n",
       "    </tr>\n",
       "    <tr>\n",
       "      <th>2</th>\n",
       "      <td>1</td>\n",
       "      <td>0</td>\n",
       "      <td>0</td>\n",
       "    </tr>\n",
       "    <tr>\n",
       "      <th>3</th>\n",
       "      <td>0</td>\n",
       "      <td>1</td>\n",
       "      <td>0</td>\n",
       "    </tr>\n",
       "    <tr>\n",
       "      <th>4</th>\n",
       "      <td>1</td>\n",
       "      <td>0</td>\n",
       "      <td>0</td>\n",
       "    </tr>\n",
       "    <tr>\n",
       "      <th>5</th>\n",
       "      <td>0</td>\n",
       "      <td>1</td>\n",
       "      <td>0</td>\n",
       "    </tr>\n",
       "    <tr>\n",
       "      <th>6</th>\n",
       "      <td>0</td>\n",
       "      <td>0</td>\n",
       "      <td>1</td>\n",
       "    </tr>\n",
       "  </tbody>\n",
       "</table>\n",
       "</div>"
      ],
      "text/plain": [
       "   Australia  India  U.S\n",
       "0          0      1    0\n",
       "1          0      0    1\n",
       "2          1      0    0\n",
       "3          0      1    0\n",
       "4          1      0    0\n",
       "5          0      1    0\n",
       "6          0      0    1"
      ]
     },
     "execution_count": 11,
     "metadata": {},
     "output_type": "execute_result"
    }
   ],
   "source": [
    "# we will use get_dummies to do One Hot encoding\n",
    "pd.get_dummies(df['country']) # get_dummies method also known as nominal encoding"
   ]
  },
  {
   "cell_type": "markdown",
   "metadata": {
    "colab_type": "text",
    "id": "O3n38tvWumVP"
   },
   "source": [
    "*  Here in first row ['India'] is assigned 1 and Australia and U.S are assigned 0. \n",
    "*  Similarly in 2nd row ['U.S'] is assigned 1 and other columns are assigned 0."
   ]
  },
  {
   "cell_type": "markdown",
   "metadata": {
    "colab_type": "text",
    "id": "-G9syo2Fvotx"
   },
   "source": [
    "We can drop the first column here, it is just increasing the features.\n",
    " Reason ---- Even if we just have two columns suppose india and U.S and both are assigned 0. It is understood that when both of these labels are zero The 3rd label is automatically going to be 1."
   ]
  },
  {
   "cell_type": "code",
   "execution_count": 12,
   "metadata": {
    "colab": {
     "base_uri": "https://localhost:8080/",
     "height": 266
    },
    "colab_type": "code",
    "id": "zMpDlMgmfmma",
    "outputId": "e246e536-e8fd-422b-e2d3-c80fa3623bd4",
    "scrolled": true
   },
   "outputs": [
    {
     "data": {
      "text/html": [
       "<div>\n",
       "<style scoped>\n",
       "    .dataframe tbody tr th:only-of-type {\n",
       "        vertical-align: middle;\n",
       "    }\n",
       "\n",
       "    .dataframe tbody tr th {\n",
       "        vertical-align: top;\n",
       "    }\n",
       "\n",
       "    .dataframe thead th {\n",
       "        text-align: right;\n",
       "    }\n",
       "</style>\n",
       "<table border=\"1\" class=\"dataframe\">\n",
       "  <thead>\n",
       "    <tr style=\"text-align: right;\">\n",
       "      <th></th>\n",
       "      <th>India</th>\n",
       "      <th>U.S</th>\n",
       "    </tr>\n",
       "  </thead>\n",
       "  <tbody>\n",
       "    <tr>\n",
       "      <th>0</th>\n",
       "      <td>1</td>\n",
       "      <td>0</td>\n",
       "    </tr>\n",
       "    <tr>\n",
       "      <th>1</th>\n",
       "      <td>0</td>\n",
       "      <td>1</td>\n",
       "    </tr>\n",
       "    <tr>\n",
       "      <th>2</th>\n",
       "      <td>0</td>\n",
       "      <td>0</td>\n",
       "    </tr>\n",
       "    <tr>\n",
       "      <th>3</th>\n",
       "      <td>1</td>\n",
       "      <td>0</td>\n",
       "    </tr>\n",
       "    <tr>\n",
       "      <th>4</th>\n",
       "      <td>0</td>\n",
       "      <td>0</td>\n",
       "    </tr>\n",
       "    <tr>\n",
       "      <th>5</th>\n",
       "      <td>1</td>\n",
       "      <td>0</td>\n",
       "    </tr>\n",
       "    <tr>\n",
       "      <th>6</th>\n",
       "      <td>0</td>\n",
       "      <td>1</td>\n",
       "    </tr>\n",
       "  </tbody>\n",
       "</table>\n",
       "</div>"
      ],
      "text/plain": [
       "   India  U.S\n",
       "0      1    0\n",
       "1      0    1\n",
       "2      0    0\n",
       "3      1    0\n",
       "4      0    0\n",
       "5      1    0\n",
       "6      0    1"
      ]
     },
     "execution_count": 12,
     "metadata": {},
     "output_type": "execute_result"
    }
   ],
   "source": [
    "# Dropping the first column\n",
    "pd.get_dummies(df['country'],drop_first=True)"
   ]
  },
  {
   "cell_type": "markdown",
   "metadata": {
    "colab_type": "text",
    "id": "UM1PA8161NRG"
   },
   "source": [
    "Here we have done one hot encoding only on single feature but in real world datasets there will be many categorical features. Suppose our dataset has 50 categorical features with 3 different labels in each features. In that case if we apply one hot encoding, our features will also increase. we will have 100 features. It will make our model more complex."
   ]
  },
  {
   "cell_type": "markdown",
   "metadata": {
    "colab_type": "text",
    "id": "4S9JA4AiPpKE"
   },
   "source": [
    "### Based on the dataset there are different techniques that we can apply to over-come this problem of dimensionality.\n",
    "\n",
    "### Binary Encoding\n",
    "This is not intiuative like the previous ones. Here the labels are firstly encoded ordinal and then they are converted into binary codes. Then the digits from that binary string are converted into different features."
   ]
  },
  {
   "cell_type": "code",
   "execution_count": 13,
   "metadata": {
    "colab": {
     "base_uri": "https://localhost:8080/",
     "height": 153
    },
    "colab_type": "code",
    "id": "D1K9L0Cyfou1",
    "outputId": "67ec6cb0-44fc-4d86-bbea-64da5778f640",
    "scrolled": true
   },
   "outputs": [
    {
     "name": "stdout",
     "output_type": "stream",
     "text": [
      "0       Self-employeed\n",
      "1           Freelancer\n",
      "2      Family-business\n",
      "3       Data-scientist\n",
      "4            Pensioner\n",
      "5              Manager\n",
      "6    Daily-wage-worker\n",
      "Name: occupation, dtype: object\n"
     ]
    }
   ],
   "source": [
    "# create 1 more column occupation here\n",
    "df['occupation'] = ['Self-employeed','Freelancer','Family-business','Data-scientist','Pensioner','Manager','Daily-wage-worker']\n",
    "print(df['occupation'])"
   ]
  },
  {
   "cell_type": "markdown",
   "metadata": {
    "colab_type": "text",
    "id": "r0yv-4MKVXMX"
   },
   "source": [
    "We have seven different categories here. And we don't have any ordering in them as well."
   ]
  },
  {
   "cell_type": "code",
   "execution_count": 14,
   "metadata": {
    "colab": {
     "base_uri": "https://localhost:8080/",
     "height": 292
    },
    "colab_type": "code",
    "id": "BoYRKpfdZ--3",
    "outputId": "7c22a72a-045b-468c-eb88-41ed692d5536"
   },
   "outputs": [
    {
     "name": "stdout",
     "output_type": "stream",
     "text": [
      "Requirement already satisfied: category_encoders in c:\\users\\deepusuresh\\anaconda3\\lib\\site-packages (2.2.2)\n",
      "Requirement already satisfied: scipy>=1.0.0 in c:\\users\\deepusuresh\\anaconda3\\lib\\site-packages (from category_encoders) (1.2.1)\n",
      "Requirement already satisfied: statsmodels>=0.9.0 in c:\\users\\deepusuresh\\anaconda3\\lib\\site-packages (from category_encoders) (0.9.0)\n",
      "Requirement already satisfied: patsy>=0.5.1 in c:\\users\\deepusuresh\\anaconda3\\lib\\site-packages (from category_encoders) (0.5.1)\n",
      "Requirement already satisfied: scikit-learn>=0.20.0 in c:\\users\\deepusuresh\\anaconda3\\lib\\site-packages (from category_encoders) (0.20.3)\n",
      "Requirement already satisfied: numpy>=1.14.0 in c:\\users\\deepusuresh\\anaconda3\\lib\\site-packages (from category_encoders) (1.16.2)\n",
      "Requirement already satisfied: pandas>=0.21.1 in c:\\users\\deepusuresh\\anaconda3\\lib\\site-packages (from category_encoders) (1.0.4)\n",
      "Requirement already satisfied: six in c:\\users\\deepusuresh\\anaconda3\\lib\\site-packages (from patsy>=0.5.1->category_encoders) (1.12.0)\n",
      "Requirement already satisfied: pytz>=2017.2 in c:\\users\\deepusuresh\\anaconda3\\lib\\site-packages (from pandas>=0.21.1->category_encoders) (2018.9)\n",
      "Requirement already satisfied: python-dateutil>=2.6.1 in c:\\users\\deepusuresh\\anaconda3\\lib\\site-packages (from pandas>=0.21.1->category_encoders) (2.8.0)\n"
     ]
    },
    {
     "name": "stderr",
     "output_type": "stream",
     "text": [
      "Error processing line 7 of C:\\Users\\deepusuresh\\Anaconda3\\lib\\site-packages\\pywin32.pth:\n",
      "\n",
      "  Traceback (most recent call last):\n",
      "    File \"C:\\Users\\deepusuresh\\Anaconda3\\lib\\site.py\", line 168, in addpackage\n",
      "      exec(line)\n",
      "    File \"<string>\", line 1, in <module>\n",
      "  ModuleNotFoundError: No module named 'pywin32_bootstrap'\n",
      "\n",
      "Remainder of file ignored\n"
     ]
    }
   ],
   "source": [
    "# install category_encoders first\n",
    "# You have to poen your ananconda prompt & conda install -c conda-forge category_encoders & Y/N,Y\n",
    "\n",
    "!pip install category_encoders"
   ]
  },
  {
   "cell_type": "code",
   "execution_count": 15,
   "metadata": {
    "colab": {
     "base_uri": "https://localhost:8080/",
     "height": 187
    },
    "colab_type": "code",
    "id": "i3FWvYZafpAd",
    "outputId": "926a0b61-a7c4-4590-d734-c49438304a20"
   },
   "outputs": [
    {
     "name": "stdout",
     "output_type": "stream",
     "text": [
      "     country  Age  Salary Purchased  country_temp  occupation_0  occupation_1  \\\n",
      "0      India   44   72000       yes             1             0             0   \n",
      "1        U.S   34   44000        no             2             0             0   \n",
      "2  Australia   28   35000       yes             0             0             0   \n",
      "3      India   27   27000       yes             1             0             1   \n",
      "4  Australia   30   32000        no             0             0             1   \n",
      "5      India   42   56000       yes             1             0             1   \n",
      "6        U.S   25   45000        no             2             0             1   \n",
      "\n",
      "   occupation_2  occupation_3  \n",
      "0             0             1  \n",
      "1             1             0  \n",
      "2             1             1  \n",
      "3             0             0  \n",
      "4             0             1  \n",
      "5             1             0  \n",
      "6             1             1  \n"
     ]
    }
   ],
   "source": [
    "# we will use BinaryEncoder from category_encoders library to do binary encoding\n",
    "import category_encoders as ce\n",
    "encoder = ce.BinaryEncoder(cols = ['occupation'])\n",
    "df_binary = encoder.fit_transform(df)\n",
    "print(df_binary)"
   ]
  },
  {
   "attachments": {
    "binary.PNG": {
     "image/png": "[encoded data removed]"
    }
   },
   "cell_type": "markdown",
   "metadata": {},
   "source": [
    "### Let's have a look at how 'Binary Encoding' actually works\n",
    "\n",
    "![binary.PNG](attachment:binary.PNG)\n",
    "\n",
    "### Try to analyze Why binary encoding plays vital role in Encoding Techniques"
   ]
  },
  {
   "cell_type": "markdown",
   "metadata": {
    "colab_type": "text",
    "id": "bNHAhL4jbPiM"
   },
   "source": [
    "- We had **7 different categories** in occupation if we would have used **one hot encoding** it would have given us **7 features**. But by using **Binary Encoding** we have limited it to **3**.\n",
    "\n",
    "\n",
    "- **Binary Encoding** is very useful when we have **many categories within a single feature**. It help us to reduce the dimensionality."
   ]
  },
  {
   "cell_type": "markdown",
   "metadata": {
    "colab": {},
    "colab_type": "code",
    "id": "77LvpCKXfpR4"
   },
   "source": [
    "'''we have seen 3 basic types feature encoding techniques here there are many more.\n",
    "              we will look at them with some practical uses and with some real world dataset'''"
   ]
  }
 ],
 "metadata": {
  "colab": {
   "collapsed_sections": [],
   "name": "Feature_Encoding.ipynb",
   "provenance": []
  },
  "kernelspec": {
   "display_name": "Python 3",
   "language": "python",
   "name": "python3"
  },
  "language_info": {
   "codemirror_mode": {
    "name": "ipython",
    "version": 3
   },
   "file_extension": ".py",
   "mimetype": "text/x-python",
   "name": "python",
   "nbconvert_exporter": "python",
   "pygments_lexer": "ipython3",
   "version": "3.7.3"
  }
 },
 "nbformat": 4,
 "nbformat_minor": 1
}
