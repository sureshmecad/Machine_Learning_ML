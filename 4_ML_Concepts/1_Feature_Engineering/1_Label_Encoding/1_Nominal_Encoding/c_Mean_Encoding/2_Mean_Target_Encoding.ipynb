{
 "cells": [
  {
   "cell_type": "markdown",
   "metadata": {
    "colab_type": "text",
    "id": "RlNOxykowpFW"
   },
   "source": [
    "# Mean Target Encoding\n",
    "\n",
    "<img src = 'https://imgur.com/Hrm6Yz0.png'>"
   ]
  },
  {
   "cell_type": "markdown",
   "metadata": {
    "colab_type": "text",
    "id": "Wlc025wG6JkF"
   },
   "source": [
    "## We have already worked with Label encoding, One hot encoding, Frequency encoding, Binary Encoding and Hash Encoding. You must be wondering why there is need of one ore encoding technique."
   ]
  },
  {
   "cell_type": "markdown",
   "metadata": {
    "colab_type": "text",
    "id": "Cdyr1t_k8rbI"
   },
   "source": [
    "###All those techniques that we have learnt till now  are very well known techniques which have been usually used in feature engineering to improve the accuracy of a prediction when there are categorical features in a dataset "
   ]
  },
  {
   "cell_type": "markdown",
   "metadata": {
    "colab_type": "text",
    "id": "XqNQKh3x-Aus"
   },
   "source": [
    "- All the techniques we have learnt have some ups and downs. We use **one hot encoding** when there are **limited** number of categorical variable is limited in feature. However, it might **not be useful** when the **number of categorical variables** increases in the feature because it results in increasing the dimension of the dataset.\n",
    "\n",
    "\n",
    "- **Label encoding** has its limitations too since it gives **random order** to the features. And furthermore there's **no correlation b/w label encoded feature and target variable.**"
   ]
  },
  {
   "cell_type": "markdown",
   "metadata": {
    "colab_type": "text",
    "id": "UXYIXB0e_5o9"
   },
   "source": [
    "## What is Mean Target Encoding and how does it work ?\n",
    "\n",
    "- In Mean Encoding we take the number of labels into account along with the target variable.\n",
    "\n",
    "- Leet's look at the dummy dataset so you will understand it properly."
   ]
  },
  {
   "cell_type": "code",
   "execution_count": 11,
   "metadata": {
    "colab": {
     "base_uri": "https://localhost:8080/",
     "height": 359
    },
    "colab_type": "code",
    "id": "pQWuy8CaAjvt",
    "outputId": "f8104bb1-9d34-4883-dfbb-fbba0f9c0c3b"
   },
   "outputs": [
    {
     "data": {
      "text/html": [
       "<div>\n",
       "<style scoped>\n",
       "    .dataframe tbody tr th:only-of-type {\n",
       "        vertical-align: middle;\n",
       "    }\n",
       "\n",
       "    .dataframe tbody tr th {\n",
       "        vertical-align: top;\n",
       "    }\n",
       "\n",
       "    .dataframe thead th {\n",
       "        text-align: right;\n",
       "    }\n",
       "</style>\n",
       "<table border=\"1\" class=\"dataframe\">\n",
       "  <thead>\n",
       "    <tr style=\"text-align: right;\">\n",
       "      <th></th>\n",
       "      <th>Feature</th>\n",
       "      <th>Target</th>\n",
       "    </tr>\n",
       "  </thead>\n",
       "  <tbody>\n",
       "    <tr>\n",
       "      <th>0</th>\n",
       "      <td>Mumbai</td>\n",
       "      <td>0</td>\n",
       "    </tr>\n",
       "    <tr>\n",
       "      <th>1</th>\n",
       "      <td>Delhi</td>\n",
       "      <td>0</td>\n",
       "    </tr>\n",
       "    <tr>\n",
       "      <th>2</th>\n",
       "      <td>Mumbai</td>\n",
       "      <td>1</td>\n",
       "    </tr>\n",
       "    <tr>\n",
       "      <th>3</th>\n",
       "      <td>Mumbai</td>\n",
       "      <td>1</td>\n",
       "    </tr>\n",
       "    <tr>\n",
       "      <th>4</th>\n",
       "      <td>Mumbai</td>\n",
       "      <td>1</td>\n",
       "    </tr>\n",
       "    <tr>\n",
       "      <th>5</th>\n",
       "      <td>Delhi</td>\n",
       "      <td>0</td>\n",
       "    </tr>\n",
       "    <tr>\n",
       "      <th>6</th>\n",
       "      <td>Mumbai</td>\n",
       "      <td>1</td>\n",
       "    </tr>\n",
       "    <tr>\n",
       "      <th>7</th>\n",
       "      <td>Mumbai</td>\n",
       "      <td>1</td>\n",
       "    </tr>\n",
       "    <tr>\n",
       "      <th>8</th>\n",
       "      <td>Mumbai</td>\n",
       "      <td>0</td>\n",
       "    </tr>\n",
       "    <tr>\n",
       "      <th>9</th>\n",
       "      <td>Delhi</td>\n",
       "      <td>1</td>\n",
       "    </tr>\n",
       "  </tbody>\n",
       "</table>\n",
       "</div>"
      ],
      "text/plain": [
       "  Feature  Target\n",
       "0  Mumbai       0\n",
       "1   Delhi       0\n",
       "2  Mumbai       1\n",
       "3  Mumbai       1\n",
       "4  Mumbai       1\n",
       "5   Delhi       0\n",
       "6  Mumbai       1\n",
       "7  Mumbai       1\n",
       "8  Mumbai       0\n",
       "9   Delhi       1"
      ]
     },
     "execution_count": 11,
     "metadata": {
      "tags": []
     },
     "output_type": "execute_result"
    }
   ],
   "source": [
    "import pandas as pd\n",
    "import numpy as np\n",
    "\n",
    "data = pd.DataFrame({'Feature' : ['Mumbai','Delhi','Mumbai','Mumbai','Mumbai','Delhi','Mumbai','Mumbai','Mumbai','Delhi'],\n",
    "                     'Target' : [0,0,1,1,1,0,1,1,0,1]})\n",
    "data"
   ]
  },
  {
   "cell_type": "markdown",
   "metadata": {
    "colab_type": "text",
    "id": "YsQeEbsnJ_Gb"
   },
   "source": [
    "Out of total 9 Instances \n",
    "\n",
    "|Label|Number of time appeared in Feature Column| No. of 1's in Target|No. of 0's in Target \n",
    "----|----|----|----|\n",
    "|  Mumbai  |    7| 5| 2|\n",
    "|  Delhi   |    3| 1| 2|"
   ]
  },
  {
   "cell_type": "markdown",
   "metadata": {
    "colab_type": "text",
    "id": "novu8zVVGQZ6"
   },
   "source": [
    "### Here we have 2 categories in \"Feature\" column, namely \"Mumbai\" and \"Delhi\" and we have Target 0 and 1.\n",
    "\n",
    "- If we do **label encoding** here, we will simply give **\"Mumbai\" as 0 and \"Delhi\" as 1.**\n",
    "\n",
    "\n",
    "- But in **mean encoding**\n",
    "\n",
    "   \"Mumbai\" = [Number of true targets under the label Mumbai/ Total Number of targets under the label Mumbai ] which comes out to be 5/7 = 0.71 approax\n",
    "   \n",
    "   \"Delhi\" =  [Number of true targets under the label Delhi/ Total Number of targets under the label Delhi ] = 1/3 = 0.33"
   ]
  },
  {
   "cell_type": "markdown",
   "metadata": {
    "colab_type": "text",
    "id": "h0ZBKrqCJfpS"
   },
   "source": [
    "### After doing target encoding \"Mumbai\" will be replaced my 0.71 and \"Delhi\" by 0.33"
   ]
  },
  {
   "cell_type": "code",
   "execution_count": 12,
   "metadata": {
    "colab": {
     "base_uri": "https://localhost:8080/",
     "height": 85
    },
    "colab_type": "code",
    "id": "2pRwoD9swivA",
    "outputId": "1a5fa71e-010c-4f4d-b489-7f6be3da1531"
   },
   "outputs": [
    {
     "data": {
      "text/plain": [
       "Feature\n",
       "Delhi     0.33\n",
       "Mumbai    0.71\n",
       "Name: Target, dtype: float64"
      ]
     },
     "execution_count": 12,
     "metadata": {
      "tags": []
     },
     "output_type": "execute_result"
    }
   ],
   "source": [
    "# check the target mean for both the categories\n",
    "data.groupby('Feature')['Target'].mean().round(2)"
   ]
  },
  {
   "cell_type": "markdown",
   "metadata": {
    "colab_type": "text",
    "id": "Kd8M954uM2LM"
   },
   "source": [
    "## Now we can map and replace Delhi with 0.33 and Mumbai with 0.71"
   ]
  },
  {
   "cell_type": "code",
   "execution_count": 13,
   "metadata": {
    "colab": {},
    "colab_type": "code",
    "id": "k-mH3XWtMWdt"
   },
   "outputs": [],
   "source": [
    "data['Feature'] = data['Feature'].map({'Delhi' : 0.33, 'Mumbai': 0.71})"
   ]
  },
  {
   "cell_type": "code",
   "execution_count": 14,
   "metadata": {
    "colab": {
     "base_uri": "https://localhost:8080/",
     "height": 359
    },
    "colab_type": "code",
    "id": "jK_NT4JTNkZ4",
    "outputId": "fd97bd40-ac7a-4854-e473-add9e73c5c82"
   },
   "outputs": [
    {
     "data": {
      "text/html": [
       "<div>\n",
       "<style scoped>\n",
       "    .dataframe tbody tr th:only-of-type {\n",
       "        vertical-align: middle;\n",
       "    }\n",
       "\n",
       "    .dataframe tbody tr th {\n",
       "        vertical-align: top;\n",
       "    }\n",
       "\n",
       "    .dataframe thead th {\n",
       "        text-align: right;\n",
       "    }\n",
       "</style>\n",
       "<table border=\"1\" class=\"dataframe\">\n",
       "  <thead>\n",
       "    <tr style=\"text-align: right;\">\n",
       "      <th></th>\n",
       "      <th>Feature</th>\n",
       "      <th>Target</th>\n",
       "    </tr>\n",
       "  </thead>\n",
       "  <tbody>\n",
       "    <tr>\n",
       "      <th>0</th>\n",
       "      <td>0.71</td>\n",
       "      <td>0</td>\n",
       "    </tr>\n",
       "    <tr>\n",
       "      <th>1</th>\n",
       "      <td>0.33</td>\n",
       "      <td>0</td>\n",
       "    </tr>\n",
       "    <tr>\n",
       "      <th>2</th>\n",
       "      <td>0.71</td>\n",
       "      <td>1</td>\n",
       "    </tr>\n",
       "    <tr>\n",
       "      <th>3</th>\n",
       "      <td>0.71</td>\n",
       "      <td>1</td>\n",
       "    </tr>\n",
       "    <tr>\n",
       "      <th>4</th>\n",
       "      <td>0.71</td>\n",
       "      <td>1</td>\n",
       "    </tr>\n",
       "    <tr>\n",
       "      <th>5</th>\n",
       "      <td>0.33</td>\n",
       "      <td>0</td>\n",
       "    </tr>\n",
       "    <tr>\n",
       "      <th>6</th>\n",
       "      <td>0.71</td>\n",
       "      <td>1</td>\n",
       "    </tr>\n",
       "    <tr>\n",
       "      <th>7</th>\n",
       "      <td>0.71</td>\n",
       "      <td>1</td>\n",
       "    </tr>\n",
       "    <tr>\n",
       "      <th>8</th>\n",
       "      <td>0.71</td>\n",
       "      <td>0</td>\n",
       "    </tr>\n",
       "    <tr>\n",
       "      <th>9</th>\n",
       "      <td>0.33</td>\n",
       "      <td>1</td>\n",
       "    </tr>\n",
       "  </tbody>\n",
       "</table>\n",
       "</div>"
      ],
      "text/plain": [
       "   Feature  Target\n",
       "0     0.71       0\n",
       "1     0.33       0\n",
       "2     0.71       1\n",
       "3     0.71       1\n",
       "4     0.71       1\n",
       "5     0.33       0\n",
       "6     0.71       1\n",
       "7     0.71       1\n",
       "8     0.71       0\n",
       "9     0.33       1"
      ]
     },
     "execution_count": 14,
     "metadata": {
      "tags": []
     },
     "output_type": "execute_result"
    }
   ],
   "source": [
    "data"
   ]
  },
  {
   "cell_type": "markdown",
   "metadata": {
    "colab_type": "text",
    "id": "QYfUeayXQQIR"
   },
   "source": [
    "## There must be many questions in your mind \n",
    "\n",
    "### When shall we use Mean target Encoding?\n",
    "\n",
    "- We use **mean target encoding** when the **cardinality is high** in our dataset (When there are **large number of features**).\n",
    "\n",
    "\n",
    "- As if we apply **one hot encoding, binary encoding or hashing** it will **increase number of features**.\n",
    "\n",
    "\n",
    "- And if we apply **label encoding, frequency encoding** there **won't be any correlation** b/w feature and target variable. "
   ]
  },
  {
   "cell_type": "markdown",
   "metadata": {
    "colab_type": "text",
    "id": "2MekCiZ8RE1V"
   },
   "source": [
    "## Can we use Mean target encoding for regression problems as well ?\n",
    "- We use **target encoding** for **classification** as well as **regression** problems in the same way as we use for classification problems."
   ]
  },
  {
   "cell_type": "markdown",
   "metadata": {
    "colab_type": "text",
    "id": "XSnlofnySp9r"
   },
   "source": [
    "### Is there any drawback of using Mean target encoding ?\n",
    "\n",
    "- Well yes, there's a big drawback of **overfitting** using **mean target encoding** and it should be taken care of using various regularizations and cross validation techniques."
   ]
  },
  {
   "cell_type": "markdown",
   "metadata": {
    "colab_type": "text",
    "id": "AYw9PsBfUPH8"
   },
   "source": [
    "### I want you guys to use google and kaggle to find out how we deal with this drawback of overfitting and explain it in the discussion channel."
   ]
  },
  {
   "cell_type": "markdown",
   "metadata": {
    "colab_type": "text",
    "id": "vwBaUTiAU3VY"
   },
   "source": [
    "       Mean target encoding is a robust feature engineering method, there is no guarantee that it always the best method to improve accuracy. \n",
    "       We need to apply diverse feature engineerings to see which one give us better performance."
   ]
  },
  {
   "cell_type": "markdown",
   "metadata": {
    "colab_type": "text",
    "id": "PepfBcooU_BP"
   },
   "source": [
    "                                                         Happy Learning !"
   ]
  }
 ],
 "metadata": {
  "colab": {
   "name": "Mean-Target-Encoding.ipynb",
   "provenance": []
  },
  "kernelspec": {
   "display_name": "Python 3",
   "language": "python",
   "name": "python3"
  },
  "language_info": {
   "codemirror_mode": {
    "name": "ipython",
    "version": 3
   },
   "file_extension": ".py",
   "mimetype": "text/x-python",
   "name": "python",
   "nbconvert_exporter": "python",
   "pygments_lexer": "ipython3",
   "version": "3.7.3"
  }
 },
 "nbformat": 4,
 "nbformat_minor": 1
}
