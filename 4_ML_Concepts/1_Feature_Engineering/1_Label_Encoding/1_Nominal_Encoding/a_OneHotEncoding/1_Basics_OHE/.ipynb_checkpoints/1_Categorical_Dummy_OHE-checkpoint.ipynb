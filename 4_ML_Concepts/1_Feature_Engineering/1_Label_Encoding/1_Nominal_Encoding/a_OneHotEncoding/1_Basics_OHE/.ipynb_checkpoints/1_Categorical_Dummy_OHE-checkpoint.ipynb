{
 "cells": [
  {
   "cell_type": "raw",
   "metadata": {},
   "source": [
    "#  Machine learning models work very well for dataset having only numbers. But how do we handle text information in dataset? \n",
    "\n",
    "   Simple approach is to use\n",
    "   \n",
    "        integer or label encoding\n",
    "        \n",
    "   but when categorical variables are nominal, using simple label encoding can be problematic. One hot encoding is the \n",
    "   \n",
    "   technique that can help in this situation.\n",
    "   \n",
    "\n",
    "#  OneHotEncoding: \n",
    "\n",
    "       1. we will use pandas get_dummies method to create dummy variables that allows us to perform one hot encoding \n",
    "\n",
    "       2. we can use sklearn.preprocessing OneHotEncoder as well to create dummy variables. "
   ]
  },
  {
   "cell_type": "markdown",
   "metadata": {},
   "source": [
    "<h3>Categorical Variables, Dummy Variables & One Hot Encoding</h3>\n",
    "\n",
    "####     1. Using pandas get_dummies\n",
    "     \n",
    "####     2. Using Sklearn OneHotEncoding"
   ]
  },
  {
   "cell_type": "markdown",
   "metadata": {},
   "source": [
    "-------------------------------------------------------------------------------------------------------------------------------"
   ]
  },
  {
   "cell_type": "markdown",
   "metadata": {},
   "source": [
    "### Handling text data\n",
    "\n",
    "#### 1. Integer Encoding\n",
    "\n",
    "#### 2. Label Encoding"
   ]
  },
  {
   "cell_type": "markdown",
   "metadata": {},
   "source": [
    "-------------------------------------------------------------------------------------------------------------------------------"
   ]
  },
  {
   "cell_type": "markdown",
   "metadata": {},
   "source": [
    "## 1. Integer Encoding"
   ]
  },
  {
   "cell_type": "markdown",
   "metadata": {},
   "source": [
    "![3. Basics](image/Numeric_01.JPG)"
   ]
  },
  {
   "cell_type": "markdown",
   "metadata": {},
   "source": [
    "![3. Basics](image/Numeric_02.JPG)"
   ]
  },
  {
   "cell_type": "markdown",
   "metadata": {},
   "source": [
    "![3. Basics](image/Numeric_04.JPG)"
   ]
  },
  {
   "cell_type": "markdown",
   "metadata": {},
   "source": [
    "-------------------------------------------------------------------------------------------------------------------------------"
   ]
  },
  {
   "cell_type": "markdown",
   "metadata": {},
   "source": [
    "## Categorical Variable"
   ]
  },
  {
   "cell_type": "markdown",
   "metadata": {},
   "source": [
    "![3. Basics](image/Numeric_03.JPG)"
   ]
  },
  {
   "cell_type": "markdown",
   "metadata": {},
   "source": [
    "## 2. One Hot Encoding"
   ]
  },
  {
   "cell_type": "raw",
   "metadata": {},
   "source": [
    "#  Categorical Variable --- Nominal = One Hot Encoding\n",
    "\n",
    "#  Create new column for each of categories and assign binary value of 0 or 1"
   ]
  },
  {
   "cell_type": "markdown",
   "metadata": {},
   "source": [
    "![3. Basics](image/Numeric_05.JPG)"
   ]
  },
  {
   "cell_type": "markdown",
   "metadata": {},
   "source": [
    "![3. Basics](image/Numeric_06.JPG)"
   ]
  },
  {
   "cell_type": "markdown",
   "metadata": {},
   "source": [
    "----------------------"
   ]
  },
  {
   "cell_type": "markdown",
   "metadata": {},
   "source": [
    "- **OneHot Encoding** creates a **new column** for **each category, each variable, and each item, 1** if the value of the category variables is **that item**, and **0 if not.**"
   ]
  },
  {
   "cell_type": "markdown",
   "metadata": {},
   "source": [
    "![3. Basics](image/1.JPG)"
   ]
  },
  {
   "cell_type": "code",
   "execution_count": null,
   "metadata": {},
   "outputs": [],
   "source": []
  }
 ],
 "metadata": {
  "kernelspec": {
   "display_name": "Python 3",
   "language": "python",
   "name": "python3"
  },
  "language_info": {
   "codemirror_mode": {
    "name": "ipython",
    "version": 3
   },
   "file_extension": ".py",
   "mimetype": "text/x-python",
   "name": "python",
   "nbconvert_exporter": "python",
   "pygments_lexer": "ipython3",
   "version": "3.7.3"
  }
 },
 "nbformat": 4,
 "nbformat_minor": 2
}
