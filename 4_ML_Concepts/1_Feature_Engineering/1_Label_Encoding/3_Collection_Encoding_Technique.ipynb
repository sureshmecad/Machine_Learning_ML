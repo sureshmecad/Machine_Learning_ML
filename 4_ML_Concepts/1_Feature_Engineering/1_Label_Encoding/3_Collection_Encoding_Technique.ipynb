{
 "cells": [
  {
   "cell_type": "markdown",
   "metadata": {},
   "source": [
    "https://www.geeksforgeeks.org/feature-encoding-techniques-machine-learning/"
   ]
  },
  {
   "cell_type": "markdown",
   "metadata": {},
   "source": [
    "## 1. Binary\n",
    "- {'Male':1, 'Female':0}\n",
    "\n",
    "\n",
    "- {'Yes':1, 'No':0}"
   ]
  },
  {
   "cell_type": "code",
   "execution_count": null,
   "metadata": {},
   "outputs": [],
   "source": [
    "train.Gender = train.Gender.map({'Male':1, 'Female':0})\n",
    "test.Gender = test.Gender.map({'Male':1, 'Female':0})"
   ]
  },
  {
   "cell_type": "code",
   "execution_count": null,
   "metadata": {},
   "outputs": [],
   "source": [
    "train.Married = train.Married.map({'Yes':1, 'No':0})\n",
    "test.Married = test.Married.map({'Yes':1, 'No':0})"
   ]
  },
  {
   "cell_type": "code",
   "execution_count": null,
   "metadata": {},
   "outputs": [],
   "source": [
    "train.Education = train.Education.map({'Graduate':1, 'Not Graduate':0})\n",
    "test.Education = test.Education.map({'Graduate':1, 'Not Graduate':0})"
   ]
  },
  {
   "cell_type": "code",
   "execution_count": null,
   "metadata": {},
   "outputs": [],
   "source": [
    "train.Self_Employed = train.Self_Employed.map({'Yes':1, 'No':0})\n",
    "test.Self_Employed = test.Self_Employed.map({'Yes':1, 'No':0})"
   ]
  },
  {
   "cell_type": "markdown",
   "metadata": {},
   "source": [
    "## 2. Nominal Data\n",
    "- Columns containing names of **cities** in India **(eg. Mumbai, Delhi, Banglore, etc).** Such data **don’t have intrinsic ordering**"
   ]
  },
  {
   "cell_type": "markdown",
   "metadata": {},
   "source": [
    "![Label Encoding](image/11.JPG)"
   ]
  },
  {
   "cell_type": "markdown",
   "metadata": {},
   "source": [
    "- Here we have **16 unique labels**. And **there is no ordering** so it is a **nominal category**."
   ]
  },
  {
   "cell_type": "code",
   "execution_count": null,
   "metadata": {},
   "outputs": [],
   "source": [
    "# Check last variable and do the encoding\n",
    "cat_data['Outlet_Type'].value_counts()\n",
    "\n",
    "Supermarket Type1    5577\n",
    "Grocery Store        1083\n",
    "Supermarket Type3     935\n",
    "Supermarket Type2     928\n",
    "Name: Outlet_Type, dtype: int64"
   ]
  },
  {
   "cell_type": "markdown",
   "metadata": {},
   "source": [
    "- The labels here are **nominal**. It will be better to use **nominal encoding**. We have **only 4 labels** we can **try one hot encoding or binary encoding as well**."
   ]
  },
  {
   "cell_type": "markdown",
   "metadata": {},
   "source": [
    "----------"
   ]
  },
  {
   "cell_type": "code",
   "execution_count": null,
   "metadata": {},
   "outputs": [],
   "source": [
    "### We have seen that \"make\" have 22 categories of cars\n",
    "\n",
    "df['make'].unique()\n",
    "\n",
    "array(['alfa-romero', 'audi', 'bmw', 'chevrolet', 'dodge', 'honda',\n",
    "       'isuzu', 'jaguar', 'mazda', 'mercedes-benz', 'mercury',\n",
    "       'mitsubishi', 'nissan', 'peugot', 'plymouth', 'porsche', 'renault',\n",
    "       'saab', 'subaru', 'toyota', 'volkswagen', 'volvo'], dtype=object)\n",
    "\n",
    "--------------------------------------------------------------------------------------\n",
    "\n",
    "df['make'].value_counts()\n",
    "\n",
    "toyota           32\n",
    "nissan           18\n",
    "mazda            17\n",
    "honda            13\n",
    "mitsubishi       13\n",
    "volkswagen       12\n",
    "subaru           12\n",
    "volvo            11\n",
    "peugot           11\n",
    "dodge             9\n",
    "bmw               8\n",
    "mercedes-benz     8\n",
    "audi              7\n",
    "plymouth          7\n",
    "saab              6\n",
    "porsche           5\n",
    "isuzu             4\n",
    "alfa-romero       3\n",
    "chevrolet         3\n",
    "jaguar            3\n",
    "renault           2\n",
    "mercury           1\n",
    "Name: make, dtype: int64\n",
    "        \n",
    "-------------------------------------------------------------------------------------\n",
    "\n",
    "# check unique values in 'make' column\n",
    "df['make'].nunique()\n",
    "\n",
    "22"
   ]
  },
  {
   "cell_type": "markdown",
   "metadata": {},
   "source": [
    "- If we do **one hot encoding** here we will have n-1 i.e 21 new features.\n",
    "\n",
    "\n",
    "- Now suppose if we have **100 unique values in a column** then if we do **one hot encoding we will have 100 - 1 i.e 99 features**.\n",
    "\n",
    "\n",
    "- To **overcome this problem** we can **use Binary encoding**. If we apply **binary encoding on column with 100 unique values** we will still have **only 7 new features**.\n",
    "\n",
    "\n",
    "- If there are **n unique categories**, then **binary encoding** results in the **only log(base 2)ⁿ features**. "
   ]
  },
  {
   "cell_type": "code",
   "execution_count": null,
   "metadata": {},
   "outputs": [],
   "source": [
    "# apply binary encoding on 'make'\n",
    "\n",
    "import category_encoders as ce\n",
    "encoder = ce.BinaryEncoder()\n",
    "b_encoder = encoder.fit_transform(obj_df['make'])\n",
    "b_encoder.head()"
   ]
  },
  {
   "cell_type": "markdown",
   "metadata": {},
   "source": [
    "### Binary Encoding"
   ]
  },
  {
   "cell_type": "raw",
   "metadata": {},
   "source": [
    "### create 1 more column occupation here\n",
    "df['occupation'] = ['Self-employeed','Freelancer','Family-business','Data-scientist','Pensioner','Manager','Daily-wage-worker']\n",
    "print(df['occupation'])\n",
    "\n",
    "0       Self-employeed\n",
    "1           Freelancer\n",
    "2      Family-business\n",
    "3       Data-scientist\n",
    "4            Pensioner\n",
    "5              Manager\n",
    "6    Daily-wage-worker\n",
    "Name: occupation, dtype: object\n",
    "\n",
    "\n",
    "- We have seven different categories here. And we don't have any ordering in them as well.\n",
    "\n",
    "\n",
    "### we will use BinaryEncoder from category_encoders library to do binary encoding\n",
    "import category_encoders as ce\n",
    "encoder = ce.BinaryEncoder(cols = ['occupation'])\n",
    "df_binary = encoder.fit_transform(df)\n",
    "print(df_binary)\n",
    "\n",
    "\n",
    "     country  Age  Salary Purchased  country_temp  occupation_0  occupation_1  \\\n",
    "0      India   44   72000       yes             1             0             0   \n",
    "1        U.S   34   44000        no             2             0             0   \n",
    "2  Australia   28   35000       yes             0             0             0   \n",
    "3      India   27   27000       yes             1             0             1   \n",
    "4  Australia   30   32000        no             0             0             1   \n",
    "5      India   42   56000       yes             1             0             1   \n",
    "6        U.S   25   45000        no             2             0             1   \n",
    "\n",
    "   occupation_2  occupation_3  \n",
    "0             0             1  \n",
    "1             1             0  \n",
    "2             1             1  \n",
    "3             0             0  \n",
    "4             0             1  \n",
    "5             1             0  \n",
    "6             1             1  "
   ]
  },
  {
   "cell_type": "markdown",
   "metadata": {},
   "source": [
    "---------------------"
   ]
  },
  {
   "cell_type": "markdown",
   "metadata": {},
   "source": [
    "## 3. Ordinal Data\n",
    "- Size of Clothes **(eg. Large, Medium, Small, etc.).** Such data have an **intrinsic order**\n",
    "\n",
    "\n",
    "- as per the order of data (Pandas assigned Hot (0), Cold (1), “Very Hot” (2) and Warm (3)) or\n",
    "- as per alphabetical sorted order (scikit-learn assigned Cold(0), Hot(1), “Very Hot” (2) and Warm (3)).\n",
    "- If we consider in the temperature scale as the order, then the ordinal value should from cold to “Very Hot. “ Ordinal encoding will assign values as ( Cold(1) <Warm(2)<Hot(3)<”Very Hot(4)). Usually, we Ordinal Encoding is done starting from 1."
   ]
  },
  {
   "cell_type": "code",
   "execution_count": null,
   "metadata": {},
   "outputs": [],
   "source": [
    "data['ord_2'].value_counts()\n",
    "\n",
    "Freezing       160801\n",
    "Warm           124239\n",
    "Cold            97822\n",
    "Boiling Hot     84790\n",
    "Hot             67508\n",
    "Lava Hot        64840\n",
    "Name: ord_2, dtype: int64\n",
    "        \n",
    "        \n",
    "data['ord_2'] = data['ord_2'].map({'Freezing':1, 'Cold':2, 'Warm':3, 'Hot':4, 'Boiling Hot':5, 'Lava Hot':6})        "
   ]
  },
  {
   "cell_type": "code",
   "execution_count": null,
   "metadata": {},
   "outputs": [],
   "source": [
    "train.Property_Area = train.Property_Area.map({'Rural':0, 'Semiurban':1, 'Urban':2})\n",
    "test.Property_Area = test.Property_Area.map({'Rural':0, 'Semiurban':1, 'Urban':2})"
   ]
  },
  {
   "cell_type": "code",
   "execution_count": null,
   "metadata": {},
   "outputs": [],
   "source": [
    "cat_data['Outlet_Size'] = cat_data['Outlet_Size'].map({\"Small\" : 0, \"Medium\" : 1, \"High\" : 2, \"Others\" : 3})"
   ]
  },
  {
   "cell_type": "markdown",
   "metadata": {},
   "source": [
    "----------"
   ]
  },
  {
   "cell_type": "markdown",
   "metadata": {},
   "source": [
    "### Tier 1, Teir 2 and Teir 3  --->   Label Encoding (or) map the values\n",
    "\n",
    "Here **Tier 1, Teir 2 and Teir 3** are **ordinal variables**. We can use **Label Encoding or map the values**.\n",
    "* Tier 3-----> 0\n",
    "* Tier 2 -----> 1\n",
    "* Tier 1-----> 2"
   ]
  },
  {
   "cell_type": "code",
   "execution_count": null,
   "metadata": {},
   "outputs": [],
   "source": [
    "cat_data['Outlet_Location_Type'] = cat_data['Outlet_Location_Type'].map({\"Tier 3\" : 1, \"Tier 2\" : 2, \"Tier 1\" : 3})"
   ]
  },
  {
   "cell_type": "markdown",
   "metadata": {},
   "source": [
    "----------"
   ]
  },
  {
   "cell_type": "markdown",
   "metadata": {},
   "source": [
    "- In our dataset we have **feature column num_cylinders (Number of cylinders)** . It is a **ordinal variable**, let's **apply label encoding** on it and see if we can improve our accuracy."
   ]
  },
  {
   "cell_type": "code",
   "execution_count": null,
   "metadata": {},
   "outputs": [],
   "source": [
    "df.num_cylinders.unique()\n",
    "\n",
    "array(['four', 'six', 'five', 'three', 'twelve', 'two', 'eight'],\n",
    "      dtype=object)\n",
    "\n",
    "--------------------------------------------------------------------------\n",
    "\n",
    "df.num_cylinders.value_counts()\n",
    "\n",
    "four      159\n",
    "six        24\n",
    "five       11\n",
    "eight       5\n",
    "two         4\n",
    "three       1\n",
    "twelve      1\n",
    "Name: num_cylinders, dtype: int64\n",
    "        \n",
    "-------------------------------------------------------------------------        \n",
    "        \n",
    "# apply label encoding on num_cylinders\n",
    "from sklearn.preprocessing import LabelEncoder\n",
    "le = LabelEncoder()\n",
    "label = le.fit_transform(obj_df['num_cylinders'])"
   ]
  },
  {
   "cell_type": "markdown",
   "metadata": {},
   "source": [
    "--------"
   ]
  },
  {
   "cell_type": "markdown",
   "metadata": {},
   "source": [
    "## 1) Label Encoder Vs Map"
   ]
  },
  {
   "cell_type": "markdown",
   "metadata": {},
   "source": [
    "### Label Encoder"
   ]
  },
  {
   "cell_type": "code",
   "execution_count": null,
   "metadata": {},
   "outputs": [],
   "source": [
    "# apply LabelEncoder\n",
    "le = LabelEncoder()\n",
    "c_en = le.fit_transform(catg_col['classification'])\n",
    "print(c_en[ :10])\n",
    "list(catg_col['classification'].head(10))\n",
    "\n",
    "[0 0 0 0 0 0 0 0 0 0]\n",
    "['ckd', 'ckd', 'ckd', 'ckd', 'ckd', 'ckd', 'ckd', 'ckd', 'ckd', 'ckd']"
   ]
  },
  {
   "cell_type": "markdown",
   "metadata": {},
   "source": [
    "As expected we know that **LabelEncoding** assigns the **ranks alphabatically**. We wanted to assign **ckd as 1** because they are **confirmed cases with chronic kidney dieseas and notckd as 0**. "
   ]
  },
  {
   "cell_type": "markdown",
   "metadata": {},
   "source": [
    "### Encode using map"
   ]
  },
  {
   "cell_type": "code",
   "execution_count": null,
   "metadata": {},
   "outputs": [],
   "source": [
    "# make a dictionary\n",
    "class_en = {'ckd' : 1, 'notckd' : 0}\n",
    "catg_col['classification_en'] = catg_col['classification'].map(class_en)\n",
    "catg_col['classification_en'].head(10)\n",
    "\n",
    "0    1\n",
    "1    1\n",
    "2    1\n",
    "3    1\n",
    "4    1\n",
    "5    1\n",
    "6    1\n",
    "7    1\n",
    "8    1\n",
    "9    1\n",
    "Name: classification_en, dtype: int64"
   ]
  },
  {
   "cell_type": "markdown",
   "metadata": {},
   "source": [
    "---------"
   ]
  },
  {
   "cell_type": "markdown",
   "metadata": {},
   "source": [
    "<h2 style=\"color:blue\" align=\"left\"> Google Colab </h2>"
   ]
  },
  {
   "cell_type": "markdown",
   "metadata": {},
   "source": [
    "- Settings:\n",
    "\n",
    "    Edit --->  Notebook Settings   ---->  GPU"
   ]
  },
  {
   "cell_type": "markdown",
   "metadata": {},
   "source": [
    "### This command you can use if the csv is in your local system"
   ]
  },
  {
   "cell_type": "code",
   "execution_count": null,
   "metadata": {},
   "outputs": [],
   "source": [
    "from google.colab import files\n",
    "uploaded = files.upload()"
   ]
  },
  {
   "cell_type": "markdown",
   "metadata": {},
   "source": [
    "### Use this with drive"
   ]
  },
  {
   "cell_type": "code",
   "execution_count": null,
   "metadata": {},
   "outputs": [],
   "source": [
    "from google.colab import drive\n",
    "drive.mount('/content/drive')"
   ]
  },
  {
   "cell_type": "code",
   "execution_count": null,
   "metadata": {},
   "outputs": [],
   "source": [
    "df = pd.read_csv('gdrive/My Drive/encoding.csv')"
   ]
  }
 ],
 "metadata": {
  "kernelspec": {
   "display_name": "Python 3",
   "language": "python",
   "name": "python3"
  },
  "language_info": {
   "codemirror_mode": {
    "name": "ipython",
    "version": 3
   },
   "file_extension": ".py",
   "mimetype": "text/x-python",
   "name": "python",
   "nbconvert_exporter": "python",
   "pygments_lexer": "ipython3",
   "version": "3.7.3"
  }
 },
 "nbformat": 4,
 "nbformat_minor": 2
}
