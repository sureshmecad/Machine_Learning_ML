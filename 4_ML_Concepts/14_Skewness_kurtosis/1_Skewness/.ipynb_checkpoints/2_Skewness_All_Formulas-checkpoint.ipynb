{
 "cells": [
  {
   "cell_type": "code",
   "execution_count": null,
   "metadata": {},
   "outputs": [],
   "source": [
    "from scipy.stats import skew, skewtest, norm\n",
    "from scipy.stats import kurtosis"
   ]
  },
  {
   "cell_type": "markdown",
   "metadata": {},
   "source": [
    "## Skewness is of two types:\n",
    "\n",
    "\n",
    "- **Positive skewness:** When the tail on the right side of the distribution is longer or fatter, we say the data is positively \n",
    "  skewed. For a positive skewness **mean > median > mode**.\n",
    "\n",
    "\n",
    "     1. log Transformation\n",
    "     2. Root Transfomation\n",
    "        a. Square root Transfomation\n",
    "        b. Cube root Transfomation\n",
    "     3. Reciprocals Transformation\n",
    "     \n",
    "- **Negative skewness:** When the tail on the left side of the distribution is longer or fatter, we say that the distribution \n",
    "  is negatively skewed. For a negative skewness **mean < median < mode**.\n",
    "\n",
    "     1. Squares Transformation\n",
    "     2. Cubes Transformation\n",
    "     3. Higher powers"
   ]
  },
  {
   "cell_type": "markdown",
   "metadata": {},
   "source": [
    "  The thumb rule is:\n",
    "  \n",
    "  * If the **skewness** is **between -0.5 to +0.5** then we can say data is **fairly symmetrical**.\n",
    "  \n",
    "  * If the **skewness** is **between -1 to -0.5 or 0.5 to 1** then data is **moderately skewed**.\n",
    "  \n",
    "  * If the **skewness** is **less than -1 and greater than +1** then our data is **heavily skewed**."
   ]
  },
  {
   "cell_type": "markdown",
   "metadata": {},
   "source": [
    "### Positive skewness"
   ]
  },
  {
   "cell_type": "markdown",
   "metadata": {},
   "source": [
    "#### 1. Log"
   ]
  },
  {
   "cell_type": "code",
   "execution_count": null,
   "metadata": {},
   "outputs": [],
   "source": [
    "# performing the log transformation using numpy\n",
    "log_mileage = np.log(data['mileage'])\n",
    "log_mileage"
   ]
  },
  {
   "cell_type": "code",
   "execution_count": null,
   "metadata": {},
   "outputs": [],
   "source": [
    "# checking the skewness after the log-transformation\n",
    "log_mileage.skew()"
   ]
  },
  {
   "cell_type": "code",
   "execution_count": null,
   "metadata": {},
   "outputs": [],
   "source": [
    "# visualising by density plot\n",
    "sns.distplot(sqrt_mileage, hist = True)"
   ]
  },
  {
   "cell_type": "markdown",
   "metadata": {},
   "source": [
    "#### 2. Root Transformation\n",
    "- 2.1 Square root Transfomation\n",
    "- 2.2 cube root Transformation"
   ]
  },
  {
   "cell_type": "code",
   "execution_count": null,
   "metadata": {},
   "outputs": [],
   "source": [
    "# calculating the square root for data['mileage'] column\n",
    "sqrt_mileage = np.sqrt(data['mileage'])\n",
    "sqrt_mileage"
   ]
  },
  {
   "cell_type": "code",
   "execution_count": null,
   "metadata": {},
   "outputs": [],
   "source": [
    "# calculation skewness after calculating the square root & we can observe change in the value of skewness\n",
    "sqrt_mileage.skew()"
   ]
  },
  {
   "cell_type": "code",
   "execution_count": null,
   "metadata": {},
   "outputs": [],
   "source": [
    "# calculating the cube root for the column data['mileage'] column\n",
    "cube_root_mileage = np.cbrt(data['mileage'])\n",
    "cube_root_mileage"
   ]
  },
  {
   "cell_type": "code",
   "execution_count": null,
   "metadata": {},
   "outputs": [],
   "source": [
    "# calculation skewness after calculating the cube root \n",
    "cube_root_mileage.skew()"
   ]
  },
  {
   "cell_type": "markdown",
   "metadata": {},
   "source": [
    "#### 3. reciprocals Transformation"
   ]
  },
  {
   "cell_type": "code",
   "execution_count": null,
   "metadata": {},
   "outputs": [],
   "source": [
    "# calculating the reciprocal for the column data['mileage'] column\n",
    "recipr_mileage = np.reciprocal(data['mileage'])\n",
    "recipr_mileage"
   ]
  },
  {
   "cell_type": "code",
   "execution_count": null,
   "metadata": {},
   "outputs": [],
   "source": [
    "recipr_mileage.skew()"
   ]
  },
  {
   "cell_type": "markdown",
   "metadata": {},
   "source": [
    "### 4. Box cox Transformation"
   ]
  },
  {
   "cell_type": "markdown",
   "metadata": {},
   "source": [
    "- your **data must be positive(Works only for positive skewness)** and **Not** even If the feature has **0**\n",
    "\n",
    "\n",
    "- **Box cox transformation** totally works on **Lambda**\n",
    "\n",
    "\n",
    "- You can import it from the Scipy library, but the check for the skew you’ll need to convert the resulting Numpy array to a Pandas Series:"
   ]
  },
  {
   "cell_type": "raw",
   "metadata": {},
   "source": [
    "from scipy import stats\n",
    "\n",
    "crim_boxcox = stats.boxcox(df['CRIM'])[0]\n",
    "pd.Series(crim_boxcox).skew()\n",
    "\n",
    "# plotting the density and histogram plot\n",
    "sns.distplot(crim_boxcox, hist=True)\n",
    "\n",
    "--------------------------------------------------------------------------------------\n",
    "\n",
    "import scipy.stats as st\n",
    "from scipy.stats import skew, skewtest, norm\n",
    "Box_cox = st.boxcox(train['LoanAmount'], lmbda=0)\n",
    "sns.distplot(Box_cox, fit=norm, color=\"r\")\n",
    "print(\"Skew after box cox transformation: %f\" % skew(Box_cox))"
   ]
  },
  {
   "cell_type": "markdown",
   "metadata": {},
   "source": [
    "### Negative skewness"
   ]
  },
  {
   "cell_type": "markdown",
   "metadata": {},
   "source": [
    "#### 1. Squares Transformation"
   ]
  },
  {
   "cell_type": "code",
   "execution_count": null,
   "metadata": {},
   "outputs": [],
   "source": [
    "# calculating the square for the column df['Marks'] column\n",
    "Square_marks = np.square(df['Marks'])\n",
    "Square_marks"
   ]
  },
  {
   "cell_type": "code",
   "execution_count": null,
   "metadata": {},
   "outputs": [],
   "source": [
    "# checking the skewness\n",
    "Square_marks.skew()"
   ]
  },
  {
   "cell_type": "code",
   "execution_count": null,
   "metadata": {},
   "outputs": [],
   "source": [
    "# plotting the density and histogram plot\n",
    "sns.distplot(Square_marks, hist=True)"
   ]
  },
  {
   "cell_type": "markdown",
   "metadata": {},
   "source": [
    "#### 2. Cubes Tranformation"
   ]
  },
  {
   "cell_type": "code",
   "execution_count": null,
   "metadata": {},
   "outputs": [],
   "source": [
    "# calculating the Cubes for the column df['Marks'] column\n",
    "cube_marks = np.power(df['Marks'], 3)\n",
    "cube_marks"
   ]
  },
  {
   "cell_type": "code",
   "execution_count": null,
   "metadata": {},
   "outputs": [],
   "source": [
    "# calculating the skewness\n",
    "cube_marks.skew()"
   ]
  },
  {
   "cell_type": "code",
   "execution_count": null,
   "metadata": {},
   "outputs": [],
   "source": [
    "# plotting the density and histogram plot\n",
    "sns.distplot(cube_marks, hist= True)"
   ]
  },
  {
   "cell_type": "markdown",
   "metadata": {},
   "source": [
    "#### 3. higher powers"
   ]
  },
  {
   "cell_type": "code",
   "execution_count": null,
   "metadata": {},
   "outputs": [],
   "source": [
    "# calculating the Higher power(power = 4) for the column df['Marks'] column\n",
    "higher_power_4 = np.power(df['Marks'], 4)\n",
    "higher_power_4"
   ]
  },
  {
   "cell_type": "code",
   "execution_count": null,
   "metadata": {},
   "outputs": [],
   "source": [
    "# calculating the skewness\n",
    "higher_power_4.skew()"
   ]
  },
  {
   "cell_type": "code",
   "execution_count": null,
   "metadata": {},
   "outputs": [],
   "source": [
    "# plotting the density and histogram\n",
    "sns.distplot(higher_power_4, hist = True)"
   ]
  },
  {
   "cell_type": "code",
   "execution_count": null,
   "metadata": {},
   "outputs": [],
   "source": [
    "# applying the higher power(power = 5) and calculating the skewness\n",
    "higher_power_5 = np.power(df['Marks'], 5)\n",
    "higher_power_5.skew()"
   ]
  },
  {
   "cell_type": "code",
   "execution_count": null,
   "metadata": {},
   "outputs": [],
   "source": [
    "# applying the higher power(power = 5) and calculating the skewness\n",
    "higher_power_6 = np.power(df['Marks'], 6)\n",
    "higher_power_6.skew()"
   ]
  }
 ],
 "metadata": {
  "kernelspec": {
   "display_name": "Python 3",
   "language": "python",
   "name": "python3"
  },
  "language_info": {
   "codemirror_mode": {
    "name": "ipython",
    "version": 3
   },
   "file_extension": ".py",
   "mimetype": "text/x-python",
   "name": "python",
   "nbconvert_exporter": "python",
   "pygments_lexer": "ipython3",
   "version": "3.7.3"
  }
 },
 "nbformat": 4,
 "nbformat_minor": 2
}
