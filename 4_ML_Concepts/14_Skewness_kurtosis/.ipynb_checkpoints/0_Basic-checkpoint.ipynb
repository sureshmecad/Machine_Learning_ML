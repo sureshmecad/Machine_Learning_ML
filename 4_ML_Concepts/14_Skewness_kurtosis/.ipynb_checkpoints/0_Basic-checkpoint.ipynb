{
 "cells": [
  {
   "cell_type": "markdown",
   "metadata": {},
   "source": [
    "## Skewness is of two types:\n",
    "\n",
    "\n",
    "- **Positive skewness:** When the tail on the right side of the distribution is longer or fatter, we say the data is positively \n",
    "  skewed. For a positive skewness **mean > median > mode**.\n",
    "\n",
    "\n",
    "     1. log Transformation\n",
    "     2. Root Transfomation\n",
    "        a. Square root Transfomation\n",
    "        b. Cube root Transfomation\n",
    "     3. Reciprocals Transformation\n",
    "     \n",
    "- **Negative skewness:** When the tail on the left side of the distribution is longer or fatter, we say that the distribution \n",
    "  is negatively skewed. For a negative skewness **mean < median < mode**.\n",
    "\n",
    "     1. Squares Transformation\n",
    "     2. Cubes Transformation\n",
    "     3. Higher powers"
   ]
  },
  {
   "cell_type": "code",
   "execution_count": null,
   "metadata": {},
   "outputs": [],
   "source": []
  }
 ],
 "metadata": {
  "kernelspec": {
   "display_name": "Python 3",
   "language": "python",
   "name": "python3"
  },
  "language_info": {
   "codemirror_mode": {
    "name": "ipython",
    "version": 3
   },
   "file_extension": ".py",
   "mimetype": "text/x-python",
   "name": "python",
   "nbconvert_exporter": "python",
   "pygments_lexer": "ipython3",
   "version": "3.7.3"
  }
 },
 "nbformat": 4,
 "nbformat_minor": 2
}
