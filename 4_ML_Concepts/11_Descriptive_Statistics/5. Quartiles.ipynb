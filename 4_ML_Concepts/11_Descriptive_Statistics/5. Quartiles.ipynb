{
 "cells": [
  {
   "cell_type": "markdown",
   "metadata": {},
   "source": [
    "### Quartiles\n",
    "### Percentiles\n",
    "### Deciles"
   ]
  },
  {
   "cell_type": "markdown",
   "metadata": {},
   "source": [
    "![15. Descriptive Statistics](image/10.JPG)\n",
    "![15. Descriptive Statistics](image/11.JPG)\n",
    "![15. Descriptive Statistics](image/12.JPG)\n",
    "![15. Descriptive Statistics](image/13.JPG)\n",
    "![15. Descriptive Statistics](image/14.JPG)"
   ]
  }
 ],
 "metadata": {
  "kernelspec": {
   "display_name": "Python 3",
   "language": "python",
   "name": "python3"
  },
  "language_info": {
   "codemirror_mode": {
    "name": "ipython",
    "version": 3
   },
   "file_extension": ".py",
   "mimetype": "text/x-python",
   "name": "python",
   "nbconvert_exporter": "python",
   "pygments_lexer": "ipython3",
   "version": "3.7.3"
  }
 },
 "nbformat": 4,
 "nbformat_minor": 2
}
