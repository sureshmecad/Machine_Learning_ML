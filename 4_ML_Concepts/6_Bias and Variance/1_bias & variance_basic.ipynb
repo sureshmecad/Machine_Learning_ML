{
 "cells": [
  {
   "cell_type": "markdown",
   "metadata": {},
   "source": [
    "<h1 style=color:blue align=\"center\"> Bias and Variance </h1>"
   ]
  },
  {
   "cell_type": "markdown",
   "metadata": {},
   "source": [
    "### Bias Error : (High Bias Under-fitting)\n",
    "- Bias is average of **difference between predicted and Actual result.** High Bias means We are getting **low performance.**\n",
    "\n",
    "\n",
    "- **Bias** = Actual value - Predicted Value\n",
    "\n",
    "\n",
    "- **High Bias**: Predicted values are too far with actual values\n",
    "\n",
    "\n",
    "- **Low Bias**: Predicted values are little far with actual values"
   ]
  },
  {
   "cell_type": "markdown",
   "metadata": {},
   "source": [
    "### Variance Error : (High Variance over-fitting)\n",
    "- **Variance** = Predicted values, how much scattered they are in relation with each other\n",
    "\n",
    "\n",
    "- **High Variance**: too far scattered in relation with each other\n",
    "\n",
    "\n",
    "- **Low Variance**: little far scattered in relation with each other"
   ]
  },
  {
   "cell_type": "markdown",
   "metadata": {},
   "source": [
    "-----------------------"
   ]
  },
  {
   "cell_type": "markdown",
   "metadata": {},
   "source": [
    "![9. Bias and Variance](image/1.JPG)"
   ]
  },
  {
   "cell_type": "markdown",
   "metadata": {},
   "source": [
    "![9. Bias and Variance](image/2.JPG)"
   ]
  },
  {
   "cell_type": "markdown",
   "metadata": {},
   "source": [
    "![9. Bias and Variance](image/3.JPG)"
   ]
  },
  {
   "cell_type": "markdown",
   "metadata": {},
   "source": [
    "- **Bagging** : Ensemble meta Algorithm for **Reducing variance**\n",
    "\n",
    "\n",
    "- **Boosting** : Ensemble meta Algorithm for **Reducing bias**"
   ]
  },
  {
   "cell_type": "markdown",
   "metadata": {},
   "source": [
    "- Examples of **low-bias & high-variance** machine learning algorithms include:\n",
    "   \n",
    " - Decision Trees\n",
    "\n",
    " - k-Nearest Neighbors\n",
    "\n",
    " - Support Vector Machines\n",
    " \n",
    "\n",
    "- Examples of **high-bias & low-variance** machine learning algorithms include:\n",
    "   \n",
    " - Linear Regression\n",
    "\n",
    " - Linear Discriminant Analysis\n",
    "\n",
    " - Logistic Regression.\n",
    " \n",
    "\n",
    "- Examples of **low-bias & low-variance** machine learning algorithms include:\n",
    "   \n",
    " - Random Forest "
   ]
  },
  {
   "cell_type": "markdown",
   "metadata": {},
   "source": [
    "### Bias-Variance Trade-Off\n",
    "- The goal of any supervised machine learning algorithm is to achieve low bias and low variance. In turn the algorithm should achieve good prediction performance.\n",
    "\n",
    "You can see a general trend in the examples above:\n",
    "\n",
    "- **Linear** machine learning algorithms often have a high bias but a low variance.\n",
    "\n",
    "\n",
    "- **Nonlinear** machine learning algorithms often have a low bias but a high variance.\n",
    "\n",
    "The parameterization of machine learning algorithms is often a battle to balance out bias and variance.\n",
    "\n",
    "Below are two examples of configuring the bias-variance trade-off for specific algorithms:\n",
    "\n",
    "- The k-nearest neighbors algorithm has low bias and high variance, but the trade-off can be changed by increasing the value of k which increases the number of neighbors that contribute t the prediction and in turn increases the bias of the model.\n",
    "\n",
    "\n",
    "- The support vector machine algorithm has low bias and high variance, but the trade-off can be changed by increasing the C parameter that influences the number of violations of the margin allowed in the training data which increases the bias but decreases the variance.\n",
    "\n",
    "There is no escaping the relationship between bias and variance in machine learning.\n",
    "\n",
    "- Increasing the bias will decrease the variance.\n",
    "\n",
    "\n",
    "- Increasing the variance will decrease the bias."
   ]
  },
  {
   "cell_type": "markdown",
   "metadata": {},
   "source": [
    "--------------------"
   ]
  },
  {
   "cell_type": "markdown",
   "metadata": {},
   "source": [
    "### Reference:\n",
    "\n",
    "https://www.youtube.com/watch?v=BqzgUnrNhFM&ab_channel=KrishNaik\n",
    "\n",
    "https://www.youtube.com/watch?v=L8h2CHh5KJ4&ab_channel=5MinutesEngineering --- Nicely explained"
   ]
  }
 ],
 "metadata": {
  "kernelspec": {
   "display_name": "Python 3",
   "language": "python",
   "name": "python3"
  },
  "language_info": {
   "codemirror_mode": {
    "name": "ipython",
    "version": 3
   },
   "file_extension": ".py",
   "mimetype": "text/x-python",
   "name": "python",
   "nbconvert_exporter": "python",
   "pygments_lexer": "ipython3",
   "version": "3.7.3"
  }
 },
 "nbformat": 4,
 "nbformat_minor": 2
}
