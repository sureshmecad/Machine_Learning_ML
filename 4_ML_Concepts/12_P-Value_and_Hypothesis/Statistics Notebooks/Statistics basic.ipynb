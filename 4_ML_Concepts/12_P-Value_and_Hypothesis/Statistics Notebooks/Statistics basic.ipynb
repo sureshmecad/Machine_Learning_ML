{
 "cells": [
  {
   "cell_type": "markdown",
   "metadata": {},
   "source": [
    "# Statistics"
   ]
  },
  {
   "cell_type": "markdown",
   "metadata": {},
   "source": [
    "# Inferential and Descriptive"
   ]
  },
  {
   "cell_type": "markdown",
   "metadata": {},
   "source": [
    "# Population and Sample"
   ]
  },
  {
   "cell_type": "markdown",
   "metadata": {},
   "source": [
    "## Descriptive Statistics"
   ]
  },
  {
   "cell_type": "code",
   "execution_count": 1,
   "metadata": {},
   "outputs": [],
   "source": [
    "import pandas as pd"
   ]
  },
  {
   "cell_type": "code",
   "execution_count": 2,
   "metadata": {},
   "outputs": [
    {
     "data": {
      "text/html": [
       "<div>\n",
       "<style scoped>\n",
       "    .dataframe tbody tr th:only-of-type {\n",
       "        vertical-align: middle;\n",
       "    }\n",
       "\n",
       "    .dataframe tbody tr th {\n",
       "        vertical-align: top;\n",
       "    }\n",
       "\n",
       "    .dataframe thead th {\n",
       "        text-align: right;\n",
       "    }\n",
       "</style>\n",
       "<table border=\"1\" class=\"dataframe\">\n",
       "  <thead>\n",
       "    <tr style=\"text-align: right;\">\n",
       "      <th></th>\n",
       "      <th>Heights</th>\n",
       "      <th>Gender</th>\n",
       "    </tr>\n",
       "  </thead>\n",
       "  <tbody>\n",
       "    <tr>\n",
       "      <th>0</th>\n",
       "      <td>160.377337</td>\n",
       "      <td>Male</td>\n",
       "    </tr>\n",
       "    <tr>\n",
       "      <th>1</th>\n",
       "      <td>177.637818</td>\n",
       "      <td>Male</td>\n",
       "    </tr>\n",
       "  </tbody>\n",
       "</table>\n",
       "</div>"
      ],
      "text/plain": [
       "      Heights Gender\n",
       "0  160.377337   Male\n",
       "1  177.637818   Male"
      ]
     },
     "execution_count": 2,
     "metadata": {},
     "output_type": "execute_result"
    }
   ],
   "source": [
    "data=pd.read_csv('dataSetofHeights.csv')\n",
    "data.head(2)"
   ]
  },
  {
   "cell_type": "code",
   "execution_count": 3,
   "metadata": {},
   "outputs": [
    {
     "data": {
      "text/html": [
       "<div>\n",
       "<style scoped>\n",
       "    .dataframe tbody tr th:only-of-type {\n",
       "        vertical-align: middle;\n",
       "    }\n",
       "\n",
       "    .dataframe tbody tr th {\n",
       "        vertical-align: top;\n",
       "    }\n",
       "\n",
       "    .dataframe thead th {\n",
       "        text-align: right;\n",
       "    }\n",
       "</style>\n",
       "<table border=\"1\" class=\"dataframe\">\n",
       "  <thead>\n",
       "    <tr style=\"text-align: right;\">\n",
       "      <th></th>\n",
       "      <th>Heights</th>\n",
       "    </tr>\n",
       "  </thead>\n",
       "  <tbody>\n",
       "    <tr>\n",
       "      <th>count</th>\n",
       "      <td>1000.000000</td>\n",
       "    </tr>\n",
       "    <tr>\n",
       "      <th>mean</th>\n",
       "      <td>168.306355</td>\n",
       "    </tr>\n",
       "    <tr>\n",
       "      <th>std</th>\n",
       "      <td>9.812907</td>\n",
       "    </tr>\n",
       "    <tr>\n",
       "      <th>min</th>\n",
       "      <td>143.501854</td>\n",
       "    </tr>\n",
       "    <tr>\n",
       "      <th>25%</th>\n",
       "      <td>160.946318</td>\n",
       "    </tr>\n",
       "    <tr>\n",
       "      <th>50%</th>\n",
       "      <td>168.019906</td>\n",
       "    </tr>\n",
       "    <tr>\n",
       "      <th>75%</th>\n",
       "      <td>175.859809</td>\n",
       "    </tr>\n",
       "    <tr>\n",
       "      <th>max</th>\n",
       "      <td>197.707840</td>\n",
       "    </tr>\n",
       "  </tbody>\n",
       "</table>\n",
       "</div>"
      ],
      "text/plain": [
       "           Heights\n",
       "count  1000.000000\n",
       "mean    168.306355\n",
       "std       9.812907\n",
       "min     143.501854\n",
       "25%     160.946318\n",
       "50%     168.019906\n",
       "75%     175.859809\n",
       "max     197.707840"
      ]
     },
     "execution_count": 3,
     "metadata": {},
     "output_type": "execute_result"
    }
   ],
   "source": [
    "data.describe()"
   ]
  },
  {
   "cell_type": "markdown",
   "metadata": {},
   "source": [
    "### frequency distributions or Histogram"
   ]
  },
  {
   "cell_type": "code",
   "execution_count": 4,
   "metadata": {
    "scrolled": true
   },
   "outputs": [
    {
     "data": {
      "text/plain": [
       "0    160.377337\n",
       "1    177.637818\n",
       "2    166.258270\n",
       "3    182.467287\n",
       "4    182.368534\n",
       "Name: Heights, dtype: float64"
      ]
     },
     "execution_count": 4,
     "metadata": {},
     "output_type": "execute_result"
    }
   ],
   "source": [
    "data['Heights'][:5]"
   ]
  },
  {
   "cell_type": "code",
   "execution_count": 5,
   "metadata": {},
   "outputs": [],
   "source": [
    "import matplotlib.pyplot as plt\n",
    "%matplotlib inline"
   ]
  },
  {
   "cell_type": "code",
   "execution_count": 6,
   "metadata": {},
   "outputs": [
    {
     "data": {
      "text/plain": [
       "(array([ 15.,  64., 131., 186., 191., 169., 145.,  77.,  17.,   5.]),\n",
       " array([143.50185376, 148.92245242, 154.34305108, 159.76364974,\n",
       "        165.1842484 , 170.60484706, 176.02544572, 181.44604438,\n",
       "        186.86664304, 192.2872417 , 197.70784036]),\n",
       " <a list of 10 Patch objects>)"
      ]
     },
     "execution_count": 6,
     "metadata": {},
     "output_type": "execute_result"
    },
    {
     "data": {
      "image/png": "[encoded data removed]",
      "text/plain": [
       "<Figure size 432x288 with 1 Axes>"
      ]
     },
     "metadata": {
      "needs_background": "light"
     },
     "output_type": "display_data"
    }
   ],
   "source": [
    "plt.hist(data['Heights'])"
   ]
  },
  {
   "cell_type": "markdown",
   "metadata": {},
   "source": [
    "## Cumulated historgram"
   ]
  },
  {
   "cell_type": "code",
   "execution_count": 7,
   "metadata": {
    "scrolled": true
   },
   "outputs": [
    {
     "data": {
      "text/plain": [
       "(array([  15.,   79.,  210.,  396.,  587.,  756.,  901.,  978.,  995.,\n",
       "        1000.]), array([143.50185376, 148.92245242, 154.34305108, 159.76364974,\n",
       "        165.1842484 , 170.60484706, 176.02544572, 181.44604438,\n",
       "        186.86664304, 192.2872417 , 197.70784036]), <a list of 10 Patch objects>)"
      ]
     },
     "execution_count": 7,
     "metadata": {},
     "output_type": "execute_result"
    },
    {
     "data": {
      "image/png": "[encoded data removed]",
      "text/plain": [
       "<Figure size 432x288 with 1 Axes>"
      ]
     },
     "metadata": {
      "needs_background": "light"
     },
     "output_type": "display_data"
    }
   ],
   "source": [
    "plt.hist(data['Heights'],cumulative=True)"
   ]
  },
  {
   "cell_type": "markdown",
   "metadata": {},
   "source": [
    "### Deviation"
   ]
  },
  {
   "cell_type": "markdown",
   "metadata": {},
   "source": [
    "the amount by which a single measurement differs from the fixed values such as mean"
   ]
  },
  {
   "cell_type": "code",
   "execution_count": 8,
   "metadata": {},
   "outputs": [],
   "source": [
    "import numpy as np"
   ]
  },
  {
   "cell_type": "code",
   "execution_count": 9,
   "metadata": {},
   "outputs": [
    {
     "data": {
      "text/plain": [
       "0      -7.929018\n",
       "1       9.331463\n",
       "2      -2.048084\n",
       "3      14.160933\n",
       "4      14.062179\n",
       "         ...    \n",
       "995     1.775239\n",
       "996    -8.328177\n",
       "997   -17.637951\n",
       "998    -4.320811\n",
       "999    -7.895217\n",
       "Name: Heights, Length: 1000, dtype: float64"
      ]
     },
     "execution_count": 9,
     "metadata": {},
     "output_type": "execute_result"
    }
   ],
   "source": [
    "data['Heights']-data['Heights'].mean()"
   ]
  },
  {
   "cell_type": "code",
   "execution_count": 10,
   "metadata": {},
   "outputs": [
    {
     "data": {
      "text/plain": [
       "-0.0"
      ]
     },
     "execution_count": 10,
     "metadata": {},
     "output_type": "execute_result"
    }
   ],
   "source": [
    "np.round(sum(data['Heights']-data['Heights'].mean()))"
   ]
  },
  {
   "cell_type": "markdown",
   "metadata": {},
   "source": [
    "### Mean Absolute Deviation"
   ]
  },
  {
   "cell_type": "markdown",
   "metadata": {},
   "source": [
    "\n",
    "The mean absolute deviation (MAD) is the average of the absolute values of the deviations\n",
    "around the mean for a set of numbers\n",
    "\n",
    "$$\\frac{\\sum  |x-\\mu|}{N}$$"
   ]
  },
  {
   "cell_type": "code",
   "execution_count": 11,
   "metadata": {},
   "outputs": [
    {
     "data": {
      "text/plain": [
       "8.134686902556256"
      ]
     },
     "execution_count": 11,
     "metadata": {},
     "output_type": "execute_result"
    }
   ],
   "source": [
    "(abs(data['Heights']-data['Heights'].mean())).mean()"
   ]
  },
  {
   "cell_type": "markdown",
   "metadata": {},
   "source": [
    "### Variance"
   ]
  },
  {
   "cell_type": "markdown",
   "metadata": {},
   "source": [
    "The variance is the average of the squared deviations about the arithmetic mean for a set\n",
    "of numbers. The population variance is denoted by $$\\sigma^2$$\n",
    "\n",
    "$$\\frac{\\sum  (x-\\mu)^2}{N}$$"
   ]
  },
  {
   "cell_type": "code",
   "execution_count": 12,
   "metadata": {},
   "outputs": [
    {
     "data": {
      "text/plain": [
       "96.19684201398103"
      ]
     },
     "execution_count": 12,
     "metadata": {},
     "output_type": "execute_result"
    }
   ],
   "source": [
    "((data['Heights']-data['Heights'].mean())**2).mean()"
   ]
  },
  {
   "cell_type": "code",
   "execution_count": 13,
   "metadata": {},
   "outputs": [],
   "source": [
    "obs1=35 - 33.5  ## 2.5\n",
    "obs2=31 - 33.5 ## 2.5\n",
    "obs3=32.5     ##1  \n",
    "meanVa =33.5"
   ]
  },
  {
   "cell_type": "code",
   "execution_count": 14,
   "metadata": {},
   "outputs": [],
   "source": [
    "obs1=35 - 33.5  ## 2.5**2\n",
    "obs2=31 - 33.5 ## 2.5 **2\n",
    "obs3=32.5     ##1  1**2\n",
    "meanVa =33.5"
   ]
  },
  {
   "cell_type": "code",
   "execution_count": null,
   "metadata": {},
   "outputs": [],
   "source": []
  },
  {
   "cell_type": "code",
   "execution_count": null,
   "metadata": {},
   "outputs": [],
   "source": []
  },
  {
   "cell_type": "code",
   "execution_count": null,
   "metadata": {},
   "outputs": [],
   "source": []
  },
  {
   "cell_type": "markdown",
   "metadata": {},
   "source": [
    "### Standard Deviation"
   ]
  },
  {
   "cell_type": "markdown",
   "metadata": {},
   "source": [
    "The standard deviation is the square root of the variance. The population standard deviation is denoted by $$\\sigma$$\n",
    "\n",
    "The SD gives the info of how much each element of the data deviates from the mean of the population or given data\n",
    "\n",
    "$$\\sqrt{\\frac{\\sum  (x-\\mu)^2}{N}}$$"
   ]
  },
  {
   "cell_type": "code",
   "execution_count": 15,
   "metadata": {},
   "outputs": [],
   "source": [
    "import math"
   ]
  },
  {
   "cell_type": "code",
   "execution_count": 16,
   "metadata": {},
   "outputs": [
    {
     "data": {
      "text/plain": [
       "9.80799887917923"
      ]
     },
     "execution_count": 16,
     "metadata": {},
     "output_type": "execute_result"
    }
   ],
   "source": [
    "math.sqrt(((data['Heights']-data['Heights'].mean())**2).mean())"
   ]
  },
  {
   "cell_type": "markdown",
   "metadata": {},
   "source": [
    "If a set of data is normally distributed, or bell shaped, approximately 68% of the data\n",
    "values are within one standard deviation of the mean, 95% are within two standard deviations, and almost 100% are within three standard deviations."
   ]
  },
  {
   "cell_type": "code",
   "execution_count": 17,
   "metadata": {},
   "outputs": [
    {
     "data": {
      "text/plain": [
       "(array([ 15.,  64., 131., 186., 191., 169., 145.,  77.,  17.,   5.]),\n",
       " array([143.50185376, 148.92245242, 154.34305108, 159.76364974,\n",
       "        165.1842484 , 170.60484706, 176.02544572, 181.44604438,\n",
       "        186.86664304, 192.2872417 , 197.70784036]),\n",
       " <a list of 10 Patch objects>)"
      ]
     },
     "execution_count": 17,
     "metadata": {},
     "output_type": "execute_result"
    },
    {
     "data": {
      "image/png": "[encoded data removed]",
      "text/plain": [
       "<Figure size 432x288 with 1 Axes>"
      ]
     },
     "metadata": {
      "needs_background": "light"
     },
     "output_type": "display_data"
    }
   ],
   "source": [
    "plt.hist(data['Heights'])"
   ]
  },
  {
   "cell_type": "code",
   "execution_count": 18,
   "metadata": {},
   "outputs": [
    {
     "data": {
      "text/plain": [
       "96.19684201398103"
      ]
     },
     "execution_count": 18,
     "metadata": {},
     "output_type": "execute_result"
    }
   ],
   "source": [
    "np.var(data['Heights'])"
   ]
  },
  {
   "cell_type": "code",
   "execution_count": 19,
   "metadata": {},
   "outputs": [
    {
     "data": {
      "text/plain": [
       "9.80799887917923"
      ]
     },
     "execution_count": 19,
     "metadata": {},
     "output_type": "execute_result"
    }
   ],
   "source": [
    "np.std(data['Heights'])"
   ]
  },
  {
   "cell_type": "code",
   "execution_count": 20,
   "metadata": {},
   "outputs": [
    {
     "data": {
      "text/plain": [
       "9.80799887917923"
      ]
     },
     "execution_count": 20,
     "metadata": {},
     "output_type": "execute_result"
    }
   ],
   "source": [
    "math.sqrt(np.var(data['Heights']))"
   ]
  },
  {
   "cell_type": "markdown",
   "metadata": {},
   "source": [
    "### Coefficient of variance   Measure of Risk\n",
    "\n",
    "$$ CV= \\frac{\\sigma}{\\mu}(100)$$"
   ]
  },
  {
   "cell_type": "code",
   "execution_count": 21,
   "metadata": {},
   "outputs": [
    {
     "data": {
      "text/plain": [
       "'Mean = 4040.0   Standard Deviation = 711.6178749862878 variance = 506400.0'"
      ]
     },
     "execution_count": 21,
     "metadata": {},
     "output_type": "execute_result"
    }
   ],
   "source": [
    "aSer=[3500,5000,3000,4500,4200]\n",
    "meanInfo,stDevInfo,varInfo=np.mean(aSer),math.sqrt(np.var(aSer)),np.var(aSer)\n",
    "'Mean = {}   Standard Deviation = {} variance = {}'.format(meanInfo,stDevInfo,varInfo)"
   ]
  },
  {
   "cell_type": "code",
   "execution_count": 22,
   "metadata": {},
   "outputs": [
    {
     "data": {
      "text/plain": [
       "17.614303836294255"
      ]
     },
     "execution_count": 22,
     "metadata": {},
     "output_type": "execute_result"
    }
   ],
   "source": [
    "(stDevInfo/meanInfo)*100"
   ]
  },
  {
   "cell_type": "code",
   "execution_count": 23,
   "metadata": {},
   "outputs": [
    {
     "data": {
      "text/plain": [
       "'Mean = 14.0   Standard Deviation = 4.774934554525329 variance = 22.8'"
      ]
     },
     "execution_count": 23,
     "metadata": {},
     "output_type": "execute_result"
    }
   ],
   "source": [
    "bSer=[8,11,16,22,13]\n",
    "\n",
    "meanInfo,stDevInfo,varInfo=np.mean(bSer),math.sqrt(np.var(bSer)),np.var(bSer)\n",
    "'Mean = {}   Standard Deviation = {} variance = {}'.format(meanInfo,stDevInfo,varInfo)"
   ]
  },
  {
   "cell_type": "code",
   "execution_count": 24,
   "metadata": {},
   "outputs": [
    {
     "data": {
      "text/plain": [
       "34.10667538946663"
      ]
     },
     "execution_count": 24,
     "metadata": {},
     "output_type": "execute_result"
    }
   ],
   "source": [
    "(stDevInfo/meanInfo)*100"
   ]
  },
  {
   "cell_type": "markdown",
   "metadata": {},
   "source": [
    "## Same calculations in Sample data"
   ]
  },
  {
   "cell_type": "markdown",
   "metadata": {},
   "source": [
    "The main use for sample variances and standard deviations is as estimators of population variances and\n",
    "standard deviations. Because of this, computation of the sample variance and standard\n",
    "deviation differs slightly from computation of the population variance and standard deviation. Both the sample variance and sample standard deviation use n - 1 in the denominator instead of n because using n in the denominator of a sample variance results in a statistic\n",
    "that tends to underestimate the population variance\n",
    "\n",
    "$$ Sample  variance = \\frac{\\sum  (x-\\bar{x})^2}{N-1}$$\n",
    "\n",
    "$$ Sample  SD = \\sqrt{\\frac{\\sum  (x-\\bar{x})^2}{N-1}}$$\n",
    "\n",
    "$$ SD = \\sqrt(Variance)$$"
   ]
  },
  {
   "cell_type": "markdown",
   "metadata": {},
   "source": [
    "# Sampling Techniques"
   ]
  },
  {
   "cell_type": "markdown",
   "metadata": {},
   "source": [
    "1. Random Sampling\n",
    " - With replacement\n",
    " - Without replacement\n",
    "2. Systematic sampling\n",
    "3. Stratified sampling\n",
    "4. Cluster sampling\n",
    "5. Quota sampling\n",
    "6. Snowball sampling"
   ]
  },
  {
   "cell_type": "markdown",
   "metadata": {},
   "source": [
    "## Central Limit Theorem"
   ]
  },
  {
   "cell_type": "markdown",
   "metadata": {},
   "source": [
    "The Central Limit Theorem states that the sampling distribution (bell curve) of the sample means approaches a normal distribution as the sample size gets larger — no matter what the shape of the population distribution."
   ]
  },
  {
   "cell_type": "code",
   "execution_count": 25,
   "metadata": {},
   "outputs": [],
   "source": [
    "classScore=np.random.randint(30, 100,size=200) "
   ]
  },
  {
   "cell_type": "code",
   "execution_count": 26,
   "metadata": {},
   "outputs": [
    {
     "data": {
      "text/plain": [
       "(array([24., 22., 12., 29., 17., 14.,  9., 28., 16., 29.]),\n",
       " array([31. , 37.8, 44.6, 51.4, 58.2, 65. , 71.8, 78.6, 85.4, 92.2, 99. ]),\n",
       " <a list of 10 Patch objects>)"
      ]
     },
     "execution_count": 26,
     "metadata": {},
     "output_type": "execute_result"
    },
    {
     "data": {
      "image/png": "[encoded data removed]",
      "text/plain": [
       "<Figure size 432x288 with 1 Axes>"
      ]
     },
     "metadata": {
      "needs_background": "light"
     },
     "output_type": "display_data"
    }
   ],
   "source": [
    "plt.hist(classScore)"
   ]
  },
  {
   "cell_type": "code",
   "execution_count": 27,
   "metadata": {},
   "outputs": [
    {
     "data": {
      "text/plain": [
       "(array([11., 12., 22., 24., 25., 30., 19., 11.,  4.,  2.]),\n",
       " array([59.88, 61.08, 62.28, 63.48, 64.68, 65.88, 67.08, 68.28, 69.48,\n",
       "        70.68, 71.88]),\n",
       " <a list of 10 Patch objects>)"
      ]
     },
     "execution_count": 27,
     "metadata": {},
     "output_type": "execute_result"
    },
    {
     "data": {
      "image/png": "[encoded data removed]",
      "text/plain": [
       "<Figure size 432x288 with 1 Axes>"
      ]
     },
     "metadata": {
      "needs_background": "light"
     },
     "output_type": "display_data"
    }
   ],
   "source": [
    "storeMean=[]\n",
    "for trial in range(160):\n",
    "    sampleDef=np.random.random_sample(size=200)\n",
    "    xMean=(classScore[np.argsort(sampleDef)[:50]]).mean()\n",
    "    storeMean.append(xMean)\n",
    "    \n",
    "plt.hist(storeMean)"
   ]
  },
  {
   "cell_type": "markdown",
   "metadata": {},
   "source": [
    "The minimum data needed for calling any series normally distribued is around 30 data points"
   ]
  },
  {
   "cell_type": "markdown",
   "metadata": {},
   "source": [
    "# Z-Score"
   ]
  },
  {
   "cell_type": "markdown",
   "metadata": {},
   "source": [
    "A z score represents the number of standard deviations a value is from the mean of a given series. Z scores provide us the distance of the value from the series mean in terms of Standard Deviation instead of raw absolute distance.\n",
    "If a z score is negative the value is below the mean. If the z score is positive the value is above the mean.\n",
    "\n",
    "$$for \\space population \\space z = \\frac{x-\\mu}{\\sigma}$$\n",
    "\n",
    "\n",
    "$$for \\space sample \\space z = \\frac{x-\\bar{x}}{s}$$"
   ]
  },
  {
   "cell_type": "code",
   "execution_count": 28,
   "metadata": {},
   "outputs": [],
   "source": [
    "sampleMean=data['Heights'].mean()\n",
    "stDevOfPop=data['Heights'].std()"
   ]
  },
  {
   "cell_type": "code",
   "execution_count": 29,
   "metadata": {},
   "outputs": [
    {
     "data": {
      "text/plain": [
       "168.30635473929422"
      ]
     },
     "execution_count": 29,
     "metadata": {},
     "output_type": "execute_result"
    }
   ],
   "source": [
    "sampleMean"
   ]
  },
  {
   "cell_type": "code",
   "execution_count": 30,
   "metadata": {},
   "outputs": [
    {
     "data": {
      "text/plain": [
       "1.4973795145539255"
      ]
     },
     "execution_count": 30,
     "metadata": {},
     "output_type": "execute_result"
    }
   ],
   "source": [
    "(183-sampleMean)/stDevOfPop"
   ]
  },
  {
   "cell_type": "code",
   "execution_count": 31,
   "metadata": {},
   "outputs": [
    {
     "data": {
      "text/plain": [
       "-6.960868762361816"
      ]
     },
     "execution_count": 31,
     "metadata": {},
     "output_type": "execute_result"
    }
   ],
   "source": [
    "(100-sampleMean)/stDevOfPop"
   ]
  },
  {
   "cell_type": "markdown",
   "metadata": {},
   "source": [
    "- Between z = -1.00 and z = +1.00 are approximately 68% of the values.\n",
    "- Between z = -2.00 and z = +2.00 are approximately 95% of the values.\n",
    "- Between z = -3.00 and z = +3.00 are approximately 99.7% of the values."
   ]
  },
  {
   "cell_type": "markdown",
   "metadata": {},
   "source": [
    "# Inferential Statistics"
   ]
  },
  {
   "cell_type": "markdown",
   "metadata": {},
   "source": [
    "### Estimate population mean using Z-Score"
   ]
  },
  {
   "cell_type": "markdown",
   "metadata": {},
   "source": [
    "# Conditions for Inference about mean of Population\n",
    "- Random\n",
    "- Normal data\n",
    "- Independent\n",
    "- Standard Deviation must be known"
   ]
  },
  {
   "cell_type": "markdown",
   "metadata": {},
   "source": [
    "A point estimate is as good as the sample taken, more prone to errors.\n",
    "\n",
    "An interval estimate (confidence interval) is a range of values within which the analyst can declare, with some confidence, the population parameter lies. Confidence intervals can be two sided or one sided. This text presents only two-sided confidence intervals.Based on central limit theorem, the following z formula for sample means can be used if the population standard deviation is known when sample sizes are large, regardless of the shape of the population distribution, or for smaller sizes if the population is normally distributed.\n",
    "\n",
    "$$z = \\frac{\\bar{x}-\\mu}{\\frac{\\sigma}{\\sqrt{n}}}$$\n",
    "\n",
    "$$\\bar{x} \\space\\space\\space \\underline{+}  \\space\\space z\\frac{\\sigma}{\\sqrt{n}}$$\n"
   ]
  },
  {
   "cell_type": "markdown",
   "metadata": {},
   "source": [
    "### Alpha $\\alpha$   The area under the normal curve in the tails of distribution outside of the confidence interval "
   ]
  },
  {
   "cell_type": "markdown",
   "metadata": {},
   "source": [
    "when the confidence interval is 95% $\\alpha\\$ is .05 (1-.95), from z table we get score of z as 1.96"
   ]
  },
  {
   "cell_type": "markdown",
   "metadata": {},
   "source": [
    "$$ \\bar{x} - z\\frac{\\sigma}{\\sqrt{n}} \\space\\space \\underline{<} \\space\\space \\mu \\space\\space \\underline{<} \\bar{x} + z\\frac{\\sigma}{\\sqrt{n}}$$"
   ]
  },
  {
   "cell_type": "code",
   "execution_count": 32,
   "metadata": {},
   "outputs": [],
   "source": [
    "sampleDef=np.random.random_sample(size=1000)\n",
    "sampleOfData=data['Heights'][np.argsort(sampleDef)[:70]]"
   ]
  },
  {
   "cell_type": "code",
   "execution_count": 33,
   "metadata": {},
   "outputs": [
    {
     "data": {
      "text/plain": [
       "393    170.499718\n",
       "768    169.110940\n",
       "425    183.143296\n",
       "71     175.249155\n",
       "15     173.985101\n",
       "          ...    \n",
       "826    171.416256\n",
       "697    163.777459\n",
       "361    175.552195\n",
       "306    166.892285\n",
       "422    175.253976\n",
       "Name: Heights, Length: 70, dtype: float64"
      ]
     },
     "execution_count": 33,
     "metadata": {},
     "output_type": "execute_result"
    }
   ],
   "source": [
    "sampleOfData"
   ]
  },
  {
   "cell_type": "code",
   "execution_count": 34,
   "metadata": {},
   "outputs": [
    {
     "ename": "SyntaxError",
     "evalue": "invalid syntax (<ipython-input-34-a7fa0f5ce29d>, line 1)",
     "output_type": "error",
     "traceback": [
      "\u001b[1;36m  File \u001b[1;32m\"<ipython-input-34-a7fa0f5ce29d>\"\u001b[1;36m, line \u001b[1;32m1\u001b[0m\n\u001b[1;33m    aplha=95%\u001b[0m\n\u001b[1;37m             ^\u001b[0m\n\u001b[1;31mSyntaxError\u001b[0m\u001b[1;31m:\u001b[0m invalid syntax\n"
     ]
    }
   ],
   "source": [
    "aplha=95%"
   ]
  },
  {
   "cell_type": "code",
   "execution_count": null,
   "metadata": {},
   "outputs": [],
   "source": [
    "xBar=sampleOfData.mean()\n",
    "zVal=1.96\n",
    "stDevPopu=np.std(data['Heights'])\n",
    "numberOfEle=70"
   ]
  },
  {
   "cell_type": "code",
   "execution_count": null,
   "metadata": {},
   "outputs": [],
   "source": [
    "xBar - zVal*(stDevOfPop/math.sqrt(numberOfEle)), xBar + zVal*(stDevOfPop/math.sqrt(numberOfEle))"
   ]
  },
  {
   "cell_type": "code",
   "execution_count": null,
   "metadata": {},
   "outputs": [],
   "source": [
    "data['Heights'].mean()"
   ]
  },
  {
   "cell_type": "markdown",
   "metadata": {},
   "source": [
    "## What if population information is not known?"
   ]
  },
  {
   "cell_type": "markdown",
   "metadata": {},
   "source": [
    "### Population standard deviation is not known"
   ]
  },
  {
   "cell_type": "markdown",
   "metadata": {},
   "source": [
    "# t-test or Student's t-test"
   ]
  },
  {
   "cell_type": "markdown",
   "metadata": {},
   "source": [
    "The t distribution, which is used instead of the z distribution for doing inferential statistics on the population mean when the population standard deviation is unknown and the population is normally distributed.\n",
    "\n",
    "$$t = \\frac{\\bar{x} - \\mu}{\\frac{s}{\\sqrt{n}}}$$"
   ]
  },
  {
   "cell_type": "markdown",
   "metadata": {},
   "source": [
    "the fornula is similar to z-score just z distribution is replaced by t distribution.\n",
    "degree of freedom: $N-1$"
   ]
  },
  {
   "cell_type": "markdown",
   "metadata": {},
   "source": [
    "$$ \\bar{x} - t\\frac{s}{\\sqrt{n}} \\space\\space \\underline{<} \\space\\space \\mu \\space\\space \\underline{<} \\bar{x} + t\\frac{s}{\\sqrt{n}}$$"
   ]
  },
  {
   "cell_type": "code",
   "execution_count": 65,
   "metadata": {},
   "outputs": [],
   "source": [
    "sampleDefT=np.random.random_sample(size=100)\n",
    "sampleOfDataT=data['Heights'][np.argsort(sampleDefT)[:100]]"
   ]
  },
  {
   "cell_type": "code",
   "execution_count": 66,
   "metadata": {},
   "outputs": [
    {
     "data": {
      "text/plain": [
       "82    170.839538\n",
       "40    160.457492\n",
       "53    169.241038\n",
       "67    167.997682\n",
       "9     163.151785\n",
       "         ...    \n",
       "88    168.637934\n",
       "27    169.648856\n",
       "19    160.716304\n",
       "22    176.508255\n",
       "36    163.681258\n",
       "Name: Heights, Length: 100, dtype: float64"
      ]
     },
     "execution_count": 66,
     "metadata": {},
     "output_type": "execute_result"
    }
   ],
   "source": [
    "sampleOfDataT"
   ]
  },
  {
   "cell_type": "code",
   "execution_count": 79,
   "metadata": {},
   "outputs": [],
   "source": [
    "xBart=sampleOfDataT.mean()\n",
    "tVal=1.98 #(dof=20-1 =19 at .05 confidence level)\n",
    "sampleSD=sampleOfDataT.std()\n",
    "numberOfEle=100\n",
    "# dof =19\n",
    "# alpha =10"
   ]
  },
  {
   "cell_type": "code",
   "execution_count": 80,
   "metadata": {},
   "outputs": [
    {
     "data": {
      "text/plain": [
       "7.565944088973266"
      ]
     },
     "execution_count": 80,
     "metadata": {},
     "output_type": "execute_result"
    }
   ],
   "source": [
    "sampleSD"
   ]
  },
  {
   "cell_type": "code",
   "execution_count": 81,
   "metadata": {},
   "outputs": [
    {
     "data": {
      "text/plain": [
       "(173.3398928881424, 176.3360067473758)"
      ]
     },
     "execution_count": 81,
     "metadata": {},
     "output_type": "execute_result"
    }
   ],
   "source": [
    "xBart - tVal*(sampleSD/math.sqrt(numberOfEle)) ,xBart + tVal*(sampleSD/math.sqrt(numberOfEle)) "
   ]
  },
  {
   "cell_type": "code",
   "execution_count": 82,
   "metadata": {},
   "outputs": [
    {
     "data": {
      "text/plain": [
       "168.30635473929422"
      ]
     },
     "execution_count": 82,
     "metadata": {},
     "output_type": "execute_result"
    }
   ],
   "source": [
    "data['Heights'].mean()"
   ]
  },
  {
   "cell_type": "code",
   "execution_count": null,
   "metadata": {},
   "outputs": [],
   "source": []
  }
 ],
 "metadata": {
  "kernelspec": {
   "display_name": "Python 3",
   "language": "python",
   "name": "python3"
  },
  "language_info": {
   "codemirror_mode": {
    "name": "ipython",
    "version": 3
   },
   "file_extension": ".py",
   "mimetype": "text/x-python",
   "name": "python",
   "nbconvert_exporter": "python",
   "pygments_lexer": "ipython3",
   "version": "3.7.3"
  }
 },
 "nbformat": 4,
 "nbformat_minor": 2
}
