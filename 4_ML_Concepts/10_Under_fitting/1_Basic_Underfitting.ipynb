{
 "cells": [
  {
   "cell_type": "markdown",
   "metadata": {},
   "source": [
    "<h1 style=color:blue align=\"center\"> Underfitting </h1>"
   ]
  },
  {
   "cell_type": "markdown",
   "metadata": {},
   "source": [
    "### Underfitting:\n",
    "\n",
    "\n",
    "- Underfitting is opposite to overfitting hence **it will not work on training as well as test data** as it has not understood well. This is similar to scenario where **a student gives exam with less preparation**.\n",
    "\n",
    "\n",
    "- **To remove underfitting** we should give **more data to the model** so that it can learn with deeper knowledge."
   ]
  },
  {
   "cell_type": "markdown",
   "metadata": {},
   "source": [
    "- For **training & test** data giving **high error(Accuracy:Less)** ---> **Underfitting**\n",
    "\n",
    "\n",
    "#### Underfitting: \n",
    "\n",
    " - **High bias (Training Accuracy : Less)**\n",
    " \n",
    " - **High variance (Testing Accuracy : Less)**"
   ]
  },
  {
   "cell_type": "markdown",
   "metadata": {},
   "source": [
    "![6. Under fitting](image/1.JPG)"
   ]
  },
  {
   "cell_type": "markdown",
   "metadata": {},
   "source": [
    "![6. Under fitting](image/2.JPG)"
   ]
  },
  {
   "cell_type": "markdown",
   "metadata": {},
   "source": [
    "-------------------"
   ]
  },
  {
   "cell_type": "markdown",
   "metadata": {},
   "source": [
    "### Reference:\n",
    "\n",
    "https://www.youtube.com/watch?v=ICCA3-7a5bw&t=280s&ab_channel=5MinutesEngineering"
   ]
  }
 ],
 "metadata": {
  "kernelspec": {
   "display_name": "Python 3",
   "language": "python",
   "name": "python3"
  },
  "language_info": {
   "codemirror_mode": {
    "name": "ipython",
    "version": 3
   },
   "file_extension": ".py",
   "mimetype": "text/x-python",
   "name": "python",
   "nbconvert_exporter": "python",
   "pygments_lexer": "ipython3",
   "version": "3.7.3"
  }
 },
 "nbformat": 4,
 "nbformat_minor": 2
}
