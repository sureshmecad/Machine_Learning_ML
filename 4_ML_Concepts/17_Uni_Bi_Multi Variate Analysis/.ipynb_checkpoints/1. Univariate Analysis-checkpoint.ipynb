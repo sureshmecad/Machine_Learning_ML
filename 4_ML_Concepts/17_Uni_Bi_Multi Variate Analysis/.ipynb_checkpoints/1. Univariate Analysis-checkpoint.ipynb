{
 "cells": [
  {
   "cell_type": "markdown",
   "metadata": {},
   "source": [
    "## Univariate Analysis\n",
    "- The **descriptive analysis** of a **single variable.**"
   ]
  },
  {
   "cell_type": "markdown",
   "metadata": {},
   "source": [
    "### 1. Frequency Distribution\n",
    "- Usually represented by **Bar Chart** and **Pie Chart**"
   ]
  },
  {
   "cell_type": "markdown",
   "metadata": {},
   "source": [
    "![21. Uni_Bi_Multi Variate Analysis](image/1.JPG)"
   ]
  },
  {
   "cell_type": "markdown",
   "metadata": {},
   "source": [
    "![21. Uni_Bi_Multi Variate Analysis](image/2.JPG)"
   ]
  },
  {
   "cell_type": "markdown",
   "metadata": {},
   "source": [
    "-------------------------------"
   ]
  },
  {
   "cell_type": "markdown",
   "metadata": {},
   "source": [
    "### 1. Univariate Analysis\n",
    "\n",
    "- Data consists of only **one variable (only x value).**\n",
    "\n",
    "\n",
    "     1. Line Plots / Bar Charts \n",
    "\n",
    "     2. Histograms \n",
    "\n",
    "     3. Box Plots \n",
    "\n",
    "     4. Count Plots \n",
    "\n",
    "     5. Descriptive Statistics techniques \n",
    "\n",
    "     6. Violin Plot\n",
    " \n",
    "\n",
    "### 2. Bivariate Analysis\n",
    "\n",
    "- When we talk about bivariate analysis, it means **analyzing 2 variables.** Since we know there are numerical and categorical variables, there is a way of analyzing these variables as shown below:\n",
    "\n",
    "\n",
    "   **i) Numerical & Numerical**\n",
    "     \n",
    "     a. Scatterplot\n",
    "        \n",
    "     b. Line plot\n",
    "        \n",
    "     c. Heatmap for correlation\n",
    "        \n",
    "     d. Joint plot\n",
    "   \n",
    "\n",
    "   **ii) Numerical & Categorical**\n",
    "     \n",
    "     a. Bar chart\n",
    "     \n",
    "     b. Violin plot\n",
    "     \n",
    "     c. Categorical box plot\n",
    "     \n",
    "     d. Swarm plot\n",
    "     \n",
    "        \n",
    "  **iii) Categorical & Categorical**\n",
    "     \n",
    "     1. Bar chart\n",
    "     \n",
    "     2. Grouped bar chart\n",
    "     \n",
    "     3. Point plot\n",
    "        \n",
    "\n",
    "\n",
    "### 3. Multivariate Analysis\n",
    "\n",
    "- Data involves **more than two variables.**\n",
    "\n",
    "    1. Pair Plot"
   ]
  },
  {
   "cell_type": "code",
   "execution_count": null,
   "metadata": {},
   "outputs": [],
   "source": []
  }
 ],
 "metadata": {
  "kernelspec": {
   "display_name": "Python 3",
   "language": "python",
   "name": "python3"
  },
  "language_info": {
   "codemirror_mode": {
    "name": "ipython",
    "version": 3
   },
   "file_extension": ".py",
   "mimetype": "text/x-python",
   "name": "python",
   "nbconvert_exporter": "python",
   "pygments_lexer": "ipython3",
   "version": "3.7.3"
  }
 },
 "nbformat": 4,
 "nbformat_minor": 2
}
