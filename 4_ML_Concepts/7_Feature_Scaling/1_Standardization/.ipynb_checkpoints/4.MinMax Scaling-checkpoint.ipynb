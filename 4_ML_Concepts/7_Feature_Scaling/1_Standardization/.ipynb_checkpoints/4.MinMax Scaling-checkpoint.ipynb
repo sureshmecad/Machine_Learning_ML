{
 "cells": [
  {
   "cell_type": "markdown",
   "metadata": {},
   "source": [
    "## Scaling to minimum and maximum values\n",
    "\n",
    "We saw in previous lectures that the magnitude of the variables affects different machine learning algorithms for different reasons. In this section, I will cover a few standard ways of squeezing the magnitude of the variables.\n",
    "\n",
    "\n",
    "Minimum and maximum scaling squeezes the values between 0 and 1. It subtracts the minimum value from all the observations, and then divides it by the range:\n",
    "\n",
    "X_scaled = (X - X.min / (X.max - X.min)\n",
    "\n",
    "The minimum maximum scaling method has the same disadvantage that standarisation, which is that it compresses the observations in the narrow range if the variable is very skewed or has outliers. \n",
    "\n",
    "For an overview of the different scaling methods check:\n",
    "http://scikit-learn.org/stable/auto_examples/preprocessing/plot_all_scaling.html#sphx-glr-auto-examples-preprocessing-plot-all-scaling-py\n",
    "\n",
    "Let's demonstrate the MinMaxScaling method using scikit-learn.\n"
   ]
  },
  {
   "cell_type": "code",
   "execution_count": 2,
   "metadata": {},
   "outputs": [],
   "source": [
    "import pandas as pd\n",
    "import numpy as np\n",
    "\n",
    "from sklearn.preprocessing import MinMaxScaler\n",
    "\n",
    "from sklearn.metrics import roc_auc_score\n",
    "from sklearn.model_selection import train_test_split\n",
    "\n",
    "import matplotlib.pyplot as plt\n",
    "%matplotlib inline"
   ]
  },
  {
   "cell_type": "code",
   "execution_count": 4,
   "metadata": {},
   "outputs": [
    {
     "data": {
      "text/html": [
       "<div>\n",
       "<style scoped>\n",
       "    .dataframe tbody tr th:only-of-type {\n",
       "        vertical-align: middle;\n",
       "    }\n",
       "\n",
       "    .dataframe tbody tr th {\n",
       "        vertical-align: top;\n",
       "    }\n",
       "\n",
       "    .dataframe thead th {\n",
       "        text-align: right;\n",
       "    }\n",
       "</style>\n",
       "<table border=\"1\" class=\"dataframe\">\n",
       "  <thead>\n",
       "    <tr style=\"text-align: right;\">\n",
       "      <th></th>\n",
       "      <th>Survived</th>\n",
       "      <th>Pclass</th>\n",
       "      <th>Age</th>\n",
       "      <th>Fare</th>\n",
       "    </tr>\n",
       "  </thead>\n",
       "  <tbody>\n",
       "    <tr>\n",
       "      <th>0</th>\n",
       "      <td>0</td>\n",
       "      <td>3</td>\n",
       "      <td>22.0</td>\n",
       "      <td>7.2500</td>\n",
       "    </tr>\n",
       "    <tr>\n",
       "      <th>1</th>\n",
       "      <td>1</td>\n",
       "      <td>1</td>\n",
       "      <td>38.0</td>\n",
       "      <td>71.2833</td>\n",
       "    </tr>\n",
       "    <tr>\n",
       "      <th>2</th>\n",
       "      <td>1</td>\n",
       "      <td>3</td>\n",
       "      <td>26.0</td>\n",
       "      <td>7.9250</td>\n",
       "    </tr>\n",
       "    <tr>\n",
       "      <th>3</th>\n",
       "      <td>1</td>\n",
       "      <td>1</td>\n",
       "      <td>35.0</td>\n",
       "      <td>53.1000</td>\n",
       "    </tr>\n",
       "    <tr>\n",
       "      <th>4</th>\n",
       "      <td>0</td>\n",
       "      <td>3</td>\n",
       "      <td>35.0</td>\n",
       "      <td>8.0500</td>\n",
       "    </tr>\n",
       "  </tbody>\n",
       "</table>\n",
       "</div>"
      ],
      "text/plain": [
       "   Survived  Pclass   Age     Fare\n",
       "0         0       3  22.0   7.2500\n",
       "1         1       1  38.0  71.2833\n",
       "2         1       3  26.0   7.9250\n",
       "3         1       1  35.0  53.1000\n",
       "4         0       3  35.0   8.0500"
      ]
     },
     "execution_count": 4,
     "metadata": {},
     "output_type": "execute_result"
    }
   ],
   "source": [
    "# load the numerical variables of the Titanic Dataset\n",
    "\n",
    "data = pd.read_csv('train.csv', usecols = ['Pclass', 'Age', 'Fare', 'Survived'])\n",
    "data.head()"
   ]
  },
  {
   "cell_type": "code",
   "execution_count": 5,
   "metadata": {},
   "outputs": [
    {
     "data": {
      "text/html": [
       "<div>\n",
       "<style scoped>\n",
       "    .dataframe tbody tr th:only-of-type {\n",
       "        vertical-align: middle;\n",
       "    }\n",
       "\n",
       "    .dataframe tbody tr th {\n",
       "        vertical-align: top;\n",
       "    }\n",
       "\n",
       "    .dataframe thead th {\n",
       "        text-align: right;\n",
       "    }\n",
       "</style>\n",
       "<table border=\"1\" class=\"dataframe\">\n",
       "  <thead>\n",
       "    <tr style=\"text-align: right;\">\n",
       "      <th></th>\n",
       "      <th>Survived</th>\n",
       "      <th>Pclass</th>\n",
       "      <th>Age</th>\n",
       "      <th>Fare</th>\n",
       "    </tr>\n",
       "  </thead>\n",
       "  <tbody>\n",
       "    <tr>\n",
       "      <th>count</th>\n",
       "      <td>891.000000</td>\n",
       "      <td>891.000000</td>\n",
       "      <td>714.000000</td>\n",
       "      <td>891.000000</td>\n",
       "    </tr>\n",
       "    <tr>\n",
       "      <th>mean</th>\n",
       "      <td>0.383838</td>\n",
       "      <td>2.308642</td>\n",
       "      <td>29.699118</td>\n",
       "      <td>32.204208</td>\n",
       "    </tr>\n",
       "    <tr>\n",
       "      <th>std</th>\n",
       "      <td>0.486592</td>\n",
       "      <td>0.836071</td>\n",
       "      <td>14.526497</td>\n",
       "      <td>49.693429</td>\n",
       "    </tr>\n",
       "    <tr>\n",
       "      <th>min</th>\n",
       "      <td>0.000000</td>\n",
       "      <td>1.000000</td>\n",
       "      <td>0.420000</td>\n",
       "      <td>0.000000</td>\n",
       "    </tr>\n",
       "    <tr>\n",
       "      <th>25%</th>\n",
       "      <td>0.000000</td>\n",
       "      <td>2.000000</td>\n",
       "      <td>20.125000</td>\n",
       "      <td>7.910400</td>\n",
       "    </tr>\n",
       "    <tr>\n",
       "      <th>50%</th>\n",
       "      <td>0.000000</td>\n",
       "      <td>3.000000</td>\n",
       "      <td>28.000000</td>\n",
       "      <td>14.454200</td>\n",
       "    </tr>\n",
       "    <tr>\n",
       "      <th>75%</th>\n",
       "      <td>1.000000</td>\n",
       "      <td>3.000000</td>\n",
       "      <td>38.000000</td>\n",
       "      <td>31.000000</td>\n",
       "    </tr>\n",
       "    <tr>\n",
       "      <th>max</th>\n",
       "      <td>1.000000</td>\n",
       "      <td>3.000000</td>\n",
       "      <td>80.000000</td>\n",
       "      <td>512.329200</td>\n",
       "    </tr>\n",
       "  </tbody>\n",
       "</table>\n",
       "</div>"
      ],
      "text/plain": [
       "         Survived      Pclass         Age        Fare\n",
       "count  891.000000  891.000000  714.000000  891.000000\n",
       "mean     0.383838    2.308642   29.699118   32.204208\n",
       "std      0.486592    0.836071   14.526497   49.693429\n",
       "min      0.000000    1.000000    0.420000    0.000000\n",
       "25%      0.000000    2.000000   20.125000    7.910400\n",
       "50%      0.000000    3.000000   28.000000   14.454200\n",
       "75%      1.000000    3.000000   38.000000   31.000000\n",
       "max      1.000000    3.000000   80.000000  512.329200"
      ]
     },
     "execution_count": 5,
     "metadata": {},
     "output_type": "execute_result"
    }
   ],
   "source": [
    "# let's have a look at the values of those variables to get an idea of the magnitudes\n",
    "\n",
    "data.describe()"
   ]
  },
  {
   "cell_type": "markdown",
   "metadata": {},
   "source": [
    "We can see from the above statistics table that the magnitudes of the variables are different. The mean values and medians are different as well as the maximum values and the range over which the values are spread."
   ]
  },
  {
   "cell_type": "code",
   "execution_count": 6,
   "metadata": {},
   "outputs": [
    {
     "data": {
      "text/plain": [
       "Survived      0\n",
       "Pclass        0\n",
       "Age         177\n",
       "Fare          0\n",
       "dtype: int64"
      ]
     },
     "execution_count": 6,
     "metadata": {},
     "output_type": "execute_result"
    }
   ],
   "source": [
    "# check missing data\n",
    "\n",
    "data.isnull().sum()"
   ]
  },
  {
   "cell_type": "markdown",
   "metadata": {},
   "source": [
    "Age contains missing information, so I will fill those observations with the median in the next cell."
   ]
  },
  {
   "cell_type": "code",
   "execution_count": 7,
   "metadata": {},
   "outputs": [
    {
     "data": {
      "text/plain": [
       "((623, 3), (268, 3))"
      ]
     },
     "execution_count": 7,
     "metadata": {},
     "output_type": "execute_result"
    }
   ],
   "source": [
    "# let's separate into training and testing set\n",
    "X_train, X_test, y_train, y_test = train_test_split(data[['Pclass', 'Age', 'Fare']],\n",
    "                                                    data.Survived, test_size=0.3,\n",
    "                                                    random_state=0)\n",
    "X_train.shape, X_test.shape"
   ]
  },
  {
   "cell_type": "code",
   "execution_count": 8,
   "metadata": {},
   "outputs": [],
   "source": [
    "# fill missing data with the Age median\n",
    "\n",
    "X_train.Age.fillna(X_train.Age.median(), inplace=True)\n",
    "X_test.Age.fillna(X_train.Age.median(), inplace=True)"
   ]
  },
  {
   "cell_type": "code",
   "execution_count": 10,
   "metadata": {
    "scrolled": true
   },
   "outputs": [
    {
     "data": {
      "text/html": [
       "<div>\n",
       "<style scoped>\n",
       "    .dataframe tbody tr th:only-of-type {\n",
       "        vertical-align: middle;\n",
       "    }\n",
       "\n",
       "    .dataframe tbody tr th {\n",
       "        vertical-align: top;\n",
       "    }\n",
       "\n",
       "    .dataframe thead th {\n",
       "        text-align: right;\n",
       "    }\n",
       "</style>\n",
       "<table border=\"1\" class=\"dataframe\">\n",
       "  <thead>\n",
       "    <tr style=\"text-align: right;\">\n",
       "      <th></th>\n",
       "      <th>Pclass</th>\n",
       "      <th>Age</th>\n",
       "      <th>Fare</th>\n",
       "    </tr>\n",
       "  </thead>\n",
       "  <tbody>\n",
       "    <tr>\n",
       "      <th>857</th>\n",
       "      <td>1</td>\n",
       "      <td>51.0</td>\n",
       "      <td>26.5500</td>\n",
       "    </tr>\n",
       "    <tr>\n",
       "      <th>52</th>\n",
       "      <td>1</td>\n",
       "      <td>49.0</td>\n",
       "      <td>76.7292</td>\n",
       "    </tr>\n",
       "    <tr>\n",
       "      <th>386</th>\n",
       "      <td>3</td>\n",
       "      <td>1.0</td>\n",
       "      <td>46.9000</td>\n",
       "    </tr>\n",
       "    <tr>\n",
       "      <th>124</th>\n",
       "      <td>1</td>\n",
       "      <td>54.0</td>\n",
       "      <td>77.2875</td>\n",
       "    </tr>\n",
       "    <tr>\n",
       "      <th>578</th>\n",
       "      <td>3</td>\n",
       "      <td>29.0</td>\n",
       "      <td>14.4583</td>\n",
       "    </tr>\n",
       "  </tbody>\n",
       "</table>\n",
       "</div>"
      ],
      "text/plain": [
       "     Pclass   Age     Fare\n",
       "857       1  51.0  26.5500\n",
       "52        1  49.0  76.7292\n",
       "386       3   1.0  46.9000\n",
       "124       1  54.0  77.2875\n",
       "578       3  29.0  14.4583"
      ]
     },
     "execution_count": 10,
     "metadata": {},
     "output_type": "execute_result"
    }
   ],
   "source": [
    "X_train.head()"
   ]
  },
  {
   "cell_type": "code",
   "execution_count": 13,
   "metadata": {
    "collapsed": true
   },
   "outputs": [
    {
     "ename": "TypeError",
     "evalue": "'(slice(None, None, None), 1)' is an invalid key",
     "output_type": "error",
     "traceback": [
      "\u001b[1;31m---------------------------------------------------------------------------\u001b[0m",
      "\u001b[1;31mTypeError\u001b[0m                                 Traceback (most recent call last)",
      "\u001b[1;32m<ipython-input-13-55a68838a7f9>\u001b[0m in \u001b[0;36m<module>\u001b[1;34m\u001b[0m\n\u001b[1;32m----> 1\u001b[1;33m \u001b[0mX_train\u001b[0m\u001b[1;33m[\u001b[0m\u001b[1;33m:\u001b[0m\u001b[1;33m,\u001b[0m\u001b[1;36m1\u001b[0m\u001b[1;33m]\u001b[0m\u001b[1;33m\u001b[0m\u001b[1;33m\u001b[0m\u001b[0m\n\u001b[0m",
      "\u001b[1;32m~\\Anaconda3\\lib\\site-packages\\pandas\\core\\frame.py\u001b[0m in \u001b[0;36m__getitem__\u001b[1;34m(self, key)\u001b[0m\n\u001b[0;32m   2798\u001b[0m             \u001b[1;32mif\u001b[0m \u001b[0mself\u001b[0m\u001b[1;33m.\u001b[0m\u001b[0mcolumns\u001b[0m\u001b[1;33m.\u001b[0m\u001b[0mnlevels\u001b[0m \u001b[1;33m>\u001b[0m \u001b[1;36m1\u001b[0m\u001b[1;33m:\u001b[0m\u001b[1;33m\u001b[0m\u001b[1;33m\u001b[0m\u001b[0m\n\u001b[0;32m   2799\u001b[0m                 \u001b[1;32mreturn\u001b[0m \u001b[0mself\u001b[0m\u001b[1;33m.\u001b[0m\u001b[0m_getitem_multilevel\u001b[0m\u001b[1;33m(\u001b[0m\u001b[0mkey\u001b[0m\u001b[1;33m)\u001b[0m\u001b[1;33m\u001b[0m\u001b[1;33m\u001b[0m\u001b[0m\n\u001b[1;32m-> 2800\u001b[1;33m             \u001b[0mindexer\u001b[0m \u001b[1;33m=\u001b[0m \u001b[0mself\u001b[0m\u001b[1;33m.\u001b[0m\u001b[0mcolumns\u001b[0m\u001b[1;33m.\u001b[0m\u001b[0mget_loc\u001b[0m\u001b[1;33m(\u001b[0m\u001b[0mkey\u001b[0m\u001b[1;33m)\u001b[0m\u001b[1;33m\u001b[0m\u001b[1;33m\u001b[0m\u001b[0m\n\u001b[0m\u001b[0;32m   2801\u001b[0m             \u001b[1;32mif\u001b[0m \u001b[0mis_integer\u001b[0m\u001b[1;33m(\u001b[0m\u001b[0mindexer\u001b[0m\u001b[1;33m)\u001b[0m\u001b[1;33m:\u001b[0m\u001b[1;33m\u001b[0m\u001b[1;33m\u001b[0m\u001b[0m\n\u001b[0;32m   2802\u001b[0m                 \u001b[0mindexer\u001b[0m \u001b[1;33m=\u001b[0m \u001b[1;33m[\u001b[0m\u001b[0mindexer\u001b[0m\u001b[1;33m]\u001b[0m\u001b[1;33m\u001b[0m\u001b[1;33m\u001b[0m\u001b[0m\n",
      "\u001b[1;32m~\\Anaconda3\\lib\\site-packages\\pandas\\core\\indexes\\base.py\u001b[0m in \u001b[0;36mget_loc\u001b[1;34m(self, key, method, tolerance)\u001b[0m\n\u001b[0;32m   2644\u001b[0m                 )\n\u001b[0;32m   2645\u001b[0m             \u001b[1;32mtry\u001b[0m\u001b[1;33m:\u001b[0m\u001b[1;33m\u001b[0m\u001b[1;33m\u001b[0m\u001b[0m\n\u001b[1;32m-> 2646\u001b[1;33m                 \u001b[1;32mreturn\u001b[0m \u001b[0mself\u001b[0m\u001b[1;33m.\u001b[0m\u001b[0m_engine\u001b[0m\u001b[1;33m.\u001b[0m\u001b[0mget_loc\u001b[0m\u001b[1;33m(\u001b[0m\u001b[0mkey\u001b[0m\u001b[1;33m)\u001b[0m\u001b[1;33m\u001b[0m\u001b[1;33m\u001b[0m\u001b[0m\n\u001b[0m\u001b[0;32m   2647\u001b[0m             \u001b[1;32mexcept\u001b[0m \u001b[0mKeyError\u001b[0m\u001b[1;33m:\u001b[0m\u001b[1;33m\u001b[0m\u001b[1;33m\u001b[0m\u001b[0m\n\u001b[0;32m   2648\u001b[0m                 \u001b[1;32mreturn\u001b[0m \u001b[0mself\u001b[0m\u001b[1;33m.\u001b[0m\u001b[0m_engine\u001b[0m\u001b[1;33m.\u001b[0m\u001b[0mget_loc\u001b[0m\u001b[1;33m(\u001b[0m\u001b[0mself\u001b[0m\u001b[1;33m.\u001b[0m\u001b[0m_maybe_cast_indexer\u001b[0m\u001b[1;33m(\u001b[0m\u001b[0mkey\u001b[0m\u001b[1;33m)\u001b[0m\u001b[1;33m)\u001b[0m\u001b[1;33m\u001b[0m\u001b[1;33m\u001b[0m\u001b[0m\n",
      "\u001b[1;32mpandas\\_libs\\index.pyx\u001b[0m in \u001b[0;36mpandas._libs.index.IndexEngine.get_loc\u001b[1;34m()\u001b[0m\n",
      "\u001b[1;32mpandas\\_libs\\index.pyx\u001b[0m in \u001b[0;36mpandas._libs.index.IndexEngine.get_loc\u001b[1;34m()\u001b[0m\n",
      "\u001b[1;31mTypeError\u001b[0m: '(slice(None, None, None), 1)' is an invalid key"
     ]
    }
   ],
   "source": [
    "X_train[:,1]"
   ]
  },
  {
   "cell_type": "code",
   "execution_count": 11,
   "metadata": {},
   "outputs": [
    {
     "data": {
      "text/html": [
       "<div>\n",
       "<style scoped>\n",
       "    .dataframe tbody tr th:only-of-type {\n",
       "        vertical-align: middle;\n",
       "    }\n",
       "\n",
       "    .dataframe tbody tr th {\n",
       "        vertical-align: top;\n",
       "    }\n",
       "\n",
       "    .dataframe thead th {\n",
       "        text-align: right;\n",
       "    }\n",
       "</style>\n",
       "<table border=\"1\" class=\"dataframe\">\n",
       "  <thead>\n",
       "    <tr style=\"text-align: right;\">\n",
       "      <th></th>\n",
       "      <th>Pclass</th>\n",
       "      <th>Age</th>\n",
       "      <th>Fare</th>\n",
       "    </tr>\n",
       "  </thead>\n",
       "  <tbody>\n",
       "    <tr>\n",
       "      <th>495</th>\n",
       "      <td>3</td>\n",
       "      <td>29.0</td>\n",
       "      <td>14.4583</td>\n",
       "    </tr>\n",
       "    <tr>\n",
       "      <th>648</th>\n",
       "      <td>3</td>\n",
       "      <td>29.0</td>\n",
       "      <td>7.5500</td>\n",
       "    </tr>\n",
       "    <tr>\n",
       "      <th>278</th>\n",
       "      <td>3</td>\n",
       "      <td>7.0</td>\n",
       "      <td>29.1250</td>\n",
       "    </tr>\n",
       "    <tr>\n",
       "      <th>31</th>\n",
       "      <td>1</td>\n",
       "      <td>29.0</td>\n",
       "      <td>146.5208</td>\n",
       "    </tr>\n",
       "    <tr>\n",
       "      <th>255</th>\n",
       "      <td>3</td>\n",
       "      <td>29.0</td>\n",
       "      <td>15.2458</td>\n",
       "    </tr>\n",
       "  </tbody>\n",
       "</table>\n",
       "</div>"
      ],
      "text/plain": [
       "     Pclass   Age      Fare\n",
       "495       3  29.0   14.4583\n",
       "648       3  29.0    7.5500\n",
       "278       3   7.0   29.1250\n",
       "31        1  29.0  146.5208\n",
       "255       3  29.0   15.2458"
      ]
     },
     "execution_count": 11,
     "metadata": {},
     "output_type": "execute_result"
    }
   ],
   "source": [
    "X_test.head()"
   ]
  },
  {
   "cell_type": "code",
   "execution_count": 12,
   "metadata": {
    "collapsed": true
   },
   "outputs": [
    {
     "ename": "TypeError",
     "evalue": "'(slice(None, None, None), 1)' is an invalid key",
     "output_type": "error",
     "traceback": [
      "\u001b[1;31m---------------------------------------------------------------------------\u001b[0m",
      "\u001b[1;31mTypeError\u001b[0m                                 Traceback (most recent call last)",
      "\u001b[1;32m<ipython-input-12-762a62960b1c>\u001b[0m in \u001b[0;36m<module>\u001b[1;34m\u001b[0m\n\u001b[1;32m----> 1\u001b[1;33m \u001b[0mplt\u001b[0m\u001b[1;33m.\u001b[0m\u001b[0mhist\u001b[0m\u001b[1;33m(\u001b[0m\u001b[0mX_train\u001b[0m\u001b[1;33m[\u001b[0m\u001b[1;33m:\u001b[0m\u001b[1;33m,\u001b[0m\u001b[1;36m1\u001b[0m\u001b[1;33m]\u001b[0m\u001b[1;33m,\u001b[0m \u001b[0mbins\u001b[0m\u001b[1;33m=\u001b[0m\u001b[1;36m20\u001b[0m\u001b[1;33m)\u001b[0m\u001b[1;33m\u001b[0m\u001b[1;33m\u001b[0m\u001b[0m\n\u001b[0m",
      "\u001b[1;32m~\\Anaconda3\\lib\\site-packages\\pandas\\core\\frame.py\u001b[0m in \u001b[0;36m__getitem__\u001b[1;34m(self, key)\u001b[0m\n\u001b[0;32m   2798\u001b[0m             \u001b[1;32mif\u001b[0m \u001b[0mself\u001b[0m\u001b[1;33m.\u001b[0m\u001b[0mcolumns\u001b[0m\u001b[1;33m.\u001b[0m\u001b[0mnlevels\u001b[0m \u001b[1;33m>\u001b[0m \u001b[1;36m1\u001b[0m\u001b[1;33m:\u001b[0m\u001b[1;33m\u001b[0m\u001b[1;33m\u001b[0m\u001b[0m\n\u001b[0;32m   2799\u001b[0m                 \u001b[1;32mreturn\u001b[0m \u001b[0mself\u001b[0m\u001b[1;33m.\u001b[0m\u001b[0m_getitem_multilevel\u001b[0m\u001b[1;33m(\u001b[0m\u001b[0mkey\u001b[0m\u001b[1;33m)\u001b[0m\u001b[1;33m\u001b[0m\u001b[1;33m\u001b[0m\u001b[0m\n\u001b[1;32m-> 2800\u001b[1;33m             \u001b[0mindexer\u001b[0m \u001b[1;33m=\u001b[0m \u001b[0mself\u001b[0m\u001b[1;33m.\u001b[0m\u001b[0mcolumns\u001b[0m\u001b[1;33m.\u001b[0m\u001b[0mget_loc\u001b[0m\u001b[1;33m(\u001b[0m\u001b[0mkey\u001b[0m\u001b[1;33m)\u001b[0m\u001b[1;33m\u001b[0m\u001b[1;33m\u001b[0m\u001b[0m\n\u001b[0m\u001b[0;32m   2801\u001b[0m             \u001b[1;32mif\u001b[0m \u001b[0mis_integer\u001b[0m\u001b[1;33m(\u001b[0m\u001b[0mindexer\u001b[0m\u001b[1;33m)\u001b[0m\u001b[1;33m:\u001b[0m\u001b[1;33m\u001b[0m\u001b[1;33m\u001b[0m\u001b[0m\n\u001b[0;32m   2802\u001b[0m                 \u001b[0mindexer\u001b[0m \u001b[1;33m=\u001b[0m \u001b[1;33m[\u001b[0m\u001b[0mindexer\u001b[0m\u001b[1;33m]\u001b[0m\u001b[1;33m\u001b[0m\u001b[1;33m\u001b[0m\u001b[0m\n",
      "\u001b[1;32m~\\Anaconda3\\lib\\site-packages\\pandas\\core\\indexes\\base.py\u001b[0m in \u001b[0;36mget_loc\u001b[1;34m(self, key, method, tolerance)\u001b[0m\n\u001b[0;32m   2644\u001b[0m                 )\n\u001b[0;32m   2645\u001b[0m             \u001b[1;32mtry\u001b[0m\u001b[1;33m:\u001b[0m\u001b[1;33m\u001b[0m\u001b[1;33m\u001b[0m\u001b[0m\n\u001b[1;32m-> 2646\u001b[1;33m                 \u001b[1;32mreturn\u001b[0m \u001b[0mself\u001b[0m\u001b[1;33m.\u001b[0m\u001b[0m_engine\u001b[0m\u001b[1;33m.\u001b[0m\u001b[0mget_loc\u001b[0m\u001b[1;33m(\u001b[0m\u001b[0mkey\u001b[0m\u001b[1;33m)\u001b[0m\u001b[1;33m\u001b[0m\u001b[1;33m\u001b[0m\u001b[0m\n\u001b[0m\u001b[0;32m   2647\u001b[0m             \u001b[1;32mexcept\u001b[0m \u001b[0mKeyError\u001b[0m\u001b[1;33m:\u001b[0m\u001b[1;33m\u001b[0m\u001b[1;33m\u001b[0m\u001b[0m\n\u001b[0;32m   2648\u001b[0m                 \u001b[1;32mreturn\u001b[0m \u001b[0mself\u001b[0m\u001b[1;33m.\u001b[0m\u001b[0m_engine\u001b[0m\u001b[1;33m.\u001b[0m\u001b[0mget_loc\u001b[0m\u001b[1;33m(\u001b[0m\u001b[0mself\u001b[0m\u001b[1;33m.\u001b[0m\u001b[0m_maybe_cast_indexer\u001b[0m\u001b[1;33m(\u001b[0m\u001b[0mkey\u001b[0m\u001b[1;33m)\u001b[0m\u001b[1;33m)\u001b[0m\u001b[1;33m\u001b[0m\u001b[1;33m\u001b[0m\u001b[0m\n",
      "\u001b[1;32mpandas\\_libs\\index.pyx\u001b[0m in \u001b[0;36mpandas._libs.index.IndexEngine.get_loc\u001b[1;34m()\u001b[0m\n",
      "\u001b[1;32mpandas\\_libs\\index.pyx\u001b[0m in \u001b[0;36mpandas._libs.index.IndexEngine.get_loc\u001b[1;34m()\u001b[0m\n",
      "\u001b[1;31mTypeError\u001b[0m: '(slice(None, None, None), 1)' is an invalid key"
     ]
    }
   ],
   "source": [
    "plt.hist(X_train[:,1], bins=20)"
   ]
  },
  {
   "cell_type": "markdown",
   "metadata": {},
   "source": [
    "### Min_max_scaling"
   ]
  },
  {
   "cell_type": "code",
   "execution_count": 14,
   "metadata": {},
   "outputs": [
    {
     "name": "stderr",
     "output_type": "stream",
     "text": [
      "C:\\Users\\deepusuresh\\Anaconda3\\lib\\site-packages\\sklearn\\preprocessing\\data.py:334: DataConversionWarning: Data with input dtype int64, float64 were all converted to float64 by MinMaxScaler.\n",
      "  return self.partial_fit(X, y)\n"
     ]
    }
   ],
   "source": [
    "# this scales the features between 0 and 1.\n",
    "\n",
    "scaler = MinMaxScaler()                           #  create an instance\n",
    "X_train_scaled = scaler.fit_transform(X_train)    #  fit  the scaler to the train set and then transform it\n",
    "X_test_scaled = scaler.transform(X_test)          #  transform (scale) the test set"
   ]
  },
  {
   "cell_type": "code",
   "execution_count": 15,
   "metadata": {},
   "outputs": [
    {
     "data": {
      "text/plain": [
       "array([[0.        , 0.63443842, 0.05182215],\n",
       "       [0.        , 0.60922728, 0.14976542],\n",
       "       [1.        , 0.00415984, 0.0915427 ],\n",
       "       ...,\n",
       "       [1.        , 0.35711585, 0.0150944 ],\n",
       "       [1.        , 0.44535485, 0.03396254],\n",
       "       [0.5       , 0.74788857, 0.07612293]])"
      ]
     },
     "execution_count": 15,
     "metadata": {},
     "output_type": "execute_result"
    }
   ],
   "source": [
    "X_train_scaled"
   ]
  },
  {
   "cell_type": "code",
   "execution_count": 16,
   "metadata": {},
   "outputs": [
    {
     "data": {
      "text/plain": [
       "array([[ 1.        ,  0.35711585,  0.02822072],\n",
       "       [ 1.        ,  0.35711585,  0.01473662],\n",
       "       [ 1.        ,  0.07979327,  0.05684821],\n",
       "       [ 0.        ,  0.35711585,  0.28598956],\n",
       "       [ 1.        ,  0.35711585,  0.02975782],\n",
       "       [ 0.        ,  0.35711585,  0.05953204],\n",
       "       [ 0.        ,  0.49577713,  0.29953885],\n",
       "       [ 0.        ,  0.38232699,  0.32179837],\n",
       "       [ 0.        ,  0.30669356,  0.17777476],\n",
       "       [ 1.        ,  0.35711585,  0.01411046],\n",
       "       [ 1.        ,  0.31929913,  0.01533038],\n",
       "       [ 0.5       ,  0.49577713,  0.02537431],\n",
       "       [ 1.        ,  0.35711585,  0.01512699],\n",
       "       [ 0.5       ,  0.07979327,  0.05123659],\n",
       "       [ 0.        ,  0.29408799,  0.16231419],\n",
       "       [ 1.        ,  0.16803227,  0.01533038],\n",
       "       [ 1.        ,  0.28148242,  0.018006  ],\n",
       "       [ 0.5       ,  0.23106013,  0.07173122],\n",
       "       [ 1.        ,  0.43274928,  0.01571255],\n",
       "       [ 1.        , -0.00315139,  0.01662349],\n",
       "       [ 0.5       ,  0.21845456,  0.02244651],\n",
       "       [ 0.        ,  0.26887684,  0.2958059 ],\n",
       "       [ 1.        ,  0.35711585,  0.01510259],\n",
       "       [ 0.        ,  0.35711585,  0.06050797],\n",
       "       [ 1.        ,  0.26887684,  0.01920152],\n",
       "       [ 0.        ,  0.49577713,  0.26252652],\n",
       "       [ 1.        ,  0.39493256,  0.01541158],\n",
       "       [ 1.        ,  0.26887684,  0.01512699],\n",
       "       [ 0.5       ,  0.30669356,  0.05074862],\n",
       "       [ 1.        ,  0.01676541,  0.05445717],\n",
       "       [ 1.        ,  0.40753813,  0.01690807],\n",
       "       [ 0.5       ,  0.62183285,  0.02049464],\n",
       "       [ 1.        ,  0.34451027,  0.01854277],\n",
       "       [ 0.        ,  0.35711585,  0.06929139],\n",
       "       [ 1.        ,  0.35711585,  0.01375249],\n",
       "       [ 0.        ,  0.39493256,  0.05953204],\n",
       "       [ 1.        ,  0.53359385,  0.01258956],\n",
       "       [ 0.5       ,  0.34451027,  0.02049464],\n",
       "       [ 0.5       ,  0.30669356,  0.02537431],\n",
       "       [ 0.5       ,  0.67225514,  0.02732618],\n",
       "       [ 0.        ,  0.74788857,  0.1545881 ],\n",
       "       [ 1.        ,  0.30669356,  0.01410226],\n",
       "       [ 1.        ,  0.35711585,  0.02830212],\n",
       "       [ 1.        ,  0.16803227,  0.07746484],\n",
       "       [ 0.        ,  0.43274928,  0.16293235],\n",
       "       [ 1.        ,  0.35711585,  0.01541158],\n",
       "       [ 1.        ,  0.35711585,  0.01541158],\n",
       "       [ 0.        ,  0.21845456,  0.51212189],\n",
       "       [ 0.5       ,  0.48317156,  0.02537431],\n",
       "       [ 0.        ,  0.64704399,  0.15546645],\n",
       "       [ 0.        ,  0.35711585,  0.0585561 ],\n",
       "       [ 0.        ,  0.28148242,  0.12366717],\n",
       "       [ 0.5       ,  0.04197655,  0.04489301],\n",
       "       [ 1.        ,  0.23106013,  0.01541158],\n",
       "       [ 0.        ,  0.35711585,  0.05797054],\n",
       "       [ 0.5       ,  0.29408799,  0.14346245],\n",
       "       [ 0.        ,  0.77309971,  0.05182215],\n",
       "       [ 1.        ,  0.13021556,  0.06104473],\n",
       "       [ 1.        ,  0.11760998,  0.05445717],\n",
       "       [ 1.        ,  0.35711585,  0.04538098],\n",
       "       [ 1.        ,  0.26887684,  0.01411046],\n",
       "       [ 1.        ,  0.35711585,  0.04113566],\n",
       "       [ 0.        ,  0.67225514,  0.15276642],\n",
       "       [ 0.        ,  0.35711585,  0.07729405],\n",
       "       [ 1.        ,  0.3319047 ,  0.02173075],\n",
       "       [ 1.        ,  0.39493256,  0.01512699],\n",
       "       [ 0.        ,  0.60922728,  0.05061043],\n",
       "       [ 0.5       ,  0.34451027,  0.06441171],\n",
       "       [ 0.5       ,  0.01676541,  0.05074862],\n",
       "       [ 0.        ,  0.23106013,  0.0585561 ],\n",
       "       [ 0.5       ,  0.29408799,  0.05074862],\n",
       "       [ 0.        ,  0.59662171,  0.10149724],\n",
       "       [ 0.        ,  0.34451027,  0.16038672],\n",
       "       [ 1.        ,  0.35711585,  0.01571255],\n",
       "       [ 1.        ,  0.30039077,  0.01571255],\n",
       "       [ 0.5       ,  0.36972142,  0.04098927],\n",
       "       [ 0.        ,  0.23106013,  0.51334181],\n",
       "       [ 0.        ,  0.49577713,  0.0541074 ],\n",
       "       [ 1.        ,  0.4201437 ,  0.01267896],\n",
       "       [ 0.5       ,  0.35711585,  0.02937564],\n",
       "       [ 1.        ,  0.35711585,  0.04713766],\n",
       "       [ 1.        ,  0.10500441,  0.03103473],\n",
       "       [ 0.5       ,  0.31929913,  0.05074862],\n",
       "       [ 1.        ,  0.19324341,  0.01517579],\n",
       "       [ 0.5       ,  0.57141056,  0.05074862],\n",
       "       [ 0.        ,  0.25627127,  0.15216447],\n",
       "       [ 0.        ,  0.52098828,  0.44409922],\n",
       "       [ 1.        ,  0.78570528,  0.01871355],\n",
       "       [ 0.5       ,  0.4201437 ,  0.02049464],\n",
       "       [ 0.        ,  0.21845456,  0.21255864],\n",
       "       [ 0.        ,  0.35711585,  0.        ],\n",
       "       [ 1.        ,  0.23106013,  0.01541158],\n",
       "       [ 0.5       ,  0.02937098,  0.05074862],\n",
       "       [ 0.        ,  0.54619942,  0.11316786],\n",
       "       [ 1.        ,  0.10500441,  0.05445717],\n",
       "       [ 1.        ,  0.35711585,  0.01411046],\n",
       "       [ 0.5       ,  0.29408799,  0.02830212],\n",
       "       [ 1.        ,  0.19324341,  0.07746484],\n",
       "       [ 0.        ,  0.74788857,  0.05182215],\n",
       "       [ 0.        ,  0.3319047 ,  0.14976542],\n",
       "       [ 1.        ,  0.16803227,  0.0915427 ],\n",
       "       [ 0.5       ,  0.67225514,  0.05074862],\n",
       "       [ 1.        ,  0.23106013,  0.01493181],\n",
       "       [ 1.        ,  0.21845456,  0.01533038],\n",
       "       [ 1.        ,  0.35711585,  0.02042144],\n",
       "       [ 1.        ,  0.43274928,  0.03952537],\n",
       "       [ 0.5       ,  0.34451027,  0.02469116],\n",
       "       [ 1.        ,  0.50838271,  0.07746484],\n",
       "       [ 0.5       ,  0.30669356,  0.05074862],\n",
       "       [ 1.        ,  0.35711585,  0.03025399],\n",
       "       [ 1.        ,  0.59662171,  0.01533038],\n",
       "       [ 0.        ,  0.26887684,  0.10735285],\n",
       "       [ 1.        ,  0.39493256,  0.11027246],\n",
       "       [ 1.        ,  0.35711585,  0.01571255],\n",
       "       [ 0.        ,  0.44535485,  0.2342244 ],\n",
       "       [ 0.5       ,  0.34451027,  0.02537431],\n",
       "       [ 1.        ,  0.29408799,  0.03093714],\n",
       "       [ 0.        ,  0.21845456,  0.44409922],\n",
       "       [ 1.        ,  0.49577713,  0.01541158],\n",
       "       [ 0.5       ,  0.55880499,  0.05123659],\n",
       "       [ 1.        ,  0.35711585,  0.11027246],\n",
       "       [ 1.        ,  0.35711585,  0.0165095 ],\n",
       "       [ 1.        ,  0.2436657 ,  0.01690807],\n",
       "       [ 0.        ,  0.47056599,  0.        ],\n",
       "       [ 1.        ,  0.40753813,  0.01689187],\n",
       "       [ 0.        ,  0.72267742,  0.05797054],\n",
       "       [ 1.        ,  0.35711585,  0.01410226],\n",
       "       [ 1.        ,  0.30669356,  0.01517579],\n",
       "       [ 0.5       ,  0.35711585,  0.        ],\n",
       "       [ 0.5       ,  0.63443842,  0.02444717],\n",
       "       [ 1.        ,  0.25627127,  0.01512699],\n",
       "       [ 1.        ,  0.25627127,  0.01571255],\n",
       "       [ 1.        ,  0.30669356,  0.01376068],\n",
       "       [ 1.        ,  0.2436657 ,  0.01917712],\n",
       "       [ 0.        ,  0.79831085,  0.05074862],\n",
       "       [ 1.        ,  0.25627127,  0.01571255],\n",
       "       [ 1.        ,  0.35711585,  0.01512699],\n",
       "       [ 1.        ,  0.49577713,  0.01849397],\n",
       "       [ 0.5       ,  0.54619942,  0.05074862],\n",
       "       [ 0.5       ,  0.28148242,  0.02537431],\n",
       "       [ 0.5       ,  0.34451027,  0.02537431],\n",
       "       [ 0.        ,  0.40753813,  0.1756683 ],\n",
       "       [ 1.        ,  0.35711585,  0.01571255],\n",
       "       [ 1.        ,  0.21845456,  0.01317512],\n",
       "       [ 0.5       ,  0.35711585,  0.06441171],\n",
       "       [ 1.        ,  0.29408799,  0.01727405],\n",
       "       [ 0.5       ,  0.36972142,  0.02537431],\n",
       "       [ 0.5       ,  0.52098828,  0.05074862],\n",
       "       [ 0.        ,  0.62183285,  0.48312843],\n",
       "       [ 1.        ,  0.35711585,  0.01690807],\n",
       "       [ 0.        ,  0.55880499,  0.16293235],\n",
       "       [ 1.        ,  0.36972142,  0.02434958],\n",
       "       [ 1.        ,  0.45796042,  0.01871355],\n",
       "       [ 1.        ,  0.35711585,  0.01517579],\n",
       "       [ 0.5       ,  0.20584899,  0.02342244],\n",
       "       [ 0.5       ,  0.31929913,  0.02049464],\n",
       "       [ 1.        ,  0.55880499,  0.02821272],\n",
       "       [ 0.5       ,  0.77309971,  0.02049464],\n",
       "       [ 1.        ,  0.35711585,  0.01512699],\n",
       "       [ 1.        ,  0.00100845,  0.0375897 ],\n",
       "       [ 1.        ,  0.35711585,  0.01541158],\n",
       "       [ 1.        ,  0.2436657 ,  0.01411046],\n",
       "       [ 0.        ,  0.67225514,  0.11594108],\n",
       "       [ 1.        ,  0.40753813,  0.03093714],\n",
       "       [ 1.        ,  0.18063784,  0.01411046],\n",
       "       [ 1.        ,  0.30669356,  0.01493181],\n",
       "       [ 1.        ,  0.63443842,  0.01376888],\n",
       "       [ 1.        ,  0.26887684,  0.01521639],\n",
       "       [ 1.        ,  0.29408799,  0.01541158],\n",
       "       [ 1.        ,  0.20584899,  0.01690807],\n",
       "       [ 1.        ,  0.63443842,  0.01571255],\n",
       "       [ 0.        ,  0.47056599,  0.13913574],\n",
       "       [ 1.        ,  0.35711585,  0.01415106],\n",
       "       [ 1.        ,  0.35711585,  0.02830212],\n",
       "       [ 1.        ,  0.1554267 ,  0.01411046],\n",
       "       [ 1.        ,  0.35711585,  0.01571255],\n",
       "       [ 0.        ,  0.38232699,  0.22109808],\n",
       "       [ 1.        ,  0.28148242,  0.01533038],\n",
       "       [ 1.        ,  0.23106013,  0.01571255],\n",
       "       [ 1.        ,  0.35711585,  0.02975782],\n",
       "       [ 0.5       ,  0.38232699,  0.02049464],\n",
       "       [ 0.5       ,  0.38232699,  0.07222739],\n",
       "       [ 1.        ,  0.2436657 ,  0.00783188],\n",
       "       [ 1.        ,  0.25627127,  0.01415106],\n",
       "       [ 0.        ,  0.56510778,  0.0556283 ],\n",
       "       [ 1.        ,  0.26887684,  0.01571255],\n",
       "       [ 1.        ,  0.35711585,  0.01537917],\n",
       "       [ 0.5       ,  0.35711585,  0.        ],\n",
       "       [ 1.        ,  0.31929913,  0.01517579],\n",
       "       [ 0.5       ,  0.30669356,  0.0585561 ],\n",
       "       [ 1.        ,  0.25627127,  0.01917712],\n",
       "       [ 0.        ,  0.38232699,  0.10149724],\n",
       "       [ 1.        ,  0.18063784,  0.01410226],\n",
       "       [ 1.        ,  0.35711585,  0.01510259],\n",
       "       [ 1.        ,  0.35711585,  0.01512699],\n",
       "       [ 0.        ,  0.81091643,  0.12097534],\n",
       "       [ 1.        ,  0.35711585,  0.01571255],\n",
       "       [ 1.        ,  0.00415984,  0.02173075],\n",
       "       [ 0.        ,  0.4201437 ,  0.05182215],\n",
       "       [ 1.        ,  0.60922728,  0.        ],\n",
       "       [ 1.        ,  0.21845456,  0.01571255],\n",
       "       [ 1.        ,  0.35711585,  0.02821272],\n",
       "       [ 0.5       ,  0.87394428,  0.02049464],\n",
       "       [ 1.        ,  0.16803227,  0.02194234],\n",
       "       [ 1.        ,  0.23106013,  0.01571255],\n",
       "       [ 0.5       ,  0.36972142,  0.04684488],\n",
       "       [ 1.        ,  0.38232699,  0.03513366],\n",
       "       [ 1.        ,  0.39493256,  0.01632251],\n",
       "       [ 1.        ,  0.19324341,  0.0150944 ],\n",
       "       [ 1.        ,  0.62183285,  0.01571255],\n",
       "       [ 1.        ,  0.29408799,  0.01376068],\n",
       "       [ 0.        ,  0.69746628,  0.06929139],\n",
       "       [ 1.        ,  0.07979327,  0.07746484],\n",
       "       [ 1.        ,  0.10500441,  0.02975782],\n",
       "       [ 0.5       ,  0.40753813,  0.0239592 ],\n",
       "       [ 1.        ,  0.23106013,  0.01541158],\n",
       "       [ 0.5       ,  0.40123535,  0.05869429],\n",
       "       [ 1.        ,  0.00415984,  0.04015973],\n",
       "       [ 1.        ,  0.55880499,  0.05445717],\n",
       "       [ 0.        ,  0.35711585,  0.21642979],\n",
       "       [ 1.        ,  0.23106013,  0.01517579],\n",
       "       [ 0.        ,  0.25627127,  0.51212189],\n",
       "       [ 1.        ,  0.04197655,  0.03259623],\n",
       "       [ 1.        ,  0.34451027,  0.01541158],\n",
       "       [ 1.        ,  0.20584899,  0.01546857],\n",
       "       [ 1.        ,  0.36972142,  0.03142511],\n",
       "       [ 1.        ,  0.26887684,  0.01415106],\n",
       "       [ 0.5       ,  0.55880499,  0.02635025],\n",
       "       [ 1.        ,  0.30669356,  0.        ],\n",
       "       [ 1.        ,  0.21845456,  0.03945217],\n",
       "       [ 1.        ,  0.40753813,  0.01854277],\n",
       "       [ 0.5       ,  0.29408799,  0.12687155],\n",
       "       [ 1.        ,  0.31929913,  0.01546857],\n",
       "       [ 1.        ,  0.26887684,  0.02052723],\n",
       "       [ 0.        ,  0.69746628,  0.05182215],\n",
       "       [ 1.        ,  0.34451027,  0.03093714],\n",
       "       [ 0.        ,  0.43274928,  1.        ],\n",
       "       [ 0.5       ,  0.0671877 ,  0.06441171],\n",
       "       [ 0.5       ,  0.50838271,  0.03806147],\n",
       "       [ 1.        ,  0.35711585,  0.01427305],\n",
       "       [ 1.        ,  0.35711585,  0.01411046],\n",
       "       [ 0.        ,  0.64704399,  0.18249985],\n",
       "       [ 1.        ,  0.39493256,  0.01546857],\n",
       "       [ 0.5       ,  0.43274928,  0.05074862],\n",
       "       [ 0.        ,  0.21845456,  0.15546645],\n",
       "       [ 1.        ,  0.35711585,  0.02975782],\n",
       "       [ 1.        ,  0.35711585,  0.01588334],\n",
       "       [ 1.        ,  0.35711585,  0.01541158],\n",
       "       [ 1.        ,  0.35711585,  0.01571255],\n",
       "       [ 1.        ,  0.3319047 ,  0.02434958],\n",
       "       [ 1.        ,  0.26887684,  0.01541158],\n",
       "       [ 1.        ,  0.19324341,  0.03513366],\n",
       "       [ 0.        ,  0.60922728,  0.21642979],\n",
       "       [ 0.5       ,  0.35711585,  0.        ],\n",
       "       [ 1.        ,  0.19324341,  0.0915427 ],\n",
       "       [ 1.        ,  0.21845456,  0.03474329],\n",
       "       [ 1.        ,  0.35711585,  0.01512699],\n",
       "       [ 1.        ,  0.55880499,  0.01571255],\n",
       "       [ 1.        ,  0.02937098,  0.06126432],\n",
       "       [ 1.        ,  0.88024707,  0.01512699],\n",
       "       [ 1.        ,  0.35711585,  0.01541158],\n",
       "       [ 1.        ,  0.35711585,  0.04231498],\n",
       "       [ 1.        ,  0.42644649,  0.01256516],\n",
       "       [ 0.        ,  0.49577713,  0.        ],\n",
       "       [ 1.        ,  0.35711585,  0.03025399],\n",
       "       [ 1.        ,  0.3319047 ,  0.02821272],\n",
       "       [ 1.        ,  0.21845456,  0.01463083],\n",
       "       [ 0.        ,  0.35711585,  0.0541074 ]])"
      ]
     },
     "execution_count": 16,
     "metadata": {},
     "output_type": "execute_result"
    }
   ],
   "source": [
    "X_test_scaled"
   ]
  },
  {
   "cell_type": "code",
   "execution_count": 17,
   "metadata": {},
   "outputs": [
    {
     "name": "stdout",
     "output_type": "stream",
     "text": [
      "means (Pclass, Age and Fare):  [0.64365971 0.36641321 0.06335433]\n",
      "std (Pclass, Age and Fare):  [0.41999093 0.16405255 0.09411705]\n"
     ]
    }
   ],
   "source": [
    "# let's have a look at the scaled training dataset: mean and standard deviation\n",
    "\n",
    "print('means (Pclass, Age and Fare): ', X_train_scaled.mean(axis=0))\n",
    "print('std (Pclass, Age and Fare): ', X_train_scaled.std(axis=0))"
   ]
  },
  {
   "cell_type": "markdown",
   "metadata": {},
   "source": [
    "After MinMaxScaling, the distributions are not centered in zero and the standard deviation is not 1 as when normalising the data."
   ]
  },
  {
   "cell_type": "code",
   "execution_count": 18,
   "metadata": {},
   "outputs": [
    {
     "name": "stdout",
     "output_type": "stream",
     "text": [
      "Min values (Pclass, Age and Fare):  [0. 0. 0.]\n",
      "Max values (Pclass, Age and Fare):  [1. 1. 1.]\n"
     ]
    }
   ],
   "source": [
    "# let's look at the new minimum and maximum values\n",
    "\n",
    "print('Min values (Pclass, Age and Fare): ', X_train_scaled.min(axis=0))\n",
    "print('Max values (Pclass, Age and Fare): ', X_train_scaled.max(axis=0))"
   ]
  },
  {
   "cell_type": "markdown",
   "metadata": {},
   "source": [
    "But the minimum and maximum values are standarised across variables, different from what occurs with standarisation."
   ]
  },
  {
   "cell_type": "code",
   "execution_count": 20,
   "metadata": {
    "scrolled": true
   },
   "outputs": [
    {
     "data": {
      "image/png": "[encoded data removed]",
      "text/plain": [
       "<Figure size 432x288 with 1 Axes>"
      ]
     },
     "metadata": {
      "needs_background": "light"
     },
     "output_type": "display_data"
    }
   ],
   "source": [
    "# let's look at the distributions of the transformed variables: Age\n",
    "\n",
    "plt.hist(X_train_scaled[:,1], bins=20)\n",
    "plt.show()"
   ]
  },
  {
   "cell_type": "code",
   "execution_count": 21,
   "metadata": {},
   "outputs": [
    {
     "data": {
      "image/png": "[encoded data removed]",
      "text/plain": [
       "<Figure size 432x288 with 1 Axes>"
      ]
     },
     "metadata": {
      "needs_background": "light"
     },
     "output_type": "display_data"
    }
   ],
   "source": [
    "# let's look at the distributions of the transformed variables: Fare\n",
    "\n",
    "plt.hist(X_train_scaled[:,2], bins=20)\n",
    "plt.show()"
   ]
  },
  {
   "cell_type": "markdown",
   "metadata": {},
   "source": [
    "The variable Age has a somewhat normal distribution after the transformation, reflecting the approximately Gaussian distribution that shows the original variable. Fare on the other had shows a skewed distribution, which is also evidenced after variable transformation in the previous plot. In fact, we can see that the MinMaxScaling of Fare, shrinks the majority of the observations towards the lowest values."
   ]
  },
  {
   "cell_type": "code",
   "execution_count": 22,
   "metadata": {},
   "outputs": [],
   "source": [
    "import seaborn as sns"
   ]
  },
  {
   "cell_type": "code",
   "execution_count": 23,
   "metadata": {},
   "outputs": [
    {
     "data": {
      "text/plain": [
       "<seaborn.axisgrid.JointGrid at 0x24c44fe92b0>"
      ]
     },
     "execution_count": 23,
     "metadata": {},
     "output_type": "execute_result"
    },
    {
     "data": {
      "image/png": "[encoded data removed]",
      "text/plain": [
       "<Figure size 432x432 with 3 Axes>"
      ]
     },
     "metadata": {
      "needs_background": "light"
     },
     "output_type": "display_data"
    }
   ],
   "source": [
    "# let's look at how transformed age looks like compared to the original variable\n",
    "\n",
    "sns.jointplot(X_train.Age, X_train_scaled[:,1], kind='kde')"
   ]
  },
  {
   "cell_type": "code",
   "execution_count": 24,
   "metadata": {},
   "outputs": [
    {
     "data": {
      "text/plain": [
       "<seaborn.axisgrid.JointGrid at 0x24c44ce7400>"
      ]
     },
     "execution_count": 24,
     "metadata": {},
     "output_type": "execute_result"
    },
    {
     "data": {
      "image/png": "[encoded data removed]",
      "text/plain": [
       "<Figure size 432x432 with 3 Axes>"
      ]
     },
     "metadata": {
      "needs_background": "light"
     },
     "output_type": "display_data"
    }
   ],
   "source": [
    "# let's look at how transformed Fare looks like compared to the original variable\n",
    "\n",
    "\n",
    "sns.jointplot(X_train.Fare, X_train_scaled[:,2], kind='kde', xlim=(0,200), ylim=(-1,3))"
   ]
  },
  {
   "cell_type": "markdown",
   "metadata": {
    "collapsed": true
   },
   "source": [
    "As we can see from the above plot, MinMaxScaler is very sensitive to the presence of outliers. It compressed all inliers in the narrow range [0, 0.01] limiting the spread of the variable, and therefore, very likely it would affect the predictive power of this feature."
   ]
  }
 ],
 "metadata": {
  "kernelspec": {
   "display_name": "Python 3",
   "language": "python",
   "name": "python3"
  },
  "language_info": {
   "codemirror_mode": {
    "name": "ipython",
    "version": 3
   },
   "file_extension": ".py",
   "mimetype": "text/x-python",
   "name": "python",
   "nbconvert_exporter": "python",
   "pygments_lexer": "ipython3",
   "version": "3.7.3"
  },
  "toc": {
   "nav_menu": {},
   "number_sections": true,
   "sideBar": true,
   "skip_h1_title": false,
   "toc_cell": false,
   "toc_position": {},
   "toc_section_display": "block",
   "toc_window_display": true
  }
 },
 "nbformat": 4,
 "nbformat_minor": 2
}
