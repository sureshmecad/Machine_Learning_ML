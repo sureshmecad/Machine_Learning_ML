{
  "nbformat": 4,
  "nbformat_minor": 0,
  "metadata": {
    "colab": {
      "name": "2_Chi-Squared-Scipy.ipynb",
      "provenance": [],
      "collapsed_sections": []
    },
    "kernelspec": {
      "name": "python3",
      "display_name": "Python 3"
    },
    "language_info": {
      "name": "python"
    }
  },
  "cells": [
    {
      "cell_type": "markdown",
      "metadata": {
        "id": "XaxC1lz6wbgo"
      },
      "source": [
        "- from scipy.stats import chi2_contingency\n",
        "\n",
        "- scipy.stats.chisquare"
      ]
    },
    {
      "cell_type": "code",
      "metadata": {
        "colab": {
          "base_uri": "https://localhost:8080/"
        },
        "id": "J9gjspJowT4J",
        "outputId": "f4ed0777-613a-47eb-9b72-845a8deb8d2b"
      },
      "source": [
        "import numpy as np\n",
        "\n",
        "### Contingency table\n",
        "tab = np.array([[6,20],[13,5]])\n",
        "\n",
        "### SciPy\n",
        "from scipy.stats import chi2_contingency\n",
        "\n",
        "chi_val, p_val, dof, exp_val = chi2_contingency(tab)\n",
        "\n",
        "print(\"Chi square test\\nChi squared = %f\\np           = %f\\nDOF         = %d\"%(chi_val, p_val, dof))"
      ],
      "execution_count": null,
      "outputs": [
        {
          "output_type": "stream",
          "text": [
            "Chi square test\n",
            "Chi squared = 8.563275\n",
            "p           = 0.003430\n",
            "DOF         = 1\n"
          ],
          "name": "stdout"
        }
      ]
    },
    {
      "cell_type": "code",
      "metadata": {
        "colab": {
          "base_uri": "https://localhost:8080/"
        },
        "id": "Duf1tuUqB7um",
        "outputId": "59c14817-98e2-4dfc-fb45-bca31ca2156d"
      },
      "source": [
        "import numpy as np\n",
        "from scipy.stats import chi2_contingency\n",
        "\n",
        "\n",
        "table = np.array([[90, 60, 104, 95],\n",
        "                  [30, 50,  51, 20],\n",
        "                  [30, 40,  45, 35]])\n",
        "\n",
        "chi2, p, dof, expected = chi2_contingency(table)\n",
        "\n",
        "print(f\"chi2 statistic:     {chi2:.5g}\")\n",
        "print(f\"p-value:            {p:.5g}\")\n",
        "print(f\"degrees of freedom: {dof}\")\n",
        "print(\"expected frequencies:\")\n",
        "print(expected)"
      ],
      "execution_count": null,
      "outputs": [
        {
          "output_type": "stream",
          "text": [
            "chi2 statistic:     24.571\n",
            "p-value:            0.00040984\n",
            "degrees of freedom: 6\n",
            "expected frequencies:\n",
            "[[ 80.53846154  80.53846154 107.38461538  80.53846154]\n",
            " [ 34.84615385  34.84615385  46.46153846  34.84615385]\n",
            " [ 34.61538462  34.61538462  46.15384615  34.61538462]]\n"
          ],
          "name": "stdout"
        }
      ]
    },
    {
      "cell_type": "markdown",
      "metadata": {
        "id": "70Ms-JeFAiw-"
      },
      "source": [
        "-----------"
      ]
    },
    {
      "cell_type": "code",
      "metadata": {
        "colab": {
          "base_uri": "https://localhost:8080/"
        },
        "id": "J202tsWQAj1-",
        "outputId": "e6e32907-2eed-42bd-8018-060cb4f09bf1"
      },
      "source": [
        "from scipy.stats import chisquare\n",
        "chisquare([16, 18, 16, 14, 12, 12])"
      ],
      "execution_count": null,
      "outputs": [
        {
          "output_type": "execute_result",
          "data": {
            "text/plain": [
              "Power_divergenceResult(statistic=2.0, pvalue=0.8491450360846096)"
            ]
          },
          "metadata": {
            "tags": []
          },
          "execution_count": 1
        }
      ]
    }
  ]
}