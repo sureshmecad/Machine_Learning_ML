{
 "cells": [
  {
   "cell_type": "markdown",
   "metadata": {
    "id": "XcxxTsdDQ565"
   },
   "source": [
    "- https://www.youtube.com/watch?v=Yo1vYRdJ95k  ---> Recursive Feature Elimination Technique ---> Unfold Datascience\n",
    "\n",
    "- https://www.linkedin.com/pulse/what-recursive-feature-elimination-amit-mittal/  ---> LinkedIn"
   ]
  },
  {
   "cell_type": "markdown",
   "metadata": {
    "id": "eBgFxkn-bV1g"
   },
   "source": [
    "---------"
   ]
  },
  {
   "cell_type": "code",
   "execution_count": null,
   "metadata": {
    "id": "CHNEC8VsbW6g"
   },
   "outputs": [],
   "source": [
    "# We use the following two commands to fit RFE,.\n",
    "\n",
    "rfe = RFE(estimator = lm, n_features_to_select = 7, step = 1)\n",
    "\n",
    "rfe = rfe.fit(X_train, y_train)"
   ]
  },
  {
   "cell_type": "markdown",
   "metadata": {
    "id": "myCVRLqBbf96"
   },
   "source": [
    "- Here, **lm is a linear regression** model **already trained** on the training set using **all features.**\n",
    "\n",
    "- Once the model is fit, we can get the **best or top-n, 7 in this case,** features for our model by running the following commands."
   ]
  },
  {
   "cell_type": "code",
   "execution_count": null,
   "metadata": {
    "id": "QIeOMtzebtUr"
   },
   "outputs": [],
   "source": [
    "col = X_train.columns[rfe.support_]\n",
    "\n",
    "X_train = X_train[col]"
   ]
  },
  {
   "cell_type": "markdown",
   "metadata": {
    "id": "78sgIu5Ibt7D"
   },
   "source": [
    "- Now, **X_train** will contain data **only for top-n features.** There are two majorly attributes used with RFE."
   ]
  },
  {
   "cell_type": "markdown",
   "metadata": {
    "id": "-jYfj1-wb0Yb"
   },
   "source": [
    "-----------------"
   ]
  },
  {
   "cell_type": "code",
   "execution_count": null,
   "metadata": {
    "id": "lEZp4c6VOfdf"
   },
   "outputs": [],
   "source": [
    "from sklearn.feature_selection import RFE"
   ]
  },
  {
   "cell_type": "code",
   "execution_count": null,
   "metadata": {
    "id": "BKYkkhlzQInP"
   },
   "outputs": [],
   "source": [
    "select = RFE(RandomForestClassifier(n_estimators=100,random_state=42),n_features_to_select=10)\n",
    "select.fit(X_train,y_train)\n",
    "X_train_selected = select.transform(X_train)"
   ]
  },
  {
   "cell_type": "code",
   "execution_count": null,
   "metadata": {
    "id": "XJRO52ixQNqn"
   },
   "outputs": [],
   "source": [
    "print(\"X_train.shape: {}\".format(X_train.shape))\n",
    "print(\"X_train_selected.shape: {}\".format(X_train_selected.shape))"
   ]
  },
  {
   "cell_type": "code",
   "execution_count": null,
   "metadata": {
    "id": "zH9gWccPQXav"
   },
   "outputs": [],
   "source": [
    "mask = select.get_support()\n",
    "plt.matshow(mask.reshape(1,-1),cmap='gray_r')\n",
    "plt.xlabel(\"Sample index\")\n",
    "plt.yticks(())\n",
    "plt.show()"
   ]
  },
  {
   "cell_type": "code",
   "execution_count": null,
   "metadata": {
    "id": "KPYeKAdoQZ7v"
   },
   "outputs": [],
   "source": [
    "X_test_selected = select.transform(X_test)\n",
    "\n",
    "model.fit(X_train,y_train)\n",
    "print(\"Scoree with all features: {:,.3f}\".format(model.score(X_test,y_test)))\n",
    "\n",
    "model.fit(X_train_selected,y_train)\n",
    "print(\"Scoree with selected features: {:,.3f}\".format(model.score(X_test_selected,y_test)))"
   ]
  }
 ],
 "metadata": {
  "colab": {
   "collapsed_sections": [],
   "name": "1_Recursive-Feature-Elemination.ipynb",
   "provenance": []
  },
  "kernelspec": {
   "display_name": "Python 3",
   "language": "python",
   "name": "python3"
  },
  "language_info": {
   "codemirror_mode": {
    "name": "ipython",
    "version": 3
   },
   "file_extension": ".py",
   "mimetype": "text/x-python",
   "name": "python",
   "nbconvert_exporter": "python",
   "pygments_lexer": "ipython3",
   "version": "3.7.3"
  }
 },
 "nbformat": 4,
 "nbformat_minor": 1
}
