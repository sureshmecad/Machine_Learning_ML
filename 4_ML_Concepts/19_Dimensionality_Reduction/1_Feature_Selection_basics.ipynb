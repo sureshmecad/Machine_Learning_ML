{
  "nbformat": 4,
  "nbformat_minor": 0,
  "metadata": {
    "colab": {
      "name": "1_Feature-Selection_basics.ipynb",
      "provenance": [],
      "collapsed_sections": []
    },
    "kernelspec": {
      "name": "python3",
      "display_name": "Python 3"
    },
    "language_info": {
      "name": "python"
    }
  },
  "cells": [
    {
      "cell_type": "markdown",
      "metadata": {
        "id": "auSjp_5EmsLu"
      },
      "source": [
        "- http://www.datasciencesmachinelearning.com/2019/10/feature-selection-using-sklearn.html"
      ]
    },
    {
      "cell_type": "code",
      "metadata": {
        "id": "qyJn5f8pmlzI"
      },
      "source": [
        ""
      ],
      "execution_count": null,
      "outputs": []
    }
  ]
}