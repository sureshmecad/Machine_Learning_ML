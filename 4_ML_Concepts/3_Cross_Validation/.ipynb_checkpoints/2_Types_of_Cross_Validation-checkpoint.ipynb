{
 "cells": [
  {
   "cell_type": "markdown",
   "metadata": {},
   "source": [
    "## Cross Validation\n",
    "### Evaluating Model Performance"
   ]
  },
  {
   "cell_type": "markdown",
   "metadata": {},
   "source": [
    "-------------------------------------------------------------------------------------------------------------------------------"
   ]
  },
  {
   "cell_type": "markdown",
   "metadata": {},
   "source": [
    "### OPTION :1\n",
    "    \n",
    "    Use all available data for training and test on same dataset\n",
    "    \n",
    "#### This is not a good way of measuring someones mathematical skills because he has seen already those questions before."
   ]
  },
  {
   "cell_type": "markdown",
   "metadata": {},
   "source": [
    "![8_Cross_Validation](image/6.JPG)"
   ]
  },
  {
   "cell_type": "markdown",
   "metadata": {},
   "source": [
    "-------------------------------------------------------------------------------------------------------------------------------"
   ]
  },
  {
   "cell_type": "markdown",
   "metadata": {},
   "source": [
    "### OPTION :2\n",
    "\n",
    "        Split available dataset into training and test sets"
   ]
  },
  {
   "cell_type": "markdown",
   "metadata": {},
   "source": [
    "![8_Cross_Validation](image/7.JPG)"
   ]
  },
  {
   "cell_type": "markdown",
   "metadata": {},
   "source": [
    "![8_Cross_Validation](image/8.JPG)"
   ]
  },
  {
   "cell_type": "markdown",
   "metadata": {},
   "source": [
    "-------------------------------------------------------------------------------------------------------------------------------"
   ]
  },
  {
   "cell_type": "markdown",
   "metadata": {},
   "source": [
    "### OPTION :3\n",
    "    \n",
    "    K Fold Cross Validation"
   ]
  },
  {
   "cell_type": "markdown",
   "metadata": {},
   "source": [
    "![8_Cross_Validation](image/9.JPG)"
   ]
  },
  {
   "cell_type": "markdown",
   "metadata": {},
   "source": [
    "-------------------------------------------------------------------------------------------------------------------------------"
   ]
  },
  {
   "cell_type": "raw",
   "metadata": {},
   "source": [
    "#  Cross Validation is a technique which involves reserving a particular sample of dataset on which you do not train the model.\n",
    "\n",
    "   Later you test the model on this sample before finalizing the model."
   ]
  },
  {
   "cell_type": "markdown",
   "metadata": {},
   "source": [
    "## Types of Cross Validation"
   ]
  },
  {
   "cell_type": "raw",
   "metadata": {},
   "source": [
    "Types of Cross Validation\n",
    "\n",
    "\n",
    "        1. Leave One Out CV (LOOCV)\n",
    "        \n",
    "        2. K FOLD Cross Validation\n",
    "        \n",
    "        3. Stratified Cross Validation\n",
    "        \n",
    "        4. Time Series Cross Validation\n"
   ]
  },
  {
   "cell_type": "markdown",
   "metadata": {},
   "source": [
    "![8_Cross_Validation](image/1.JPG)"
   ]
  },
  {
   "cell_type": "raw",
   "metadata": {},
   "source": [
    "Here depending upon \"random_state\" Accuracy will change."
   ]
  },
  {
   "cell_type": "markdown",
   "metadata": {},
   "source": [
    "-------------------------------------------------------------------------------------------------------------------------------"
   ]
  },
  {
   "cell_type": "markdown",
   "metadata": {},
   "source": [
    "## 1. Leave One Out CV (LOOCV)"
   ]
  },
  {
   "cell_type": "raw",
   "metadata": {},
   "source": [
    "1. Leave One Out CV (LOOCV)\n",
    "\n",
    "      - This is old method and no one using this method"
   ]
  },
  {
   "cell_type": "markdown",
   "metadata": {},
   "source": [
    "![8_Cross_Validation](image/2.JPG)"
   ]
  },
  {
   "cell_type": "markdown",
   "metadata": {},
   "source": [
    "## 2. K FOLD Cross Validation"
   ]
  },
  {
   "cell_type": "raw",
   "metadata": {},
   "source": [
    "2. K FOLD Cross Validation\n",
    "\n",
    "     -"
   ]
  },
  {
   "cell_type": "raw",
   "metadata": {},
   "source": [
    "#  Here the steps involved in cross validation:\n",
    "\n",
    "      - You Reserve a sample of dataset\n",
    "      \n",
    "      - Train the model using the remaining part of the dataset\n",
    "      \n",
    "      - Use the reserve sample of the dataset test (validation) set. This will help you to know the effectiveness of model \n",
    "      \n",
    "        performance. If your model delivers a positive result on validation data go ahead with current model."
   ]
  },
  {
   "cell_type": "markdown",
   "metadata": {},
   "source": [
    "![8_Cross_Validation](image/5.JPG)"
   ]
  },
  {
   "cell_type": "markdown",
   "metadata": {},
   "source": [
    "![8_Cross_Validation](image/3.JPG)"
   ]
  },
  {
   "cell_type": "markdown",
   "metadata": {},
   "source": [
    "## 3. Stratified Cross Validation"
   ]
  },
  {
   "cell_type": "markdown",
   "metadata": {},
   "source": [
    "![8_Cross_Validation](image/4.JPG)"
   ]
  },
  {
   "cell_type": "markdown",
   "metadata": {},
   "source": [
    "## 4. Time Series Cross Validation"
   ]
  },
  {
   "cell_type": "markdown",
   "metadata": {},
   "source": [
    "-----------------"
   ]
  }
 ],
 "metadata": {
  "kernelspec": {
   "display_name": "Python 3",
   "language": "python",
   "name": "python3"
  },
  "language_info": {
   "codemirror_mode": {
    "name": "ipython",
    "version": 3
   },
   "file_extension": ".py",
   "mimetype": "text/x-python",
   "name": "python",
   "nbconvert_exporter": "python",
   "pygments_lexer": "ipython3",
   "version": "3.7.3"
  }
 },
 "nbformat": 4,
 "nbformat_minor": 2
}
