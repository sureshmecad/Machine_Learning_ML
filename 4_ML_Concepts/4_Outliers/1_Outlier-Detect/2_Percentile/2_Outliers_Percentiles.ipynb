{
  "nbformat": 4,
  "nbformat_minor": 0,
  "metadata": {
    "colab": {
      "name": "2_Outliers_Percentiles.ipynb",
      "provenance": [],
      "collapsed_sections": []
    },
    "kernelspec": {
      "name": "python3",
      "display_name": "Python 3"
    },
    "language_info": {
      "name": "python"
    }
  },
  "cells": [
    {
      "cell_type": "markdown",
      "metadata": {
        "id": "JzcT30nTcJFY"
      },
      "source": [
        "##### **Explore samples that are above 99.90% percentile and below 1% percentile rank**"
      ]
    },
    {
      "cell_type": "markdown",
      "metadata": {
        "id": "KEULaPr_cwjH"
      },
      "source": [
        "          min_thresold, max_thresold = df['price_per_sqft'].quantile([0.01, 0.999])\n",
        "          min_thresold, max_thresold\n",
        "\n",
        "          df[df.price_per_sqft < min_thresold]\n",
        "\n",
        "          df[df.price_per_sqft > max_thresold]"
      ]
    },
    {
      "cell_type": "markdown",
      "metadata": {
        "id": "Nh8ajf1Ic-2g"
      },
      "source": [
        "#### **Remove Outliers**"
      ]
    },
    {
      "cell_type": "markdown",
      "metadata": {
        "id": "qT8lLTAodEVo"
      },
      "source": [
        "\n",
        "          df2 = df[(df.price_per_sqft<max_thresold) & (df.price_per_sqft>min_thresold)]\n",
        "          df2.shape"
      ]
    },
    {
      "cell_type": "markdown",
      "metadata": {
        "id": "3ipRQ2yBqx9A"
      },
      "source": [
        "------------------------"
      ]
    },
    {
      "cell_type": "code",
      "metadata": {
        "id": "64IhW_mcqzUR"
      },
      "source": [
        "#copy data again into new_data\n",
        "new_data = data.copy()\n",
        "\n",
        "#create upper and lower limits for column 'Fare' based on 95% and 5% respectively.\n",
        "upper_lim = data['Fare'].quantile(0.95) \n",
        "lower_lim = data['Fare'].quantile(0.05) \n",
        "\n",
        "#Dropping the outlier rows in 'Fare' with your created limited.\n",
        "\n",
        "new_data = data[(data['Fare'] < upper_lim) & (data['Fare'] > lower_lim)]\n",
        "\n",
        "#print the length of both original and new data after filter\n",
        "print('Length of orignial data:', len(data))\n",
        "print('Length of new data:', len(new_data))"
      ],
      "execution_count": null,
      "outputs": []
    },
    {
      "cell_type": "code",
      "metadata": {
        "id": "BUqw_3hPq3KQ"
      },
      "source": [
        "Length of orignial data: 891\n",
        "Length of new data: 791"
      ],
      "execution_count": null,
      "outputs": []
    },
    {
      "cell_type": "markdown",
      "metadata": {
        "id": "H4iqxi1mqzk5"
      },
      "source": [
        "--------------"
      ]
    },
    {
      "cell_type": "code",
      "metadata": {
        "id": "vRrQwW_NKU9p"
      },
      "source": [
        "lower_bound = 0.1\n",
        "upper_bound = 0.95\n",
        "\n",
        "res = df['values'].quantile([lower_bound, upper_bound])"
      ],
      "execution_count": null,
      "outputs": []
    }
  ]
}