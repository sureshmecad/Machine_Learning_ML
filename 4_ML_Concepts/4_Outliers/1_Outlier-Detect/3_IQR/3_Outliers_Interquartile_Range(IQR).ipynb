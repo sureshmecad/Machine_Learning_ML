{
  "nbformat": 4,
  "nbformat_minor": 0,
  "metadata": {
    "colab": {
      "name": "3_Outliers_Interquartile-Range(IQR).ipynb",
      "provenance": [],
      "collapsed_sections": []
    },
    "kernelspec": {
      "name": "python3",
      "display_name": "Python 3"
    },
    "language_info": {
      "name": "python"
    }
  },
  "cells": [
    {
      "cell_type": "markdown",
      "metadata": {
        "id": "482PHuhWeOiC"
      },
      "source": [
        "##### **Identifying Outliers with Interquartile Range (IQR)**"
      ]
    },
    {
      "cell_type": "markdown",
      "metadata": {
        "id": "N9pI6hLBeTDo"
      },
      "source": [
        "- The **interquartile range (IQR)** is a measure of statistical dispersion and is calculated as the **difference between the 75th and 25th percentiles.**\n",
        "\n",
        "- It is represented by the formula **IQR = Q3 − Q1.** "
      ]
    },
    {
      "cell_type": "code",
      "metadata": {
        "id": "NMsnibWfd8SQ"
      },
      "source": [
        "Q1 = df.quantile(0.25)\n",
        "Q3 = df.quantile(0.75)\n",
        "IQR = Q3 - Q1\n",
        "print(IQR)"
      ],
      "execution_count": null,
      "outputs": []
    },
    {
      "cell_type": "code",
      "metadata": {
        "id": "t96SrMuSeg-i"
      },
      "source": [
        "print(df < (Q1 - 1.5 * IQR)) | (df > (Q3 + 1.5 * IQR))"
      ],
      "execution_count": null,
      "outputs": []
    },
    {
      "cell_type": "markdown",
      "metadata": {
        "id": "Vrqz5IsQex8K"
      },
      "source": [
        "- The code below generates an output with the **'True' and 'False'** values. Points where the values are **'True'** represent the **presence of the outlier.**"
      ]
    }
  ]
}