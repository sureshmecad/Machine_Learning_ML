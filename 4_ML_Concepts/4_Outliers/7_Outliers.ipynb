{
  "nbformat": 4,
  "nbformat_minor": 0,
  "metadata": {
    "colab": {
      "name": "7. Outliers",
      "provenance": [],
      "collapsed_sections": []
    },
    "kernelspec": {
      "name": "python3",
      "display_name": "Python 3"
    }
  },
  "cells": [
    {
      "cell_type": "code",
      "metadata": {
        "id": "4O0IoDAO9-WL"
      },
      "source": [
        "import pandas as pd\n",
        "import numpy as np\n",
        "import seaborn as sns\n",
        "from matplotlib import pyplot as plt\n",
        "\n",
        "train = pd.read_csv('../input/cost-of-living/cost-of-living-2018.csv')\n",
        "sns.boxplot(train['Cost of Living Index'])\n",
        "plt.title(\"Box Plot before outlier removing\")\n",
        "plt.show()\n",
        "\n",
        "def drop_outliers(df, field_name):\n",
        "    iqr = 1.5 * (np.percentile(df[field_name], 75) - np.percentile(df[field_name], 25))\n",
        "    df.drop(df[df[field_name] > (iqr + np.percentile(df[field_name], 75))].index, inplace=True)\n",
        "    df.drop(df[df[field_name] < (np.percentile(df[field_name], 25) - iqr)].index, inplace=True)\n",
        "    \n",
        "drop_outliers(train, 'Cost of Living Index')\n",
        "sns.boxplot(train['Cost of Living Index'])\n",
        "plt.title(\"Box Plot after outlier removing\")\n",
        "plt.show()"
      ],
      "execution_count": null,
      "outputs": []
    },
    {
      "cell_type": "markdown",
      "metadata": {
        "id": "K2G-wIgKJRLw"
      },
      "source": [
        "https://medium.com/analytics-vidhya/outlier-detection-in-machine-learning-26e0bc7105cd"
      ]
    },
    {
      "cell_type": "markdown",
      "metadata": {
        "id": "1eHWZq81BPCZ"
      },
      "source": [
        "### What are outliers ?"
      ]
    },
    {
      "cell_type": "markdown",
      "metadata": {
        "id": "I5EXVaI6p3ND"
      },
      "source": [
        "- suppose we have a dataset consisting the distance between school and home of the students in km which is given as **5,6,7,8,9,10,6,7,100** here in this dataset **100** will behave like an outlier."
      ]
    },
    {
      "cell_type": "markdown",
      "metadata": {
        "id": "osBib_EABTlp"
      },
      "source": [
        "### Should we remove outliers or not ?"
      ]
    },
    {
      "cell_type": "markdown",
      "metadata": {
        "id": "FGiQKx2SBYVI"
      },
      "source": [
        "- Suppose atleast 30%( or a large amount) of datapoints are outliers means there is some interesting and meaningful insight in outliers and you should not remove it."
      ]
    },
    {
      "cell_type": "markdown",
      "metadata": {
        "id": "SxU8YvqgFW7j"
      },
      "source": [
        "### Detection of outliers based on Distributions"
      ]
    },
    {
      "cell_type": "markdown",
      "metadata": {
        "id": "dGEzUBXGFTB9"
      },
      "source": [
        "i. Normally Distributed data :\n",
        "- In case of normal distribution if datapoints lie away from the range (μ + 3σ) and (μ — 3 σ) is considered as outliers."
      ]
    },
    {
      "cell_type": "code",
      "metadata": {
        "id": "dq0J_iaT-LC3"
      },
      "source": [
        "# Plotting and observing whether dataset has outliers or not\n",
        "plt.figure(figsize=(16, 4)) # figure size\n",
        "plt.subplot(1, 3, 1) #multiple plot plottig and 1st position of fig\n",
        "sns.distplot(df[\"RM\"], bins=30) #checking is data normally dist ?\n",
        "plt.title('Histogram') \n",
        "plt.subplot(1, 3, 2)  #plotting second position of figure\n",
        "sns.boxplot(y=df[\"RM\"]) #boxplot\n",
        "plt.title('Boxplot')\n",
        "plt.subplot(1, 3, 3) #plotting third position of figure\n",
        "stats.probplot(df[\"RM\"], dist=\"norm\", plot=plt) #q-q plot to check #how our data is distributed in reference with normal distribution\n",
        "plt.ylabel('RM quantiles')\n",
        "plt.show()"
      ],
      "execution_count": null,
      "outputs": []
    },
    {
      "cell_type": "markdown",
      "metadata": {
        "id": "cj-O706dKN8J"
      },
      "source": [
        "### To find minimum and maximum boundary value"
      ]
    },
    {
      "cell_type": "code",
      "metadata": {
        "id": "hewP7IlhJZtK"
      },
      "source": [
        "# outlier boundary value for normally distributed dataset\n",
        "def min_max_boundary(data,col):\n",
        "    min_value=df[col].mean()-3*df[col].std()\n",
        "    max_value=df[col].mean()+3*df[col].std()\n",
        "    return min_value,max_value\n",
        "min_max_boundary(df,\"RM\")"
      ],
      "execution_count": null,
      "outputs": []
    },
    {
      "cell_type": "markdown",
      "metadata": {
        "id": "mSYGIIJzKXfY"
      },
      "source": [
        "#### Any value more than 8.39 and less than 4.17 would be considered as outliers."
      ]
    },
    {
      "cell_type": "markdown",
      "metadata": {
        "id": "fIGIfn56KaBg"
      },
      "source": [
        "### Removing outliers :"
      ]
    },
    {
      "cell_type": "code",
      "metadata": {
        "id": "qMeTWyAVJZwo"
      },
      "source": [
        "#filtering all the value mabove maximum boundary value and below #minimum  boundary value \n",
        "df=df[(df[\"RM\"] >4.683568137432223) & (df[\"RM\"] < 7.7636498112857)]\n",
        "\n",
        "#plotting the df[\"RM\"] after removing outliers\n",
        "plt.figure(figsize=(16, 4)) \n",
        "plt.subplot(1, 3, 1)  \n",
        "sns.distplot(df[\"RM\"], bins=30)  \n",
        "plt.title('Histogram') \n",
        "plt.subplot(1, 3, 2)   \n",
        "sns.boxplot(y=df[\"RM\"]) \n",
        "plt.title('Boxplot')\n",
        "plt.subplot(1, 3, 3) \n",
        "stats.probplot(df[\"RM\"], dist=\"norm\", plot=plt)\n",
        "plt.ylabel('RM quantiles')\n",
        "plt.show()"
      ],
      "execution_count": null,
      "outputs": []
    },
    {
      "cell_type": "markdown",
      "metadata": {
        "id": "B9avA10KKmq4"
      },
      "source": [
        "### ii. Skewed Distributed data :\n",
        "- If value doesnot lie in between the range :- 25percentile- (1.5*IQR) & 75percentile+(1.5*IQR) then datpoint is considered as outliers.\n",
        "- Here IQR= Q3-Q1"
      ]
    },
    {
      "cell_type": "code",
      "metadata": {
        "id": "qxuFiyloJZ0Y"
      },
      "source": [
        "#plotting different plot to analyse presence of outliers\n",
        "plt.figure(figsize=(16, 4)) # figure size\n",
        "plt.subplot(1, 3, 1) #multiple plot plottig and 1st position of figure\n",
        "sns.distplot(df[\"LSTAT\"], bins=30) #checking data is normally distributed or not\n",
        "plt.title('Histogram',fontsize=20) \n",
        "plt.subplot(1, 3, 2)  #plotting second position of figure\n",
        "sns.boxplot(y=df[\"LSTAT\"]) #boxplot\n",
        "plt.title('Boxplot',fontsize=20)\n",
        "plt.subplot(1, 3, 3) #plotting third position of figure\n",
        "stats.probplot(df[\"LSTAT\"], dist=\"norm\", plot=plt)#q-q plot to check how our data is distributed in reference with normal distribution\n",
        "plt.title(\"Q-Q plot\",fontsize=20)\n",
        "plt.show()"
      ],
      "execution_count": null,
      "outputs": []
    },
    {
      "cell_type": "markdown",
      "metadata": {
        "id": "t95Ow2imLFnK"
      },
      "source": [
        "### To find minimum and maximum boundary value"
      ]
    },
    {
      "cell_type": "code",
      "metadata": {
        "id": "rAk7r3ihKvPy"
      },
      "source": [
        "# finding upper and lower boundary limit\n",
        "def non_normal_outliers(data,col):\n",
        "    IQR=df[col].quantile(0.75)-df[col].quantile(0.25)\n",
        "    lower_limit=data[col].quantile(0.75) + (1.5*IQR)\n",
        "    upper_limit=data[col].quantile(0.25) - (1.5*IQR)\n",
        "    return \"lower limit of dataset : {0},  upper limit of dataset \n",
        "            {1}\".format(lower_limit,upper_limit)\n",
        "  non_normal_outliers(df,\"LSTAT\")\n",
        "\n",
        "\n",
        "# we can write same code in another way to print minimum and maximum value in the form of list.\n",
        "list1=[]\n",
        "def outer_function(data,col):\n",
        "    # Hidden from the outer code\n",
        "    IQR=df[col].quantile(0.75)-df[col].quantile(0.25)\n",
        "    def max_value(data,col):\n",
        "        max_=df[col].quantile(0.75) + (1.5*IQR)\n",
        "        return max_\n",
        "    list1.append(max_value(data,col))\n",
        "    def min_value (data,col):\n",
        "        min_=df[col].quantile(0.25) - (1.5*IQR)\n",
        "        return min_ \n",
        "    list1.append(min_value(data,col))\n",
        "#inner_increment(5)\n",
        "outer_function(df,\"LSTAT\")\n",
        "list1"
      ],
      "execution_count": null,
      "outputs": []
    },
    {
      "cell_type": "markdown",
      "metadata": {
        "id": "ctHig21_LH8a"
      },
      "source": [
        "### Removing outliers :"
      ]
    },
    {
      "cell_type": "code",
      "metadata": {
        "id": "XuPa5ExhKvXg"
      },
      "source": [
        "# filtering values lie above and below min and max value\n",
        "df=df.loc[(df[\"LSTAT\"]<list1[0]) & (df[\"LSTAT\"]>list1[1])]\n",
        "--------------------------------------------------------------------\n",
        "# plotting the dataset after eliminating outliers\n",
        "plt.figure(figsize=(16, 4)) \n",
        "plt.subplot(1, 3, 1)  \n",
        "sns.distplot(df[\"LSTAT\"], bins=30)  \n",
        "plt.title('Histogram') \n",
        "plt.subplot(1, 3, 2)   \n",
        "sns.boxplot(y=df[\"LSTAT\"]) \n",
        "plt.title('Boxplot')\n",
        "plt.subplot(1, 3, 3) \n",
        "stats.probplot(df[\"LSTAT\"], dist=\"norm\", plot=plt)\n",
        "plt.ylabel('RM quantiles')\n",
        "plt.show()"
      ],
      "execution_count": null,
      "outputs": []
    },
    {
      "cell_type": "markdown",
      "metadata": {
        "id": "VJ1-7MI8XFb0"
      },
      "source": [
        "----------------------"
      ]
    },
    {
      "cell_type": "markdown",
      "metadata": {
        "id": "ihCPEdBjZy-V"
      },
      "source": [
        "- https://towardsdatascience.com/ways-to-detect-and-remove-the-outliers-404d16608dba"
      ]
    },
    {
      "cell_type": "markdown",
      "metadata": {
        "id": "L9lLZ6CJaJNN"
      },
      "source": [
        "### **1) IQR**"
      ]
    },
    {
      "cell_type": "code",
      "metadata": {
        "id": "YyD6Gd7gdGtv"
      },
      "source": [
        "Q1=price_df.quantile(0.25)\n",
        "Q3=price_df.quantile(0.75)\n",
        "IQR=Q3-Q1\n",
        "lowqe_bound=Q1 - 1.5 * IQR\n",
        "upper_bound=Q3 + 1.5 * IQR\n",
        "print(lowqe_bound,upper_bound)"
      ],
      "execution_count": null,
      "outputs": []
    },
    {
      "cell_type": "code",
      "metadata": {
        "id": "xZcGAfKqdH4P"
      },
      "source": [
        "IQR_price = price_df[~((price_df < lowqe_bound) |(price_df > upper_bound)).any(axis=1)]\n",
        "IQR_price.shape   #(24, 1)"
      ],
      "execution_count": null,
      "outputs": []
    },
    {
      "cell_type": "markdown",
      "metadata": {
        "id": "rXx2SyZldLO_"
      },
      "source": [
        "------------------------"
      ]
    },
    {
      "cell_type": "code",
      "metadata": {
        "id": "K3goZ1-aaMcO"
      },
      "source": [
        "Q1 = boston_df_o1.quantile(0.25)\n",
        "Q3 = boston_df_o1.quantile(0.75)\n",
        "IQR = Q3 - Q1\n",
        "print(IQR)"
      ],
      "execution_count": null,
      "outputs": []
    },
    {
      "cell_type": "code",
      "metadata": {
        "id": "SRjQZ--1aP0-"
      },
      "source": [
        "print(boston_df_o1 < (Q1 - 1.5 * IQR)) | (boston_df_o1 > (Q3 + 1.5 * IQR))"
      ],
      "execution_count": null,
      "outputs": []
    },
    {
      "cell_type": "markdown",
      "metadata": {
        "id": "Z9W1EnULXTE0"
      },
      "source": [
        "### **2) Z Score**"
      ]
    },
    {
      "cell_type": "markdown",
      "metadata": {
        "id": "Vf-uZrNpmI3u"
      },
      "source": [
        "- **outlier** if it has a **z-score less than -3 or greater than 3.**\n",
        "\n",
        "- **Outliers = Observations with z-scores > 3 or < -3**"
      ]
    },
    {
      "cell_type": "markdown",
      "metadata": {
        "id": "TQj-Vho4jinr"
      },
      "source": [
        "##### **a) Finding Z-score using Scipy**"
      ]
    },
    {
      "cell_type": "code",
      "metadata": {
        "id": "x9SSM01vjpex"
      },
      "source": [
        "import pandas as pd\n",
        "from scipy import stats"
      ],
      "execution_count": null,
      "outputs": []
    },
    {
      "cell_type": "code",
      "metadata": {
        "colab": {
          "base_uri": "https://localhost:8080/",
          "height": 452
        },
        "id": "ByCxWmeQjqFx",
        "outputId": "f24f1eff-7160-4643-ed51-9a7217a8268e"
      },
      "source": [
        "df = pd.DataFrame({'data':[-2,8,13,19,34,49,50,53,59,64,87,89,1456]})\n",
        "df"
      ],
      "execution_count": null,
      "outputs": [
        {
          "output_type": "execute_result",
          "data": {
            "text/html": [
              "<div>\n",
              "<style scoped>\n",
              "    .dataframe tbody tr th:only-of-type {\n",
              "        vertical-align: middle;\n",
              "    }\n",
              "\n",
              "    .dataframe tbody tr th {\n",
              "        vertical-align: top;\n",
              "    }\n",
              "\n",
              "    .dataframe thead th {\n",
              "        text-align: right;\n",
              "    }\n",
              "</style>\n",
              "<table border=\"1\" class=\"dataframe\">\n",
              "  <thead>\n",
              "    <tr style=\"text-align: right;\">\n",
              "      <th></th>\n",
              "      <th>data</th>\n",
              "    </tr>\n",
              "  </thead>\n",
              "  <tbody>\n",
              "    <tr>\n",
              "      <th>0</th>\n",
              "      <td>-2</td>\n",
              "    </tr>\n",
              "    <tr>\n",
              "      <th>1</th>\n",
              "      <td>8</td>\n",
              "    </tr>\n",
              "    <tr>\n",
              "      <th>2</th>\n",
              "      <td>13</td>\n",
              "    </tr>\n",
              "    <tr>\n",
              "      <th>3</th>\n",
              "      <td>19</td>\n",
              "    </tr>\n",
              "    <tr>\n",
              "      <th>4</th>\n",
              "      <td>34</td>\n",
              "    </tr>\n",
              "    <tr>\n",
              "      <th>5</th>\n",
              "      <td>49</td>\n",
              "    </tr>\n",
              "    <tr>\n",
              "      <th>6</th>\n",
              "      <td>50</td>\n",
              "    </tr>\n",
              "    <tr>\n",
              "      <th>7</th>\n",
              "      <td>53</td>\n",
              "    </tr>\n",
              "    <tr>\n",
              "      <th>8</th>\n",
              "      <td>59</td>\n",
              "    </tr>\n",
              "    <tr>\n",
              "      <th>9</th>\n",
              "      <td>64</td>\n",
              "    </tr>\n",
              "    <tr>\n",
              "      <th>10</th>\n",
              "      <td>87</td>\n",
              "    </tr>\n",
              "    <tr>\n",
              "      <th>11</th>\n",
              "      <td>89</td>\n",
              "    </tr>\n",
              "    <tr>\n",
              "      <th>12</th>\n",
              "      <td>1456</td>\n",
              "    </tr>\n",
              "  </tbody>\n",
              "</table>\n",
              "</div>"
            ],
            "text/plain": [
              "    data\n",
              "0     -2\n",
              "1      8\n",
              "2     13\n",
              "3     19\n",
              "4     34\n",
              "5     49\n",
              "6     50\n",
              "7     53\n",
              "8     59\n",
              "9     64\n",
              "10    87\n",
              "11    89\n",
              "12  1456"
            ]
          },
          "metadata": {
            "tags": []
          },
          "execution_count": 2
        }
      ]
    },
    {
      "cell_type": "code",
      "metadata": {
        "colab": {
          "base_uri": "https://localhost:8080/",
          "height": 452
        },
        "id": "ZoWjhtIej80a",
        "outputId": "22a71242-5d1b-4998-ae5a-1511a3a3ccb1"
      },
      "source": [
        "df['z_score'] = stats.zscore(df['data'])\n",
        "df"
      ],
      "execution_count": null,
      "outputs": [
        {
          "output_type": "execute_result",
          "data": {
            "text/html": [
              "<div>\n",
              "<style scoped>\n",
              "    .dataframe tbody tr th:only-of-type {\n",
              "        vertical-align: middle;\n",
              "    }\n",
              "\n",
              "    .dataframe tbody tr th {\n",
              "        vertical-align: top;\n",
              "    }\n",
              "\n",
              "    .dataframe thead th {\n",
              "        text-align: right;\n",
              "    }\n",
              "</style>\n",
              "<table border=\"1\" class=\"dataframe\">\n",
              "  <thead>\n",
              "    <tr style=\"text-align: right;\">\n",
              "      <th></th>\n",
              "      <th>data</th>\n",
              "      <th>z_score</th>\n",
              "    </tr>\n",
              "  </thead>\n",
              "  <tbody>\n",
              "    <tr>\n",
              "      <th>0</th>\n",
              "      <td>-2</td>\n",
              "      <td>-0.408710</td>\n",
              "    </tr>\n",
              "    <tr>\n",
              "      <th>1</th>\n",
              "      <td>8</td>\n",
              "      <td>-0.382211</td>\n",
              "    </tr>\n",
              "    <tr>\n",
              "      <th>2</th>\n",
              "      <td>13</td>\n",
              "      <td>-0.368961</td>\n",
              "    </tr>\n",
              "    <tr>\n",
              "      <th>3</th>\n",
              "      <td>19</td>\n",
              "      <td>-0.353061</td>\n",
              "    </tr>\n",
              "    <tr>\n",
              "      <th>4</th>\n",
              "      <td>34</td>\n",
              "      <td>-0.313311</td>\n",
              "    </tr>\n",
              "    <tr>\n",
              "      <th>5</th>\n",
              "      <td>49</td>\n",
              "      <td>-0.273561</td>\n",
              "    </tr>\n",
              "    <tr>\n",
              "      <th>6</th>\n",
              "      <td>50</td>\n",
              "      <td>-0.270911</td>\n",
              "    </tr>\n",
              "    <tr>\n",
              "      <th>7</th>\n",
              "      <td>53</td>\n",
              "      <td>-0.262961</td>\n",
              "    </tr>\n",
              "    <tr>\n",
              "      <th>8</th>\n",
              "      <td>59</td>\n",
              "      <td>-0.247061</td>\n",
              "    </tr>\n",
              "    <tr>\n",
              "      <th>9</th>\n",
              "      <td>64</td>\n",
              "      <td>-0.233811</td>\n",
              "    </tr>\n",
              "    <tr>\n",
              "      <th>10</th>\n",
              "      <td>87</td>\n",
              "      <td>-0.172861</td>\n",
              "    </tr>\n",
              "    <tr>\n",
              "      <th>11</th>\n",
              "      <td>89</td>\n",
              "      <td>-0.167561</td>\n",
              "    </tr>\n",
              "    <tr>\n",
              "      <th>12</th>\n",
              "      <td>1456</td>\n",
              "      <td>3.454979</td>\n",
              "    </tr>\n",
              "  </tbody>\n",
              "</table>\n",
              "</div>"
            ],
            "text/plain": [
              "    data   z_score\n",
              "0     -2 -0.408710\n",
              "1      8 -0.382211\n",
              "2     13 -0.368961\n",
              "3     19 -0.353061\n",
              "4     34 -0.313311\n",
              "5     49 -0.273561\n",
              "6     50 -0.270911\n",
              "7     53 -0.262961\n",
              "8     59 -0.247061\n",
              "9     64 -0.233811\n",
              "10    87 -0.172861\n",
              "11    89 -0.167561\n",
              "12  1456  3.454979"
            ]
          },
          "metadata": {
            "tags": []
          },
          "execution_count": 4
        }
      ]
    },
    {
      "cell_type": "code",
      "metadata": {
        "colab": {
          "base_uri": "https://localhost:8080/",
          "height": 421
        },
        "id": "XKdgSJ_Ckao6",
        "outputId": "4d951eea-7c27-4654-813e-795eb2a55c0d"
      },
      "source": [
        "df.loc[df['z_score'].abs()<=3]"
      ],
      "execution_count": null,
      "outputs": [
        {
          "output_type": "execute_result",
          "data": {
            "text/html": [
              "<div>\n",
              "<style scoped>\n",
              "    .dataframe tbody tr th:only-of-type {\n",
              "        vertical-align: middle;\n",
              "    }\n",
              "\n",
              "    .dataframe tbody tr th {\n",
              "        vertical-align: top;\n",
              "    }\n",
              "\n",
              "    .dataframe thead th {\n",
              "        text-align: right;\n",
              "    }\n",
              "</style>\n",
              "<table border=\"1\" class=\"dataframe\">\n",
              "  <thead>\n",
              "    <tr style=\"text-align: right;\">\n",
              "      <th></th>\n",
              "      <th>data</th>\n",
              "      <th>z_score</th>\n",
              "    </tr>\n",
              "  </thead>\n",
              "  <tbody>\n",
              "    <tr>\n",
              "      <th>0</th>\n",
              "      <td>-2</td>\n",
              "      <td>-0.408710</td>\n",
              "    </tr>\n",
              "    <tr>\n",
              "      <th>1</th>\n",
              "      <td>8</td>\n",
              "      <td>-0.382211</td>\n",
              "    </tr>\n",
              "    <tr>\n",
              "      <th>2</th>\n",
              "      <td>13</td>\n",
              "      <td>-0.368961</td>\n",
              "    </tr>\n",
              "    <tr>\n",
              "      <th>3</th>\n",
              "      <td>19</td>\n",
              "      <td>-0.353061</td>\n",
              "    </tr>\n",
              "    <tr>\n",
              "      <th>4</th>\n",
              "      <td>34</td>\n",
              "      <td>-0.313311</td>\n",
              "    </tr>\n",
              "    <tr>\n",
              "      <th>5</th>\n",
              "      <td>49</td>\n",
              "      <td>-0.273561</td>\n",
              "    </tr>\n",
              "    <tr>\n",
              "      <th>6</th>\n",
              "      <td>50</td>\n",
              "      <td>-0.270911</td>\n",
              "    </tr>\n",
              "    <tr>\n",
              "      <th>7</th>\n",
              "      <td>53</td>\n",
              "      <td>-0.262961</td>\n",
              "    </tr>\n",
              "    <tr>\n",
              "      <th>8</th>\n",
              "      <td>59</td>\n",
              "      <td>-0.247061</td>\n",
              "    </tr>\n",
              "    <tr>\n",
              "      <th>9</th>\n",
              "      <td>64</td>\n",
              "      <td>-0.233811</td>\n",
              "    </tr>\n",
              "    <tr>\n",
              "      <th>10</th>\n",
              "      <td>87</td>\n",
              "      <td>-0.172861</td>\n",
              "    </tr>\n",
              "    <tr>\n",
              "      <th>11</th>\n",
              "      <td>89</td>\n",
              "      <td>-0.167561</td>\n",
              "    </tr>\n",
              "  </tbody>\n",
              "</table>\n",
              "</div>"
            ],
            "text/plain": [
              "    data   z_score\n",
              "0     -2 -0.408710\n",
              "1      8 -0.382211\n",
              "2     13 -0.368961\n",
              "3     19 -0.353061\n",
              "4     34 -0.313311\n",
              "5     49 -0.273561\n",
              "6     50 -0.270911\n",
              "7     53 -0.262961\n",
              "8     59 -0.247061\n",
              "9     64 -0.233811\n",
              "10    87 -0.172861\n",
              "11    89 -0.167561"
            ]
          },
          "metadata": {
            "tags": []
          },
          "execution_count": 5
        }
      ]
    },
    {
      "cell_type": "markdown",
      "metadata": {
        "id": "s2e1yIFCk54l"
      },
      "source": [
        "- In this case only **z score** which is above **3 is 1456**. so that clearly stands out as an **outlier**."
      ]
    },
    {
      "cell_type": "markdown",
      "metadata": {
        "id": "_HcxBJgSkbNy"
      },
      "source": [
        "----------------------"
      ]
    },
    {
      "cell_type": "code",
      "metadata": {
        "id": "bo0g_gdqZ7vm"
      },
      "source": [
        "# We will use the Z-score function defined in scipy library to detect the outliers\n",
        "\n",
        "from scipy import stats\n",
        "import numpy as np\n",
        "z = np.abs(stats.zscore(boston_df))\n",
        "print(z)"
      ],
      "execution_count": null,
      "outputs": []
    },
    {
      "cell_type": "code",
      "metadata": {
        "id": "_ealpmCbZ8a-"
      },
      "source": [
        "# It is difficult to say which data point is an outlier. Let’s try and define a threshold to identify an outlier.\n",
        "\n",
        "threshold = 3\n",
        "print(np.where(z > 3))"
      ],
      "execution_count": null,
      "outputs": []
    },
    {
      "cell_type": "code",
      "metadata": {
        "id": "IIxaoCj1ckzX"
      },
      "source": [
        "# Remove Outliers\n",
        "\n",
        "z_price=price_df[(z < 3).all(axis=1)]"
      ],
      "execution_count": null,
      "outputs": []
    },
    {
      "cell_type": "code",
      "metadata": {
        "id": "Lc7uC5Q0c6f3"
      },
      "source": [
        "price_df.shape, z_price['price'].shape"
      ],
      "execution_count": null,
      "outputs": []
    },
    {
      "cell_type": "markdown",
      "metadata": {
        "id": "JQLCiHInaAoG"
      },
      "source": [
        "---------------"
      ]
    },
    {
      "cell_type": "code",
      "metadata": {
        "id": "Dm46uh3YXGLs"
      },
      "source": [
        "df2['zscore'] = (df2.price_per_sqft-df2.price_per_sqft.mean())/df2.price_per_sqft.std()\n",
        "df2.sample(10)"
      ],
      "execution_count": null,
      "outputs": []
    },
    {
      "cell_type": "code",
      "metadata": {
        "id": "62LCxtZHXNg0"
      },
      "source": [
        "outliers_z = df2[(df2.zscore < -4) | (df2.zscore>4)]\n",
        "outliers_z.shape"
      ],
      "execution_count": null,
      "outputs": []
    },
    {
      "cell_type": "code",
      "metadata": {
        "id": "GH3Lxtn9XOMs"
      },
      "source": [
        "df4 = df2[(df2.zscore > -4) & (df2.zscore < 4)]\n",
        "df4.shape"
      ],
      "execution_count": null,
      "outputs": []
    },
    {
      "cell_type": "markdown",
      "metadata": {
        "id": "XrUoSgKHnBMv"
      },
      "source": [
        "-------------------"
      ]
    },
    {
      "cell_type": "markdown",
      "metadata": {
        "id": "stwKGhRInCXm"
      },
      "source": [
        "### **Example 1**\n",
        "**How to Remove Outliers in Python**"
      ]
    },
    {
      "cell_type": "code",
      "metadata": {
        "id": "hMmKec-anOQ_"
      },
      "source": [
        "import numpy as np\n",
        "import pandas as pd \n",
        "import scipy.stats as stats"
      ],
      "execution_count": null,
      "outputs": []
    },
    {
      "cell_type": "code",
      "metadata": {
        "colab": {
          "base_uri": "https://localhost:8080/",
          "height": 359
        },
        "id": "ZeDl1RWvnYEL",
        "outputId": "6bd2f140-c5a2-4cd0-d8d5-621115cc8b69"
      },
      "source": [
        "# create dataframe with three columns 'A', 'B', 'C'\n",
        "np.random.seed(10)\n",
        "data = pd.DataFrame(np.random.randint(0, 10, size=(100, 3)), columns=['A', 'B', 'C'])\n",
        "\n",
        "# view first 10 rows \n",
        "data[:10]"
      ],
      "execution_count": null,
      "outputs": [
        {
          "output_type": "execute_result",
          "data": {
            "text/html": [
              "<div>\n",
              "<style scoped>\n",
              "    .dataframe tbody tr th:only-of-type {\n",
              "        vertical-align: middle;\n",
              "    }\n",
              "\n",
              "    .dataframe tbody tr th {\n",
              "        vertical-align: top;\n",
              "    }\n",
              "\n",
              "    .dataframe thead th {\n",
              "        text-align: right;\n",
              "    }\n",
              "</style>\n",
              "<table border=\"1\" class=\"dataframe\">\n",
              "  <thead>\n",
              "    <tr style=\"text-align: right;\">\n",
              "      <th></th>\n",
              "      <th>A</th>\n",
              "      <th>B</th>\n",
              "      <th>C</th>\n",
              "    </tr>\n",
              "  </thead>\n",
              "  <tbody>\n",
              "    <tr>\n",
              "      <th>0</th>\n",
              "      <td>9</td>\n",
              "      <td>4</td>\n",
              "      <td>0</td>\n",
              "    </tr>\n",
              "    <tr>\n",
              "      <th>1</th>\n",
              "      <td>1</td>\n",
              "      <td>9</td>\n",
              "      <td>0</td>\n",
              "    </tr>\n",
              "    <tr>\n",
              "      <th>2</th>\n",
              "      <td>1</td>\n",
              "      <td>8</td>\n",
              "      <td>9</td>\n",
              "    </tr>\n",
              "    <tr>\n",
              "      <th>3</th>\n",
              "      <td>0</td>\n",
              "      <td>8</td>\n",
              "      <td>6</td>\n",
              "    </tr>\n",
              "    <tr>\n",
              "      <th>4</th>\n",
              "      <td>4</td>\n",
              "      <td>3</td>\n",
              "      <td>0</td>\n",
              "    </tr>\n",
              "    <tr>\n",
              "      <th>5</th>\n",
              "      <td>4</td>\n",
              "      <td>6</td>\n",
              "      <td>8</td>\n",
              "    </tr>\n",
              "    <tr>\n",
              "      <th>6</th>\n",
              "      <td>1</td>\n",
              "      <td>8</td>\n",
              "      <td>4</td>\n",
              "    </tr>\n",
              "    <tr>\n",
              "      <th>7</th>\n",
              "      <td>1</td>\n",
              "      <td>3</td>\n",
              "      <td>6</td>\n",
              "    </tr>\n",
              "    <tr>\n",
              "      <th>8</th>\n",
              "      <td>5</td>\n",
              "      <td>3</td>\n",
              "      <td>9</td>\n",
              "    </tr>\n",
              "    <tr>\n",
              "      <th>9</th>\n",
              "      <td>6</td>\n",
              "      <td>9</td>\n",
              "      <td>1</td>\n",
              "    </tr>\n",
              "  </tbody>\n",
              "</table>\n",
              "</div>"
            ],
            "text/plain": [
              "   A  B  C\n",
              "0  9  4  0\n",
              "1  1  9  0\n",
              "2  1  8  9\n",
              "3  0  8  6\n",
              "4  4  3  0\n",
              "5  4  6  8\n",
              "6  1  8  4\n",
              "7  1  3  6\n",
              "8  5  3  9\n",
              "9  6  9  1"
            ]
          },
          "metadata": {
            "tags": []
          },
          "execution_count": 7
        }
      ]
    },
    {
      "cell_type": "markdown",
      "metadata": {
        "id": "0RJ0pQNhnj0_"
      },
      "source": [
        "##### **a) Z-score method:**"
      ]
    },
    {
      "cell_type": "code",
      "metadata": {
        "colab": {
          "base_uri": "https://localhost:8080/"
        },
        "id": "hzGXB4VunYAY",
        "outputId": "dbd77f08-d910-41d5-925a-ee7db633c7eb"
      },
      "source": [
        "# find absolute value of z-score for each observation\n",
        "z = np.abs(stats.zscore(data))\n",
        "\n",
        "# only keep rows in dataframe with all z-scores less than absolute value of 3 \n",
        "data_clean = data[(z<3).all(axis=1)]\n",
        "\n",
        "# find how many rows are left in the dataframe \n",
        "data_clean.shape"
      ],
      "execution_count": null,
      "outputs": [
        {
          "output_type": "execute_result",
          "data": {
            "text/plain": [
              "(100, 3)"
            ]
          },
          "metadata": {
            "tags": []
          },
          "execution_count": 9
        }
      ]
    },
    {
      "cell_type": "markdown",
      "metadata": {
        "id": "pAqc5e4rnzBv"
      },
      "source": [
        "##### **b) Interquartile range method:**"
      ]
    },
    {
      "cell_type": "code",
      "metadata": {
        "colab": {
          "base_uri": "https://localhost:8080/"
        },
        "id": "6tBkRZsNnX9H",
        "outputId": "039f0a0c-9de3-4597-f2ff-4fa49d9b850e"
      },
      "source": [
        "# find Q1, Q3, and interquartile range for each column\n",
        "Q1 = data.quantile(q=.25)\n",
        "Q3 = data.quantile(q=.75)\n",
        "IQR = data.apply(stats.iqr)\n",
        "\n",
        "# only keep rows in dataframe that have values within 1.5*IQR of Q1 and Q3\n",
        "data_clean = data[~((data < (Q1-1.5*IQR)) | (data > (Q3+1.5*IQR))).any(axis=1)]\n",
        "\n",
        "# find how many rows are left in the dataframe \n",
        "data_clean.shape"
      ],
      "execution_count": null,
      "outputs": [
        {
          "output_type": "execute_result",
          "data": {
            "text/plain": [
              "(100, 3)"
            ]
          },
          "metadata": {
            "tags": []
          },
          "execution_count": 10
        }
      ]
    },
    {
      "cell_type": "markdown",
      "metadata": {
        "id": "uJUcGYInoBZX"
      },
      "source": [
        "--------------------"
      ]
    },
    {
      "cell_type": "code",
      "metadata": {
        "id": "Sc12OgVFnX5X"
      },
      "source": [
        ""
      ],
      "execution_count": null,
      "outputs": []
    }
  ]
}