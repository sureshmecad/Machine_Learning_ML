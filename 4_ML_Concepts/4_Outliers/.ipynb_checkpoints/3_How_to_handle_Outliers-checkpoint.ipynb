{
 "cells": [
  {
   "cell_type": "markdown",
   "metadata": {},
   "source": [
    "### Treating data for Outliers\n",
    "Outliers can result in problems with some types of predictive models. For instance, **linear regression is very sensitive to outliers** and can result in a poor fit in their presence. However, as a rule of thumb, **outliers should not be removed unless there is some explainable reason** to remove them. Several methods are now discussed to remove outliers.\n",
    "\n",
    "### 1. Specifying absolute bounds on data\n",
    "Sometimes, the user who is doing **data analysis** has specific **domain** information about features in\n",
    "a dataset. For instance, a dataset on **engine** details of **high-speed cars** would have a **well-defined\n",
    "range of max speed feature**. In such a scenario, if, by some error source, some data points are off\n",
    "the defined limits, they can be considered an outlier. This is a simple technique but requires\n",
    "absolute bounds on a feature to recognize outliers.\n",
    "\n",
    "### 2. Using percentile\n",
    "If the user wants to specify upper cap and lower floor percentile values such that any outliers\n",
    "beyond these thresholds need to be removed, then percentile-based method of handling outliers\n",
    "is appropriate. For example, if we want the top and bottom 2% values to be taken as outliers and\n",
    "hence treated, we could use a cap of 98% and floor of 2% as parameters while carrying out outlier\n",
    "treatment. Any modelling task that is performed on data, first requires that the data be cleaned so\n",
    "that subsequent analysis could be carried out on it easily. Data cleaning refers to the set of tasks\n",
    "performed to detect and correct corrupt or inaccurate records in a dataset. A good quality dataset\n",
    "is often much better than having a powerful algorithm. "
   ]
  },
  {
   "cell_type": "code",
   "execution_count": null,
   "metadata": {},
   "outputs": [],
   "source": []
  }
 ],
 "metadata": {
  "kernelspec": {
   "display_name": "Python 3",
   "language": "python",
   "name": "python3"
  },
  "language_info": {
   "codemirror_mode": {
    "name": "ipython",
    "version": 3
   },
   "file_extension": ".py",
   "mimetype": "text/x-python",
   "name": "python",
   "nbconvert_exporter": "python",
   "pygments_lexer": "ipython3",
   "version": "3.7.3"
  }
 },
 "nbformat": 4,
 "nbformat_minor": 2
}
