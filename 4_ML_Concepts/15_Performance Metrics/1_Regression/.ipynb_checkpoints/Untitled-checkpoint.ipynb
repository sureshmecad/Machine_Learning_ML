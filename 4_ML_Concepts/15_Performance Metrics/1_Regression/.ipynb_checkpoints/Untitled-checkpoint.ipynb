{
 "cells": [
  {
   "cell_type": "markdown",
   "metadata": {},
   "source": [
    "### So which one should you choose and why?\n",
    "- Well, it is easy to understand and interpret MAE because it directly takes the average of offsets whereas RMSE penalizes the higher difference more than MAE.\n",
    "\n",
    "\n",
    "#### Let’s understand the above statement with the two examples:\n",
    " - Case 1: Actual Values = [2,4,6,8] , Predicted Values = [4,6,8,10]\n",
    " - Case 2: Actual Values = [2,4,6,8] , Predicted Values = [4,6,8,12]\n",
    "\n",
    "\n",
    " - MAE for case 1 = 2.0, RMSE for case 1 = 2.0\n",
    " - MAE for case 2 = 2.5, RMSE for case 2 = 2.65\n",
    "\n",
    "\n",
    "- From the above example, we can see that RMSE penalizes the last value prediction more heavily than MAE. Generally, RMSE will be higher than or equal to MAE. The only case where it equals MAE is when all the differences are equal or zero (true for case 1 where the difference between actual and predicted is 2 for all observations)."
   ]
  },
  {
   "cell_type": "code",
   "execution_count": null,
   "metadata": {},
   "outputs": [],
   "source": []
  }
 ],
 "metadata": {
  "kernelspec": {
   "display_name": "Python 3",
   "language": "python",
   "name": "python3"
  },
  "language_info": {
   "codemirror_mode": {
    "name": "ipython",
    "version": 3
   },
   "file_extension": ".py",
   "mimetype": "text/x-python",
   "name": "python",
   "nbconvert_exporter": "python",
   "pygments_lexer": "ipython3",
   "version": "3.7.3"
  }
 },
 "nbformat": 4,
 "nbformat_minor": 2
}
