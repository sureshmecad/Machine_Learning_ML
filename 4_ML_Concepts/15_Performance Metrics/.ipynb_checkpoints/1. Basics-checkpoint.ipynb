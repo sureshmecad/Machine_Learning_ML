{
 "cells": [
  {
   "cell_type": "markdown",
   "metadata": {},
   "source": [
    "https://www.youtube.com/watch?v=aWAnNHXIKww&t=799s ---> Performance Metrics For Classification Problem\n",
    "\n",
    "https://www.youtube.com/watch?v=A_ZKMsZ3f3o&t=7s  ----> Performance Metrics(ROC,AUC Curve) For Classification Problem\n",
    "\n",
    "https://www.youtube.com/watch?v=-dsoGHvk7II&t=122s ----> TPR,FPR,FNR,TNR, Confusion Matrix\n",
    "\n",
    "https://courses.analyticsvidhya.com/courses/take/evaluation-metrics-for-machine-learning-models/texts/10771045-types-of-machine-learning  --- Analytics"
   ]
  },
  {
   "cell_type": "markdown",
   "metadata": {},
   "source": [
    "------------------------------"
   ]
  },
  {
   "cell_type": "markdown",
   "metadata": {},
   "source": [
    "## Evaluation Metrics:\n",
    "### 1. Regression\n",
    "1. Mean Absolute Error (MAE)\n",
    "\n",
    "\n",
    "2. Mean Square Error (MSE)\n",
    "\n",
    "\n",
    "3. Root Mean Square Error (RMSE)\n",
    "\n",
    "\n",
    "4. Root Mean Square Log Error (RMSLE)\n",
    "\n",
    "\n",
    "5. R2 & Adjusted R2\n",
    "\n",
    "### 2. Classification\n",
    "1. Confusion Matrix\n",
    "\n",
    "\n",
    "2. Accuracy\n",
    "\n",
    "\n",
    "3. Alternatives to Accuracy\n",
    "\n",
    "\n",
    "4. TPR (Precision & Recall)\n",
    "\n",
    "\n",
    "5. F-Score\n",
    "\n",
    "\n",
    "6. ROC AUC\n",
    "\n",
    "\n",
    "7. Log Loss\n",
    "\n",
    "\n",
    "8. Gini Coefficient"
   ]
  },
  {
   "cell_type": "markdown",
   "metadata": {},
   "source": [
    "----------------------------------"
   ]
  },
  {
   "cell_type": "markdown",
   "metadata": {},
   "source": [
    "### Metrics in Classification:\n",
    "\n",
    "    1. CONFUSION MATRIX    --->  only for classification problem\n",
    " \n",
    "    2. FPR (Type I Error)\n",
    " \n",
    "    3. FNR (Type II Error)\n",
    " \n",
    "    4. RECALL (TPR, SENSITIVITY)\n",
    " \n",
    "    5. PRECISION (TVs Pred Value)\n",
    " \n",
    "    6. Accuracy\n",
    " \n",
    "    7. F Beta\n",
    " \n",
    "    8. Cohen Kappa\n",
    " \n",
    "    9. ROC Curve, AUC Score\n",
    " \n",
    "    10. PR Curve"
   ]
  },
  {
   "cell_type": "markdown",
   "metadata": {},
   "source": [
    "![17. Performance Metrics](image/1.JPG)"
   ]
  },
  {
   "cell_type": "markdown",
   "metadata": {},
   "source": [
    "- Always try to reduce Type I and Type II error"
   ]
  },
  {
   "cell_type": "markdown",
   "metadata": {},
   "source": [
    "### 1. Balanced Dataset\n",
    "- Accuracy = (TP+TN) / (TP+FP+FN+TN)"
   ]
  },
  {
   "cell_type": "markdown",
   "metadata": {},
   "source": [
    "### 2. Imbalanced Dataset\n",
    "\n",
    " **a. RECALL (TPR + SENSITIVITY)**    \n",
    " \n",
    "        TPR ---> True Positive Rate\n",
    "\n",
    "        RECALL = TP / (TP+FN)\n",
    "        \n",
    "- suppose person having **cancer (or) not?**\n",
    "\n",
    "     He is **suffering from cancer** but model predicted as **not suffering from cancer** \n",
    "\n",
    "-----------------------------------------------------------------------------------------------------------------------------\n",
    "\n",
    " **b. PRECISION = TP / (TP+FP)**\n",
    " \n",
    "        PRECISION (+ve prediction value)\n",
    " \n",
    "        Out of the total actual positive predicted results how many were actually positive.\n",
    "        \n",
    "------------------------------------------------------------------------------------------------------------------------------        \n",
    "        \n",
    "- **In Spam Detecion** : Need to focus on **precision**\n",
    "        \n",
    "     Suppose **mail is not a spam** but model is **predicted as spam** ---> FP (False Positive)\n",
    "     \n",
    "     Always try to reduce FP"
   ]
  },
  {
   "cell_type": "markdown",
   "metadata": {},
   "source": [
    "- Whenever **False Positive** is much more important use **PRECISION**\n",
    "\n",
    "\n",
    "- Whenever **False Negotive** is much more important use **RECALL**"
   ]
  },
  {
   "cell_type": "markdown",
   "metadata": {},
   "source": [
    "![17. Performance Metrics](image/2.JPG)"
   ]
  },
  {
   "cell_type": "markdown",
   "metadata": {},
   "source": [
    "    \n",
    "    FBeta = (1+Beta.square) (precision*recall) / (Beta.square*precision+recall)\n",
    "\n",
    "\n",
    "- Whenever **False Positive & False Negotive** is much more important use **Beta=1**\n",
    "\n",
    "\n",
    "- Whenever **False Positive** is much more important use **Beta=0.5**\n",
    "\n",
    "\n",
    "- Whenever **False Negotive** is much more important use **Beta > 1 ---> Beta=2**"
   ]
  },
  {
   "cell_type": "markdown",
   "metadata": {},
   "source": [
    "![17. Performance Metrics](image/3.JPG)"
   ]
  },
  {
   "cell_type": "markdown",
   "metadata": {},
   "source": [
    "![17. Performance Metrics](image/4.JPG)"
   ]
  },
  {
   "cell_type": "markdown",
   "metadata": {},
   "source": [
    "- **TP(True Positive)**\n",
    "\n",
    "      Actual value is 1\n",
    "      Predicted values is 1.\n",
    "      \n",
    "      \n",
    "- **FN(False Negative)**\n",
    "\n",
    "      Actual value is 1\n",
    "      Predicted values is 0.\n",
    "      \n",
    "      \n",
    "- **FP(False Positive)**\n",
    "\n",
    "      Actual value is 0\n",
    "      Predicted values is 1.\n",
    "      \n",
    "      \n",
    "- **TN(True Negative)**\n",
    "\n",
    "      Actual value is 0\n",
    "      Predicted values is 0."
   ]
  },
  {
   "cell_type": "markdown",
   "metadata": {},
   "source": [
    "-------------"
   ]
  },
  {
   "cell_type": "markdown",
   "metadata": {},
   "source": [
    "### Confusion Matrix:\n",
    "\n",
    "- If you want to see **Accuracy** of the model will use **Confusion Matrix.**"
   ]
  },
  {
   "cell_type": "markdown",
   "metadata": {},
   "source": [
    "![17. Performance Metrics](image/8.JPG)"
   ]
  },
  {
   "cell_type": "markdown",
   "metadata": {},
   "source": [
    "![17. Performance Metrics](image/9.JPG)"
   ]
  },
  {
   "cell_type": "markdown",
   "metadata": {},
   "source": [
    "![17. Performance Metrics](image/10.JPG)"
   ]
  },
  {
   "cell_type": "markdown",
   "metadata": {},
   "source": [
    "![17. Performance Metrics](image/11.JPG)"
   ]
  }
 ],
 "metadata": {
  "kernelspec": {
   "display_name": "Python 3",
   "language": "python",
   "name": "python3"
  },
  "language_info": {
   "codemirror_mode": {
    "name": "ipython",
    "version": 3
   },
   "file_extension": ".py",
   "mimetype": "text/x-python",
   "name": "python",
   "nbconvert_exporter": "python",
   "pygments_lexer": "ipython3",
   "version": "3.7.3"
  }
 },
 "nbformat": 4,
 "nbformat_minor": 2
}
