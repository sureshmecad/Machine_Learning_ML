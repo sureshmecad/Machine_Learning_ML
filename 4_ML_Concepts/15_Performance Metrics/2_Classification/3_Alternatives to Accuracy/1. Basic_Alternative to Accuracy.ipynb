{
 "cells": [
  {
   "cell_type": "markdown",
   "metadata": {},
   "source": [
    "- TPR ---> True positive rate\n",
    "\n",
    "\n",
    "- FPR ---> False positive rate\n",
    "\n",
    "\n",
    "- TNR ---> Ture negative rate\n",
    "\n",
    "\n",
    "- FNR ---> False negative rate"
   ]
  },
  {
   "cell_type": "markdown",
   "metadata": {},
   "source": [
    "- **TP(True Positive)**\n",
    "\n",
    "      Actual value is 1\n",
    "      Predicted values is 1.\n",
    "      \n",
    "      \n",
    "- **FN(False Negative)**\n",
    "\n",
    "      Actual value is 1\n",
    "      Predicted values is 0.\n",
    "      \n",
    "      \n",
    "- **FP(False Positive)**\n",
    "\n",
    "      Actual value is 0\n",
    "      Predicted values is 1.\n",
    "      \n",
    "      \n",
    "- **TN(True Negative)**\n",
    "\n",
    "      Actual value is 0\n",
    "      Predicted values is 0."
   ]
  },
  {
   "cell_type": "markdown",
   "metadata": {},
   "source": [
    "![3. Alternatives to Accuracy](image/5.JPG)"
   ]
  },
  {
   "cell_type": "markdown",
   "metadata": {},
   "source": [
    "![3. Alternatives to Accuracy](image/6.JPG)"
   ]
  },
  {
   "cell_type": "markdown",
   "metadata": {},
   "source": [
    "![3. Alternatives to Accuracy](image/7.JPG)"
   ]
  },
  {
   "cell_type": "markdown",
   "metadata": {},
   "source": [
    "- Business objective is to focus on identifying the actual positives. Out of the total positives in the data what was the percentage of positives your model able to identify correctly.\n",
    "\n",
    "\n",
    "- Range of the metrics varies from 0 to 1."
   ]
  },
  {
   "cell_type": "markdown",
   "metadata": {},
   "source": [
    "![3. Alternatives to Accuracy](image/1.JPG)"
   ]
  },
  {
   "cell_type": "markdown",
   "metadata": {},
   "source": [
    "-------------------"
   ]
  },
  {
   "cell_type": "markdown",
   "metadata": {},
   "source": [
    "![3. Alternatives to Accuracy](image/2.JPG)"
   ]
  },
  {
   "cell_type": "markdown",
   "metadata": {},
   "source": [
    "------------------"
   ]
  },
  {
   "cell_type": "markdown",
   "metadata": {},
   "source": [
    "![3. Alternatives to Accuracy](image/3.JPG)"
   ]
  },
  {
   "cell_type": "markdown",
   "metadata": {},
   "source": [
    "--------------------"
   ]
  },
  {
   "cell_type": "markdown",
   "metadata": {},
   "source": [
    "![3. Alternatives to Accuracy](image/4.JPG)"
   ]
  },
  {
   "cell_type": "code",
   "execution_count": null,
   "metadata": {},
   "outputs": [],
   "source": []
  }
 ],
 "metadata": {
  "kernelspec": {
   "display_name": "Python 3",
   "language": "python",
   "name": "python3"
  },
  "language_info": {
   "codemirror_mode": {
    "name": "ipython",
    "version": 3
   },
   "file_extension": ".py",
   "mimetype": "text/x-python",
   "name": "python",
   "nbconvert_exporter": "python",
   "pygments_lexer": "ipython3",
   "version": "3.7.3"
  }
 },
 "nbformat": 4,
 "nbformat_minor": 2
}
