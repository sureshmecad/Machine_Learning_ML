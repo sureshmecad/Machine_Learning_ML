{
 "cells": [
  {
   "cell_type": "markdown",
   "metadata": {},
   "source": [
    "<h1 style=color:blue align=\"center\"> Precision and Recall </h1>"
   ]
  },
  {
   "cell_type": "markdown",
   "metadata": {},
   "source": [
    "- TPR ---> True positive rate\n",
    "\n",
    "\n",
    "- FPR ---> False positive rate\n",
    "\n",
    "\n",
    "- TNR ---> Ture negative rate\n",
    "\n",
    "\n",
    "- FNR ---> False negative rate"
   ]
  },
  {
   "cell_type": "markdown",
   "metadata": {},
   "source": [
    "- **TP(True Positive)**\n",
    "\n",
    "      Actual value is 1\n",
    "      Predicted values is 1.\n",
    "      \n",
    "      \n",
    "- **FN(False Negative)**\n",
    "\n",
    "      Actual value is 1\n",
    "      Predicted values is 0.\n",
    "      \n",
    "      \n",
    "- **FP(False Positive)**\n",
    "\n",
    "      Actual value is 0\n",
    "      Predicted values is 1.\n",
    "      \n",
    "      \n",
    "- **TN(True Negative)**\n",
    "\n",
    "      Actual value is 0\n",
    "      Predicted values is 0."
   ]
  },
  {
   "cell_type": "markdown",
   "metadata": {},
   "source": [
    "---------------"
   ]
  },
  {
   "cell_type": "markdown",
   "metadata": {},
   "source": [
    "![4. Precision and Recall](image/1.JPG)"
   ]
  },
  {
   "cell_type": "markdown",
   "metadata": {},
   "source": [
    "![4. Precision and Recall](image/2.JPG)"
   ]
  },
  {
   "cell_type": "markdown",
   "metadata": {},
   "source": [
    "-------------------"
   ]
  },
  {
   "cell_type": "markdown",
   "metadata": {},
   "source": [
    "### Precision:\n",
    "\n",
    "- **Ex 1:- In Spam Detection :** Need to focus on **precision**\n",
    "\n",
    "\n",
    "- Suppose **mail is not a spam** but model is **predicted as spam** : FP (False Positive). We always try to reduce FP.\n",
    "\n",
    "\n",
    "- **Ex 2:- Precision** is important in **music or video recommendation systems, e-commerce websites, etc. Wrong results** could lead to customer churn and be **harmful to the business.**"
   ]
  },
  {
   "cell_type": "markdown",
   "metadata": {},
   "source": [
    "-------------------"
   ]
  },
  {
   "cell_type": "markdown",
   "metadata": {},
   "source": [
    "### Recall:\n",
    "\n",
    "- **Ex 1:-** suppose person having cancer (or) not? **He is suffering from cancer** but model predicted as **not suffering from cancer**\n",
    "\n",
    "\n",
    "- **Ex 2:- Recall** is important in **medical cases** where it doesn’t matter whether we raise a false alarm but the **actual positive cases should not go undetected!**\n",
    "\n",
    "\n",
    "- Recall would be a better metric because we don’t want to **accidentally discharge an infected person** and let them mix with the healthy population thereby **spreading contagious virus**. Now you can understand why accuracy was a bad metric for our model."
   ]
  },
  {
   "cell_type": "markdown",
   "metadata": {},
   "source": [
    "----------------"
   ]
  },
  {
   "cell_type": "markdown",
   "metadata": {},
   "source": [
    "### Reference:\n",
    "\n",
    "https://www.youtube.com/watch?v=2osIZ-dSPGE&ab_channel=codebasics"
   ]
  }
 ],
 "metadata": {
  "kernelspec": {
   "display_name": "Python 3",
   "language": "python",
   "name": "python3"
  },
  "language_info": {
   "codemirror_mode": {
    "name": "ipython",
    "version": 3
   },
   "file_extension": ".py",
   "mimetype": "text/x-python",
   "name": "python",
   "nbconvert_exporter": "python",
   "pygments_lexer": "ipython3",
   "version": "3.7.3"
  }
 },
 "nbformat": 4,
 "nbformat_minor": 2
}
