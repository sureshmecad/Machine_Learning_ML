{
 "cells": [
  {
   "cell_type": "markdown",
   "metadata": {},
   "source": [
    "<h1 style=color:blue align=center> Under Sampling </h1>"
   ]
  },
  {
   "cell_type": "markdown",
   "metadata": {},
   "source": [
    "---------------"
   ]
  },
  {
   "cell_type": "markdown",
   "metadata": {},
   "source": [
    "![2_Under Sampling](image/1.JPG)"
   ]
  },
  {
   "cell_type": "markdown",
   "metadata": {},
   "source": [
    "![2_Under Sampling](image/2.JPG)"
   ]
  },
  {
   "cell_type": "markdown",
   "metadata": {},
   "source": [
    "--------------"
   ]
  },
  {
   "cell_type": "markdown",
   "metadata": {},
   "source": [
    "- Initially we have samples of 800 & 50. In under sampling to maintain same size of samples will pick 50 samples randomly from 800 samples.\n",
    "\n",
    "\n",
    "- **Under sampling to be done when we have huge samples.**\n",
    "\n",
    "\n",
    "- Credit Card : \n",
    "\n",
    "Initial\n",
    "     \n",
    "|0  | 284315|\n",
    "|---|-------|\n",
    "|1  | 492   |\n",
    "\n",
    "\n",
    "After balanced\n",
    "    \n",
    "|0  | 492   |\n",
    "|---|-------|\n",
    "|1  | 492   |  "
   ]
  }
 ],
 "metadata": {
  "kernelspec": {
   "display_name": "Python 3",
   "language": "python",
   "name": "python3"
  },
  "language_info": {
   "codemirror_mode": {
    "name": "ipython",
    "version": 3
   },
   "file_extension": ".py",
   "mimetype": "text/x-python",
   "name": "python",
   "nbconvert_exporter": "python",
   "pygments_lexer": "ipython3",
   "version": "3.7.3"
  }
 },
 "nbformat": 4,
 "nbformat_minor": 2
}
