{
 "cells": [
  {
   "cell_type": "markdown",
   "metadata": {},
   "source": [
    "https://www.youtube.com/watch?v=dkXB8HH_4-k"
   ]
  },
  {
   "cell_type": "markdown",
   "metadata": {},
   "source": [
    "### 1. When do we face imbalanced dataset case?\n",
    "\n",
    "\n",
    "  1. **wheather the person is having Diabetes or not?**\n",
    "           \n",
    "        This case less no of people will be having Diabetes\n",
    "\n",
    "           \n",
    "  2. **Whether a person is having cancer or not?**\n",
    "        \n",
    "        Each and every person will not be having cancer. Less people will be having cancer.\n",
    "        \n",
    "        \n",
    "  3. **Fraudulent credit card transactions**\n",
    "  \n",
    "  \n",
    "  4. **Transportation/Airline: Will Airplane failure occur?**\n",
    "\n",
    "\n",
    "-------------------------------------------------------------------------------------------------------------------------------\n",
    "\n",
    "- Below is a list of ten examples of problem domains where the class distribution of examples is inherently imbalanced.\n",
    "\n",
    "  a. Fraud Detection.\n",
    " \n",
    "  b. Claim Prediction\n",
    "\n",
    "  c. Default Prediction.\n",
    "\n",
    "  d. Churn Prediction.\n",
    "  \n",
    "  e. Spam Detection.\n",
    "\n",
    "  f. Anomaly Detection.\n",
    "  \n",
    "  g. Outlier Detection.\n",
    "\n",
    "  h. Intrusion Detection\n",
    "\n",
    "  i. Conversion Prediction.\n",
    "  "
   ]
  },
  {
   "cell_type": "markdown",
   "metadata": {},
   "source": [
    "![19. Imbalanced Dataset](image/Under Sampling_1.JPG)"
   ]
  },
  {
   "cell_type": "markdown",
   "metadata": {},
   "source": [
    "-----------------"
   ]
  },
  {
   "cell_type": "markdown",
   "metadata": {},
   "source": [
    "### 2. What Is Data Imbalance?\n",
    "- Data imbalance usually reflects an unequal distribution of classes within a dataset. For example, in a credit card fraud detection dataset, most of the credit card transactions are not fraud and a very few classes are fraud transactions. This leaves us with something like 50:1 ratio between the fraud and non-fraud classes."
   ]
  },
  {
   "cell_type": "markdown",
   "metadata": {},
   "source": [
    "![1. Balanced Vs Imbalanced](image/Over Sampling_6.JPG)"
   ]
  },
  {
   "cell_type": "markdown",
   "metadata": {},
   "source": [
    "---------------"
   ]
  },
  {
   "cell_type": "markdown",
   "metadata": {},
   "source": [
    "### 3. How to check whether dataset is Balanced (or) Imbalanced?"
   ]
  },
  {
   "cell_type": "raw",
   "metadata": {},
   "source": [
    "# Check tha target variable\n",
    "\n",
    "df['Class'].value_counts()\n",
    "\n",
    "\n",
    "0    284315\n",
    "1       492\n",
    "Name: Class, dtype: int64"
   ]
  },
  {
   "cell_type": "markdown",
   "metadata": {},
   "source": [
    "- There is huge difference b/n 0's and 1's  --->  Imbalanced dataset\n",
    "\n",
    "\n",
    "- 60:40 ---> Balanced dataset"
   ]
  },
  {
   "cell_type": "markdown",
   "metadata": {},
   "source": [
    "- For imbalanced dataset **Decision tree and Random Forest** gives good results without CV and Hyperparameter tuning.\n",
    "\n",
    "\n",
    "- For imbalanced dataset **Random Forest** better option compare to **Under Sampling, Over Sampling and SMOTE.**\n",
    "\n",
    "\n",
    "- **Over Sampling** is good option compared to **Under Sampling**"
   ]
  },
  {
   "cell_type": "markdown",
   "metadata": {},
   "source": [
    "--------------"
   ]
  },
  {
   "cell_type": "markdown",
   "metadata": {},
   "source": [
    "## 4. How to handle imbalanced data?"
   ]
  },
  {
   "cell_type": "markdown",
   "metadata": {},
   "source": [
    "<h2 style=color:blue align=\"left\"> a. CHANGE THE EVALUATION MATRIX </h2>"
   ]
  },
  {
   "cell_type": "markdown",
   "metadata": {},
   "source": [
    "If we apply the wrong evaluation matrix on the imbalanced dataset, it can give us misleading results. Let us take the example of credit card fraud detection. There will be much less data points for “fraud” class (suppose 1%). So, if we take “accuracy” to measure the performance of the model and our model predicts all the observations as “not fraud” then it will give us a 99% accuracy score. In this way, we can understand that accuracy is not the best metric in this situation.\n",
    "\n",
    "What can be used instead:\n",
    "\n",
    "**Confusion Matrix:** It tells us about the false positive, false negative, true positive and true negative. It can be used to understand the number of correct and incorrect predictions.\n",
    "\n",
    "**Precision:** The number of true positives divided by total positives; it is also known as Specificity. It tells us how many chosen instances by the model are relevant (fraud in our example).\n",
    "\n",
    "**Recall:** It can be calculated by dividing the total number of true positives with the sum of true positives and false negatives. It is also known as Sensitivity. It tells us how many relevant instances are chosen by the model.\n",
    "\n",
    "**F1-Score:** Harmonic mean of precision and recall.\n",
    "\n",
    "**AUC-ROC:** It gives us the relation between the true positive rate and false positive rate."
   ]
  },
  {
   "cell_type": "markdown",
   "metadata": {},
   "source": [
    "<h2 style=color:blue align=\"left\"> b. RESAMPLE THE DATASET </h2>"
   ]
  },
  {
   "cell_type": "markdown",
   "metadata": {},
   "source": [
    "Resample means to change the distribution of the imbalance classes in the dataset. We can either do undersampling by reducing the number of observations from the majority classes or we can do oversampling in which we increase the data for minority classes. Let’s see each of these types of resampling in action:"
   ]
  },
  {
   "cell_type": "markdown",
   "metadata": {},
   "source": [
    "- Under Sampling if dataset is small and will be focusing on performance metric, recall, precision & f1-score\n",
    "\n",
    "\n",
    "- Over Sampling\n",
    "\n",
    "\n",
    "- SMOTE\n",
    "\n",
    "\n",
    "- Random Forest, XGBOOST with Class weight"
   ]
  },
  {
   "cell_type": "markdown",
   "metadata": {},
   "source": [
    "<h2 style=color:blue align=\"left\"> c. CHANGE THE ALGORITHM AND APPROACH TO THE PROBLEM </h2>"
   ]
  },
  {
   "cell_type": "markdown",
   "metadata": {},
   "source": [
    "One way is to try different algorithms and see how they perform. Generally, algorithms like logistic regression or random forest tend to discard the rare classes while training. Decision tree can be used in this case, as it takes care of all the classes while building if-else rules. Another way to deal with imbalanced dataset is to use the ensemble technique. In that technique we split the majority class data into n samples and club them with rare classes to train n different models. This way we can generalize our final model."
   ]
  },
  {
   "cell_type": "markdown",
   "metadata": {},
   "source": [
    "![19. Imbalanced Dataset](image/Balanced_1.JPG)"
   ]
  },
  {
   "cell_type": "markdown",
   "metadata": {},
   "source": [
    "-------------"
   ]
  },
  {
   "cell_type": "markdown",
   "metadata": {},
   "source": [
    "### 5. Why need to convert Imbalanced dataset to Balanced dataset?"
   ]
  },
  {
   "cell_type": "markdown",
   "metadata": {},
   "source": [
    "- Consider CANCER dataset have samples of 1000. In that **900 (Majarity Class)** are Non CANCER and **100 (Minority Class)** are CANCER.\n",
    "\n",
    "\n",
    "- Mails Spam or Non-Spam. Non Spam mails are larger and Spam mails are smaller.\n",
    "\n",
    "\n",
    "- Most of the ML Algorithms **tends to bias towards majarity class.**"
   ]
  },
  {
   "cell_type": "markdown",
   "metadata": {},
   "source": [
    "![19. Imbalanced Dataset](image/Balanced_2.JPG)"
   ]
  },
  {
   "cell_type": "markdown",
   "metadata": {},
   "source": [
    "![19. Imbalanced Dataset](image/Balanced_3.JPG)"
   ]
  }
 ],
 "metadata": {
  "kernelspec": {
   "display_name": "Python 3",
   "language": "python",
   "name": "python3"
  },
  "language_info": {
   "codemirror_mode": {
    "name": "ipython",
    "version": 3
   },
   "file_extension": ".py",
   "mimetype": "text/x-python",
   "name": "python",
   "nbconvert_exporter": "python",
   "pygments_lexer": "ipython3",
   "version": "3.7.3"
  }
 },
 "nbformat": 4,
 "nbformat_minor": 2
}
