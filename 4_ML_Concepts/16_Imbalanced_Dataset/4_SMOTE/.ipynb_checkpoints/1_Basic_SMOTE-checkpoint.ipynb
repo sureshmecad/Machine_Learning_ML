{
 "cells": [
  {
   "cell_type": "markdown",
   "metadata": {},
   "source": [
    "### SMOTE (Synthetic Minority Over Sampling Technique)"
   ]
  },
  {
   "cell_type": "markdown",
   "metadata": {},
   "source": [
    "![19. Imbalanced Dataset](image/SMOTE_1.JPG)"
   ]
  },
  {
   "cell_type": "markdown",
   "metadata": {},
   "source": [
    "- Initial 900 and 100.\n",
    "\n",
    "\n",
    "- 900 ---> 900\n",
    "  100 ---> 900 but not duplicates created synthetically."
   ]
  },
  {
   "cell_type": "markdown",
   "metadata": {},
   "source": [
    "- SMOTE is calculated over the feature space...it goes like this\n",
    "\n",
    "  1. we take the feature vector of the minority class point.\n",
    "  2. we calculate the distance between the neighbours (neighbours=5).\n",
    "  3. we multiply the distance between the neighbours with a random number that is created between 0 &1.\n",
    "  4. Then we create the synthesized point."
   ]
  },
  {
   "cell_type": "markdown",
   "metadata": {},
   "source": [
    "![19. Imbalanced Dataset](image/SMOTE_2.JPG)"
   ]
  },
  {
   "cell_type": "markdown",
   "metadata": {},
   "source": [
    "![19. Imbalanced Dataset](image/SMOTE_3.JPG)"
   ]
  },
  {
   "cell_type": "markdown",
   "metadata": {},
   "source": [
    "![19. Imbalanced Dataset](image/SMOTE_4.JPG)"
   ]
  }
 ],
 "metadata": {
  "kernelspec": {
   "display_name": "Python 3",
   "language": "python",
   "name": "python3"
  },
  "language_info": {
   "codemirror_mode": {
    "name": "ipython",
    "version": 3
   },
   "file_extension": ".py",
   "mimetype": "text/x-python",
   "name": "python",
   "nbconvert_exporter": "python",
   "pygments_lexer": "ipython3",
   "version": "3.7.3"
  }
 },
 "nbformat": 4,
 "nbformat_minor": 2
}
