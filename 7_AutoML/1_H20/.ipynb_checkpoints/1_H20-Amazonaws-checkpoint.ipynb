{
 "cells": [
  {
   "cell_type": "markdown",
   "metadata": {},
   "source": [
    "## H20 --> AutoML: Automatic Machine Learning"
   ]
  },
  {
   "cell_type": "code",
   "execution_count": 1,
   "metadata": {},
   "outputs": [
    {
     "name": "stdout",
     "output_type": "stream",
     "text": [
      "Collecting h2o\n",
      "  Downloading h2o-3.32.1.1.tar.gz (164.8 MB)\n",
      "Requirement already satisfied: requests in c:\\users\\deepusuresh\\anaconda3\\lib\\site-packages (from h2o) (2.24.0)\n",
      "Collecting tabulate\n",
      "  Downloading tabulate-0.8.9-py3-none-any.whl (25 kB)\n",
      "Requirement already satisfied: future in c:\\users\\deepusuresh\\anaconda3\\lib\\site-packages (from h2o) (0.17.1)\n",
      "Requirement already satisfied: colorama>=0.3.8 in c:\\users\\deepusuresh\\anaconda3\\lib\\site-packages (from h2o) (0.4.1)\n",
      "Requirement already satisfied: chardet<4,>=3.0.2 in c:\\users\\deepusuresh\\anaconda3\\lib\\site-packages (from requests->h2o) (3.0.4)\n",
      "Requirement already satisfied: urllib3!=1.25.0,!=1.25.1,<1.26,>=1.21.1 in c:\\users\\deepusuresh\\anaconda3\\lib\\site-packages (from requests->h2o) (1.25.9)\n",
      "Requirement already satisfied: idna<3,>=2.5 in c:\\users\\deepusuresh\\anaconda3\\lib\\site-packages (from requests->h2o) (2.10)\n",
      "Requirement already satisfied: certifi>=2017.4.17 in c:\\users\\deepusuresh\\anaconda3\\lib\\site-packages (from requests->h2o) (2020.6.20)\n",
      "Building wheels for collected packages: h2o\n",
      "  Building wheel for h2o (setup.py): started\n",
      "  Building wheel for h2o (setup.py): still running...\n",
      "  Building wheel for h2o (setup.py): finished with status 'done'\n",
      "  Created wheel for h2o: filename=h2o-3.32.1.1-py2.py3-none-any.whl size=164840235 sha256=f8613bf5376732e5ca4779fbe2b7653e86d1ebd9dde68b96253eecfc7238e004\n",
      "  Stored in directory: c:\\users\\deepusuresh\\appdata\\local\\pip\\cache\\wheels\\85\\cb\\f5\\a72d41b4676331c29bbc5bb881bc2ac2fea8a10a4960f3488d\n",
      "Successfully built h2o\n",
      "Installing collected packages: tabulate, h2o\n",
      "Successfully installed h2o-3.32.1.1 tabulate-0.8.9\n"
     ]
    },
    {
     "name": "stderr",
     "output_type": "stream",
     "text": [
      "WARNING: Retrying (Retry(total=4, connect=None, read=None, redirect=None, status=None)) after connection broken by 'ReadTimeoutError(\"HTTPSConnectionPool(host='pypi.org', port=443): Read timed out. (read timeout=15)\")': /simple/tabulate/\n"
     ]
    }
   ],
   "source": [
    "!pip install h2o"
   ]
  },
  {
   "cell_type": "code",
   "execution_count": 2,
   "metadata": {},
   "outputs": [],
   "source": [
    "import h2o\n",
    "from h2o.automl import H2OAutoML"
   ]
  },
  {
   "cell_type": "code",
   "execution_count": 3,
   "metadata": {},
   "outputs": [
    {
     "name": "stdout",
     "output_type": "stream",
     "text": [
      "Checking whether there is an H2O instance running at http://localhost:54321 ..... not found.\n",
      "Attempting to start a local H2O server...\n",
      "; Java HotSpot(TM) 64-Bit Server VM (build 25.281-b09, mixed mode)\n",
      "  Starting server from C:\\Users\\deepusuresh\\Anaconda3\\lib\\site-packages\\h2o\\backend\\bin\\h2o.jar\n",
      "  Ice root: C:\\Users\\DEEPUS~1\\AppData\\Local\\Temp\\tmpztlyjnjs\n",
      "  JVM stdout: C:\\Users\\DEEPUS~1\\AppData\\Local\\Temp\\tmpztlyjnjs\\h2o_deepusuresh_started_from_python.out\n",
      "  JVM stderr: C:\\Users\\DEEPUS~1\\AppData\\Local\\Temp\\tmpztlyjnjs\\h2o_deepusuresh_started_from_python.err\n",
      "  Server is running at http://127.0.0.1:54321\n",
      "Connecting to H2O server at http://127.0.0.1:54321 ... successful.\n"
     ]
    },
    {
     "data": {
      "text/html": [
       "<div style=\"overflow:auto\"><table style=\"width:50%\"><tr><td>H2O_cluster_uptime:</td>\n",
       "<td>06 secs</td></tr>\n",
       "<tr><td>H2O_cluster_timezone:</td>\n",
       "<td>Asia/Kolkata</td></tr>\n",
       "<tr><td>H2O_data_parsing_timezone:</td>\n",
       "<td>UTC</td></tr>\n",
       "<tr><td>H2O_cluster_version:</td>\n",
       "<td>3.32.1.1</td></tr>\n",
       "<tr><td>H2O_cluster_version_age:</td>\n",
       "<td>19 days </td></tr>\n",
       "<tr><td>H2O_cluster_name:</td>\n",
       "<td>H2O_from_python_deepusuresh_206ays</td></tr>\n",
       "<tr><td>H2O_cluster_total_nodes:</td>\n",
       "<td>1</td></tr>\n",
       "<tr><td>H2O_cluster_free_memory:</td>\n",
       "<td>884 Mb</td></tr>\n",
       "<tr><td>H2O_cluster_total_cores:</td>\n",
       "<td>0</td></tr>\n",
       "<tr><td>H2O_cluster_allowed_cores:</td>\n",
       "<td>0</td></tr>\n",
       "<tr><td>H2O_cluster_status:</td>\n",
       "<td>accepting new members, healthy</td></tr>\n",
       "<tr><td>H2O_connection_url:</td>\n",
       "<td>http://127.0.0.1:54321</td></tr>\n",
       "<tr><td>H2O_connection_proxy:</td>\n",
       "<td>{\"http\": null, \"https\": null}</td></tr>\n",
       "<tr><td>H2O_internal_security:</td>\n",
       "<td>False</td></tr>\n",
       "<tr><td>H2O_API_Extensions:</td>\n",
       "<td>Amazon S3, Algos, AutoML, Core V3, TargetEncoder, Core V4</td></tr>\n",
       "<tr><td>Python_version:</td>\n",
       "<td>3.7.3 final</td></tr></table></div>"
      ],
      "text/plain": [
       "--------------------------  ---------------------------------------------------------\n",
       "H2O_cluster_uptime:         06 secs\n",
       "H2O_cluster_timezone:       Asia/Kolkata\n",
       "H2O_data_parsing_timezone:  UTC\n",
       "H2O_cluster_version:        3.32.1.1\n",
       "H2O_cluster_version_age:    19 days\n",
       "H2O_cluster_name:           H2O_from_python_deepusuresh_206ays\n",
       "H2O_cluster_total_nodes:    1\n",
       "H2O_cluster_free_memory:    884 Mb\n",
       "H2O_cluster_total_cores:    0\n",
       "H2O_cluster_allowed_cores:  0\n",
       "H2O_cluster_status:         accepting new members, healthy\n",
       "H2O_connection_url:         http://127.0.0.1:54321\n",
       "H2O_connection_proxy:       {\"http\": null, \"https\": null}\n",
       "H2O_internal_security:      False\n",
       "H2O_API_Extensions:         Amazon S3, Algos, AutoML, Core V3, TargetEncoder, Core V4\n",
       "Python_version:             3.7.3 final\n",
       "--------------------------  ---------------------------------------------------------"
      ]
     },
     "metadata": {},
     "output_type": "display_data"
    }
   ],
   "source": [
    "h2o.init()"
   ]
  },
  {
   "cell_type": "code",
   "execution_count": 4,
   "metadata": {},
   "outputs": [
    {
     "name": "stdout",
     "output_type": "stream",
     "text": [
      "Parse progress: |█████████████████████████████████████████████████████████| 100%\n",
      "Parse progress: |█████████████████████████████████████████████████████████| 100%\n"
     ]
    }
   ],
   "source": [
    "# Import a sample binary outcome train/test set into H2O\n",
    "train = h2o.import_file(\"https://s3.amazonaws.com/erin-data/higgs/higgs_train_10k.csv\")\n",
    "test = h2o.import_file(\"https://s3.amazonaws.com/erin-data/higgs/higgs_test_5k.csv\")"
   ]
  },
  {
   "cell_type": "code",
   "execution_count": 5,
   "metadata": {},
   "outputs": [],
   "source": [
    "# Identify predictors and response\n",
    "x = train.columns\n",
    "y = \"response\"\n",
    "x.remove(y)"
   ]
  },
  {
   "cell_type": "code",
   "execution_count": 6,
   "metadata": {},
   "outputs": [],
   "source": [
    "# For binary classification, response should be a factor\n",
    "train[y] = train[y].asfactor()\n",
    "test[y] = test[y].asfactor()"
   ]
  },
  {
   "cell_type": "code",
   "execution_count": 7,
   "metadata": {},
   "outputs": [
    {
     "name": "stdout",
     "output_type": "stream",
     "text": [
      "AutoML progress: |\n",
      "22:12:53.374: AutoML: XGBoost is not available; skipping it.\n",
      "\n",
      "██████████████████████████████████████████████████████Job request failed Unexpected HTTP error: ('Connection aborted.', RemoteDisconnected('Remote end closed connection without response')), will retry after 3s.\n",
      "██| 100%\n"
     ]
    }
   ],
   "source": [
    "# Run AutoML for 20 base models (limited to 1 hour max runtime by default)\n",
    "aml = H2OAutoML(max_models=20, seed=1)\n",
    "aml.train(x=x, y=y, training_frame=train)"
   ]
  },
  {
   "cell_type": "code",
   "execution_count": 8,
   "metadata": {},
   "outputs": [
    {
     "data": {
      "text/html": [
       "<table>\n",
       "<thead>\n",
       "<tr><th>model_id                                           </th><th style=\"text-align: right;\">     auc</th><th style=\"text-align: right;\">  logloss</th><th style=\"text-align: right;\">   aucpr</th><th style=\"text-align: right;\">  mean_per_class_error</th><th style=\"text-align: right;\">    rmse</th><th style=\"text-align: right;\">     mse</th></tr>\n",
       "</thead>\n",
       "<tbody>\n",
       "<tr><td>StackedEnsemble_AllModels_AutoML_20210413_221253   </td><td style=\"text-align: right;\">0.788181</td><td style=\"text-align: right;\"> 0.551309</td><td style=\"text-align: right;\">0.805648</td><td style=\"text-align: right;\">              0.319519</td><td style=\"text-align: right;\">0.432545</td><td style=\"text-align: right;\">0.187095</td></tr>\n",
       "<tr><td>StackedEnsemble_BestOfFamily_AutoML_20210413_221253</td><td style=\"text-align: right;\">0.785563</td><td style=\"text-align: right;\"> 0.554248</td><td style=\"text-align: right;\">0.802861</td><td style=\"text-align: right;\">              0.327055</td><td style=\"text-align: right;\">0.433782</td><td style=\"text-align: right;\">0.188167</td></tr>\n",
       "<tr><td>GBM_5_AutoML_20210413_221253                       </td><td style=\"text-align: right;\">0.780862</td><td style=\"text-align: right;\"> 0.559708</td><td style=\"text-align: right;\">0.799145</td><td style=\"text-align: right;\">              0.325399</td><td style=\"text-align: right;\">0.436083</td><td style=\"text-align: right;\">0.190168</td></tr>\n",
       "<tr><td>GBM_grid__1_AutoML_20210413_221253_model_6         </td><td style=\"text-align: right;\">0.779677</td><td style=\"text-align: right;\"> 0.559886</td><td style=\"text-align: right;\">0.801394</td><td style=\"text-align: right;\">              0.328174</td><td style=\"text-align: right;\">0.436728</td><td style=\"text-align: right;\">0.190731</td></tr>\n",
       "<tr><td>GBM_grid__1_AutoML_20210413_221253_model_3         </td><td style=\"text-align: right;\">0.779386</td><td style=\"text-align: right;\"> 0.562607</td><td style=\"text-align: right;\">0.797915</td><td style=\"text-align: right;\">              0.334245</td><td style=\"text-align: right;\">0.437242</td><td style=\"text-align: right;\">0.191181</td></tr>\n",
       "<tr><td>GBM_1_AutoML_20210413_221253                       </td><td style=\"text-align: right;\">0.778997</td><td style=\"text-align: right;\"> 0.56159 </td><td style=\"text-align: right;\">0.797276</td><td style=\"text-align: right;\">              0.326697</td><td style=\"text-align: right;\">0.437003</td><td style=\"text-align: right;\">0.190971</td></tr>\n",
       "<tr><td>GBM_2_AutoML_20210413_221253                       </td><td style=\"text-align: right;\">0.778338</td><td style=\"text-align: right;\"> 0.561527</td><td style=\"text-align: right;\">0.796497</td><td style=\"text-align: right;\">              0.329805</td><td style=\"text-align: right;\">0.437199</td><td style=\"text-align: right;\">0.191143</td></tr>\n",
       "<tr><td>GBM_grid__1_AutoML_20210413_221253_model_1         </td><td style=\"text-align: right;\">0.776443</td><td style=\"text-align: right;\"> 0.570148</td><td style=\"text-align: right;\">0.792348</td><td style=\"text-align: right;\">              0.333251</td><td style=\"text-align: right;\">0.440213</td><td style=\"text-align: right;\">0.193787</td></tr>\n",
       "<tr><td>GBM_3_AutoML_20210413_221253                       </td><td style=\"text-align: right;\">0.776389</td><td style=\"text-align: right;\"> 0.563906</td><td style=\"text-align: right;\">0.794032</td><td style=\"text-align: right;\">              0.328065</td><td style=\"text-align: right;\">0.438274</td><td style=\"text-align: right;\">0.192084</td></tr>\n",
       "<tr><td>GBM_grid__1_AutoML_20210413_221253_model_5         </td><td style=\"text-align: right;\">0.773405</td><td style=\"text-align: right;\"> 0.571628</td><td style=\"text-align: right;\">0.791952</td><td style=\"text-align: right;\">              0.328845</td><td style=\"text-align: right;\">0.4411  </td><td style=\"text-align: right;\">0.19457 </td></tr>\n",
       "<tr><td>GBM_4_AutoML_20210413_221253                       </td><td style=\"text-align: right;\">0.770758</td><td style=\"text-align: right;\"> 0.570912</td><td style=\"text-align: right;\">0.791118</td><td style=\"text-align: right;\">              0.353743</td><td style=\"text-align: right;\">0.441681</td><td style=\"text-align: right;\">0.195082</td></tr>\n",
       "<tr><td>DRF_1_AutoML_20210413_221253                       </td><td style=\"text-align: right;\">0.765151</td><td style=\"text-align: right;\"> 0.580246</td><td style=\"text-align: right;\">0.783657</td><td style=\"text-align: right;\">              0.340491</td><td style=\"text-align: right;\">0.445292</td><td style=\"text-align: right;\">0.198285</td></tr>\n",
       "<tr><td>XRT_1_AutoML_20210413_221253                       </td><td style=\"text-align: right;\">0.764278</td><td style=\"text-align: right;\"> 0.582532</td><td style=\"text-align: right;\">0.782202</td><td style=\"text-align: right;\">              0.350126</td><td style=\"text-align: right;\">0.446216</td><td style=\"text-align: right;\">0.199109</td></tr>\n",
       "<tr><td>GBM_grid__1_AutoML_20210413_221253_model_4         </td><td style=\"text-align: right;\">0.759978</td><td style=\"text-align: right;\"> 0.581741</td><td style=\"text-align: right;\">0.77626 </td><td style=\"text-align: right;\">              0.353778</td><td style=\"text-align: right;\">0.446201</td><td style=\"text-align: right;\">0.199095</td></tr>\n",
       "<tr><td>GBM_grid__1_AutoML_20210413_221253_model_2         </td><td style=\"text-align: right;\">0.758545</td><td style=\"text-align: right;\"> 0.597024</td><td style=\"text-align: right;\">0.775467</td><td style=\"text-align: right;\">              0.344634</td><td style=\"text-align: right;\">0.451469</td><td style=\"text-align: right;\">0.203825</td></tr>\n",
       "<tr><td>DeepLearning_grid__3_AutoML_20210413_221253_model_1</td><td style=\"text-align: right;\">0.745443</td><td style=\"text-align: right;\"> 0.612248</td><td style=\"text-align: right;\">0.751246</td><td style=\"text-align: right;\">              0.366024</td><td style=\"text-align: right;\">0.460314</td><td style=\"text-align: right;\">0.211889</td></tr>\n",
       "<tr><td>DeepLearning_grid__1_AutoML_20210413_221253_model_1</td><td style=\"text-align: right;\">0.722356</td><td style=\"text-align: right;\"> 0.632251</td><td style=\"text-align: right;\">0.716806</td><td style=\"text-align: right;\">              0.36132 </td><td style=\"text-align: right;\">0.46305 </td><td style=\"text-align: right;\">0.214416</td></tr>\n",
       "<tr><td>DeepLearning_grid__2_AutoML_20210413_221253_model_1</td><td style=\"text-align: right;\">0.710174</td><td style=\"text-align: right;\"> 0.632045</td><td style=\"text-align: right;\">0.712912</td><td style=\"text-align: right;\">              0.405904</td><td style=\"text-align: right;\">0.466703</td><td style=\"text-align: right;\">0.217811</td></tr>\n",
       "<tr><td>DeepLearning_grid__2_AutoML_20210413_221253_model_2</td><td style=\"text-align: right;\">0.709692</td><td style=\"text-align: right;\"> 0.676775</td><td style=\"text-align: right;\">0.713394</td><td style=\"text-align: right;\">              0.387917</td><td style=\"text-align: right;\">0.478574</td><td style=\"text-align: right;\">0.229033</td></tr>\n",
       "<tr><td>DeepLearning_1_AutoML_20210413_221253              </td><td style=\"text-align: right;\">0.705462</td><td style=\"text-align: right;\"> 0.631403</td><td style=\"text-align: right;\">0.71287 </td><td style=\"text-align: right;\">              0.412245</td><td style=\"text-align: right;\">0.468731</td><td style=\"text-align: right;\">0.219709</td></tr>\n",
       "<tr><td>DeepLearning_grid__1_AutoML_20210413_221253_model_2</td><td style=\"text-align: right;\">0.701097</td><td style=\"text-align: right;\"> 0.685822</td><td style=\"text-align: right;\">0.708715</td><td style=\"text-align: right;\">              0.393476</td><td style=\"text-align: right;\">0.480931</td><td style=\"text-align: right;\">0.231295</td></tr>\n",
       "<tr><td>GLM_1_AutoML_20210413_221253                       </td><td style=\"text-align: right;\">0.682648</td><td style=\"text-align: right;\"> 0.63852 </td><td style=\"text-align: right;\">0.680715</td><td style=\"text-align: right;\">              0.397234</td><td style=\"text-align: right;\">0.472683</td><td style=\"text-align: right;\">0.223429</td></tr>\n",
       "</tbody>\n",
       "</table>"
      ]
     },
     "metadata": {},
     "output_type": "display_data"
    },
    {
     "data": {
      "text/plain": []
     },
     "execution_count": 8,
     "metadata": {},
     "output_type": "execute_result"
    }
   ],
   "source": [
    "# View the AutoML Leaderboard\n",
    "lb = aml.leaderboard\n",
    "lb.head(rows=lb.nrows)  # Print all rows instead of default (10 rows)"
   ]
  },
  {
   "cell_type": "markdown",
   "metadata": {},
   "source": [
    "## Prediction"
   ]
  },
  {
   "cell_type": "code",
   "execution_count": 9,
   "metadata": {},
   "outputs": [
    {
     "name": "stdout",
     "output_type": "stream",
     "text": [
      "stackedensemble prediction progress: |████████████████████████████████████| 100%\n",
      "stackedensemble prediction progress: |████████████████████████████████████| 100%\n"
     ]
    }
   ],
   "source": [
    "# To generate predictions on a test set, you can make predictions\n",
    "# directly on the `\"H2OAutoML\"` object or on the leader model\n",
    "# object directly\n",
    "preds = aml.predict(test)\n",
    "\n",
    "# or:\n",
    "preds = aml.leader.predict(test)"
   ]
  },
  {
   "cell_type": "markdown",
   "metadata": {},
   "source": [
    "## AutoML Output\n",
    "### Leaderboard"
   ]
  },
  {
   "cell_type": "code",
   "execution_count": 10,
   "metadata": {},
   "outputs": [
    {
     "data": {
      "text/html": [
       "<table>\n",
       "<thead>\n",
       "<tr><th>model_id                                           </th><th style=\"text-align: right;\">     auc</th><th style=\"text-align: right;\">  logloss</th><th style=\"text-align: right;\">   aucpr</th><th style=\"text-align: right;\">  mean_per_class_error</th><th style=\"text-align: right;\">    rmse</th><th style=\"text-align: right;\">     mse</th><th style=\"text-align: right;\">  training_time_ms</th><th style=\"text-align: right;\">  predict_time_per_row_ms</th><th>algo           </th></tr>\n",
       "</thead>\n",
       "<tbody>\n",
       "<tr><td>StackedEnsemble_AllModels_AutoML_20210413_221253   </td><td style=\"text-align: right;\">0.788181</td><td style=\"text-align: right;\"> 0.551309</td><td style=\"text-align: right;\">0.805648</td><td style=\"text-align: right;\">              0.319519</td><td style=\"text-align: right;\">0.432545</td><td style=\"text-align: right;\">0.187095</td><td style=\"text-align: right;\">              2588</td><td style=\"text-align: right;\">                 0.168722</td><td>StackedEnsemble</td></tr>\n",
       "<tr><td>StackedEnsemble_BestOfFamily_AutoML_20210413_221253</td><td style=\"text-align: right;\">0.785563</td><td style=\"text-align: right;\"> 0.554248</td><td style=\"text-align: right;\">0.802861</td><td style=\"text-align: right;\">              0.327055</td><td style=\"text-align: right;\">0.433782</td><td style=\"text-align: right;\">0.188167</td><td style=\"text-align: right;\">              1799</td><td style=\"text-align: right;\">                 0.057022</td><td>StackedEnsemble</td></tr>\n",
       "<tr><td>GBM_5_AutoML_20210413_221253                       </td><td style=\"text-align: right;\">0.780862</td><td style=\"text-align: right;\"> 0.559708</td><td style=\"text-align: right;\">0.799145</td><td style=\"text-align: right;\">              0.325399</td><td style=\"text-align: right;\">0.436083</td><td style=\"text-align: right;\">0.190168</td><td style=\"text-align: right;\">              2303</td><td style=\"text-align: right;\">                 0.015011</td><td>GBM            </td></tr>\n",
       "<tr><td>GBM_grid__1_AutoML_20210413_221253_model_6         </td><td style=\"text-align: right;\">0.779677</td><td style=\"text-align: right;\"> 0.559886</td><td style=\"text-align: right;\">0.801394</td><td style=\"text-align: right;\">              0.328174</td><td style=\"text-align: right;\">0.436728</td><td style=\"text-align: right;\">0.190731</td><td style=\"text-align: right;\">              1962</td><td style=\"text-align: right;\">                 0.015272</td><td>GBM            </td></tr>\n",
       "<tr><td>GBM_grid__1_AutoML_20210413_221253_model_3         </td><td style=\"text-align: right;\">0.779386</td><td style=\"text-align: right;\"> 0.562607</td><td style=\"text-align: right;\">0.797915</td><td style=\"text-align: right;\">              0.334245</td><td style=\"text-align: right;\">0.437242</td><td style=\"text-align: right;\">0.191181</td><td style=\"text-align: right;\">              1407</td><td style=\"text-align: right;\">                 0.014408</td><td>GBM            </td></tr>\n",
       "<tr><td>GBM_1_AutoML_20210413_221253                       </td><td style=\"text-align: right;\">0.778997</td><td style=\"text-align: right;\"> 0.56159 </td><td style=\"text-align: right;\">0.797276</td><td style=\"text-align: right;\">              0.326697</td><td style=\"text-align: right;\">0.437003</td><td style=\"text-align: right;\">0.190971</td><td style=\"text-align: right;\">              1823</td><td style=\"text-align: right;\">                 0.012728</td><td>GBM            </td></tr>\n",
       "<tr><td>GBM_2_AutoML_20210413_221253                       </td><td style=\"text-align: right;\">0.778338</td><td style=\"text-align: right;\"> 0.561527</td><td style=\"text-align: right;\">0.796497</td><td style=\"text-align: right;\">              0.329805</td><td style=\"text-align: right;\">0.437199</td><td style=\"text-align: right;\">0.191143</td><td style=\"text-align: right;\">              2043</td><td style=\"text-align: right;\">                 0.01408 </td><td>GBM            </td></tr>\n",
       "<tr><td>GBM_grid__1_AutoML_20210413_221253_model_1         </td><td style=\"text-align: right;\">0.776443</td><td style=\"text-align: right;\"> 0.570148</td><td style=\"text-align: right;\">0.792348</td><td style=\"text-align: right;\">              0.333251</td><td style=\"text-align: right;\">0.440213</td><td style=\"text-align: right;\">0.193787</td><td style=\"text-align: right;\">              1186</td><td style=\"text-align: right;\">                 0.012473</td><td>GBM            </td></tr>\n",
       "<tr><td>GBM_3_AutoML_20210413_221253                       </td><td style=\"text-align: right;\">0.776389</td><td style=\"text-align: right;\"> 0.563906</td><td style=\"text-align: right;\">0.794032</td><td style=\"text-align: right;\">              0.328065</td><td style=\"text-align: right;\">0.438274</td><td style=\"text-align: right;\">0.192084</td><td style=\"text-align: right;\">              2124</td><td style=\"text-align: right;\">                 0.01412 </td><td>GBM            </td></tr>\n",
       "<tr><td>GBM_grid__1_AutoML_20210413_221253_model_5         </td><td style=\"text-align: right;\">0.773405</td><td style=\"text-align: right;\"> 0.571628</td><td style=\"text-align: right;\">0.791952</td><td style=\"text-align: right;\">              0.328845</td><td style=\"text-align: right;\">0.4411  </td><td style=\"text-align: right;\">0.19457 </td><td style=\"text-align: right;\">              1382</td><td style=\"text-align: right;\">                 0.015477</td><td>GBM            </td></tr>\n",
       "</tbody>\n",
       "</table>"
      ]
     },
     "metadata": {},
     "output_type": "display_data"
    },
    {
     "data": {
      "text/plain": []
     },
     "execution_count": 10,
     "metadata": {},
     "output_type": "execute_result"
    }
   ],
   "source": [
    "# Get leaderboard with `extra_columns` = 'ALL'\n",
    "lb = h2o.automl.get_leaderboard(aml, extra_columns = 'ALL')\n",
    "lb"
   ]
  },
  {
   "cell_type": "markdown",
   "metadata": {},
   "source": [
    "----------"
   ]
  },
  {
   "cell_type": "markdown",
   "metadata": {},
   "source": [
    "## Reference:\n",
    "\n",
    " - https://docs.h2o.ai/h2o/latest-stable/h2o-docs/automl.html"
   ]
  }
 ],
 "metadata": {
  "kernelspec": {
   "display_name": "Python 3",
   "language": "python",
   "name": "python3"
  },
  "language_info": {
   "codemirror_mode": {
    "name": "ipython",
    "version": 3
   },
   "file_extension": ".py",
   "mimetype": "text/x-python",
   "name": "python",
   "nbconvert_exporter": "python",
   "pygments_lexer": "ipython3",
   "version": "3.7.3"
  }
 },
 "nbformat": 4,
 "nbformat_minor": 2
}
