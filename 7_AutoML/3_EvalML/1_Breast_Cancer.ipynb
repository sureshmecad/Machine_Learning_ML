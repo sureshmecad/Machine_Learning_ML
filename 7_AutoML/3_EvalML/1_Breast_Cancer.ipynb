{
 "cells": [
  {
   "cell_type": "code",
   "execution_count": 6,
   "metadata": {},
   "outputs": [
    {
     "name": "stdout",
     "output_type": "stream",
     "text": [
      "Collecting evalml\n",
      "  Using cached evalml-0.22.0-py3-none-any.whl (6.2 MB)\n",
      "Requirement already satisfied: scikit-learn>=0.23.1 in c:\\users\\deepusuresh\\anaconda3\\lib\\site-packages (from evalml) (0.23.2)\n",
      "Collecting scikit-optimize>=0.8.1\n",
      "  Using cached scikit_optimize-0.8.1-py2.py3-none-any.whl (101 kB)\n",
      "Requirement already satisfied: lightgbm<3.1.0,>=2.3.1 in c:\\users\\deepusuresh\\anaconda3\\lib\\site-packages (from evalml) (2.3.1)\n",
      "Requirement already satisfied: xgboost<1.3.0,>=0.82 in c:\\users\\deepusuresh\\anaconda3\\lib\\site-packages (from evalml) (1.1.0)\n",
      "Collecting sktime>=0.5.3; python_version < \"3.9\"\n",
      "  Using cached sktime-0.5.3-cp37-cp37m-win_amd64.whl (4.3 MB)\n",
      "Collecting nlp-primitives>=1.1.0\n",
      "  Using cached nlp_primitives-1.1.0-py3-none-any.whl (18.0 MB)\n",
      "Requirement already satisfied: cloudpickle>=0.2.2 in c:\\users\\deepusuresh\\anaconda3\\lib\\site-packages (from evalml) (0.8.0)\n",
      "Requirement already satisfied: scipy>=1.2.1 in c:\\users\\deepusuresh\\anaconda3\\lib\\site-packages (from evalml) (1.2.1)\n",
      "Collecting texttable>=1.6.2\n",
      "  Using cached texttable-1.6.3-py2.py3-none-any.whl (10 kB)\n",
      "Collecting pandas>=1.1.0\n",
      "  Using cached pandas-1.2.4-cp37-cp37m-win_amd64.whl (9.1 MB)\n",
      "Collecting kaleido>=0.1.0\n",
      "  Using cached kaleido-0.2.1-py2.py3-none-win_amd64.whl (65.9 MB)\n",
      "Collecting ipywidgets>=7.5\n",
      "  Using cached ipywidgets-7.6.3-py2.py3-none-any.whl (121 kB)\n",
      "Collecting featuretools>=0.20.0\n",
      "  Using cached featuretools-0.23.3-py3-none-any.whl (296 kB)\n",
      "Collecting imbalanced-learn>=0.7.0\n",
      "  Using cached imbalanced_learn-0.8.0-py3-none-any.whl (206 kB)\n",
      "Requirement already satisfied: pyzmq<22.0.0 in c:\\users\\deepusuresh\\anaconda3\\lib\\site-packages (from evalml) (18.0.0)\n",
      "Collecting shap>=0.35.0\n",
      "  Using cached shap-0.39.0-cp37-cp37m-win_amd64.whl (414 kB)\n",
      "Requirement already satisfied: catboost>=0.20 in c:\\users\\deepusuresh\\anaconda3\\lib\\site-packages (from evalml) (0.23.2)\n",
      "Collecting plotly>=4.14.0\n",
      "  Using cached plotly-4.14.3-py2.py3-none-any.whl (13.2 MB)\n",
      "Requirement already satisfied: colorama in c:\\users\\deepusuresh\\anaconda3\\lib\\site-packages (from evalml) (0.4.1)\n",
      "Requirement already satisfied: category-encoders>=2.0.0 in c:\\users\\deepusuresh\\anaconda3\\lib\\site-packages (from evalml) (2.2.2)\n",
      "Collecting woodwork==0.0.11\n",
      "  Using cached woodwork-0.0.11-py3-none-any.whl (91 kB)\n",
      "Requirement already satisfied: numpy>=1.19.1 in c:\\users\\deepusuresh\\anaconda3\\lib\\site-packages (from evalml) (1.20.2)\n",
      "Collecting statsmodels>=0.12.2\n",
      "  Using cached statsmodels-0.12.2-cp37-none-win_amd64.whl (9.3 MB)\n",
      "Collecting matplotlib>=3.3.3\n",
      "  Using cached matplotlib-3.4.1-cp37-cp37m-win_amd64.whl (7.1 MB)\n",
      "Processing c:\\users\\deepusuresh\\appdata\\local\\pip\\cache\\wheels\\40\\e4\\ca\\8af24ee94c3863d620d6a52793d82930f4d1d3515a5121d495\\requirements_parser-0.2.0-py3-none-any.whl\n",
      "Requirement already satisfied: graphviz>=0.13 in c:\\users\\deepusuresh\\anaconda3\\lib\\site-packages (from evalml) (0.14.1)\n",
      "Collecting seaborn>=0.11.1\n",
      "  Using cached seaborn-0.11.1-py3-none-any.whl (285 kB)\n",
      "Collecting networkx>=2.5\n",
      "  Using cached networkx-2.5.1-py3-none-any.whl (1.6 MB)\n",
      "Collecting psutil>=5.6.3\n",
      "  Using cached psutil-5.8.0-cp37-cp37m-win_amd64.whl (244 kB)\n",
      "Requirement already satisfied: click>=7.0.0 in c:\\users\\deepusuresh\\anaconda3\\lib\\site-packages (from evalml) (7.0)\n",
      "Requirement already satisfied: threadpoolctl>=2.0.0 in c:\\users\\deepusuresh\\anaconda3\\lib\\site-packages (from scikit-learn>=0.23.1->evalml) (2.1.0)\n",
      "Requirement already satisfied: joblib>=0.11 in c:\\users\\deepusuresh\\anaconda3\\lib\\site-packages (from scikit-learn>=0.23.1->evalml) (0.17.0)\n",
      "Collecting pyaml>=16.9\n",
      "  Using cached pyaml-20.4.0-py2.py3-none-any.whl (17 kB)\n",
      "Requirement already satisfied: wheel in c:\\users\\deepusuresh\\anaconda3\\lib\\site-packages (from sktime>=0.5.3; python_version < \"3.9\"->evalml) (0.33.1)\n",
      "Collecting numba>=0.50\n",
      "  Using cached numba-0.53.1-cp37-cp37m-win_amd64.whl (2.3 MB)\n",
      "Requirement already satisfied: nltk>=3.4.5 in c:\\users\\deepusuresh\\anaconda3\\lib\\site-packages (from nlp-primitives>=1.1.0->evalml) (3.5)\n",
      "Requirement already satisfied: python-dateutil>=2.7.3 in c:\\users\\deepusuresh\\anaconda3\\lib\\site-packages (from pandas>=1.1.0->evalml) (2.8.0)\n",
      "Requirement already satisfied: pytz>=2017.3 in c:\\users\\deepusuresh\\anaconda3\\lib\\site-packages (from pandas>=1.1.0->evalml) (2020.1)\n",
      "Collecting jupyterlab-widgets>=1.0.0; python_version >= \"3.6\"\n",
      "  Using cached jupyterlab_widgets-1.0.0-py3-none-any.whl (243 kB)\n",
      "Requirement already satisfied: ipython>=4.0.0; python_version >= \"3.3\" in c:\\users\\deepusuresh\\anaconda3\\lib\\site-packages (from ipywidgets>=7.5->evalml) (7.4.0)\n",
      "Collecting widgetsnbextension~=3.5.0\n",
      "  Using cached widgetsnbextension-3.5.1-py2.py3-none-any.whl (2.2 MB)\n",
      "Requirement already satisfied: ipykernel>=4.5.1 in c:\\users\\deepusuresh\\anaconda3\\lib\\site-packages (from ipywidgets>=7.5->evalml) (5.1.0)\n",
      "Requirement already satisfied: nbformat>=4.2.0 in c:\\users\\deepusuresh\\anaconda3\\lib\\site-packages (from ipywidgets>=7.5->evalml) (4.4.0)\n",
      "Requirement already satisfied: traitlets>=4.3.1 in c:\\users\\deepusuresh\\anaconda3\\lib\\site-packages (from ipywidgets>=7.5->evalml) (4.3.2)\n",
      "Requirement already satisfied: tqdm>=4.32.0 in c:\\users\\deepusuresh\\anaconda3\\lib\\site-packages (from featuretools>=0.20.0->evalml) (4.50.2)\n",
      "Requirement already satisfied: pyyaml>=3.12 in c:\\users\\deepusuresh\\anaconda3\\lib\\site-packages (from featuretools>=0.20.0->evalml) (5.1)\n",
      "Collecting dask[dataframe]>=2.12.0\n",
      "  Using cached dask-2021.4.0-py3-none-any.whl (941 kB)\n",
      "Collecting distributed>=2.12.0\n",
      "  Using cached distributed-2021.4.0-py3-none-any.whl (684 kB)\n",
      "Collecting slicer==0.0.7\n",
      "  Using cached slicer-0.0.7-py3-none-any.whl (14 kB)\n",
      "Requirement already satisfied: six in c:\\users\\deepusuresh\\anaconda3\\lib\\site-packages (from catboost>=0.20->evalml) (1.15.0)\n",
      "Requirement already satisfied: retrying>=1.3.3 in c:\\users\\deepusuresh\\anaconda3\\lib\\site-packages (from plotly>=4.14.0->evalml) (1.3.3)\n",
      "Requirement already satisfied: patsy>=0.5.1 in c:\\users\\deepusuresh\\anaconda3\\lib\\site-packages (from category-encoders>=2.0.0->evalml) (0.5.1)\n",
      "Requirement already satisfied: pillow>=6.2.0 in c:\\users\\deepusuresh\\anaconda3\\lib\\site-packages (from matplotlib>=3.3.3->evalml) (6.2.1)\n",
      "Requirement already satisfied: pyparsing>=2.2.1 in c:\\users\\deepusuresh\\anaconda3\\lib\\site-packages (from matplotlib>=3.3.3->evalml) (2.3.1)\n",
      "Requirement already satisfied: kiwisolver>=1.0.1 in c:\\users\\deepusuresh\\anaconda3\\lib\\site-packages (from matplotlib>=3.3.3->evalml) (1.0.1)\n",
      "Requirement already satisfied: cycler>=0.10 in c:\\users\\deepusuresh\\anaconda3\\lib\\site-packages (from matplotlib>=3.3.3->evalml) (0.10.0)\n",
      "Requirement already satisfied: decorator<5,>=4.3 in c:\\users\\deepusuresh\\anaconda3\\lib\\site-packages (from networkx>=2.5->evalml) (4.4.0)\n",
      "Requirement already satisfied: setuptools in c:\\users\\deepusuresh\\anaconda3\\lib\\site-packages (from numba>=0.50->sktime>=0.5.3; python_version < \"3.9\"->evalml) (40.8.0)\n",
      "Collecting llvmlite<0.37,>=0.36.0rc1\n",
      "  Using cached llvmlite-0.36.0-cp37-cp37m-win_amd64.whl (16.0 MB)\n",
      "Requirement already satisfied: regex in c:\\users\\deepusuresh\\anaconda3\\lib\\site-packages (from nltk>=3.4.5->nlp-primitives>=1.1.0->evalml) (2019.6.5)\n",
      "Requirement already satisfied: pickleshare in c:\\users\\deepusuresh\\anaconda3\\lib\\site-packages (from ipython>=4.0.0; python_version >= \"3.3\"->ipywidgets>=7.5->evalml) (0.7.5)\n",
      "Requirement already satisfied: pygments in c:\\users\\deepusuresh\\anaconda3\\lib\\site-packages (from ipython>=4.0.0; python_version >= \"3.3\"->ipywidgets>=7.5->evalml) (2.3.1)\n",
      "Requirement already satisfied: backcall in c:\\users\\deepusuresh\\anaconda3\\lib\\site-packages (from ipython>=4.0.0; python_version >= \"3.3\"->ipywidgets>=7.5->evalml) (0.1.0)\n",
      "Requirement already satisfied: prompt-toolkit<2.1.0,>=2.0.0 in c:\\users\\deepusuresh\\anaconda3\\lib\\site-packages (from ipython>=4.0.0; python_version >= \"3.3\"->ipywidgets>=7.5->evalml) (2.0.9)\n",
      "Requirement already satisfied: jedi>=0.10 in c:\\users\\deepusuresh\\anaconda3\\lib\\site-packages (from ipython>=4.0.0; python_version >= \"3.3\"->ipywidgets>=7.5->evalml) (0.13.3)\n",
      "Requirement already satisfied: notebook>=4.4.1 in c:\\users\\deepusuresh\\anaconda3\\lib\\site-packages (from widgetsnbextension~=3.5.0->ipywidgets>=7.5->evalml) (5.7.8)\n",
      "Requirement already satisfied: tornado>=4.2 in c:\\users\\deepusuresh\\anaconda3\\lib\\site-packages (from ipykernel>=4.5.1->ipywidgets>=7.5->evalml) (6.0.2)\n",
      "Requirement already satisfied: jupyter-client in c:\\users\\deepusuresh\\anaconda3\\lib\\site-packages (from ipykernel>=4.5.1->ipywidgets>=7.5->evalml) (5.2.4)\n",
      "Requirement already satisfied: jsonschema!=2.5.0,>=2.4 in c:\\users\\deepusuresh\\anaconda3\\lib\\site-packages (from nbformat>=4.2.0->ipywidgets>=7.5->evalml) (3.0.1)\n",
      "Requirement already satisfied: jupyter-core in c:\\users\\deepusuresh\\anaconda3\\lib\\site-packages (from nbformat>=4.2.0->ipywidgets>=7.5->evalml) (4.4.0)\n",
      "Requirement already satisfied: ipython-genutils in c:\\users\\deepusuresh\\anaconda3\\lib\\site-packages (from nbformat>=4.2.0->ipywidgets>=7.5->evalml) (0.2.0)\n",
      "Requirement already satisfied: toolz>=0.8.2 in c:\\users\\deepusuresh\\anaconda3\\lib\\site-packages (from dask[dataframe]>=2.12.0->featuretools>=0.20.0->evalml) (0.9.0)\n",
      "Requirement already satisfied: partd>=0.3.10 in c:\\users\\deepusuresh\\anaconda3\\lib\\site-packages (from dask[dataframe]>=2.12.0->featuretools>=0.20.0->evalml) (0.3.10)\n",
      "Requirement already satisfied: fsspec>=0.6.0 in c:\\users\\deepusuresh\\anaconda3\\lib\\site-packages (from dask[dataframe]>=2.12.0->featuretools>=0.20.0->evalml) (0.7.4)\n",
      "Requirement already satisfied: zict>=0.1.3 in c:\\users\\deepusuresh\\anaconda3\\lib\\site-packages (from distributed>=2.12.0->featuretools>=0.20.0->evalml) (0.1.4)\n",
      "Collecting tblib>=1.6.0\n",
      "  Using cached tblib-1.7.0-py2.py3-none-any.whl (12 kB)\n",
      "Requirement already satisfied: msgpack>=0.6.0 in c:\\users\\deepusuresh\\anaconda3\\lib\\site-packages (from distributed>=2.12.0->featuretools>=0.20.0->evalml) (0.6.1)\n",
      "Requirement already satisfied: sortedcontainers!=2.0.0,!=2.0.1 in c:\\users\\deepusuresh\\anaconda3\\lib\\site-packages (from distributed>=2.12.0->featuretools>=0.20.0->evalml) (2.1.0)\n",
      "Requirement already satisfied: wcwidth in c:\\users\\deepusuresh\\anaconda3\\lib\\site-packages (from prompt-toolkit<2.1.0,>=2.0.0->ipython>=4.0.0; python_version >= \"3.3\"->ipywidgets>=7.5->evalml) (0.1.7)\n",
      "Requirement already satisfied: parso>=0.3.0 in c:\\users\\deepusuresh\\anaconda3\\lib\\site-packages (from jedi>=0.10->ipython>=4.0.0; python_version >= \"3.3\"->ipywidgets>=7.5->evalml) (0.3.4)\n",
      "Requirement already satisfied: nbconvert in c:\\users\\deepusuresh\\anaconda3\\lib\\site-packages (from notebook>=4.4.1->widgetsnbextension~=3.5.0->ipywidgets>=7.5->evalml) (5.4.1)\n",
      "Requirement already satisfied: Send2Trash in c:\\users\\deepusuresh\\anaconda3\\lib\\site-packages (from notebook>=4.4.1->widgetsnbextension~=3.5.0->ipywidgets>=7.5->evalml) (1.5.0)\n",
      "Requirement already satisfied: prometheus-client in c:\\users\\deepusuresh\\anaconda3\\lib\\site-packages (from notebook>=4.4.1->widgetsnbextension~=3.5.0->ipywidgets>=7.5->evalml) (0.6.0)\n",
      "Requirement already satisfied: jinja2 in c:\\users\\deepusuresh\\anaconda3\\lib\\site-packages (from notebook>=4.4.1->widgetsnbextension~=3.5.0->ipywidgets>=7.5->evalml) (2.10)\n",
      "Requirement already satisfied: terminado>=0.8.1 in c:\\users\\deepusuresh\\anaconda3\\lib\\site-packages (from notebook>=4.4.1->widgetsnbextension~=3.5.0->ipywidgets>=7.5->evalml) (0.8.1)\n",
      "Requirement already satisfied: attrs>=17.4.0 in c:\\users\\deepusuresh\\anaconda3\\lib\\site-packages (from jsonschema!=2.5.0,>=2.4->nbformat>=4.2.0->ipywidgets>=7.5->evalml) (19.1.0)\n",
      "Requirement already satisfied: pyrsistent>=0.14.0 in c:\\users\\deepusuresh\\anaconda3\\lib\\site-packages (from jsonschema!=2.5.0,>=2.4->nbformat>=4.2.0->ipywidgets>=7.5->evalml) (0.14.11)\n",
      "Requirement already satisfied: locket in c:\\users\\deepusuresh\\anaconda3\\lib\\site-packages (from partd>=0.3.10->dask[dataframe]>=2.12.0->featuretools>=0.20.0->evalml) (0.2.0)\n",
      "Requirement already satisfied: heapdict in c:\\users\\deepusuresh\\anaconda3\\lib\\site-packages (from zict>=0.1.3->distributed>=2.12.0->featuretools>=0.20.0->evalml) (1.0.0)\n",
      "Requirement already satisfied: mistune>=0.8.1 in c:\\users\\deepusuresh\\anaconda3\\lib\\site-packages (from nbconvert->notebook>=4.4.1->widgetsnbextension~=3.5.0->ipywidgets>=7.5->evalml) (0.8.4)\n",
      "Requirement already satisfied: entrypoints>=0.2.2 in c:\\users\\deepusuresh\\anaconda3\\lib\\site-packages (from nbconvert->notebook>=4.4.1->widgetsnbextension~=3.5.0->ipywidgets>=7.5->evalml) (0.3)\n",
      "Requirement already satisfied: bleach in c:\\users\\deepusuresh\\anaconda3\\lib\\site-packages (from nbconvert->notebook>=4.4.1->widgetsnbextension~=3.5.0->ipywidgets>=7.5->evalml) (3.1.0)\n",
      "Requirement already satisfied: pandocfilters>=1.4.1 in c:\\users\\deepusuresh\\anaconda3\\lib\\site-packages (from nbconvert->notebook>=4.4.1->widgetsnbextension~=3.5.0->ipywidgets>=7.5->evalml) (1.4.2)\n",
      "Requirement already satisfied: testpath in c:\\users\\deepusuresh\\anaconda3\\lib\\site-packages (from nbconvert->notebook>=4.4.1->widgetsnbextension~=3.5.0->ipywidgets>=7.5->evalml) (0.4.2)\n",
      "Requirement already satisfied: defusedxml in c:\\users\\deepusuresh\\anaconda3\\lib\\site-packages (from nbconvert->notebook>=4.4.1->widgetsnbextension~=3.5.0->ipywidgets>=7.5->evalml) (0.5.0)\n",
      "Requirement already satisfied: MarkupSafe>=0.23 in c:\\users\\deepusuresh\\anaconda3\\lib\\site-packages (from jinja2->notebook>=4.4.1->widgetsnbextension~=3.5.0->ipywidgets>=7.5->evalml) (1.1.1)\n",
      "Requirement already satisfied: webencodings in c:\\users\\deepusuresh\\anaconda3\\lib\\site-packages (from bleach->nbconvert->notebook>=4.4.1->widgetsnbextension~=3.5.0->ipywidgets>=7.5->evalml) (0.5.1)\n",
      "Installing collected packages: pyaml, scikit-optimize, pandas, llvmlite, numba, statsmodels, sktime, dask, tblib, psutil, distributed, featuretools, nlp-primitives, texttable, kaleido, jupyterlab-widgets, widgetsnbextension, ipywidgets, imbalanced-learn, slicer, shap, plotly, woodwork, matplotlib, requirements-parser, seaborn, networkx, evalml\n",
      "  Attempting uninstall: pandas\n",
      "    Found existing installation: pandas 1.0.4\n",
      "    Uninstalling pandas-1.0.4:\n",
      "      Successfully uninstalled pandas-1.0.4\n"
     ]
    },
    {
     "name": "stderr",
     "output_type": "stream",
     "text": [
      "ERROR: spyder 3.3.3 requires pyqt5<=5.12; python_version >= \"3\", which is not installed.\n",
      "ERROR: pydeck 0.2.1 has requirement ipykernel>=5.1.2; python_version >= \"3.4\", but you'll have ipykernel 5.1.0 which is incompatible.\n",
      "ERROR: pydeck 0.2.1 has requirement jinja2>=2.10.1, but you'll have jinja2 2.10 which is incompatible.\n",
      "ERROR: imbalanced-learn 0.8.0 has requirement scikit-learn>=0.24, but you'll have scikit-learn 0.23.2 which is incompatible.\n",
      "ERROR: distributed 2021.4.0 has requirement cloudpickle>=1.5.0, but you'll have cloudpickle 0.8.0 which is incompatible.\n",
      "ERROR: dask 2021.4.0 has requirement cloudpickle>=1.1.1, but you'll have cloudpickle 0.8.0 which is incompatible.\n",
      "ERROR: woodwork 0.0.11 has requirement click>=7.1.2, but you'll have click 7.0 which is incompatible.\n",
      "ERROR: Could not install packages due to an EnvironmentError: [WinError 5] Access is denied: 'c:\\\\users\\\\deepusuresh\\\\anaconda3\\\\lib\\\\site-packages\\\\~-ndas\\\\_libs\\\\algos.cp37-win_amd64.pyd'\n",
      "Consider using the `--user` option or check the permissions.\n",
      "\n"
     ]
    }
   ],
   "source": [
    "!pip install evalml"
   ]
  },
  {
   "cell_type": "code",
   "execution_count": 7,
   "metadata": {
    "scrolled": false
   },
   "outputs": [
    {
     "ename": "ModuleNotFoundError",
     "evalue": "No module named 'evalml'",
     "output_type": "error",
     "traceback": [
      "\u001b[1;31m---------------------------------------------------------------------------\u001b[0m",
      "\u001b[1;31mModuleNotFoundError\u001b[0m                       Traceback (most recent call last)",
      "\u001b[1;32m<ipython-input-7-d403ff31c5d8>\u001b[0m in \u001b[0;36m<module>\u001b[1;34m\u001b[0m\n\u001b[0;32m      1\u001b[0m \u001b[1;31m# Load and split example data\u001b[0m\u001b[1;33m\u001b[0m\u001b[1;33m\u001b[0m\u001b[1;33m\u001b[0m\u001b[0m\n\u001b[1;32m----> 2\u001b[1;33m \u001b[1;32mimport\u001b[0m \u001b[0mevalml\u001b[0m\u001b[1;33m\u001b[0m\u001b[1;33m\u001b[0m\u001b[0m\n\u001b[0m\u001b[0;32m      3\u001b[0m \u001b[0mX\u001b[0m\u001b[1;33m,\u001b[0m \u001b[0my\u001b[0m \u001b[1;33m=\u001b[0m \u001b[0mevalml\u001b[0m\u001b[1;33m.\u001b[0m\u001b[0mdemos\u001b[0m\u001b[1;33m.\u001b[0m\u001b[0mload_breast_cancer\u001b[0m\u001b[1;33m(\u001b[0m\u001b[1;33m)\u001b[0m\u001b[1;33m\u001b[0m\u001b[1;33m\u001b[0m\u001b[0m\n\u001b[0;32m      4\u001b[0m \u001b[0mX_train\u001b[0m\u001b[1;33m,\u001b[0m \u001b[0mX_test\u001b[0m\u001b[1;33m,\u001b[0m \u001b[0my_train\u001b[0m\u001b[1;33m,\u001b[0m \u001b[0my_test\u001b[0m \u001b[1;33m=\u001b[0m \u001b[0mevalml\u001b[0m\u001b[1;33m.\u001b[0m\u001b[0mpreprocessing\u001b[0m\u001b[1;33m.\u001b[0m\u001b[0msplit_data\u001b[0m\u001b[1;33m(\u001b[0m\u001b[0mX\u001b[0m\u001b[1;33m,\u001b[0m \u001b[0my\u001b[0m\u001b[1;33m,\u001b[0m \u001b[0mproblem_type\u001b[0m\u001b[1;33m=\u001b[0m\u001b[1;34m'binary'\u001b[0m\u001b[1;33m)\u001b[0m\u001b[1;33m\u001b[0m\u001b[1;33m\u001b[0m\u001b[0m\n",
      "\u001b[1;31mModuleNotFoundError\u001b[0m: No module named 'evalml'"
     ]
    }
   ],
   "source": [
    "# Load and split example data\n",
    "import evalml\n",
    "X, y = evalml.demos.load_breast_cancer()\n",
    "X_train, X_test, y_train, y_test = evalml.preprocessing.split_data(X, y, problem_type='binary')"
   ]
  },
  {
   "cell_type": "code",
   "execution_count": 8,
   "metadata": {},
   "outputs": [
    {
     "ename": "ModuleNotFoundError",
     "evalue": "No module named 'evalml'",
     "output_type": "error",
     "traceback": [
      "\u001b[1;31m---------------------------------------------------------------------------\u001b[0m",
      "\u001b[1;31mModuleNotFoundError\u001b[0m                       Traceback (most recent call last)",
      "\u001b[1;32m<ipython-input-8-db34c4649de1>\u001b[0m in \u001b[0;36m<module>\u001b[1;34m\u001b[0m\n\u001b[0;32m      1\u001b[0m \u001b[1;31m# Run AutoML\u001b[0m\u001b[1;33m\u001b[0m\u001b[1;33m\u001b[0m\u001b[1;33m\u001b[0m\u001b[0m\n\u001b[1;32m----> 2\u001b[1;33m \u001b[1;32mfrom\u001b[0m \u001b[0mevalml\u001b[0m\u001b[1;33m.\u001b[0m\u001b[0mautoml\u001b[0m \u001b[1;32mimport\u001b[0m \u001b[0mAutoMLSearch\u001b[0m\u001b[1;33m\u001b[0m\u001b[1;33m\u001b[0m\u001b[0m\n\u001b[0m\u001b[0;32m      3\u001b[0m \u001b[0mautoml\u001b[0m \u001b[1;33m=\u001b[0m \u001b[0mAutoMLSearch\u001b[0m\u001b[1;33m(\u001b[0m\u001b[0mX_train\u001b[0m\u001b[1;33m=\u001b[0m\u001b[0mX_train\u001b[0m\u001b[1;33m,\u001b[0m \u001b[0my_train\u001b[0m\u001b[1;33m=\u001b[0m\u001b[0my_train\u001b[0m\u001b[1;33m,\u001b[0m \u001b[0mproblem_type\u001b[0m\u001b[1;33m=\u001b[0m\u001b[1;34m'binary'\u001b[0m\u001b[1;33m)\u001b[0m\u001b[1;33m\u001b[0m\u001b[1;33m\u001b[0m\u001b[0m\n\u001b[0;32m      4\u001b[0m \u001b[0mautoml\u001b[0m\u001b[1;33m.\u001b[0m\u001b[0msearch\u001b[0m\u001b[1;33m(\u001b[0m\u001b[1;33m)\u001b[0m\u001b[1;33m\u001b[0m\u001b[1;33m\u001b[0m\u001b[0m\n",
      "\u001b[1;31mModuleNotFoundError\u001b[0m: No module named 'evalml'"
     ]
    }
   ],
   "source": [
    "# Run AutoML\n",
    "from evalml.automl import AutoMLSearch\n",
    "automl = AutoMLSearch(X_train=X_train, y_train=y_train, problem_type='binary')\n",
    "automl.search()"
   ]
  },
  {
   "cell_type": "code",
   "execution_count": null,
   "metadata": {},
   "outputs": [],
   "source": [
    "# View pipeline rankings\n",
    "automl.rankings"
   ]
  },
  {
   "cell_type": "code",
   "execution_count": null,
   "metadata": {},
   "outputs": [],
   "source": [
    "# Get best pipeline and predict on new data\n",
    "pipeline = automl.best_pipeline\n",
    "pipeline.predict(X_test)"
   ]
  }
 ],
 "metadata": {
  "kernelspec": {
   "display_name": "Python 3",
   "language": "python",
   "name": "python3"
  },
  "language_info": {
   "codemirror_mode": {
    "name": "ipython",
    "version": 3
   },
   "file_extension": ".py",
   "mimetype": "text/x-python",
   "name": "python",
   "nbconvert_exporter": "python",
   "pygments_lexer": "ipython3",
   "version": "3.7.3"
  }
 },
 "nbformat": 4,
 "nbformat_minor": 2
}
