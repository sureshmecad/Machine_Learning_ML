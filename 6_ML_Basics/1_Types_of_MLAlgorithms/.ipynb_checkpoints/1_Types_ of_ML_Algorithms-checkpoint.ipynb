{
 "cells": [
  {
   "cell_type": "markdown",
   "metadata": {},
   "source": [
    "<h2 style=\"color:blue\" align=\"left\"> Types of Machine Learning Algorithms </h2>"
   ]
  },
  {
   "cell_type": "markdown",
   "metadata": {},
   "source": [
    "---------------"
   ]
  },
  {
   "cell_type": "raw",
   "metadata": {},
   "source": [
    "1. Supervised Learning\n",
    "\n",
    "       a. Regression\n",
    "       \n",
    "            i) Linear Regression\n",
    "            \n",
    "           ii) Non Linear Regression \n",
    "       \n",
    "       b. Classification\n",
    "       \n",
    "            i) Linear Models\n",
    "            \n",
    "                  1. Logistic Regression\n",
    "                  \n",
    "                  2. Support Vector Machine\n",
    "            \n",
    "           ii) Non Linear Models \n",
    "           \n",
    "                  1. Desition Tree\n",
    "                  \n",
    "                  2. Random Forest\n",
    "                  \n",
    "                  3. Naive Bayes\n",
    "                  \n",
    "                  4. KNN\n",
    "                  \n",
    "2. Unsupervised Learning"
   ]
  },
  {
   "cell_type": "markdown",
   "metadata": {},
   "source": [
    "------------------"
   ]
  },
  {
   "cell_type": "markdown",
   "metadata": {},
   "source": [
    "![1_Types_of_MLAlgorithms](image/ML_1.JPG)"
   ]
  },
  {
   "cell_type": "markdown",
   "metadata": {},
   "source": [
    "-------------------------------------------------------------------------------------------------------------------------------"
   ]
  },
  {
   "cell_type": "markdown",
   "metadata": {},
   "source": [
    "![1_Types_of_MLAlgorithms](image/ML_2.JPG)"
   ]
  },
  {
   "cell_type": "markdown",
   "metadata": {},
   "source": [
    "-------------------------------------------------------------------------------------------------------------------------------"
   ]
  },
  {
   "cell_type": "markdown",
   "metadata": {},
   "source": [
    "![1_Types_of_MLAlgorithms](image/ML_3.JPG)"
   ]
  },
  {
   "cell_type": "markdown",
   "metadata": {},
   "source": [
    "-------------------------------------------------------------------------------------------------------------------------------"
   ]
  },
  {
   "cell_type": "markdown",
   "metadata": {},
   "source": [
    "![1_Types_of_MLAlgorithms](image/ML_4.JPG)"
   ]
  },
  {
   "cell_type": "markdown",
   "metadata": {},
   "source": [
    "----------"
   ]
  },
  {
   "cell_type": "raw",
   "metadata": {},
   "source": [
    "#  Classification:\n",
    "\n",
    "       Identifying which category an object belongs to\n",
    "    \n",
    "       Application : Spam detection\n",
    "        \n",
    "        \n",
    "        \n",
    "#  Regression:\n",
    "\n",
    "      Predicting an attribute associated with an object\n",
    "    \n",
    "      Application : Stock prices prediction\n",
    "      \n",
    "      \n",
    "#  Clustering:\n",
    "\n",
    "      Automatic grouping of similar objects into sets\n",
    "      \n",
    "      Application : Customer Segmentation\n",
    "      \n",
    "      \n",
    "#  Model Selection:\n",
    "\n",
    "      Comparing, validating and choosing parameters and models\n",
    "      \n",
    "      Application : Improving model accuracy via parameter tuning\n",
    "      \n",
    "      \n",
    "#  Dimensionality Reduction:\n",
    "\n",
    "      Reducing the number of random variables to consider\n",
    "      \n",
    "      Application : To increase model efficiency\n",
    "      \n",
    "      \n",
    "#  Pre-processing:\n",
    "\n",
    "      Feature extraction and normalisation\n",
    "      \n",
    "      Application : Transforming input data such as text for use with machine learning algorithms"
   ]
  }
 ],
 "metadata": {
  "kernelspec": {
   "display_name": "Python 3",
   "language": "python",
   "name": "python3"
  },
  "language_info": {
   "codemirror_mode": {
    "name": "ipython",
    "version": 3
   },
   "file_extension": ".py",
   "mimetype": "text/x-python",
   "name": "python",
   "nbconvert_exporter": "python",
   "pygments_lexer": "ipython3",
   "version": "3.7.3"
  }
 },
 "nbformat": 4,
 "nbformat_minor": 2
}
