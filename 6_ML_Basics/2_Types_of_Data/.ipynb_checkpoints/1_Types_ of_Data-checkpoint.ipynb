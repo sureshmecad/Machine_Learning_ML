{
 "cells": [
  {
   "cell_type": "markdown",
   "metadata": {},
   "source": [
    "##  1. Nominal data & Ordinal data"
   ]
  },
  {
   "cell_type": "markdown",
   "metadata": {},
   "source": [
    "---------------"
   ]
  },
  {
   "cell_type": "markdown",
   "metadata": {},
   "source": [
    "## 2. Discrete data & Continuous data"
   ]
  },
  {
   "cell_type": "markdown",
   "metadata": {},
   "source": [
    "### **Discrete** data is **counted**\n",
    "\n",
    "\n",
    "1. **Sex is discrete**. You can only be **male or female.**\n",
    "\n",
    "\n",
    "2. Discrete data can be numeric\n",
    "\n",
    "   **Numbers of apples** -- but it can also be categorical\n",
    "   \n",
    "   **red or blue**\n",
    "   \n",
    "   **male or female**\n",
    "   \n",
    "   **good or bad**\n",
    "   \n",
    "   \n",
    "3. It can also sometimes be useful to **treat numeric data as categorical, eg: underweight, normal, obese.**\n",
    "\n",
    "\n",
    "4. Number of students in the school, the number of cars in the parking lot, the number of computers in a computer lab, the number of animals in a zoo, etc."
   ]
  },
  {
   "cell_type": "markdown",
   "metadata": {},
   "source": [
    "### Continuous data is measured\n",
    "\n",
    "   1. **Temperatures are continuous.** It can be 23 degrees, 23.1 degrees, 23.100004 degrees.\n",
    "   \n",
    "   \n",
    "   2. Age, height or weight of a person, time taken to complete a task, temperature, time, money, etc."
   ]
  },
  {
   "cell_type": "markdown",
   "metadata": {},
   "source": [
    "- **Regular regression,** the **Y must be continuous.**\n",
    "\n",
    "\n",
    "- In **logistic regression** the **Y is discrete.**"
   ]
  },
  {
   "cell_type": "markdown",
   "metadata": {},
   "source": [
    "----------------"
   ]
  },
  {
   "cell_type": "markdown",
   "metadata": {},
   "source": [
    "![2_Types_of_Data](image/1.JPG)"
   ]
  },
  {
   "cell_type": "markdown",
   "metadata": {},
   "source": [
    "![2_Types_of_Data](image/2.JPG)"
   ]
  },
  {
   "cell_type": "markdown",
   "metadata": {},
   "source": [
    "----------------"
   ]
  }
 ],
 "metadata": {
  "kernelspec": {
   "display_name": "Python 3",
   "language": "python",
   "name": "python3"
  },
  "language_info": {
   "codemirror_mode": {
    "name": "ipython",
    "version": 3
   },
   "file_extension": ".py",
   "mimetype": "text/x-python",
   "name": "python",
   "nbconvert_exporter": "python",
   "pygments_lexer": "ipython3",
   "version": "3.7.3"
  }
 },
 "nbformat": 4,
 "nbformat_minor": 2
}
