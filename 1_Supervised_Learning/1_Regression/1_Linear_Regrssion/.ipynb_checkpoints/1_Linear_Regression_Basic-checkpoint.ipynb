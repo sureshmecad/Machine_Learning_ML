{
 "cells": [
  {
   "cell_type": "markdown",
   "metadata": {},
   "source": [
    "- Let’s take a linear regression model for example but the model makes a good amount of **assumptions** for the data you provide, such as:\n",
    "\n",
    "\n",
    "  **1. Linearity:** assumes that the **relationship** between **predictors and target** variable is **linear**\n",
    "\n",
    "  **2. No noise:** eg. that there are **no outliers** in the data\n",
    "\n",
    "  **3. No collinearity:** if you have **highly correlated predictors,** it’s most likely your model will **overfit**\n",
    "\n",
    "  **4. Normal distribution:** more **reliable predictions** are made if the **predictors and the target** variable are **normally distributed**\n",
    "\n",
    "  **5. Scale:** it’s a distance-based algorithm, so **preditors** should be **scaled** — like with **standard scaler**"
   ]
  },
  {
   "cell_type": "markdown",
   "metadata": {},
   "source": [
    "- **predictors and target** variable should follow a **gaussian distribution.**"
   ]
  },
  {
   "cell_type": "code",
   "execution_count": null,
   "metadata": {},
   "outputs": [],
   "source": []
  }
 ],
 "metadata": {
  "kernelspec": {
   "display_name": "Python 3",
   "language": "python",
   "name": "python3"
  },
  "language_info": {
   "codemirror_mode": {
    "name": "ipython",
    "version": 3
   },
   "file_extension": ".py",
   "mimetype": "text/x-python",
   "name": "python",
   "nbconvert_exporter": "python",
   "pygments_lexer": "ipython3",
   "version": "3.7.3"
  }
 },
 "nbformat": 4,
 "nbformat_minor": 2
}
