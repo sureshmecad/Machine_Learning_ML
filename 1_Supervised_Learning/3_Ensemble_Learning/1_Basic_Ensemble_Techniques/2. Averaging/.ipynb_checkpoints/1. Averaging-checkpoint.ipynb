{
 "cells": [
  {
   "cell_type": "markdown",
   "metadata": {},
   "source": [
    "- we take an **average** of predictions from **all the models** and use it to make the final prediction.\n",
    "\n",
    "\n",
    "- **Averaging** can be used for making predictions in **regression problems** or while calculating **probabilities for classification problems.**\n",
    "\n",
    "\n",
    "- For example, in the below case, the averaging method would take the average of all the values.\n",
    "\n",
    "| Colleague1      | Colleague2      | Colleague3      | Colleague4     | Colleague5      | Final Rating |\n",
    "|-----------------|-----------------|-----------------|----------------|-----------------|--------------|\n",
    "|    5            |    4            |   5             |     4          |     4           |     4.4      |\n",
    "    \n",
    "i.e. (5+4+5+4+4)/5 = 4.4"
   ]
  },
  {
   "cell_type": "code",
   "execution_count": null,
   "metadata": {},
   "outputs": [],
   "source": [
    "model1 = tree.DecisionTreeClassifier()\n",
    "model2 = KNeighborsClassifier()\n",
    "model3 = LogisticRegression()\n",
    "\n",
    "model1.fit(x_train, y_train)\n",
    "model2.fit(x_train, y_train)\n",
    "model3.fit(x_train, y_train)\n",
    "\n",
    "pred1 = model1.predict_proba(x_test)\n",
    "pred2 = model2.predict_proba(x_test)\n",
    "pred3 = model3.predict_proba(x_test)\n",
    "\n",
    "finalpred = (pred1+pred2+pred3)/3"
   ]
  }
 ],
 "metadata": {
  "kernelspec": {
   "display_name": "Python 3",
   "language": "python",
   "name": "python3"
  },
  "language_info": {
   "codemirror_mode": {
    "name": "ipython",
    "version": 3
   },
   "file_extension": ".py",
   "mimetype": "text/x-python",
   "name": "python",
   "nbconvert_exporter": "python",
   "pygments_lexer": "ipython3",
   "version": "3.7.3"
  }
 },
 "nbformat": 4,
 "nbformat_minor": 2
}
