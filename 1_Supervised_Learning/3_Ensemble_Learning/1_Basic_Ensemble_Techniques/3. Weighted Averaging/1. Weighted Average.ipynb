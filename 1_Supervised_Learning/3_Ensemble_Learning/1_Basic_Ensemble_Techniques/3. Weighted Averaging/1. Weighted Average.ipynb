{
 "cells": [
  {
   "cell_type": "markdown",
   "metadata": {},
   "source": [
    "- This is an extension of the averaging method. **All models** are assigned **different weights** defining the importance of each model for prediction. For instance, if **two of your colleagues** are **critics,** while others have **no prior experiance** in this field, then the answers by these **two friends** are given **more importance** as compared to the other people.\n",
    "\n",
    "\n",
    "- The result is calculated as [(5x0.23) + (4x0.23) + (5x0.18) + (4x0.18) + (4x0.18)] = 4.41\n",
    "\n",
    "|           Colleague1      | Colleague2     | Colleague3     | Colleague4     | Colleague5    | Final Rating |\n",
    "|---------------------------|----------------|----------------|----------------|---------------|--------------|\n",
    "|weight        0.23         |    0.23        |      0.18      |     0.18       |     0.18      |              |\n",
    "|rating         5           |      4         |        5       |       4        |      4        |      4.41    |"
   ]
  },
  {
   "cell_type": "code",
   "execution_count": null,
   "metadata": {},
   "outputs": [],
   "source": [
    "model1 = tree.DecisionTreeClassifier()\n",
    "model2 = KNeighborsClassifier()\n",
    "model3 = LogisticRegression()\n",
    "\n",
    "model1.fit(x_train, y_train)\n",
    "model2.fit(x_train, y_train)\n",
    "model3.fit(x_train, y_train)\n",
    "\n",
    "pred1 = model1.predict_proba(x_test)\n",
    "pred2 = model2.predict_proba(x_test)\n",
    "pred3 = model3.predict_proba(x_test)\n",
    "\n",
    "finalpred = (pred1*0.3 + pred2*0.3 + pred3*0.4)"
   ]
  }
 ],
 "metadata": {
  "kernelspec": {
   "display_name": "Python 3",
   "language": "python",
   "name": "python3"
  },
  "language_info": {
   "codemirror_mode": {
    "name": "ipython",
    "version": 3
   },
   "file_extension": ".py",
   "mimetype": "text/x-python",
   "name": "python",
   "nbconvert_exporter": "python",
   "pygments_lexer": "ipython3",
   "version": "3.7.3"
  }
 },
 "nbformat": 4,
 "nbformat_minor": 2
}
