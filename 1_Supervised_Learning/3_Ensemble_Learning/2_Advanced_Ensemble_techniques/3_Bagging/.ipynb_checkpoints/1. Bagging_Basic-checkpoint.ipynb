{
 "cells": [
  {
   "cell_type": "markdown",
   "metadata": {},
   "source": [
    "https://courses.analyticsvidhya.com/courses/take/ensemble-learning-and-ensemble-learning-techniques/texts/11126073-what-is-bagging"
   ]
  },
  {
   "cell_type": "markdown",
   "metadata": {},
   "source": [
    "- **Bagging**, an acronym for **bootstrap aggregation**, creates and replaces samples from the data-set. In other words, each selected **instance** can be **repeated several times** in the same sample. We seem to increase our training data with bootstraps, which are each created and then used to create a classifier model."
   ]
  },
  {
   "cell_type": "markdown",
   "metadata": {},
   "source": [
    "![1. Bagging](image/6.JPG)"
   ]
  },
  {
   "cell_type": "markdown",
   "metadata": {},
   "source": [
    "----------"
   ]
  },
  {
   "cell_type": "markdown",
   "metadata": {},
   "source": [
    "- The idea behind **bagging** is **combining the results** of multiple models (for instance, all decision trees) to get a generalized result. \n",
    "\n",
    "\n",
    "- **Here's question: If you create all the models on the same set of data and combine it, will it be useful?**\n",
    "  There is a high chance that these models will give the **same result** since they are **getting the same input.** So how can we solve this problem? one of the techniques is **bootstrapping.**\n",
    "\n",
    "\n",
    "- **BootStraping** is a sampling techique in which we create **subsets** of observations from the **original dataset, with replacement.** The **size** of the subsets is the **same** as the size of the original set."
   ]
  },
  {
   "cell_type": "markdown",
   "metadata": {},
   "source": [
    "![3. Bagging](image/4.JPG)"
   ]
  },
  {
   "cell_type": "markdown",
   "metadata": {},
   "source": [
    "1. **Multiple subsets** are created from the **original dataset**, selecting observations with **replacement.**\n",
    "\n",
    "\n",
    "2. A base model (weak model) is created on each of these subsets.\n",
    "\n",
    "\n",
    "3. The **models** run in **parallel** and are **independant of each other.**\n",
    "\n",
    "\n",
    "4. The **final predictions** are determined by **combining the predictions** from all the models."
   ]
  },
  {
   "cell_type": "markdown",
   "metadata": {},
   "source": [
    "![3. Bagging](image/5.JPG)"
   ]
  },
  {
   "cell_type": "markdown",
   "metadata": {},
   "source": [
    "----------"
   ]
  },
  {
   "cell_type": "markdown",
   "metadata": {},
   "source": [
    "![1. Bagging](image/1.JPG)"
   ]
  },
  {
   "cell_type": "markdown",
   "metadata": {},
   "source": [
    "![1. Bagging](image/2.JPG)"
   ]
  },
  {
   "cell_type": "markdown",
   "metadata": {},
   "source": [
    "![1. Bagging](image/3.JPG)"
   ]
  },
  {
   "cell_type": "markdown",
   "metadata": {},
   "source": [
    "- **Random with Replacement:** (Sampling with replacement)\n",
    "\n",
    "    D1 ---> samples picked randomly from train data\n",
    "    \n",
    "    with replacement ---> repetition of samples allowed (suppose D1 have total of 10 samples & in these chances of repetition allowed) "
   ]
  },
  {
   "cell_type": "markdown",
   "metadata": {},
   "source": [
    "------------"
   ]
  }
 ],
 "metadata": {
  "kernelspec": {
   "display_name": "Python 3",
   "language": "python",
   "name": "python3"
  },
  "language_info": {
   "codemirror_mode": {
    "name": "ipython",
    "version": 3
   },
   "file_extension": ".py",
   "mimetype": "text/x-python",
   "name": "python",
   "nbconvert_exporter": "python",
   "pygments_lexer": "ipython3",
   "version": "3.7.3"
  }
 },
 "nbformat": 4,
 "nbformat_minor": 2
}
