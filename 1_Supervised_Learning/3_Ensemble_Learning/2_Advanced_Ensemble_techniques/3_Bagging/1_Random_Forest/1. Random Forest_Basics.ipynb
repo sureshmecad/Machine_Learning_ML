{
 "cells": [
  {
   "cell_type": "markdown",
   "metadata": {},
   "source": [
    "https://www.youtube.com/watch?v=nxFG5xdpDto\n",
    "\n",
    "https://courses.analyticsvidhya.com/courses/take/ensemble-learning-and-ensemble-learning-techniques/lessons/11146888-random-forest"
   ]
  },
  {
   "cell_type": "markdown",
   "metadata": {},
   "source": [
    "- D ---> Dataset\n",
    "\n",
    "\n",
    "- DT1, DT2, DT3, DT4 ---> Decision Tree (Base Learner)\n",
    "\n",
    "   1. **Decision Tree** : **Low Bias / High Variance (overfitting)**\n",
    "   \n",
    "   2. **Low Bias**: Decision Tree to its complete depth, it will get properly train for training dataset so training error will be very less.\n",
    "   \n",
    "   3. **High Variance**: whenever we get new test data they prone to give larger amount of errors.\n",
    "   \n",
    "   4. Each and every decision tree will be having high variance but when we combine all decision trees wrt majority vote **High variance converted into Low variance.**\n",
    "\n",
    "\n",
    "- RS ---> Row Sampling with replacement\n",
    "\n",
    "\n",
    "- FS ---> Feature Sampling"
   ]
  },
  {
   "cell_type": "markdown",
   "metadata": {},
   "source": [
    "![1. Random Forest](image/1.JPG)"
   ]
  },
  {
   "cell_type": "markdown",
   "metadata": {},
   "source": [
    "### Random Forest Classifier\n",
    "- Majority Vote\n",
    "\n",
    "### Random Forest Regressor\n",
    "- Mean (or) Median of continous output of each & every decision tree."
   ]
  },
  {
   "cell_type": "markdown",
   "metadata": {},
   "source": [
    "---------"
   ]
  },
  {
   "cell_type": "markdown",
   "metadata": {},
   "source": [
    "![1. Random Forest](image/2.JPG)"
   ]
  },
  {
   "cell_type": "markdown",
   "metadata": {},
   "source": [
    "![1. Random Forest](image/3.JPG)"
   ]
  },
  {
   "cell_type": "code",
   "execution_count": null,
   "metadata": {},
   "outputs": [],
   "source": []
  }
 ],
 "metadata": {
  "kernelspec": {
   "display_name": "Python 3",
   "language": "python",
   "name": "python3"
  },
  "language_info": {
   "codemirror_mode": {
    "name": "ipython",
    "version": 3
   },
   "file_extension": ".py",
   "mimetype": "text/x-python",
   "name": "python",
   "nbconvert_exporter": "python",
   "pygments_lexer": "ipython3",
   "version": "3.7.3"
  }
 },
 "nbformat": 4,
 "nbformat_minor": 2
}
