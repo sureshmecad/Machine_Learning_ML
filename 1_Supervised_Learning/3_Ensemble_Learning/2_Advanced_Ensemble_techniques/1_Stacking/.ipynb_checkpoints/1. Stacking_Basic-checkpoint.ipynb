{
 "cells": [
  {
   "cell_type": "code",
   "execution_count": null,
   "metadata": {},
   "outputs": [],
   "source": [
    "print('Doing 3-fold cross validation here:\\n')\n",
    "\n",
    "for iterclf, iterlabel in zip([myclf1, myclf2, myclf3, stackingclf],\n",
    "                              ['K-Nearest Neighbors Model',\n",
    "                               'Random Forest Model',\n",
    "                               'Naive Bayes Model',\n",
    "                               'StackingClassifier Model']):\n",
    "    scores = model_selection.cross_val_score(iterclf, X_train, y_train, cv=3, scoring='accuracy')\n",
    "    print(\"Accuracy: %0.3f (+/- %0.3f) [%s]\"\n",
    "         % (scores.mean(), scores.std(), iterlabel))"
   ]
  },
  {
   "cell_type": "markdown",
   "metadata": {},
   "source": [
    "------------"
   ]
  },
  {
   "cell_type": "markdown",
   "metadata": {},
   "source": [
    "### Reference:\n",
    "\n",
    "https://www.youtube.com/watch?v=xtTyEoJ31Vg&ab_channel=UnfoldDataScience"
   ]
  }
 ],
 "metadata": {
  "kernelspec": {
   "display_name": "Python 3",
   "language": "python",
   "name": "python3"
  },
  "language_info": {
   "codemirror_mode": {
    "name": "ipython",
    "version": 3
   },
   "file_extension": ".py",
   "mimetype": "text/x-python",
   "name": "python",
   "nbconvert_exporter": "python",
   "pygments_lexer": "ipython3",
   "version": "3.7.3"
  }
 },
 "nbformat": 4,
 "nbformat_minor": 2
}
