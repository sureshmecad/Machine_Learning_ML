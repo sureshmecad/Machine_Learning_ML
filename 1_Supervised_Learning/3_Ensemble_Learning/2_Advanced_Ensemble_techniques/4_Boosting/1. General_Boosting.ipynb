{
 "cells": [
  {
   "cell_type": "markdown",
   "metadata": {},
   "source": [
    "https://www.youtube.com/watch?v=HRBMlBiOo7Q\n",
    "\n",
    "https://www.youtube.com/watch?v=NLRO1-jp5F8"
   ]
  },
  {
   "cell_type": "markdown",
   "metadata": {},
   "source": [
    " 1. Ensemble Learning\n",
    " \n",
    "    - Ada Boost & Random Forest both comes under the family of Ensemble Learning\n",
    " \n",
    "\n",
    " 2. Bagging / Boosting\n",
    " \n",
    " \n",
    " 3. RANDOM FOREST"
   ]
  },
  {
   "cell_type": "markdown",
   "metadata": {},
   "source": [
    "- **ADA BOOST** ---> **BOOSTING**\n",
    "\n",
    "\n",
    "- **RANDOM FOREST** is implementation of **Bagging.**\n",
    "\n",
    "\n",
    "| **Random Forest**                                         |  **ADA BOOST**                                                  |\n",
    "|-----------------------------------------------------------|-----------------------------------------------------------------|\n",
    "| 1. Parallel learning process (Multiple trees are build    |  1. sequencial learning process (one tree is dependant on       |\n",
    "|    on  same data parallaly and none of the tree is        |     other tree. If multiple models implemented then model 2 is  |\n",
    "|    dependant on other tree).                              |     dependant on output of model 1 similarly model 3 on model 2)|\n",
    "| 2. Equal Say                                              |  2. All the models do not have equal say                        |\n",
    "| 3. Fully grown trees as part of individual models         |  3. Stems (1 Root node and 2 leaf nodes)                        |"
   ]
  },
  {
   "cell_type": "markdown",
   "metadata": {},
   "source": [
    "![1. Bagging](image/2.JPG)"
   ]
  },
  {
   "cell_type": "markdown",
   "metadata": {},
   "source": [
    "![1. Bagging](image/1.JPG)"
   ]
  },
  {
   "cell_type": "markdown",
   "metadata": {},
   "source": [
    "![1. Bagging](image/3.JPG)"
   ]
  },
  {
   "cell_type": "code",
   "execution_count": null,
   "metadata": {},
   "outputs": [],
   "source": []
  }
 ],
 "metadata": {
  "kernelspec": {
   "display_name": "Python 3",
   "language": "python",
   "name": "python3"
  },
  "language_info": {
   "codemirror_mode": {
    "name": "ipython",
    "version": 3
   },
   "file_extension": ".py",
   "mimetype": "text/x-python",
   "name": "python",
   "nbconvert_exporter": "python",
   "pygments_lexer": "ipython3",
   "version": "3.7.3"
  }
 },
 "nbformat": 4,
 "nbformat_minor": 2
}
