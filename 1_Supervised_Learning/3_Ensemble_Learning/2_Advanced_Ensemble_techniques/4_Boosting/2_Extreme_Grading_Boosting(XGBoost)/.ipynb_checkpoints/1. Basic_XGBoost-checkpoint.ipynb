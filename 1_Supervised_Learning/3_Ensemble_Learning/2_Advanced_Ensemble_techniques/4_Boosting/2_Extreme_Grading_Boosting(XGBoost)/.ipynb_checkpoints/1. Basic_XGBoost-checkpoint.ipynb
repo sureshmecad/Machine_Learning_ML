{
 "cells": [
  {
   "cell_type": "markdown",
   "metadata": {},
   "source": [
    "## Extreme Gradient Boosting"
   ]
  },
  {
   "cell_type": "markdown",
   "metadata": {},
   "source": [
    "- Extreme Gradient Boosting Machine (XGBoost)\n",
    "\n",
    "\n",
    "- Working procedure same as GBM\n",
    "\n",
    "\n",
    "- Subsequent trees focus on reducing the error\n",
    "\n",
    "\n",
    "- Designed for speed and performance"
   ]
  },
  {
   "cell_type": "markdown",
   "metadata": {},
   "source": [
    "## Features of Extreme Gradient Boosting"
   ]
  },
  {
   "cell_type": "markdown",
   "metadata": {},
   "source": [
    "#### Regularization\n",
    "- XGBoost has an option to penalize complex models through both L1 and L2 regularization\n",
    "\n",
    "#### Parallel processing\n",
    "- XGBoost implements parallel processing and hence is faster than GBM\n",
    "- Parallelizing the node building at each level\n",
    "\n",
    "#### Handling Missing Values\n",
    "- XGBoost has an in-built routine to handle missing values\n",
    "\n",
    "#### Out of core computing\n",
    "- XGBoost is designed to be memory efficient\n",
    "- Uses out-of-core computing for **very large datasets** that don't fit in the memory.\n",
    "\n",
    "#### Built-in Cross Validation\n",
    "- XGB allows user to run a cross validation at each iteration of the boosting process."
   ]
  },
  {
   "cell_type": "code",
   "execution_count": null,
   "metadata": {},
   "outputs": [],
   "source": []
  }
 ],
 "metadata": {
  "kernelspec": {
   "display_name": "Python 3",
   "language": "python",
   "name": "python3"
  },
  "language_info": {
   "codemirror_mode": {
    "name": "ipython",
    "version": 3
   },
   "file_extension": ".py",
   "mimetype": "text/x-python",
   "name": "python",
   "nbconvert_exporter": "python",
   "pygments_lexer": "ipython3",
   "version": "3.7.3"
  }
 },
 "nbformat": 4,
 "nbformat_minor": 2
}
