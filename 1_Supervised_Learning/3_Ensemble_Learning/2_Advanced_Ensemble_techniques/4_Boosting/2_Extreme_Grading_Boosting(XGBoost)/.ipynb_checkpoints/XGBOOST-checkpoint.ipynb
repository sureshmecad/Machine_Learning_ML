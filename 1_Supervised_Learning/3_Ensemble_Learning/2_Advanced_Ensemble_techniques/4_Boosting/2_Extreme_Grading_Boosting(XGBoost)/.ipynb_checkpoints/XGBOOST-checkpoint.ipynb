{
 "cells": [
  {
   "cell_type": "markdown",
   "metadata": {},
   "source": [
    "https://www.analyticsvidhya.com/blog/2016/03/complete-guide-parameter-tuning-xgboost-with-codes-python/"
   ]
  },
  {
   "cell_type": "markdown",
   "metadata": {},
   "source": [
    "### XGBOOST"
   ]
  },
  {
   "cell_type": "markdown",
   "metadata": {},
   "source": [
    "### 1. objective [default=reg:linear]\n",
    "\n",
    "\n",
    "- This defines the loss function to be minimized. Mostly used values are:\n",
    "\n",
    "    **binary:logistic** – logistic regression for binary classification, returns predicted probability (not class)\n",
    "\n",
    "    **multi:softmax** – multiclass classification using the softmax objective, returns predicted class (not probabilities)\n",
    "\n",
    "\n",
    "   - you also need to set an additional num_class (number of classes) parameter defining the number of unique classes\n",
    "    \n",
    "    **multi:softprob** – same as softmax, but returns predicted probability of each data point belonging to each class.\n",
    "\n",
    "------------------------------------------------------------------------------------------------------------------------------\n",
    "\n",
    "- **objective='reg:linear'**\n",
    "\n",
    "\n",
    "- **objective='binary:logistic'**\n",
    "\n",
    "\n",
    "- **objective='multi:softmax'**\n",
    "\n",
    "\n",
    "- **objective='multi:softprob'**\n",
    "\n",
    "\n",
    "### 2. eval_metric [ default according to objective ]\n",
    "- The metric to be used for validation data.\n",
    "- The default values are **rmse for regression** and **error for classification.**\n",
    "- Typical values are:\n",
    "\n",
    "    **rmse** – root mean square error\n",
    "    \n",
    "    **mae** – mean absolute error\n",
    "    \n",
    "    **logloss** – negative log-likelihood\n",
    "    \n",
    "    **error** – Binary classification error rate (0.5 threshold)\n",
    "    \n",
    "    **merror** – Multiclass classification error rate\n",
    "    \n",
    "    **mlogloss** – Multiclass logloss\n",
    "    \n",
    "    **auc:** Area under the curve\n",
    "\n",
    "\n",
    "\n",
    "### 3. booster [default=gbtree]\n",
    "- Select the type of model to run at each iteration. It has 2 options:\n",
    "\n",
    "     **gbtree:** tree-based models\n",
    "\n",
    "     **gblinear:** linear models"
   ]
  },
  {
   "cell_type": "code",
   "execution_count": null,
   "metadata": {},
   "outputs": [],
   "source": []
  }
 ],
 "metadata": {
  "kernelspec": {
   "display_name": "Python 3",
   "language": "python",
   "name": "python3"
  },
  "language_info": {
   "codemirror_mode": {
    "name": "ipython",
    "version": 3
   },
   "file_extension": ".py",
   "mimetype": "text/x-python",
   "name": "python",
   "nbconvert_exporter": "python",
   "pygments_lexer": "ipython3",
   "version": "3.7.3"
  }
 },
 "nbformat": 4,
 "nbformat_minor": 2
}
