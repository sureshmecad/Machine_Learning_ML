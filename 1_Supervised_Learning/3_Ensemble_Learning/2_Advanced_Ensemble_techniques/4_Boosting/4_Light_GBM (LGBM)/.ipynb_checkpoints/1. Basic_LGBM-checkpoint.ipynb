{
 "cells": [
  {
   "cell_type": "markdown",
   "metadata": {},
   "source": [
    "- Before discussing how light GBM works, let's first understand why we need this algorithm when we have so many others. Light GBM beats all the other algorithms when the **dataset is extremely large**. Compared to the other algorithms, **Light GBM** takes **lesser time to run on a huge dataset.**\n",
    "\n",
    "\n",
    "- **Light GBM** is a gradient boosting framework that uses **tree-based algorithms** and follows **leaf-wise** approach while **other algorithms** work in a **level-wise** approach pattern. The images below will help you understand the difference in a better way."
   ]
  },
  {
   "cell_type": "markdown",
   "metadata": {},
   "source": [
    "![4. Boosting\\4. Light GBM (LGBM)](image/1.JPG)"
   ]
  },
  {
   "cell_type": "markdown",
   "metadata": {},
   "source": [
    "- **Leaf-wise** growth may cause **over-fitting** on **smaller datasets** but that can be avoided by using the **'max_depth'** parameter for learning."
   ]
  },
  {
   "cell_type": "code",
   "execution_count": null,
   "metadata": {},
   "outputs": [],
   "source": []
  }
 ],
 "metadata": {
  "kernelspec": {
   "display_name": "Python 3",
   "language": "python",
   "name": "python3"
  },
  "language_info": {
   "codemirror_mode": {
    "name": "ipython",
    "version": 3
   },
   "file_extension": ".py",
   "mimetype": "text/x-python",
   "name": "python",
   "nbconvert_exporter": "python",
   "pygments_lexer": "ipython3",
   "version": "3.7.3"
  }
 },
 "nbformat": 4,
 "nbformat_minor": 2
}
