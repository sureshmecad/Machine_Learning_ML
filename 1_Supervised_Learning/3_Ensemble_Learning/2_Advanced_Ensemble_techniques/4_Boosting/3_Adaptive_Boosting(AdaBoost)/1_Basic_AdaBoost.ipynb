{
 "cells": [
  {
   "cell_type": "markdown",
   "metadata": {},
   "source": [
    "<h1 style=color:blue align=center> Ada(Adaptive) Boosting </h1>"
   ]
  },
  {
   "cell_type": "markdown",
   "metadata": {},
   "source": [
    "---------------"
   ]
  },
  {
   "cell_type": "markdown",
   "metadata": {},
   "source": [
    "### AdaBoost:\n",
    "\n",
    " - Converting **High bias & Low variance** to **Low bias * low variance**"
   ]
  },
  {
   "cell_type": "markdown",
   "metadata": {},
   "source": [
    "<h1 style=color:green align=center> Krish Naik </h1>"
   ]
  },
  {
   "cell_type": "markdown",
   "metadata": {},
   "source": [
    "## Boosting:\n",
    "\n",
    " 1. Create Base leaners sequencially\n",
    "  - some of the particular records from dataset passed to the base learner\n",
    "  - train this base learner and predict dataset\n",
    "  - incorrectly classified records passed to base learner 2"
   ]
  },
  {
   "cell_type": "markdown",
   "metadata": {},
   "source": [
    "![3_Adaptive_Boosting(AdaBoost)](image/4.JPG)"
   ]
  },
  {
   "cell_type": "markdown",
   "metadata": {},
   "source": [
    "------------------"
   ]
  },
  {
   "cell_type": "markdown",
   "metadata": {},
   "source": [
    "# AdaBoost"
   ]
  },
  {
   "cell_type": "markdown",
   "metadata": {},
   "source": [
    "## 1. Regression"
   ]
  },
  {
   "cell_type": "markdown",
   "metadata": {},
   "source": [
    "### Step 1: Assigning sample weight **(w = 1/n), where n= number of records**\n",
    " \n",
    "  - **Initially assign equal weights for all rows**"
   ]
  },
  {
   "cell_type": "markdown",
   "metadata": {},
   "source": [
    "![3_Adaptive_Boosting(AdaBoost)](image/13.JPG)"
   ]
  },
  {
   "cell_type": "markdown",
   "metadata": {},
   "source": [
    "### Step 2: Creating **base learner** with help of **Decision tree**\n",
    " \n",
    "  - Decision tree's are created with one depth and two leaf nodes --> STEMS\n",
    "  \n",
    "  \n",
    "  - For each feature one stem created as below image f1, f2, f3.....\n",
    "  \n",
    "  \n",
    "  - Selecting first base learner among these three stems by **entropy / gini**. If entropy is less for stem1 then select as first base learner.\n",
    "  \n",
    "  \n",
    "  - Find total error"
   ]
  },
  {
   "cell_type": "markdown",
   "metadata": {},
   "source": [
    "![3_Adaptive_Boosting(AdaBoost)](image/5.JPG)"
   ]
  },
  {
   "cell_type": "markdown",
   "metadata": {},
   "source": [
    "![3_Adaptive_Boosting(AdaBoost)](image/6.JPG)"
   ]
  },
  {
   "cell_type": "markdown",
   "metadata": {},
   "source": [
    "### Step 3: Performance of stem\n",
    "\n",
    "  - only **wrong records** from this particular decision tree (or) stem will be passed to next stem.\n",
    " \n",
    " \n",
    "  - **increase the weights of wrong classified records** whereas **decrease the weights of correctly classified records.**"
   ]
  },
  {
   "cell_type": "markdown",
   "metadata": {},
   "source": [
    "![3_Adaptive_Boosting(AdaBoost)](image/7.JPG)"
   ]
  },
  {
   "cell_type": "markdown",
   "metadata": {},
   "source": [
    "### Step 4: Update the weights\n",
    "\n",
    " - Correctly classified : - in formula\n",
    " \n",
    " \n",
    " - incorrectly classified : + in formula as shown in below iage"
   ]
  },
  {
   "cell_type": "markdown",
   "metadata": {},
   "source": [
    "![3_Adaptive_Boosting(AdaBoost)](image/8.JPG)"
   ]
  },
  {
   "cell_type": "markdown",
   "metadata": {},
   "source": [
    "#### Create Normalized weight: \n",
    "\n",
    " - summation of all values of Updated weight = 0.68\n",
    " \n",
    " \n",
    " - Now devide updated weight values by 0.68 --> Normalized weight"
   ]
  },
  {
   "cell_type": "markdown",
   "metadata": {},
   "source": [
    "![3_Adaptive_Boosting(AdaBoost)](image/9.JPG)"
   ]
  },
  {
   "cell_type": "markdown",
   "metadata": {},
   "source": [
    "### Step 5: Selecting second decision tree\n",
    "\n",
    "- **Normalised weights** devide into **buckets**\n",
    "\n",
    "\n",
    "- Select random value of 0.43, 0.31 ....."
   ]
  },
  {
   "cell_type": "markdown",
   "metadata": {},
   "source": [
    "![3_Adaptive_Boosting(AdaBoost)](image/10.JPG)"
   ]
  },
  {
   "cell_type": "markdown",
   "metadata": {},
   "source": [
    "## 2. Classification"
   ]
  },
  {
   "cell_type": "markdown",
   "metadata": {},
   "source": [
    "![3_Adaptive_Boosting(AdaBoost)](image/11.JPG)"
   ]
  },
  {
   "cell_type": "markdown",
   "metadata": {},
   "source": [
    "------------------------"
   ]
  },
  {
   "cell_type": "markdown",
   "metadata": {},
   "source": [
    "-----------------------"
   ]
  },
  {
   "cell_type": "markdown",
   "metadata": {},
   "source": [
    "<h1 style=color:green align=center> CampusX </h1>"
   ]
  },
  {
   "cell_type": "markdown",
   "metadata": {},
   "source": [
    "### 1. Assigning sample weight\n",
    "\n",
    "![3_Adaptive_Boosting(AdaBoost)](image/12.JPG)"
   ]
  },
  {
   "cell_type": "markdown",
   "metadata": {},
   "source": [
    "### 2. Creating all the decision stumps\n",
    "\n",
    "![3_Adaptive_Boosting(AdaBoost)](image/14.JPG)"
   ]
  },
  {
   "cell_type": "markdown",
   "metadata": {},
   "source": [
    "### 3. Choosing the best Decision Stump\n",
    "\n",
    " - Column **Temp** will become **weak learner** because **entropy is least**.\n",
    "\n",
    "![3_Adaptive_Boosting(AdaBoost)](image/15.JPG)"
   ]
  },
  {
   "cell_type": "markdown",
   "metadata": {},
   "source": [
    "### 4. Calculating the weight\n",
    "\n",
    "![3_Adaptive_Boosting(AdaBoost)](image/16.JPG)"
   ]
  },
  {
   "cell_type": "markdown",
   "metadata": {},
   "source": [
    "### 5. Adjusting the Weights\n",
    "\n",
    "![3_Adaptive_Boosting(AdaBoost)](image/17.JPG)"
   ]
  },
  {
   "cell_type": "markdown",
   "metadata": {},
   "source": [
    "### 6. Normalising the Weights"
   ]
  },
  {
   "cell_type": "markdown",
   "metadata": {},
   "source": [
    "### 7. Preparing data for the next stage\n",
    "\n",
    "![3_Adaptive_Boosting(AdaBoost)](image/18.JPG)"
   ]
  },
  {
   "cell_type": "markdown",
   "metadata": {},
   "source": [
    "### 8. Repeating the steps\n",
    "\n",
    "![3_Adaptive_Boosting(AdaBoost)](image/19.JPG)"
   ]
  },
  {
   "cell_type": "markdown",
   "metadata": {},
   "source": [
    "---------------"
   ]
  },
  {
   "cell_type": "markdown",
   "metadata": {},
   "source": [
    "- Higher weights are assigned to data points which are incorrectly predicted."
   ]
  },
  {
   "cell_type": "markdown",
   "metadata": {},
   "source": [
    "### Steps to build Adaptive Boosting Model"
   ]
  },
  {
   "cell_type": "markdown",
   "metadata": {},
   "source": [
    "#### STEP 1: Build a model and make predictions\n",
    "#### STEP 2: Assign higher weight to misclassified points\n",
    "#### STEP 3: Build next model\n",
    "#### STEP 4: Repeat Step 2 & Step 3"
   ]
  },
  {
   "cell_type": "markdown",
   "metadata": {},
   "source": [
    "![3. Adaptive Boosting(AdaBoost)](image/1.JPG)"
   ]
  },
  {
   "cell_type": "markdown",
   "metadata": {},
   "source": [
    "#### STEP 5: Weighted average of individual models"
   ]
  },
  {
   "cell_type": "markdown",
   "metadata": {},
   "source": [
    "![3. Adaptive Boosting(AdaBoost)](image/2.JPG)"
   ]
  },
  {
   "cell_type": "markdown",
   "metadata": {},
   "source": [
    "- Model1 / Model2 / Model3 are **weak learners**\n",
    "\n",
    "\n",
    "- Final one is known as **Strong Learner**. Final model is able to classify correctly."
   ]
  },
  {
   "cell_type": "markdown",
   "metadata": {},
   "source": [
    "------------------------------"
   ]
  },
  {
   "cell_type": "markdown",
   "metadata": {},
   "source": [
    "![3. Adaptive Boosting(AdaBoost)](image/3.JPG)"
   ]
  },
  {
   "cell_type": "markdown",
   "metadata": {},
   "source": [
    "------------------"
   ]
  },
  {
   "cell_type": "markdown",
   "metadata": {},
   "source": [
    "### Reference:\n",
    "\n",
    "https://www.youtube.com/watch?v=NLRO1-jp5F8&ab_channel=KrishNaik -->  Krish Naik\n",
    "\n",
    "https://www.youtube.com/watch?v=Qn3I1OZ8-tw&ab_channel=CampusX   -->"
   ]
  },
  {
   "cell_type": "code",
   "execution_count": null,
   "metadata": {},
   "outputs": [],
   "source": []
  }
 ],
 "metadata": {
  "kernelspec": {
   "display_name": "Python 3",
   "language": "python",
   "name": "python3"
  },
  "language_info": {
   "codemirror_mode": {
    "name": "ipython",
    "version": 3
   },
   "file_extension": ".py",
   "mimetype": "text/x-python",
   "name": "python",
   "nbconvert_exporter": "python",
   "pygments_lexer": "ipython3",
   "version": "3.7.3"
  }
 },
 "nbformat": 4,
 "nbformat_minor": 2
}
