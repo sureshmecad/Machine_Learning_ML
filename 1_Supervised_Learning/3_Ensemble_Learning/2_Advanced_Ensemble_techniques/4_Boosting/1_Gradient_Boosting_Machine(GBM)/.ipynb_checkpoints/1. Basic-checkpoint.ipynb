{
 "cells": [
  {
   "cell_type": "markdown",
   "metadata": {},
   "source": [
    "<h1 style=color:blue align=\"center\"> Gradient Boosting Machine (GBM) </h1>"
   ]
  },
  {
   "cell_type": "markdown",
   "metadata": {},
   "source": [
    "---------------------"
   ]
  },
  {
   "cell_type": "markdown",
   "metadata": {},
   "source": [
    "- **Gradient boosting** is a machine learning technique for **regression and classification** problems, which produces a prediction model in the form of an ensemble of **weak prediction models**, typically **decision trees**."
   ]
  },
  {
   "cell_type": "markdown",
   "metadata": {},
   "source": [
    "![1_Gradient_Boosting_Machine(GBM)](image/1.PNG)"
   ]
  },
  {
   "cell_type": "markdown",
   "metadata": {},
   "source": [
    "------------------"
   ]
  },
  {
   "cell_type": "markdown",
   "metadata": {},
   "source": [
    "![1_Gradient_Boosting_Machine(GBM)](image/14.JPG)"
   ]
  },
  {
   "cell_type": "markdown",
   "metadata": {},
   "source": [
    "------------------"
   ]
  },
  {
   "cell_type": "markdown",
   "metadata": {},
   "source": [
    "- Models are built sequentially\n",
    "\n",
    "\n",
    "- Subsequent model focus on reducing the error\n",
    "\n",
    "\n",
    "- Models are created over the residuals"
   ]
  },
  {
   "cell_type": "markdown",
   "metadata": {},
   "source": [
    "## Steps to build Gradient Boosting Machine"
   ]
  },
  {
   "cell_type": "markdown",
   "metadata": {},
   "source": [
    "#### STEP 1: Build a model and make predictions on given data"
   ]
  },
  {
   "cell_type": "markdown",
   "metadata": {},
   "source": [
    "![1. Gradient Boosting (GBM)](image/10.JPG)"
   ]
  },
  {
   "cell_type": "markdown",
   "metadata": {},
   "source": [
    "#### STEP 2: Calculate the error and set this error as target"
   ]
  },
  {
   "cell_type": "markdown",
   "metadata": {},
   "source": [
    "![1. Gradient Boosting (GBM)](image/11.JPG)"
   ]
  },
  {
   "cell_type": "markdown",
   "metadata": {},
   "source": [
    "#### STEP:3 Build model on the errors and make predictions"
   ]
  },
  {
   "cell_type": "markdown",
   "metadata": {},
   "source": [
    "![1. Gradient Boosting (GBM)](image/12.JPG)"
   ]
  },
  {
   "cell_type": "markdown",
   "metadata": {},
   "source": [
    "#### STEP:4 Update predictions of model 1"
   ]
  },
  {
   "cell_type": "markdown",
   "metadata": {},
   "source": [
    "![1. Gradient Boosting (GBM)](image/13.JPG)"
   ]
  },
  {
   "cell_type": "markdown",
   "metadata": {},
   "source": [
    "#### STEP:5 Repeat Step 2 to Step 4"
   ]
  },
  {
   "cell_type": "markdown",
   "metadata": {},
   "source": [
    "--------------------------------"
   ]
  },
  {
   "cell_type": "markdown",
   "metadata": {},
   "source": [
    "- Loss Function\n",
    "- Additive model\n",
    "\n",
    "\n",
    "- Residual = Actual value - Predicted value\n",
    "    \n",
    " - In this contest we do not have predicted values\n",
    "    \n",
    " - Step 1: Avg of the target column\n",
    "    \n",
    " - Step 2: Predicted values same for all (Avg of the target column)\n",
    "    \n",
    " - Step 3: Residual = Actual value - Predicted value (174-171; 176-171; 169-171)\n",
    "    "
   ]
  },
  {
   "cell_type": "markdown",
   "metadata": {},
   "source": [
    "![2. Gradient Boosting](image/1.JPG)"
   ]
  },
  {
   "cell_type": "markdown",
   "metadata": {},
   "source": [
    "![2. Gradient Boosting](image/2.JPG)"
   ]
  },
  {
   "cell_type": "markdown",
   "metadata": {},
   "source": [
    "![2. Gradient Boosting](image/3.JPG)"
   ]
  },
  {
   "cell_type": "markdown",
   "metadata": {},
   "source": [
    "![2. Gradient Boosting](image/4.JPG)"
   ]
  },
  {
   "cell_type": "markdown",
   "metadata": {},
   "source": [
    "![2. Gradient Boosting](image/5.JPG)"
   ]
  },
  {
   "cell_type": "markdown",
   "metadata": {},
   "source": [
    "![2. Gradient Boosting](image/6.JPG)"
   ]
  },
  {
   "cell_type": "markdown",
   "metadata": {},
   "source": [
    "![2. Gradient Boosting](image/7.JPG)"
   ]
  },
  {
   "cell_type": "markdown",
   "metadata": {},
   "source": [
    "![2. Gradient Boosting](image/8.JPG)"
   ]
  },
  {
   "cell_type": "markdown",
   "metadata": {},
   "source": [
    "![2. Gradient Boosting](image/9.JPG)"
   ]
  },
  {
   "cell_type": "markdown",
   "metadata": {},
   "source": [
    "### Reference:\n",
    "\n",
    "https://www.youtube.com/watch?v=j034-r3O2Cg\n",
    "\n",
    "https://www.youtube.com/watch?v=Nol1hVtLOSg\n",
    "\n",
    "https://courses.analyticsvidhya.com/courses/take/ensemble-learning-and-ensemble-learning-techniques/lessons/11146555-gradient-boosting-algorithm-gbm\n",
    "\n",
    "https://www.youtube.com/watch?v=j034-r3O2Cg&ab_channel=UnfoldDataScience --> AdaBoost & Gradient Boost\n",
    "\n",
    "https://github.com/fastai/fastai\n",
    "\n",
    "https://www.kaggle.com/grroverpr/gradient-boosting-simplified/\n",
    "https://nbviewer.jupyter.org/github/groverpr/Machine-Learning/blob/master/notebooks/01_Gradient_Boosting_Scratch.ipynb"
   ]
  }
 ],
 "metadata": {
  "kernelspec": {
   "display_name": "Python 3",
   "language": "python",
   "name": "python3"
  },
  "language_info": {
   "codemirror_mode": {
    "name": "ipython",
    "version": 3
   },
   "file_extension": ".py",
   "mimetype": "text/x-python",
   "name": "python",
   "nbconvert_exporter": "python",
   "pygments_lexer": "ipython3",
   "version": "3.7.3"
  }
 },
 "nbformat": 4,
 "nbformat_minor": 2
}
