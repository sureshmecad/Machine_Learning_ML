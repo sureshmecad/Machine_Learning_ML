{
 "cells": [
  {
   "cell_type": "markdown",
   "metadata": {},
   "source": [
    "https://courses.analyticsvidhya.com/courses/take/ensemble-learning-and-ensemble-learning-techniques/lessons/11146034-bootstrap-sampling"
   ]
  },
  {
   "cell_type": "markdown",
   "metadata": {},
   "source": [
    "### Bagging (or) BoostStrap Aggregating"
   ]
  },
  {
   "cell_type": "markdown",
   "metadata": {},
   "source": [
    "- BootStrap is a technique to create multiple datasets which are representative of my original dataset.\n",
    "\n",
    "\n",
    "- **BootStrap** is creating **datasets randomly** from the **original dataset but with replacement.**\n",
    "\n",
    "\n",
    "- **Bootstrap aggregating** reduces **variance** and helps to **avoid overfitting.**"
   ]
  },
  {
   "cell_type": "markdown",
   "metadata": {},
   "source": [
    "- **Here's question: If you create all the models on the same set of data and combine it, will it be useful?**\n",
    "  There is a high chance that these models will give the **same result** since they are **getting the same input.** So how can we solve this problem? one of the techniques is **bootstrapping.**"
   ]
  },
  {
   "cell_type": "markdown",
   "metadata": {},
   "source": [
    "![3. Ensemble Learning](image/4.JPG)"
   ]
  },
  {
   "cell_type": "code",
   "execution_count": null,
   "metadata": {},
   "outputs": [],
   "source": []
  }
 ],
 "metadata": {
  "kernelspec": {
   "display_name": "Python 3",
   "language": "python",
   "name": "python3"
  },
  "language_info": {
   "codemirror_mode": {
    "name": "ipython",
    "version": 3
   },
   "file_extension": ".py",
   "mimetype": "text/x-python",
   "name": "python",
   "nbconvert_exporter": "python",
   "pygments_lexer": "ipython3",
   "version": "3.7.3"
  }
 },
 "nbformat": 4,
 "nbformat_minor": 2
}
