{
 "cells": [
  {
   "cell_type": "markdown",
   "metadata": {},
   "source": [
    "### 1. Basic Ensemble Techniques\n",
    "1. Max Voting\n",
    "\n",
    "2. Averaging\n",
    "\n",
    "3. Weighted Average\n",
    "\n",
    "### 2. Advanced Ensemble Techniques\n",
    "1. Stacking\n",
    "\n",
    "2. Blending\n",
    "\n",
    "3. Bagging\n",
    "\n",
    "4. Boosting\n",
    "\n",
    "### 3. Algorithms based on Bagging and Boosting\n",
    "1. Bagging meta-estimator\n",
    "\n",
    "2. Random Forest\n",
    "\n",
    "### 4. Algorithms based on Bagging and Boosting\n",
    "1. AdaBoost\n",
    "\n",
    "2. GBM\n",
    "\n",
    "3. XGB\n",
    "\n",
    "4. Light GBM\n",
    "\n",
    "5. CatBoost\n"
   ]
  },
  {
   "cell_type": "raw",
   "metadata": {},
   "source": [
    "- Ensemble means combining multiple models\n",
    "\n",
    "\n",
    "- Ensemble Techniques\n",
    "\n",
    "\n",
    "  1. BAGGING (Bootstrap Aggregation)\n",
    "  \n",
    "      a) Random Forest\n",
    "      \n",
    "      b) Bagging meta-estimator\n",
    "  \n",
    "  \n",
    "  2. BOOSTING\n",
    "  \n",
    "      a) ADABOOST\n",
    "      \n",
    "      b) GRADIENT BOOSTING\n",
    "      \n",
    "      c) XGBOOST (Extrem Gradient Boosting)\n",
    "      "
   ]
  },
  {
   "cell_type": "markdown",
   "metadata": {},
   "source": [
    "### WHY USE ENSEMBLE MODELS?\n",
    "\n",
    "- Better accuracy (LOW ERROR)\n",
    "\n",
    "\n",
    "- Higher consistency (AVOIDS OVERFITTING)\n",
    "\n",
    "\n",
    "- REDUCES BIAS AND VARIANCE"
   ]
  },
  {
   "cell_type": "markdown",
   "metadata": {},
   "source": [
    "---------------"
   ]
  },
  {
   "cell_type": "markdown",
   "metadata": {},
   "source": [
    "## A Comprehensive Guide to Ensemble Learning"
   ]
  },
  {
   "cell_type": "markdown",
   "metadata": {},
   "source": [
    "### Example 1\n",
    "\n",
    "- When you want to purchase a new car, will you walk up to the first car shop and purchase one based on the advice of the dealer? It’s highly unlikely.\n",
    "\n",
    "\n",
    "- You would likely browser a few web portals where people have posted their reviews and compare different car models, checking for their features and prices. You will also probably ask your friends and colleagues for their opinion. In short, you wouldn’t directly reach a conclusion, but will instead make a decision considering the opinions of other people as well.\n",
    "\n",
    "\n",
    "- Ensemble models in machine learning operate on a similar idea. They **combine the decisions from multiple models to improve the overall performance.**"
   ]
  },
  {
   "cell_type": "markdown",
   "metadata": {},
   "source": [
    "![3. Ensemble Learning](image/1.JPG)"
   ]
  },
  {
   "cell_type": "markdown",
   "metadata": {},
   "source": [
    "--------"
   ]
  },
  {
   "cell_type": "markdown",
   "metadata": {},
   "source": [
    "### Example 2\n",
    "\n",
    "- Suppose you are a **movie director** and you have created a **short movie** on a very important and interesting topic. Now, you want to take **preliminary feedback (ratings)** on the movie **before making it public.** What are the possible ways by which you can do that?\n",
    "\n",
    "\n",
    "#### A: You may ask one of your friends to rate the movie for you.\n",
    "- Now it’s entirely possible that the person you have chosen **loves you very much and doesn’t want to break your heart** by providing a 1-star rating to the horrible work you have created.\n",
    "\n",
    "\n",
    "#### B: Another way could be by asking 5 colleagues of yours to rate the movie.\n",
    "- This should provide a better idea of the movie. **This method may provide honest ratings for your movie.** But a problem still exists. These 5 people may not be “Subject Matter Experts” on the topic of your movie. Sure, they might understand the cinematography, the shots, or the audio, but at the same time may not be the best judges of dark humour.\n",
    "\n",
    "\n",
    "#### C: How about asking 50 people to rate the movie?\n",
    "- Some of which can be your friends, some of them can be your colleagues and some may even be total strangers.\n",
    "\n",
    "\n",
    "- With these examples, you can infer that a **diverse group of people** are likely to **make better decisions** as compared to **individuals.** Similar is true for a diverse set of models in comparison to single models. This **diversification** in Machine Learning is achieved by a technique called **Ensemble Learning.**"
   ]
  },
  {
   "cell_type": "markdown",
   "metadata": {},
   "source": [
    "----------------"
   ]
  },
  {
   "cell_type": "markdown",
   "metadata": {},
   "source": [
    "![3. Ensemble Learning](image/2.JPG)"
   ]
  },
  {
   "cell_type": "markdown",
   "metadata": {},
   "source": [
    "![3. Ensemble Learning](image/3.JPG)"
   ]
  },
  {
   "cell_type": "markdown",
   "metadata": {},
   "source": [
    "- The fundamental principle of the **ensemble model** is that a **group of weak learners come together to form a strong learner,** which increases the **accuracy of the model.** When we try to predict the target variable by any machine learning technique, the main causes of the difference between the actual and predicted values are noise, variance and bias. The set reduces these factors (except noise, which is an irreducible error).\n",
    "\n",
    "\n",
    "- if we will get the the **variance, noise and bias** in the raw data, image or any other format of the data. So,our model is going either **under-fitting or over-fitting.**"
   ]
  },
  {
   "cell_type": "code",
   "execution_count": null,
   "metadata": {},
   "outputs": [],
   "source": []
  }
 ],
 "metadata": {
  "kernelspec": {
   "display_name": "Python 3",
   "language": "python",
   "name": "python3"
  },
  "language_info": {
   "codemirror_mode": {
    "name": "ipython",
    "version": 3
   },
   "file_extension": ".py",
   "mimetype": "text/x-python",
   "name": "python",
   "nbconvert_exporter": "python",
   "pygments_lexer": "ipython3",
   "version": "3.7.3"
  }
 },
 "nbformat": 4,
 "nbformat_minor": 2
}
