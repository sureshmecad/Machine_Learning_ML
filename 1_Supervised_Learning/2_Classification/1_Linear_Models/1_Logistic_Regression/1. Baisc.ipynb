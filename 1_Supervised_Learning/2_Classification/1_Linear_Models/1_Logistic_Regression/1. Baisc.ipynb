{
 "cells": [
  {
   "cell_type": "markdown",
   "metadata": {},
   "source": [
    "https://www.youtube.com/watch?v=uFfsSgQgerw&t=13s ---> Logistic Regression Indepth Intuition- Part 2"
   ]
  },
  {
   "cell_type": "markdown",
   "metadata": {},
   "source": [
    "- Logistic Regression, anything\n",
    "\n",
    "      thrshold > 0.5   --->   considers as 1\n",
    "      thrshold < 0.5   --->   considers as 0"
   ]
  },
  {
   "cell_type": "markdown",
   "metadata": {},
   "source": [
    "- **Logistic Regression** Basically used for **Binary Classification**\n",
    "\n",
    "\n",
    "- **Linear Regression** should not use for **Binary Classification**\n",
    "\n",
    "- Reason : https://www.youtube.com/watch?v=L_xBe7MbPwk\n",
    "\n",
    "    \n",
    "       - whenever i have lot of outliers, best fit line completly get deviated\n",
    "    \n",
    "       - most of the time output getting >1 or <0"
   ]
  },
  {
   "cell_type": "markdown",
   "metadata": {},
   "source": [
    "<img src=\"1.JPG\" height=700 width=700 align=left />"
   ]
  },
  {
   "cell_type": "markdown",
   "metadata": {},
   "source": [
    "<img src=\"1.JPG\" height=700 width=700 align=left />"
   ]
  },
  {
   "cell_type": "markdown",
   "metadata": {},
   "source": [
    "- **Binary classification** models like **logistic regression and SVM do not support multi-class classification** natively and require meta-strategies.\n",
    "\n",
    "\n",
    "- The **One-vs-Rest** strategy splits a **multi-class classification into one binary classification problem per class**.\n",
    "\n",
    "\n",
    "- The **One-vs-One** strategy splits a **multi-class classification into one binary classification problem per each pair of classes.**"
   ]
  },
  {
   "cell_type": "code",
   "execution_count": null,
   "metadata": {},
   "outputs": [],
   "source": []
  }
 ],
 "metadata": {
  "kernelspec": {
   "display_name": "Python 3",
   "language": "python",
   "name": "python3"
  },
  "language_info": {
   "codemirror_mode": {
    "name": "ipython",
    "version": 3
   },
   "file_extension": ".py",
   "mimetype": "text/x-python",
   "name": "python",
   "nbconvert_exporter": "python",
   "pygments_lexer": "ipython3",
   "version": "3.7.3"
  }
 },
 "nbformat": 4,
 "nbformat_minor": 2
}
