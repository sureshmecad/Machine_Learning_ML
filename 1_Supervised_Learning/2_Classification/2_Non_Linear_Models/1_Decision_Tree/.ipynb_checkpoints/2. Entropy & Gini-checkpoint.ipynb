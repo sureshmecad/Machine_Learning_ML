{
 "cells": [
  {
   "cell_type": "markdown",
   "metadata": {},
   "source": [
    "<h1 style=color:blue align=\"center\"> Gini impurity and Entropy </h1>"
   ]
  },
  {
   "cell_type": "markdown",
   "metadata": {},
   "source": [
    "## Node impurity and information gain\n",
    "- The node impurity is a measure of the homogeneity of the labels at the node. The current implementation provides two impurity measures for\n",
    "\n",
    "\n",
    "### classification\n",
    " \n",
    "  - Gini impurity\n",
    "  - entropy\n",
    "  \n",
    "  \n",
    "### Regression\n",
    " \n",
    "  - variance"
   ]
  },
  {
   "cell_type": "markdown",
   "metadata": {},
   "source": [
    "![1. Decision Tree](image/8.JPG)"
   ]
  },
  {
   "cell_type": "markdown",
   "metadata": {},
   "source": [
    "--------------------"
   ]
  },
  {
   "cell_type": "markdown",
   "metadata": {},
   "source": [
    "- A Decision Tree recursively splits training data into subsets based on the value of a single attribute. Splitting stops when every subset is pure (all elements belong to a single class)"
   ]
  },
  {
   "cell_type": "markdown",
   "metadata": {},
   "source": [
    "### Tree Splitting criteria\n",
    "- Gini Index and Entropy\n",
    "\n",
    "\n",
    "- **Gini Index** range from **0 to 1.**\n",
    "\n",
    "\n",
    "- **Gini** is **faster** because calculation is **simple**. Due to **Log function Entropy takes some time**."
   ]
  },
  {
   "cell_type": "markdown",
   "metadata": {},
   "source": [
    "![1. Decision Tree](image/3.JPG)"
   ]
  },
  {
   "cell_type": "markdown",
   "metadata": {},
   "source": [
    "### Gini Index"
   ]
  },
  {
   "cell_type": "markdown",
   "metadata": {},
   "source": [
    "![1. Decision Tree](image/4.JPG)"
   ]
  },
  {
   "cell_type": "markdown",
   "metadata": {},
   "source": [
    "![1. Decision Tree](image/5.JPG)"
   ]
  },
  {
   "cell_type": "markdown",
   "metadata": {},
   "source": [
    "### Entropy"
   ]
  },
  {
   "cell_type": "markdown",
   "metadata": {},
   "source": [
    "![1. Decision Tree](image/6.JPG)"
   ]
  },
  {
   "cell_type": "markdown",
   "metadata": {},
   "source": [
    "---------------------------"
   ]
  },
  {
   "cell_type": "markdown",
   "metadata": {},
   "source": [
    "### Reference:\n",
    "\n",
    "https://www.youtube.com/watch?v=1IQOtJ4NI_0&ab_channel=KrishNaik\n",
    "\n",
    "https://www.youtube.com/watch?v=-W0DnxQK1Eo&ab_channel=UnfoldDataScience"
   ]
  }
 ],
 "metadata": {
  "kernelspec": {
   "display_name": "Python 3",
   "language": "python",
   "name": "python3"
  },
  "language_info": {
   "codemirror_mode": {
    "name": "ipython",
    "version": 3
   },
   "file_extension": ".py",
   "mimetype": "text/x-python",
   "name": "python",
   "nbconvert_exporter": "python",
   "pygments_lexer": "ipython3",
   "version": "3.7.3"
  }
 },
 "nbformat": 4,
 "nbformat_minor": 2
}
